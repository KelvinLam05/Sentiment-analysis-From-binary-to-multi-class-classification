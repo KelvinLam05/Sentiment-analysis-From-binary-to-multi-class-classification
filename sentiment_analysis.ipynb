{
  "nbformat": 4,
  "nbformat_minor": 0,
  "metadata": {
    "colab": {
      "name": "sentiment_analysis.ipynb",
      "provenance": [],
      "collapsed_sections": [],
      "authorship_tag": "ABX9TyM/wkFFGYBTohpG5r6yD928",
      "include_colab_link": true
    },
    "kernelspec": {
      "name": "python3",
      "display_name": "Python 3"
    },
    "language_info": {
      "name": "python"
    }
  },
  "cells": [
    {
      "cell_type": "markdown",
      "metadata": {
        "id": "view-in-github",
        "colab_type": "text"
      },
      "source": [
        "<a href=\"https://colab.research.google.com/github/KelvinLam05/sentiment_analysis/blob/main/sentiment_analysis.ipynb\" target=\"_parent\"><img src=\"https://colab.research.google.com/assets/colab-badge.svg\" alt=\"Open In Colab\"/></a>"
      ]
    },
    {
      "cell_type": "markdown",
      "source": [
        "**Goal of the project**"
      ],
      "metadata": {
        "id": "4oPVhM1s3z26"
      }
    },
    {
      "cell_type": "markdown",
      "source": [
        "One fundamental problem in sentiment analysis is categorization of sentiment polarity. Given a piece of written text, the problem is to categorize the text into one specific sentiment polarity, positive or negative (or neutral). "
      ],
      "metadata": {
        "id": "yQhibEwa5HdD"
      }
    },
    {
      "cell_type": "code",
      "source": [
        "# Importing libraries\n",
        "import pandas as pd\n",
        "import numpy as np\n",
        "import matplotlib.pyplot as plt\n",
        "import seaborn as sns\n",
        "\n",
        "%matplotlib inline"
      ],
      "metadata": {
        "id": "bsoN3IQ2jtDf"
      },
      "execution_count": 1,
      "outputs": []
    },
    {
      "cell_type": "markdown",
      "source": [
        "**Load the data**"
      ],
      "metadata": {
        "id": "jRBfRrTJ36QX"
      }
    },
    {
      "cell_type": "code",
      "source": [
        "# Load dataset\n",
        "df = pd.read_csv(\"/content/boat's_headphone_reviews.csv\")"
      ],
      "metadata": {
        "id": "sPsj8oF1rBZT"
      },
      "execution_count": 2,
      "outputs": []
    },
    {
      "cell_type": "code",
      "source": [
        "# Examine the data\n",
        "df.head()"
      ],
      "metadata": {
        "colab": {
          "base_uri": "https://localhost:8080/",
          "height": 204
        },
        "id": "22O6NajbrdUJ",
        "outputId": "3a1ce88c-d452-43cd-8ba0-cce282293ff4"
      },
      "execution_count": 3,
      "outputs": [
        {
          "output_type": "execute_result",
          "data": {
            "text/html": [
              "\n",
              "  <div id=\"df-0b4e97bf-253c-4893-81a5-9a8d7edc4200\">\n",
              "    <div class=\"colab-df-container\">\n",
              "      <div>\n",
              "<style scoped>\n",
              "    .dataframe tbody tr th:only-of-type {\n",
              "        vertical-align: middle;\n",
              "    }\n",
              "\n",
              "    .dataframe tbody tr th {\n",
              "        vertical-align: top;\n",
              "    }\n",
              "\n",
              "    .dataframe thead th {\n",
              "        text-align: right;\n",
              "    }\n",
              "</style>\n",
              "<table border=\"1\" class=\"dataframe\">\n",
              "  <thead>\n",
              "    <tr style=\"text-align: right;\">\n",
              "      <th></th>\n",
              "      <th>review</th>\n",
              "      <th>rating</th>\n",
              "    </tr>\n",
              "  </thead>\n",
              "  <tbody>\n",
              "    <tr>\n",
              "      <th>0</th>\n",
              "      <td>It was nice produt. I like it's design a lot. ...</td>\n",
              "      <td>5</td>\n",
              "    </tr>\n",
              "    <tr>\n",
              "      <th>1</th>\n",
              "      <td>awesome sound....very pretty to see this nd th...</td>\n",
              "      <td>5</td>\n",
              "    </tr>\n",
              "    <tr>\n",
              "      <th>2</th>\n",
              "      <td>awesome sound quality. pros 7-8 hrs of battery...</td>\n",
              "      <td>4</td>\n",
              "    </tr>\n",
              "    <tr>\n",
              "      <th>3</th>\n",
              "      <td>I think it is such a good product not only as ...</td>\n",
              "      <td>5</td>\n",
              "    </tr>\n",
              "    <tr>\n",
              "      <th>4</th>\n",
              "      <td>awesome bass sound quality very good bettary l...</td>\n",
              "      <td>5</td>\n",
              "    </tr>\n",
              "  </tbody>\n",
              "</table>\n",
              "</div>\n",
              "      <button class=\"colab-df-convert\" onclick=\"convertToInteractive('df-0b4e97bf-253c-4893-81a5-9a8d7edc4200')\"\n",
              "              title=\"Convert this dataframe to an interactive table.\"\n",
              "              style=\"display:none;\">\n",
              "        \n",
              "  <svg xmlns=\"http://www.w3.org/2000/svg\" height=\"24px\"viewBox=\"0 0 24 24\"\n",
              "       width=\"24px\">\n",
              "    <path d=\"M0 0h24v24H0V0z\" fill=\"none\"/>\n",
              "    <path d=\"M18.56 5.44l.94 2.06.94-2.06 2.06-.94-2.06-.94-.94-2.06-.94 2.06-2.06.94zm-11 1L8.5 8.5l.94-2.06 2.06-.94-2.06-.94L8.5 2.5l-.94 2.06-2.06.94zm10 10l.94 2.06.94-2.06 2.06-.94-2.06-.94-.94-2.06-.94 2.06-2.06.94z\"/><path d=\"M17.41 7.96l-1.37-1.37c-.4-.4-.92-.59-1.43-.59-.52 0-1.04.2-1.43.59L10.3 9.45l-7.72 7.72c-.78.78-.78 2.05 0 2.83L4 21.41c.39.39.9.59 1.41.59.51 0 1.02-.2 1.41-.59l7.78-7.78 2.81-2.81c.8-.78.8-2.07 0-2.86zM5.41 20L4 18.59l7.72-7.72 1.47 1.35L5.41 20z\"/>\n",
              "  </svg>\n",
              "      </button>\n",
              "      \n",
              "  <style>\n",
              "    .colab-df-container {\n",
              "      display:flex;\n",
              "      flex-wrap:wrap;\n",
              "      gap: 12px;\n",
              "    }\n",
              "\n",
              "    .colab-df-convert {\n",
              "      background-color: #E8F0FE;\n",
              "      border: none;\n",
              "      border-radius: 50%;\n",
              "      cursor: pointer;\n",
              "      display: none;\n",
              "      fill: #1967D2;\n",
              "      height: 32px;\n",
              "      padding: 0 0 0 0;\n",
              "      width: 32px;\n",
              "    }\n",
              "\n",
              "    .colab-df-convert:hover {\n",
              "      background-color: #E2EBFA;\n",
              "      box-shadow: 0px 1px 2px rgba(60, 64, 67, 0.3), 0px 1px 3px 1px rgba(60, 64, 67, 0.15);\n",
              "      fill: #174EA6;\n",
              "    }\n",
              "\n",
              "    [theme=dark] .colab-df-convert {\n",
              "      background-color: #3B4455;\n",
              "      fill: #D2E3FC;\n",
              "    }\n",
              "\n",
              "    [theme=dark] .colab-df-convert:hover {\n",
              "      background-color: #434B5C;\n",
              "      box-shadow: 0px 1px 3px 1px rgba(0, 0, 0, 0.15);\n",
              "      filter: drop-shadow(0px 1px 2px rgba(0, 0, 0, 0.3));\n",
              "      fill: #FFFFFF;\n",
              "    }\n",
              "  </style>\n",
              "\n",
              "      <script>\n",
              "        const buttonEl =\n",
              "          document.querySelector('#df-0b4e97bf-253c-4893-81a5-9a8d7edc4200 button.colab-df-convert');\n",
              "        buttonEl.style.display =\n",
              "          google.colab.kernel.accessAllowed ? 'block' : 'none';\n",
              "\n",
              "        async function convertToInteractive(key) {\n",
              "          const element = document.querySelector('#df-0b4e97bf-253c-4893-81a5-9a8d7edc4200');\n",
              "          const dataTable =\n",
              "            await google.colab.kernel.invokeFunction('convertToInteractive',\n",
              "                                                     [key], {});\n",
              "          if (!dataTable) return;\n",
              "\n",
              "          const docLinkHtml = 'Like what you see? Visit the ' +\n",
              "            '<a target=\"_blank\" href=https://colab.research.google.com/notebooks/data_table.ipynb>data table notebook</a>'\n",
              "            + ' to learn more about interactive tables.';\n",
              "          element.innerHTML = '';\n",
              "          dataTable['output_type'] = 'display_data';\n",
              "          await google.colab.output.renderOutput(dataTable, element);\n",
              "          const docLink = document.createElement('div');\n",
              "          docLink.innerHTML = docLinkHtml;\n",
              "          element.appendChild(docLink);\n",
              "        }\n",
              "      </script>\n",
              "    </div>\n",
              "  </div>\n",
              "  "
            ],
            "text/plain": [
              "                                              review  rating\n",
              "0  It was nice produt. I like it's design a lot. ...       5\n",
              "1  awesome sound....very pretty to see this nd th...       5\n",
              "2  awesome sound quality. pros 7-8 hrs of battery...       4\n",
              "3  I think it is such a good product not only as ...       5\n",
              "4  awesome bass sound quality very good bettary l...       5"
            ]
          },
          "metadata": {},
          "execution_count": 3
        }
      ]
    },
    {
      "cell_type": "code",
      "source": [
        "# Overview of all variables, their datatypes\n",
        "df.info()"
      ],
      "metadata": {
        "colab": {
          "base_uri": "https://localhost:8080/"
        },
        "id": "S76_ZIrarfyS",
        "outputId": "be45cfbe-3681-4f2b-c4fb-c5f2144c1eb9"
      },
      "execution_count": 4,
      "outputs": [
        {
          "output_type": "stream",
          "name": "stdout",
          "text": [
            "<class 'pandas.core.frame.DataFrame'>\n",
            "RangeIndex: 9976 entries, 0 to 9975\n",
            "Data columns (total 2 columns):\n",
            " #   Column  Non-Null Count  Dtype \n",
            "---  ------  --------------  ----- \n",
            " 0   review  9976 non-null   object\n",
            " 1   rating  9976 non-null   int64 \n",
            "dtypes: int64(1), object(1)\n",
            "memory usage: 156.0+ KB\n"
          ]
        }
      ]
    },
    {
      "cell_type": "markdown",
      "source": [
        "**Identify review sentiment**"
      ],
      "metadata": {
        "id": "LL6a8cby-5XA"
      }
    },
    {
      "cell_type": "markdown",
      "source": [
        "In fact, since we have star ratings, there’s arguably little need to engineer any additional sentiment-related features. All we really need to know is whether the text from a given review was positive or negative (or neutral), and we can see that from the star rating the customer has given. "
      ],
      "metadata": {
        "id": "KXd2lKN__GcU"
      }
    },
    {
      "cell_type": "code",
      "source": [
        "star_rating = {'poor_rating': 3, 'great_rating': 4}\n",
        "\n",
        "df['sentiment_label'] = 'neutral'\n",
        "df['sentiment_label'].loc[df['rating'] < star_rating['poor_rating']] = 'negative'\n",
        "df['sentiment_label'].loc[df['rating'] >= star_rating['great_rating']] = 'positive'"
      ],
      "metadata": {
        "id": "X4bGGYExrjv7"
      },
      "execution_count": null,
      "outputs": []
    },
    {
      "cell_type": "code",
      "source": [
        "# Replace target variables\n",
        "df['sentiment_label'] = df['sentiment_label'].replace(['negative', 'neutral', 'positive'], [0, 1, 2])"
      ],
      "metadata": {
        "id": "2TWXes5VB9b9"
      },
      "execution_count": 6,
      "outputs": []
    },
    {
      "cell_type": "markdown",
      "source": [
        "**Examine the data**"
      ],
      "metadata": {
        "id": "2oQ8sTxF_tBx"
      }
    },
    {
      "cell_type": "markdown",
      "source": [
        "As we will see from examining the value_counts( ) of the target variable column, this dataset is imbalanced."
      ],
      "metadata": {
        "id": "ZfM51ydLlpql"
      }
    },
    {
      "cell_type": "code",
      "source": [
        "df['sentiment_label'].value_counts()"
      ],
      "metadata": {
        "colab": {
          "base_uri": "https://localhost:8080/"
        },
        "id": "C8gqgUzqxUGy",
        "outputId": "765b7383-7e4c-45df-a77e-acf84163c885"
      },
      "execution_count": 7,
      "outputs": [
        {
          "output_type": "execute_result",
          "data": {
            "text/plain": [
              "2    8091\n",
              "0    1001\n",
              "1     884\n",
              "Name: sentiment_label, dtype: int64"
            ]
          },
          "metadata": {},
          "execution_count": 7
        }
      ]
    },
    {
      "cell_type": "markdown",
      "source": [
        "**Check for special characters**"
      ],
      "metadata": {
        "id": "Ra17YxucAdk4"
      }
    },
    {
      "cell_type": "code",
      "source": [
        "text_data = str()\n",
        "\n",
        "for sentence in df['review'].values:\n",
        "    text_data += sentence\n",
        "    \n",
        "''.join(set(text_data))"
      ],
      "metadata": {
        "colab": {
          "base_uri": "https://localhost:8080/",
          "height": 105
        },
        "id": "EON8odWa3ziX",
        "outputId": "f134660a-2040-4fdb-80aa-38b9d1527e90"
      },
      "execution_count": 8,
      "outputs": [
        {
          "output_type": "execute_result",
          "data": {
            "application/vnd.google.colaboratory.intrinsic+json": {
              "type": "string"
            },
            "text/plain": [
              "'😤🤗👍K+💯!🤔💜7😠℅⚡𝑓🕺p,₹😳🙆]😭&🎸😗V_🍭ɴÎ😂0b🔥J💃S𝑙U|👌𝗰=D🎧Z😲💵©🛶<💛🎶😫rdQgF🥵😶Ñøℎ?ᴄt😄\"💤𝓝🎵👋🤘😣/📞🤭Y𝑎🎮☹𝐭𝑒B🙈🏻ɪ🤜☺E📦️×🎊💌🏼💐\\'~⭐✨🌚🙌𝑡l😻ho🔛🖤°OyX😐f💙🙂𝑤😊😘4😟1💨😡💓’a$☠🤝Çᴜc👳k𝑆𝑔\\U0001f90d💀)➡єq😛⛵🤑𝑑6v🤩I💕😅😚L★ᴅ😜𝓮∆𝐜-🙏ᴇ💰☑🔸💥(💞🎉𝑏HØÃM😎✓✊z😙@:😈u💟👎😉s👏🌹😋🗣j☝😓❣.𝗶💗💖x💣�𝑖ᴏ𝑦w🕒😁*ni😌✌🙄🤟🙃♂8💝𝐮𝑠m𝓲}ᴘ‼>🥳\\u200b😕à😇😍Í🥰𝑟 😒Ce💫👻🔵😃😱#🧐🎻🎙Gᴛ𝑢𝑝Rś🤣👉𝑐♥🔋ë👈🌟💚▶🤯❌À🔊í💩🤙🆗…A[🦊🔮{𝐝😏💘◀W💪É😀T✳𝗡5\\u200d;ʀ3👿N❇👂❤😩P😑😔🤷2•🤓𝑜😞🥇𝑛✔𝗲%9𝓬'"
            ]
          },
          "metadata": {},
          "execution_count": 8
        }
      ]
    },
    {
      "cell_type": "markdown",
      "source": [
        "There are plenty of special characters."
      ],
      "metadata": {
        "id": "5g_7lPASAVVR"
      }
    },
    {
      "cell_type": "markdown",
      "source": [
        "**Text Preprocessing**"
      ],
      "metadata": {
        "id": "t-JHegUiAmyx"
      }
    },
    {
      "cell_type": "markdown",
      "source": [
        "We will need to preprocess our text to remove misleading junk and noise in order to get the best results from our model."
      ],
      "metadata": {
        "id": "qAaEbKhuYN2Z"
      }
    },
    {
      "cell_type": "code",
      "source": [
        "import re\n",
        "import nltk\n",
        "from nltk.tokenize.toktok import ToktokTokenizer\n",
        "from nltk.corpus import stopwords\n",
        "from nltk.stem import WordNetLemmatizer "
      ],
      "metadata": {
        "id": "G_1vIZX3LvU4"
      },
      "execution_count": 9,
      "outputs": []
    },
    {
      "cell_type": "code",
      "source": [
        "import unicodedata\n",
        "from emoji import demojize"
      ],
      "metadata": {
        "id": "gbxKFUS9LyFG"
      },
      "execution_count": 11,
      "outputs": []
    },
    {
      "cell_type": "code",
      "source": [
        "nltk.download('stopwords')\n",
        "nltk.download('punkt')\n",
        "nltk.download('wordnet')"
      ],
      "metadata": {
        "colab": {
          "base_uri": "https://localhost:8080/"
        },
        "id": "0PltzWieL0lS",
        "outputId": "5a829a28-ad0d-494a-ae01-0c739c5be50c"
      },
      "execution_count": 12,
      "outputs": [
        {
          "output_type": "stream",
          "name": "stdout",
          "text": [
            "[nltk_data] Downloading package stopwords to /root/nltk_data...\n",
            "[nltk_data]   Unzipping corpora/stopwords.zip.\n",
            "[nltk_data] Downloading package punkt to /root/nltk_data...\n",
            "[nltk_data]   Unzipping tokenizers/punkt.zip.\n",
            "[nltk_data] Downloading package wordnet to /root/nltk_data...\n",
            "[nltk_data]   Unzipping corpora/wordnet.zip.\n"
          ]
        },
        {
          "output_type": "execute_result",
          "data": {
            "text/plain": [
              "True"
            ]
          },
          "metadata": {},
          "execution_count": 12
        }
      ]
    },
    {
      "cell_type": "code",
      "source": [
        "stop_words = set(stopwords.words('english'))\n",
        "lemmatizer = nltk.stem.WordNetLemmatizer()"
      ],
      "metadata": {
        "id": "DCu0ERznMJUM"
      },
      "execution_count": 13,
      "outputs": []
    },
    {
      "cell_type": "markdown",
      "source": [
        "We will now set up our cleaning function."
      ],
      "metadata": {
        "id": "EhzyBvNNAwOx"
      }
    },
    {
      "cell_type": "code",
      "source": [
        "def text_cleaning(text_data):\n",
        "\n",
        "  # Remove accented characters\n",
        "  text_data = unicodedata.normalize('NFKD', text_data).encode('ascii', 'ignore').decode('utf-8', 'ignore')\n",
        "\n",
        "  # Case conversion\n",
        "  text_data = text_data.lower()\n",
        "\n",
        "  # Demojize\n",
        "  text_data = demojize(text_data)\n",
        "\n",
        "  # Remove special characters\n",
        "  text_data = re.sub(r\"[^a-zA-Z]+\", ' ', text_data)\n",
        "\n",
        "  # Text as string objects\n",
        "  text_data = str(text_data)\n",
        "\n",
        "  # Tokenization\n",
        "  tokenizer = ToktokTokenizer()\n",
        "  text_data = tokenizer.tokenize(text_data)\n",
        "\n",
        "  # Removing stopwords\n",
        "  text_data = [item for item in text_data if item not in stop_words]\n",
        "  \n",
        "  # Convert list of tokens to string data type\n",
        "  text_data = ' '.join (text_data)\n",
        "\n",
        "  return text_data"
      ],
      "metadata": {
        "id": "lkxCXQhN3zVL"
      },
      "execution_count": 14,
      "outputs": []
    },
    {
      "cell_type": "code",
      "source": [
        "df['clean_review'] = df['review'].apply(text_cleaning)"
      ],
      "metadata": {
        "id": "EAwzIcaBMExF"
      },
      "execution_count": 15,
      "outputs": []
    },
    {
      "cell_type": "code",
      "source": [
        "# Drop unwanted column\n",
        "df.drop(['review'], axis = 1, inplace = True)"
      ],
      "metadata": {
        "id": "YnQjSVqDr3HK"
      },
      "execution_count": 16,
      "outputs": []
    },
    {
      "cell_type": "markdown",
      "source": [
        "**Split the train and test data**"
      ],
      "metadata": {
        "id": "7FTXWtQuCKQg"
      }
    },
    {
      "cell_type": "code",
      "source": [
        "X = df.drop('sentiment_label', axis = 1)"
      ],
      "metadata": {
        "id": "i46FM8sgGwy_"
      },
      "execution_count": 17,
      "outputs": []
    },
    {
      "cell_type": "code",
      "source": [
        "y = df['sentiment_label']"
      ],
      "metadata": {
        "id": "4OuZ_hL9Gz5A"
      },
      "execution_count": 18,
      "outputs": []
    },
    {
      "cell_type": "code",
      "source": [
        "from sklearn.model_selection import train_test_split"
      ],
      "metadata": {
        "id": "HQI124FvHQDk"
      },
      "execution_count": 19,
      "outputs": []
    },
    {
      "cell_type": "code",
      "source": [
        "# Split imbalanced dataset into training and testing sets with stratification\n",
        "X_train, X_test, y_train, y_test = train_test_split(X, y, test_size = 0.2, random_state = 42, stratify = y)"
      ],
      "metadata": {
        "id": "U-IQFV85HSx1"
      },
      "execution_count": 20,
      "outputs": []
    },
    {
      "cell_type": "markdown",
      "source": [
        "**Run model selection**"
      ],
      "metadata": {
        "id": "uIEHoW7aCYlo"
      }
    },
    {
      "cell_type": "code",
      "source": [
        "import time\n",
        "from sklearn.pipeline import Pipeline\n",
        "from sklearn.compose import ColumnTransformer\n",
        "from sklearn.model_selection import cross_val_score\n",
        "\n",
        "from sklearn.feature_extraction.text import TfidfVectorizer\n",
        "from sklearn.preprocessing import RobustScaler\n",
        "from sklearn.multiclass import OneVsOneClassifier\n",
        "from sklearn.metrics import f1_score"
      ],
      "metadata": {
        "id": "PowS3pusqaAy"
      },
      "execution_count": 21,
      "outputs": []
    },
    {
      "cell_type": "code",
      "source": [
        "from sklearn.neighbors import KNeighborsClassifier\n",
        "from sklearn.tree import DecisionTreeClassifier\n",
        "from lightgbm import LGBMClassifier\n",
        "from sklearn.linear_model import LogisticRegression, SGDClassifier\n",
        "from sklearn.ensemble import RandomForestClassifier, ExtraTreesClassifier, GradientBoostingClassifier\n",
        "from sklearn.ensemble import BaggingClassifier, AdaBoostClassifier\n",
        "from xgboost import XGBClassifier, XGBRFClassifier\n",
        "from sklearn.svm import LinearSVC, SVC\n",
        "from sklearn.naive_bayes import BernoulliNB"
      ],
      "metadata": {
        "id": "VhwkNA6OIB0r"
      },
      "execution_count": 22,
      "outputs": []
    },
    {
      "cell_type": "code",
      "source": [
        "def get_pipeline(model):\n",
        "                 \n",
        "  preprocessor = ColumnTransformer(transformers = [('tfidf', TfidfVectorizer(), 'clean_review'),\n",
        "                                                   ('scaler', RobustScaler(), ['rating'])])\n",
        "\n",
        "  bundled_pipeline = Pipeline(steps = [('preprocessor', preprocessor),\n",
        "                                       ('model', model)])\n",
        "  \n",
        "  return bundled_pipeline"
      ],
      "metadata": {
        "id": "71ncgJNzGziP"
      },
      "execution_count": 23,
      "outputs": []
    },
    {
      "cell_type": "code",
      "source": [
        "def select_model(X, y, pipeline = None):\n",
        "\n",
        "  classifiers = {}\n",
        "  classifiers.update({'XGBClassifier': OneVsOneClassifier(XGBClassifier(random_state = 42))})\n",
        "  classifiers.update({'XGBRFClassifier': OneVsOneClassifier(XGBRFClassifier(random_state = 42))})\n",
        "  classifiers.update({'LogisticRegression': OneVsOneClassifier(LogisticRegression(random_state = 42))})\n",
        "  classifiers.update({'LGBMClassifier': OneVsOneClassifier(LGBMClassifier(random_state = 42))})\n",
        "  classifiers.update({'RandomForestClassifier': OneVsOneClassifier(RandomForestClassifier(random_state = 42))})\n",
        "  classifiers.update({'DecisionTreeClassifier': OneVsOneClassifier(DecisionTreeClassifier(random_state = 42))})\n",
        "  classifiers.update({'ExtraTreesClassifier': OneVsOneClassifier(ExtraTreesClassifier(random_state = 42))})\n",
        "  classifiers.update({'GradientBoostingClassifier': OneVsOneClassifier(GradientBoostingClassifier(random_state = 42))})    \n",
        "  classifiers.update({'BaggingClassifier': OneVsOneClassifier(BaggingClassifier(random_state = 42))})\n",
        "  classifiers.update({'AdaBoostClassifier': OneVsOneClassifier(AdaBoostClassifier(random_state = 42))})\n",
        "  classifiers.update({'KNeighborsClassifier': OneVsOneClassifier(KNeighborsClassifier())})\n",
        "  classifiers.update({'SGDClassifier': OneVsOneClassifier(SGDClassifier(random_state = 42))})\n",
        "  classifiers.update({'BaggingClassifier': OneVsOneClassifier(BaggingClassifier(random_state = 42))})\n",
        "  classifiers.update({'BernoulliNB': OneVsOneClassifier(BernoulliNB())})\n",
        "  classifiers.update({'LinearSVC': OneVsOneClassifier(LinearSVC(random_state = 42))})\n",
        "  classifiers.update({'SVC': OneVsOneClassifier(SVC(random_state = 42))})\n",
        "\n",
        "  df_models = pd.DataFrame(columns = ['model', 'run_time', 'f1_score_cv', 'f1_score'])\n",
        "\n",
        "  for key in classifiers:\n",
        "\n",
        "      print('*', key)\n",
        "\n",
        "      start_time = time.time()\n",
        "      \n",
        "      pipeline = get_pipeline(classifiers[key])\n",
        "      pipeline.fit(X_train, y_train)\n",
        "      y_pred = pipeline.predict(X_test)\n",
        "\n",
        "      cv = cross_val_score(pipeline, X, y, cv = 10, scoring = 'f1_macro', n_jobs = -1)\n",
        "\n",
        "      row = {'model': key,\n",
        "             'run_time': format(round((time.time() - start_time) / 60, 2)),\n",
        "             'f1_score_cv': cv.mean(),\n",
        "             'f1_score': f1_score(y_test, y_pred, average = 'macro')}\n",
        "      \n",
        "      df_models = df_models.append(row, ignore_index = True)\n",
        "\n",
        "  df_models = df_models.sort_values(by = 'f1_score_cv', ascending = False)\n",
        "      \n",
        "  return df_models"
      ],
      "metadata": {
        "id": "PzGT_8mzIi35"
      },
      "execution_count": 24,
      "outputs": []
    },
    {
      "cell_type": "code",
      "source": [
        "models = select_model(X_train, y_train)"
      ],
      "metadata": {
        "colab": {
          "base_uri": "https://localhost:8080/"
        },
        "id": "f8kiXDjrc5FT",
        "outputId": "420c851b-9761-4b5b-efe9-4264cb3e5157"
      },
      "execution_count": 25,
      "outputs": [
        {
          "output_type": "stream",
          "name": "stdout",
          "text": [
            "* XGBClassifier\n",
            "* XGBRFClassifier\n",
            "* LogisticRegression\n",
            "* LGBMClassifier\n",
            "* RandomForestClassifier\n",
            "* DecisionTreeClassifier\n",
            "* ExtraTreesClassifier\n",
            "* GradientBoostingClassifier\n",
            "* BaggingClassifier\n",
            "* AdaBoostClassifier\n",
            "* KNeighborsClassifier\n",
            "* SGDClassifier\n",
            "* BernoulliNB\n",
            "* LinearSVC\n",
            "* SVC\n"
          ]
        }
      ]
    },
    {
      "cell_type": "markdown",
      "source": [
        "After 1-2 minutes, the model selection process had completed. This identified that XGBClassifier was the top performing model, with a ROC/AUC score of 100%."
      ],
      "metadata": {
        "id": "v2YsgZCNCg6j"
      }
    },
    {
      "cell_type": "code",
      "source": [
        "models.head()"
      ],
      "metadata": {
        "id": "ZIokc2CXfc4N",
        "colab": {
          "base_uri": "https://localhost:8080/",
          "height": 204
        },
        "outputId": "38b3bfe7-357d-4d1c-837a-b2f9d7dc4e26"
      },
      "execution_count": 26,
      "outputs": [
        {
          "output_type": "execute_result",
          "data": {
            "text/html": [
              "\n",
              "  <div id=\"df-fb438f7f-c1e4-45cc-adcb-db33bcb10cbd\">\n",
              "    <div class=\"colab-df-container\">\n",
              "      <div>\n",
              "<style scoped>\n",
              "    .dataframe tbody tr th:only-of-type {\n",
              "        vertical-align: middle;\n",
              "    }\n",
              "\n",
              "    .dataframe tbody tr th {\n",
              "        vertical-align: top;\n",
              "    }\n",
              "\n",
              "    .dataframe thead th {\n",
              "        text-align: right;\n",
              "    }\n",
              "</style>\n",
              "<table border=\"1\" class=\"dataframe\">\n",
              "  <thead>\n",
              "    <tr style=\"text-align: right;\">\n",
              "      <th></th>\n",
              "      <th>model</th>\n",
              "      <th>run_time</th>\n",
              "      <th>f1_score_cv</th>\n",
              "      <th>f1_score</th>\n",
              "    </tr>\n",
              "  </thead>\n",
              "  <tbody>\n",
              "    <tr>\n",
              "      <th>0</th>\n",
              "      <td>XGBClassifier</td>\n",
              "      <td>0.67</td>\n",
              "      <td>1.0</td>\n",
              "      <td>1.0</td>\n",
              "    </tr>\n",
              "    <tr>\n",
              "      <th>1</th>\n",
              "      <td>XGBRFClassifier</td>\n",
              "      <td>0.42</td>\n",
              "      <td>1.0</td>\n",
              "      <td>1.0</td>\n",
              "    </tr>\n",
              "    <tr>\n",
              "      <th>2</th>\n",
              "      <td>LogisticRegression</td>\n",
              "      <td>0.04</td>\n",
              "      <td>1.0</td>\n",
              "      <td>1.0</td>\n",
              "    </tr>\n",
              "    <tr>\n",
              "      <th>3</th>\n",
              "      <td>LGBMClassifier</td>\n",
              "      <td>0.14</td>\n",
              "      <td>1.0</td>\n",
              "      <td>1.0</td>\n",
              "    </tr>\n",
              "    <tr>\n",
              "      <th>5</th>\n",
              "      <td>DecisionTreeClassifier</td>\n",
              "      <td>0.03</td>\n",
              "      <td>1.0</td>\n",
              "      <td>1.0</td>\n",
              "    </tr>\n",
              "  </tbody>\n",
              "</table>\n",
              "</div>\n",
              "      <button class=\"colab-df-convert\" onclick=\"convertToInteractive('df-fb438f7f-c1e4-45cc-adcb-db33bcb10cbd')\"\n",
              "              title=\"Convert this dataframe to an interactive table.\"\n",
              "              style=\"display:none;\">\n",
              "        \n",
              "  <svg xmlns=\"http://www.w3.org/2000/svg\" height=\"24px\"viewBox=\"0 0 24 24\"\n",
              "       width=\"24px\">\n",
              "    <path d=\"M0 0h24v24H0V0z\" fill=\"none\"/>\n",
              "    <path d=\"M18.56 5.44l.94 2.06.94-2.06 2.06-.94-2.06-.94-.94-2.06-.94 2.06-2.06.94zm-11 1L8.5 8.5l.94-2.06 2.06-.94-2.06-.94L8.5 2.5l-.94 2.06-2.06.94zm10 10l.94 2.06.94-2.06 2.06-.94-2.06-.94-.94-2.06-.94 2.06-2.06.94z\"/><path d=\"M17.41 7.96l-1.37-1.37c-.4-.4-.92-.59-1.43-.59-.52 0-1.04.2-1.43.59L10.3 9.45l-7.72 7.72c-.78.78-.78 2.05 0 2.83L4 21.41c.39.39.9.59 1.41.59.51 0 1.02-.2 1.41-.59l7.78-7.78 2.81-2.81c.8-.78.8-2.07 0-2.86zM5.41 20L4 18.59l7.72-7.72 1.47 1.35L5.41 20z\"/>\n",
              "  </svg>\n",
              "      </button>\n",
              "      \n",
              "  <style>\n",
              "    .colab-df-container {\n",
              "      display:flex;\n",
              "      flex-wrap:wrap;\n",
              "      gap: 12px;\n",
              "    }\n",
              "\n",
              "    .colab-df-convert {\n",
              "      background-color: #E8F0FE;\n",
              "      border: none;\n",
              "      border-radius: 50%;\n",
              "      cursor: pointer;\n",
              "      display: none;\n",
              "      fill: #1967D2;\n",
              "      height: 32px;\n",
              "      padding: 0 0 0 0;\n",
              "      width: 32px;\n",
              "    }\n",
              "\n",
              "    .colab-df-convert:hover {\n",
              "      background-color: #E2EBFA;\n",
              "      box-shadow: 0px 1px 2px rgba(60, 64, 67, 0.3), 0px 1px 3px 1px rgba(60, 64, 67, 0.15);\n",
              "      fill: #174EA6;\n",
              "    }\n",
              "\n",
              "    [theme=dark] .colab-df-convert {\n",
              "      background-color: #3B4455;\n",
              "      fill: #D2E3FC;\n",
              "    }\n",
              "\n",
              "    [theme=dark] .colab-df-convert:hover {\n",
              "      background-color: #434B5C;\n",
              "      box-shadow: 0px 1px 3px 1px rgba(0, 0, 0, 0.15);\n",
              "      filter: drop-shadow(0px 1px 2px rgba(0, 0, 0, 0.3));\n",
              "      fill: #FFFFFF;\n",
              "    }\n",
              "  </style>\n",
              "\n",
              "      <script>\n",
              "        const buttonEl =\n",
              "          document.querySelector('#df-fb438f7f-c1e4-45cc-adcb-db33bcb10cbd button.colab-df-convert');\n",
              "        buttonEl.style.display =\n",
              "          google.colab.kernel.accessAllowed ? 'block' : 'none';\n",
              "\n",
              "        async function convertToInteractive(key) {\n",
              "          const element = document.querySelector('#df-fb438f7f-c1e4-45cc-adcb-db33bcb10cbd');\n",
              "          const dataTable =\n",
              "            await google.colab.kernel.invokeFunction('convertToInteractive',\n",
              "                                                     [key], {});\n",
              "          if (!dataTable) return;\n",
              "\n",
              "          const docLinkHtml = 'Like what you see? Visit the ' +\n",
              "            '<a target=\"_blank\" href=https://colab.research.google.com/notebooks/data_table.ipynb>data table notebook</a>'\n",
              "            + ' to learn more about interactive tables.';\n",
              "          element.innerHTML = '';\n",
              "          dataTable['output_type'] = 'display_data';\n",
              "          await google.colab.output.renderOutput(dataTable, element);\n",
              "          const docLink = document.createElement('div');\n",
              "          docLink.innerHTML = docLinkHtml;\n",
              "          element.appendChild(docLink);\n",
              "        }\n",
              "      </script>\n",
              "    </div>\n",
              "  </div>\n",
              "  "
            ],
            "text/plain": [
              "                    model run_time  f1_score_cv  f1_score\n",
              "0           XGBClassifier     0.67          1.0       1.0\n",
              "1         XGBRFClassifier     0.42          1.0       1.0\n",
              "2      LogisticRegression     0.04          1.0       1.0\n",
              "3          LGBMClassifier     0.14          1.0       1.0\n",
              "5  DecisionTreeClassifier     0.03          1.0       1.0"
            ]
          },
          "metadata": {},
          "execution_count": 26
        }
      ]
    },
    {
      "cell_type": "markdown",
      "source": [
        "**Examine the performance of the best model**"
      ],
      "metadata": {
        "id": "KV2tXEEDg6LN"
      }
    },
    {
      "cell_type": "code",
      "source": [
        "pipeline = get_pipeline(OneVsOneClassifier(XGBClassifier(random_state = 42)))\n",
        "pipeline.fit(X_train, y_train)\n",
        "y_pred = pipeline.predict(X_test)"
      ],
      "metadata": {
        "id": "myco9-tndRra"
      },
      "execution_count": 27,
      "outputs": []
    },
    {
      "cell_type": "markdown",
      "source": [
        "Since this is a multi-class classification problem, we can assess its performance using common classification metrics, such as the F1 score and classification report. Initial results are awesome. We get a F1 score of 100%, which is impressive.\n",
        "\n"
      ],
      "metadata": {
        "id": "C2_3vaBehGVZ"
      }
    },
    {
      "cell_type": "code",
      "source": [
        "from sklearn.metrics import classification_report"
      ],
      "metadata": {
        "id": "M-tuwkETiFoL"
      },
      "execution_count": 28,
      "outputs": []
    },
    {
      "cell_type": "code",
      "source": [
        "print(classification_report(y_test, y_pred))"
      ],
      "metadata": {
        "id": "t1EJtG9Ih_F4",
        "colab": {
          "base_uri": "https://localhost:8080/"
        },
        "outputId": "f3306fcc-28a5-451c-c826-ff581f40661a"
      },
      "execution_count": 29,
      "outputs": [
        {
          "output_type": "stream",
          "name": "stdout",
          "text": [
            "              precision    recall  f1-score   support\n",
            "\n",
            "           0       1.00      1.00      1.00       200\n",
            "           1       1.00      1.00      1.00       177\n",
            "           2       1.00      1.00      1.00      1619\n",
            "\n",
            "    accuracy                           1.00      1996\n",
            "   macro avg       1.00      1.00      1.00      1996\n",
            "weighted avg       1.00      1.00      1.00      1996\n",
            "\n"
          ]
        }
      ]
    }
  ]
}