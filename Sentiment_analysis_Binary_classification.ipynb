{
  "nbformat": 4,
  "nbformat_minor": 0,
  "metadata": {
    "colab": {
      "name": "Sentiment analysis: Binary classification.ipynb",
      "provenance": [],
      "collapsed_sections": [],
      "authorship_tag": "ABX9TyMoqfulI4xE6kY7ERMsxUWI",
      "include_colab_link": true
    },
    "kernelspec": {
      "display_name": "Python 3",
      "name": "python3"
    },
    "language_info": {
      "name": "python"
    },
    "widgets": {
      "application/vnd.jupyter.widget-state+json": {
        "861dd6ed580445d9acbea93ea528b2e1": {
          "model_module": "@jupyter-widgets/controls",
          "model_name": "HBoxModel",
          "model_module_version": "1.5.0",
          "state": {
            "_dom_classes": [],
            "_model_module": "@jupyter-widgets/controls",
            "_model_module_version": "1.5.0",
            "_model_name": "HBoxModel",
            "_view_count": null,
            "_view_module": "@jupyter-widgets/controls",
            "_view_module_version": "1.5.0",
            "_view_name": "HBoxView",
            "box_style": "",
            "children": [
              "IPY_MODEL_7a9d1a9a5fca407a8ba60394c4789314",
              "IPY_MODEL_7981069611a84cc3bc8d4402839769de",
              "IPY_MODEL_acf0d0ba043b471b89eee5063054fb61"
            ],
            "layout": "IPY_MODEL_f0d4cd11757644af849dfea3c2ad4193"
          }
        },
        "7a9d1a9a5fca407a8ba60394c4789314": {
          "model_module": "@jupyter-widgets/controls",
          "model_name": "HTMLModel",
          "model_module_version": "1.5.0",
          "state": {
            "_dom_classes": [],
            "_model_module": "@jupyter-widgets/controls",
            "_model_module_version": "1.5.0",
            "_model_name": "HTMLModel",
            "_view_count": null,
            "_view_module": "@jupyter-widgets/controls",
            "_view_module_version": "1.5.0",
            "_view_name": "HTMLView",
            "description": "",
            "description_tooltip": null,
            "layout": "IPY_MODEL_57f78e703abc48858086d93ef78eafee",
            "placeholder": "​",
            "style": "IPY_MODEL_fef24966c5c34f1f884d2f2b314c4940",
            "value": "Downloading: 100%"
          }
        },
        "7981069611a84cc3bc8d4402839769de": {
          "model_module": "@jupyter-widgets/controls",
          "model_name": "FloatProgressModel",
          "model_module_version": "1.5.0",
          "state": {
            "_dom_classes": [],
            "_model_module": "@jupyter-widgets/controls",
            "_model_module_version": "1.5.0",
            "_model_name": "FloatProgressModel",
            "_view_count": null,
            "_view_module": "@jupyter-widgets/controls",
            "_view_module_version": "1.5.0",
            "_view_name": "ProgressView",
            "bar_style": "success",
            "description": "",
            "description_tooltip": null,
            "layout": "IPY_MODEL_25abdead7f9245aab82fd5ae9ec8f85c",
            "max": 629,
            "min": 0,
            "orientation": "horizontal",
            "style": "IPY_MODEL_6aac9b20fb654b148357945b8924b065",
            "value": 629
          }
        },
        "acf0d0ba043b471b89eee5063054fb61": {
          "model_module": "@jupyter-widgets/controls",
          "model_name": "HTMLModel",
          "model_module_version": "1.5.0",
          "state": {
            "_dom_classes": [],
            "_model_module": "@jupyter-widgets/controls",
            "_model_module_version": "1.5.0",
            "_model_name": "HTMLModel",
            "_view_count": null,
            "_view_module": "@jupyter-widgets/controls",
            "_view_module_version": "1.5.0",
            "_view_name": "HTMLView",
            "description": "",
            "description_tooltip": null,
            "layout": "IPY_MODEL_a94bcd277fbf4b35b9b1283a0cbfb01c",
            "placeholder": "​",
            "style": "IPY_MODEL_d07301a266834e3abb38d492bc623300",
            "value": " 629/629 [00:00&lt;00:00, 12.3kB/s]"
          }
        },
        "f0d4cd11757644af849dfea3c2ad4193": {
          "model_module": "@jupyter-widgets/base",
          "model_name": "LayoutModel",
          "model_module_version": "1.2.0",
          "state": {
            "_model_module": "@jupyter-widgets/base",
            "_model_module_version": "1.2.0",
            "_model_name": "LayoutModel",
            "_view_count": null,
            "_view_module": "@jupyter-widgets/base",
            "_view_module_version": "1.2.0",
            "_view_name": "LayoutView",
            "align_content": null,
            "align_items": null,
            "align_self": null,
            "border": null,
            "bottom": null,
            "display": null,
            "flex": null,
            "flex_flow": null,
            "grid_area": null,
            "grid_auto_columns": null,
            "grid_auto_flow": null,
            "grid_auto_rows": null,
            "grid_column": null,
            "grid_gap": null,
            "grid_row": null,
            "grid_template_areas": null,
            "grid_template_columns": null,
            "grid_template_rows": null,
            "height": null,
            "justify_content": null,
            "justify_items": null,
            "left": null,
            "margin": null,
            "max_height": null,
            "max_width": null,
            "min_height": null,
            "min_width": null,
            "object_fit": null,
            "object_position": null,
            "order": null,
            "overflow": null,
            "overflow_x": null,
            "overflow_y": null,
            "padding": null,
            "right": null,
            "top": null,
            "visibility": null,
            "width": null
          }
        },
        "57f78e703abc48858086d93ef78eafee": {
          "model_module": "@jupyter-widgets/base",
          "model_name": "LayoutModel",
          "model_module_version": "1.2.0",
          "state": {
            "_model_module": "@jupyter-widgets/base",
            "_model_module_version": "1.2.0",
            "_model_name": "LayoutModel",
            "_view_count": null,
            "_view_module": "@jupyter-widgets/base",
            "_view_module_version": "1.2.0",
            "_view_name": "LayoutView",
            "align_content": null,
            "align_items": null,
            "align_self": null,
            "border": null,
            "bottom": null,
            "display": null,
            "flex": null,
            "flex_flow": null,
            "grid_area": null,
            "grid_auto_columns": null,
            "grid_auto_flow": null,
            "grid_auto_rows": null,
            "grid_column": null,
            "grid_gap": null,
            "grid_row": null,
            "grid_template_areas": null,
            "grid_template_columns": null,
            "grid_template_rows": null,
            "height": null,
            "justify_content": null,
            "justify_items": null,
            "left": null,
            "margin": null,
            "max_height": null,
            "max_width": null,
            "min_height": null,
            "min_width": null,
            "object_fit": null,
            "object_position": null,
            "order": null,
            "overflow": null,
            "overflow_x": null,
            "overflow_y": null,
            "padding": null,
            "right": null,
            "top": null,
            "visibility": null,
            "width": null
          }
        },
        "fef24966c5c34f1f884d2f2b314c4940": {
          "model_module": "@jupyter-widgets/controls",
          "model_name": "DescriptionStyleModel",
          "model_module_version": "1.5.0",
          "state": {
            "_model_module": "@jupyter-widgets/controls",
            "_model_module_version": "1.5.0",
            "_model_name": "DescriptionStyleModel",
            "_view_count": null,
            "_view_module": "@jupyter-widgets/base",
            "_view_module_version": "1.2.0",
            "_view_name": "StyleView",
            "description_width": ""
          }
        },
        "25abdead7f9245aab82fd5ae9ec8f85c": {
          "model_module": "@jupyter-widgets/base",
          "model_name": "LayoutModel",
          "model_module_version": "1.2.0",
          "state": {
            "_model_module": "@jupyter-widgets/base",
            "_model_module_version": "1.2.0",
            "_model_name": "LayoutModel",
            "_view_count": null,
            "_view_module": "@jupyter-widgets/base",
            "_view_module_version": "1.2.0",
            "_view_name": "LayoutView",
            "align_content": null,
            "align_items": null,
            "align_self": null,
            "border": null,
            "bottom": null,
            "display": null,
            "flex": null,
            "flex_flow": null,
            "grid_area": null,
            "grid_auto_columns": null,
            "grid_auto_flow": null,
            "grid_auto_rows": null,
            "grid_column": null,
            "grid_gap": null,
            "grid_row": null,
            "grid_template_areas": null,
            "grid_template_columns": null,
            "grid_template_rows": null,
            "height": null,
            "justify_content": null,
            "justify_items": null,
            "left": null,
            "margin": null,
            "max_height": null,
            "max_width": null,
            "min_height": null,
            "min_width": null,
            "object_fit": null,
            "object_position": null,
            "order": null,
            "overflow": null,
            "overflow_x": null,
            "overflow_y": null,
            "padding": null,
            "right": null,
            "top": null,
            "visibility": null,
            "width": null
          }
        },
        "6aac9b20fb654b148357945b8924b065": {
          "model_module": "@jupyter-widgets/controls",
          "model_name": "ProgressStyleModel",
          "model_module_version": "1.5.0",
          "state": {
            "_model_module": "@jupyter-widgets/controls",
            "_model_module_version": "1.5.0",
            "_model_name": "ProgressStyleModel",
            "_view_count": null,
            "_view_module": "@jupyter-widgets/base",
            "_view_module_version": "1.2.0",
            "_view_name": "StyleView",
            "bar_color": null,
            "description_width": ""
          }
        },
        "a94bcd277fbf4b35b9b1283a0cbfb01c": {
          "model_module": "@jupyter-widgets/base",
          "model_name": "LayoutModel",
          "model_module_version": "1.2.0",
          "state": {
            "_model_module": "@jupyter-widgets/base",
            "_model_module_version": "1.2.0",
            "_model_name": "LayoutModel",
            "_view_count": null,
            "_view_module": "@jupyter-widgets/base",
            "_view_module_version": "1.2.0",
            "_view_name": "LayoutView",
            "align_content": null,
            "align_items": null,
            "align_self": null,
            "border": null,
            "bottom": null,
            "display": null,
            "flex": null,
            "flex_flow": null,
            "grid_area": null,
            "grid_auto_columns": null,
            "grid_auto_flow": null,
            "grid_auto_rows": null,
            "grid_column": null,
            "grid_gap": null,
            "grid_row": null,
            "grid_template_areas": null,
            "grid_template_columns": null,
            "grid_template_rows": null,
            "height": null,
            "justify_content": null,
            "justify_items": null,
            "left": null,
            "margin": null,
            "max_height": null,
            "max_width": null,
            "min_height": null,
            "min_width": null,
            "object_fit": null,
            "object_position": null,
            "order": null,
            "overflow": null,
            "overflow_x": null,
            "overflow_y": null,
            "padding": null,
            "right": null,
            "top": null,
            "visibility": null,
            "width": null
          }
        },
        "d07301a266834e3abb38d492bc623300": {
          "model_module": "@jupyter-widgets/controls",
          "model_name": "DescriptionStyleModel",
          "model_module_version": "1.5.0",
          "state": {
            "_model_module": "@jupyter-widgets/controls",
            "_model_module_version": "1.5.0",
            "_model_name": "DescriptionStyleModel",
            "_view_count": null,
            "_view_module": "@jupyter-widgets/base",
            "_view_module_version": "1.2.0",
            "_view_name": "StyleView",
            "description_width": ""
          }
        },
        "fa1848ffaa784b9ba0c3d1d6aca15b34": {
          "model_module": "@jupyter-widgets/controls",
          "model_name": "HBoxModel",
          "model_module_version": "1.5.0",
          "state": {
            "_dom_classes": [],
            "_model_module": "@jupyter-widgets/controls",
            "_model_module_version": "1.5.0",
            "_model_name": "HBoxModel",
            "_view_count": null,
            "_view_module": "@jupyter-widgets/controls",
            "_view_module_version": "1.5.0",
            "_view_name": "HBoxView",
            "box_style": "",
            "children": [
              "IPY_MODEL_1febea6d457a40459a11bb816eb3d29f",
              "IPY_MODEL_d8a3987401b84fe1bb2b4cca100a0c2f",
              "IPY_MODEL_2a19a748cf0043fab5b1988df1a3b580"
            ],
            "layout": "IPY_MODEL_00ca0ac2b6c64fa98a86be3e3f21aa23"
          }
        },
        "1febea6d457a40459a11bb816eb3d29f": {
          "model_module": "@jupyter-widgets/controls",
          "model_name": "HTMLModel",
          "model_module_version": "1.5.0",
          "state": {
            "_dom_classes": [],
            "_model_module": "@jupyter-widgets/controls",
            "_model_module_version": "1.5.0",
            "_model_name": "HTMLModel",
            "_view_count": null,
            "_view_module": "@jupyter-widgets/controls",
            "_view_module_version": "1.5.0",
            "_view_name": "HTMLView",
            "description": "",
            "description_tooltip": null,
            "layout": "IPY_MODEL_246e8191e6a7470bae2ea2b5f4d09919",
            "placeholder": "​",
            "style": "IPY_MODEL_c9ffc25ed3764890a8a6b84175375cdd",
            "value": "Downloading: 100%"
          }
        },
        "d8a3987401b84fe1bb2b4cca100a0c2f": {
          "model_module": "@jupyter-widgets/controls",
          "model_name": "FloatProgressModel",
          "model_module_version": "1.5.0",
          "state": {
            "_dom_classes": [],
            "_model_module": "@jupyter-widgets/controls",
            "_model_module_version": "1.5.0",
            "_model_name": "FloatProgressModel",
            "_view_count": null,
            "_view_module": "@jupyter-widgets/controls",
            "_view_module_version": "1.5.0",
            "_view_name": "ProgressView",
            "bar_style": "success",
            "description": "",
            "description_tooltip": null,
            "layout": "IPY_MODEL_43f978a518d94073862ba433f9c60c2e",
            "max": 231508,
            "min": 0,
            "orientation": "horizontal",
            "style": "IPY_MODEL_f3bbe42ab9c647d9928c7db523cce2b1",
            "value": 231508
          }
        },
        "2a19a748cf0043fab5b1988df1a3b580": {
          "model_module": "@jupyter-widgets/controls",
          "model_name": "HTMLModel",
          "model_module_version": "1.5.0",
          "state": {
            "_dom_classes": [],
            "_model_module": "@jupyter-widgets/controls",
            "_model_module_version": "1.5.0",
            "_model_name": "HTMLModel",
            "_view_count": null,
            "_view_module": "@jupyter-widgets/controls",
            "_view_module_version": "1.5.0",
            "_view_name": "HTMLView",
            "description": "",
            "description_tooltip": null,
            "layout": "IPY_MODEL_7b050db1d2aa458ba57ccf8d75ab007a",
            "placeholder": "​",
            "style": "IPY_MODEL_689b07a5d8f14483a73465c056ce0017",
            "value": " 232k/232k [00:00&lt;00:00, 739kB/s]"
          }
        },
        "00ca0ac2b6c64fa98a86be3e3f21aa23": {
          "model_module": "@jupyter-widgets/base",
          "model_name": "LayoutModel",
          "model_module_version": "1.2.0",
          "state": {
            "_model_module": "@jupyter-widgets/base",
            "_model_module_version": "1.2.0",
            "_model_name": "LayoutModel",
            "_view_count": null,
            "_view_module": "@jupyter-widgets/base",
            "_view_module_version": "1.2.0",
            "_view_name": "LayoutView",
            "align_content": null,
            "align_items": null,
            "align_self": null,
            "border": null,
            "bottom": null,
            "display": null,
            "flex": null,
            "flex_flow": null,
            "grid_area": null,
            "grid_auto_columns": null,
            "grid_auto_flow": null,
            "grid_auto_rows": null,
            "grid_column": null,
            "grid_gap": null,
            "grid_row": null,
            "grid_template_areas": null,
            "grid_template_columns": null,
            "grid_template_rows": null,
            "height": null,
            "justify_content": null,
            "justify_items": null,
            "left": null,
            "margin": null,
            "max_height": null,
            "max_width": null,
            "min_height": null,
            "min_width": null,
            "object_fit": null,
            "object_position": null,
            "order": null,
            "overflow": null,
            "overflow_x": null,
            "overflow_y": null,
            "padding": null,
            "right": null,
            "top": null,
            "visibility": null,
            "width": null
          }
        },
        "246e8191e6a7470bae2ea2b5f4d09919": {
          "model_module": "@jupyter-widgets/base",
          "model_name": "LayoutModel",
          "model_module_version": "1.2.0",
          "state": {
            "_model_module": "@jupyter-widgets/base",
            "_model_module_version": "1.2.0",
            "_model_name": "LayoutModel",
            "_view_count": null,
            "_view_module": "@jupyter-widgets/base",
            "_view_module_version": "1.2.0",
            "_view_name": "LayoutView",
            "align_content": null,
            "align_items": null,
            "align_self": null,
            "border": null,
            "bottom": null,
            "display": null,
            "flex": null,
            "flex_flow": null,
            "grid_area": null,
            "grid_auto_columns": null,
            "grid_auto_flow": null,
            "grid_auto_rows": null,
            "grid_column": null,
            "grid_gap": null,
            "grid_row": null,
            "grid_template_areas": null,
            "grid_template_columns": null,
            "grid_template_rows": null,
            "height": null,
            "justify_content": null,
            "justify_items": null,
            "left": null,
            "margin": null,
            "max_height": null,
            "max_width": null,
            "min_height": null,
            "min_width": null,
            "object_fit": null,
            "object_position": null,
            "order": null,
            "overflow": null,
            "overflow_x": null,
            "overflow_y": null,
            "padding": null,
            "right": null,
            "top": null,
            "visibility": null,
            "width": null
          }
        },
        "c9ffc25ed3764890a8a6b84175375cdd": {
          "model_module": "@jupyter-widgets/controls",
          "model_name": "DescriptionStyleModel",
          "model_module_version": "1.5.0",
          "state": {
            "_model_module": "@jupyter-widgets/controls",
            "_model_module_version": "1.5.0",
            "_model_name": "DescriptionStyleModel",
            "_view_count": null,
            "_view_module": "@jupyter-widgets/base",
            "_view_module_version": "1.2.0",
            "_view_name": "StyleView",
            "description_width": ""
          }
        },
        "43f978a518d94073862ba433f9c60c2e": {
          "model_module": "@jupyter-widgets/base",
          "model_name": "LayoutModel",
          "model_module_version": "1.2.0",
          "state": {
            "_model_module": "@jupyter-widgets/base",
            "_model_module_version": "1.2.0",
            "_model_name": "LayoutModel",
            "_view_count": null,
            "_view_module": "@jupyter-widgets/base",
            "_view_module_version": "1.2.0",
            "_view_name": "LayoutView",
            "align_content": null,
            "align_items": null,
            "align_self": null,
            "border": null,
            "bottom": null,
            "display": null,
            "flex": null,
            "flex_flow": null,
            "grid_area": null,
            "grid_auto_columns": null,
            "grid_auto_flow": null,
            "grid_auto_rows": null,
            "grid_column": null,
            "grid_gap": null,
            "grid_row": null,
            "grid_template_areas": null,
            "grid_template_columns": null,
            "grid_template_rows": null,
            "height": null,
            "justify_content": null,
            "justify_items": null,
            "left": null,
            "margin": null,
            "max_height": null,
            "max_width": null,
            "min_height": null,
            "min_width": null,
            "object_fit": null,
            "object_position": null,
            "order": null,
            "overflow": null,
            "overflow_x": null,
            "overflow_y": null,
            "padding": null,
            "right": null,
            "top": null,
            "visibility": null,
            "width": null
          }
        },
        "f3bbe42ab9c647d9928c7db523cce2b1": {
          "model_module": "@jupyter-widgets/controls",
          "model_name": "ProgressStyleModel",
          "model_module_version": "1.5.0",
          "state": {
            "_model_module": "@jupyter-widgets/controls",
            "_model_module_version": "1.5.0",
            "_model_name": "ProgressStyleModel",
            "_view_count": null,
            "_view_module": "@jupyter-widgets/base",
            "_view_module_version": "1.2.0",
            "_view_name": "StyleView",
            "bar_color": null,
            "description_width": ""
          }
        },
        "7b050db1d2aa458ba57ccf8d75ab007a": {
          "model_module": "@jupyter-widgets/base",
          "model_name": "LayoutModel",
          "model_module_version": "1.2.0",
          "state": {
            "_model_module": "@jupyter-widgets/base",
            "_model_module_version": "1.2.0",
            "_model_name": "LayoutModel",
            "_view_count": null,
            "_view_module": "@jupyter-widgets/base",
            "_view_module_version": "1.2.0",
            "_view_name": "LayoutView",
            "align_content": null,
            "align_items": null,
            "align_self": null,
            "border": null,
            "bottom": null,
            "display": null,
            "flex": null,
            "flex_flow": null,
            "grid_area": null,
            "grid_auto_columns": null,
            "grid_auto_flow": null,
            "grid_auto_rows": null,
            "grid_column": null,
            "grid_gap": null,
            "grid_row": null,
            "grid_template_areas": null,
            "grid_template_columns": null,
            "grid_template_rows": null,
            "height": null,
            "justify_content": null,
            "justify_items": null,
            "left": null,
            "margin": null,
            "max_height": null,
            "max_width": null,
            "min_height": null,
            "min_width": null,
            "object_fit": null,
            "object_position": null,
            "order": null,
            "overflow": null,
            "overflow_x": null,
            "overflow_y": null,
            "padding": null,
            "right": null,
            "top": null,
            "visibility": null,
            "width": null
          }
        },
        "689b07a5d8f14483a73465c056ce0017": {
          "model_module": "@jupyter-widgets/controls",
          "model_name": "DescriptionStyleModel",
          "model_module_version": "1.5.0",
          "state": {
            "_model_module": "@jupyter-widgets/controls",
            "_model_module_version": "1.5.0",
            "_model_name": "DescriptionStyleModel",
            "_view_count": null,
            "_view_module": "@jupyter-widgets/base",
            "_view_module_version": "1.2.0",
            "_view_name": "StyleView",
            "description_width": ""
          }
        },
        "81c784e7716048c98d2c81f198924f73": {
          "model_module": "@jupyter-widgets/controls",
          "model_name": "HBoxModel",
          "model_module_version": "1.5.0",
          "state": {
            "_dom_classes": [],
            "_model_module": "@jupyter-widgets/controls",
            "_model_module_version": "1.5.0",
            "_model_name": "HBoxModel",
            "_view_count": null,
            "_view_module": "@jupyter-widgets/controls",
            "_view_module_version": "1.5.0",
            "_view_name": "HBoxView",
            "box_style": "",
            "children": [
              "IPY_MODEL_f57c16e02c894866a35f58cad3a13b08",
              "IPY_MODEL_df49f18898534b9e8f22b641f23330c2",
              "IPY_MODEL_8eeb7fa27798402b8e1d600b18e5ca11"
            ],
            "layout": "IPY_MODEL_2adea96570b8469bb6dc58e6fbe267b4"
          }
        },
        "f57c16e02c894866a35f58cad3a13b08": {
          "model_module": "@jupyter-widgets/controls",
          "model_name": "HTMLModel",
          "model_module_version": "1.5.0",
          "state": {
            "_dom_classes": [],
            "_model_module": "@jupyter-widgets/controls",
            "_model_module_version": "1.5.0",
            "_model_name": "HTMLModel",
            "_view_count": null,
            "_view_module": "@jupyter-widgets/controls",
            "_view_module_version": "1.5.0",
            "_view_name": "HTMLView",
            "description": "",
            "description_tooltip": null,
            "layout": "IPY_MODEL_a936526dfc924d94b06ccc929a121986",
            "placeholder": "​",
            "style": "IPY_MODEL_519a0c5fe5fb437ca65865085b918904",
            "value": "Downloading: 100%"
          }
        },
        "df49f18898534b9e8f22b641f23330c2": {
          "model_module": "@jupyter-widgets/controls",
          "model_name": "FloatProgressModel",
          "model_module_version": "1.5.0",
          "state": {
            "_dom_classes": [],
            "_model_module": "@jupyter-widgets/controls",
            "_model_module_version": "1.5.0",
            "_model_name": "FloatProgressModel",
            "_view_count": null,
            "_view_module": "@jupyter-widgets/controls",
            "_view_module_version": "1.5.0",
            "_view_name": "ProgressView",
            "bar_style": "success",
            "description": "",
            "description_tooltip": null,
            "layout": "IPY_MODEL_215fa60aea734b8fb041b5878b5526cd",
            "max": 48,
            "min": 0,
            "orientation": "horizontal",
            "style": "IPY_MODEL_5c548e133af04da7a821aecaf7d7a38e",
            "value": 48
          }
        },
        "8eeb7fa27798402b8e1d600b18e5ca11": {
          "model_module": "@jupyter-widgets/controls",
          "model_name": "HTMLModel",
          "model_module_version": "1.5.0",
          "state": {
            "_dom_classes": [],
            "_model_module": "@jupyter-widgets/controls",
            "_model_module_version": "1.5.0",
            "_model_name": "HTMLModel",
            "_view_count": null,
            "_view_module": "@jupyter-widgets/controls",
            "_view_module_version": "1.5.0",
            "_view_name": "HTMLView",
            "description": "",
            "description_tooltip": null,
            "layout": "IPY_MODEL_87086579a1074f18b645adfcde11ec5d",
            "placeholder": "​",
            "style": "IPY_MODEL_500e193fc76c4aeaaa2975bc3fee463f",
            "value": " 48.0/48.0 [00:00&lt;00:00, 1.08kB/s]"
          }
        },
        "2adea96570b8469bb6dc58e6fbe267b4": {
          "model_module": "@jupyter-widgets/base",
          "model_name": "LayoutModel",
          "model_module_version": "1.2.0",
          "state": {
            "_model_module": "@jupyter-widgets/base",
            "_model_module_version": "1.2.0",
            "_model_name": "LayoutModel",
            "_view_count": null,
            "_view_module": "@jupyter-widgets/base",
            "_view_module_version": "1.2.0",
            "_view_name": "LayoutView",
            "align_content": null,
            "align_items": null,
            "align_self": null,
            "border": null,
            "bottom": null,
            "display": null,
            "flex": null,
            "flex_flow": null,
            "grid_area": null,
            "grid_auto_columns": null,
            "grid_auto_flow": null,
            "grid_auto_rows": null,
            "grid_column": null,
            "grid_gap": null,
            "grid_row": null,
            "grid_template_areas": null,
            "grid_template_columns": null,
            "grid_template_rows": null,
            "height": null,
            "justify_content": null,
            "justify_items": null,
            "left": null,
            "margin": null,
            "max_height": null,
            "max_width": null,
            "min_height": null,
            "min_width": null,
            "object_fit": null,
            "object_position": null,
            "order": null,
            "overflow": null,
            "overflow_x": null,
            "overflow_y": null,
            "padding": null,
            "right": null,
            "top": null,
            "visibility": null,
            "width": null
          }
        },
        "a936526dfc924d94b06ccc929a121986": {
          "model_module": "@jupyter-widgets/base",
          "model_name": "LayoutModel",
          "model_module_version": "1.2.0",
          "state": {
            "_model_module": "@jupyter-widgets/base",
            "_model_module_version": "1.2.0",
            "_model_name": "LayoutModel",
            "_view_count": null,
            "_view_module": "@jupyter-widgets/base",
            "_view_module_version": "1.2.0",
            "_view_name": "LayoutView",
            "align_content": null,
            "align_items": null,
            "align_self": null,
            "border": null,
            "bottom": null,
            "display": null,
            "flex": null,
            "flex_flow": null,
            "grid_area": null,
            "grid_auto_columns": null,
            "grid_auto_flow": null,
            "grid_auto_rows": null,
            "grid_column": null,
            "grid_gap": null,
            "grid_row": null,
            "grid_template_areas": null,
            "grid_template_columns": null,
            "grid_template_rows": null,
            "height": null,
            "justify_content": null,
            "justify_items": null,
            "left": null,
            "margin": null,
            "max_height": null,
            "max_width": null,
            "min_height": null,
            "min_width": null,
            "object_fit": null,
            "object_position": null,
            "order": null,
            "overflow": null,
            "overflow_x": null,
            "overflow_y": null,
            "padding": null,
            "right": null,
            "top": null,
            "visibility": null,
            "width": null
          }
        },
        "519a0c5fe5fb437ca65865085b918904": {
          "model_module": "@jupyter-widgets/controls",
          "model_name": "DescriptionStyleModel",
          "model_module_version": "1.5.0",
          "state": {
            "_model_module": "@jupyter-widgets/controls",
            "_model_module_version": "1.5.0",
            "_model_name": "DescriptionStyleModel",
            "_view_count": null,
            "_view_module": "@jupyter-widgets/base",
            "_view_module_version": "1.2.0",
            "_view_name": "StyleView",
            "description_width": ""
          }
        },
        "215fa60aea734b8fb041b5878b5526cd": {
          "model_module": "@jupyter-widgets/base",
          "model_name": "LayoutModel",
          "model_module_version": "1.2.0",
          "state": {
            "_model_module": "@jupyter-widgets/base",
            "_model_module_version": "1.2.0",
            "_model_name": "LayoutModel",
            "_view_count": null,
            "_view_module": "@jupyter-widgets/base",
            "_view_module_version": "1.2.0",
            "_view_name": "LayoutView",
            "align_content": null,
            "align_items": null,
            "align_self": null,
            "border": null,
            "bottom": null,
            "display": null,
            "flex": null,
            "flex_flow": null,
            "grid_area": null,
            "grid_auto_columns": null,
            "grid_auto_flow": null,
            "grid_auto_rows": null,
            "grid_column": null,
            "grid_gap": null,
            "grid_row": null,
            "grid_template_areas": null,
            "grid_template_columns": null,
            "grid_template_rows": null,
            "height": null,
            "justify_content": null,
            "justify_items": null,
            "left": null,
            "margin": null,
            "max_height": null,
            "max_width": null,
            "min_height": null,
            "min_width": null,
            "object_fit": null,
            "object_position": null,
            "order": null,
            "overflow": null,
            "overflow_x": null,
            "overflow_y": null,
            "padding": null,
            "right": null,
            "top": null,
            "visibility": null,
            "width": null
          }
        },
        "5c548e133af04da7a821aecaf7d7a38e": {
          "model_module": "@jupyter-widgets/controls",
          "model_name": "ProgressStyleModel",
          "model_module_version": "1.5.0",
          "state": {
            "_model_module": "@jupyter-widgets/controls",
            "_model_module_version": "1.5.0",
            "_model_name": "ProgressStyleModel",
            "_view_count": null,
            "_view_module": "@jupyter-widgets/base",
            "_view_module_version": "1.2.0",
            "_view_name": "StyleView",
            "bar_color": null,
            "description_width": ""
          }
        },
        "87086579a1074f18b645adfcde11ec5d": {
          "model_module": "@jupyter-widgets/base",
          "model_name": "LayoutModel",
          "model_module_version": "1.2.0",
          "state": {
            "_model_module": "@jupyter-widgets/base",
            "_model_module_version": "1.2.0",
            "_model_name": "LayoutModel",
            "_view_count": null,
            "_view_module": "@jupyter-widgets/base",
            "_view_module_version": "1.2.0",
            "_view_name": "LayoutView",
            "align_content": null,
            "align_items": null,
            "align_self": null,
            "border": null,
            "bottom": null,
            "display": null,
            "flex": null,
            "flex_flow": null,
            "grid_area": null,
            "grid_auto_columns": null,
            "grid_auto_flow": null,
            "grid_auto_rows": null,
            "grid_column": null,
            "grid_gap": null,
            "grid_row": null,
            "grid_template_areas": null,
            "grid_template_columns": null,
            "grid_template_rows": null,
            "height": null,
            "justify_content": null,
            "justify_items": null,
            "left": null,
            "margin": null,
            "max_height": null,
            "max_width": null,
            "min_height": null,
            "min_width": null,
            "object_fit": null,
            "object_position": null,
            "order": null,
            "overflow": null,
            "overflow_x": null,
            "overflow_y": null,
            "padding": null,
            "right": null,
            "top": null,
            "visibility": null,
            "width": null
          }
        },
        "500e193fc76c4aeaaa2975bc3fee463f": {
          "model_module": "@jupyter-widgets/controls",
          "model_name": "DescriptionStyleModel",
          "model_module_version": "1.5.0",
          "state": {
            "_model_module": "@jupyter-widgets/controls",
            "_model_module_version": "1.5.0",
            "_model_name": "DescriptionStyleModel",
            "_view_count": null,
            "_view_module": "@jupyter-widgets/base",
            "_view_module_version": "1.2.0",
            "_view_name": "StyleView",
            "description_width": ""
          }
        },
        "383b4f4c7d1a4a6192e80e12fd0e8b04": {
          "model_module": "@jupyter-widgets/controls",
          "model_name": "HBoxModel",
          "model_module_version": "1.5.0",
          "state": {
            "_dom_classes": [],
            "_model_module": "@jupyter-widgets/controls",
            "_model_module_version": "1.5.0",
            "_model_name": "HBoxModel",
            "_view_count": null,
            "_view_module": "@jupyter-widgets/controls",
            "_view_module_version": "1.5.0",
            "_view_name": "HBoxView",
            "box_style": "",
            "children": [
              "IPY_MODEL_089c1a1f3515453ab2b25c2ead4636b4",
              "IPY_MODEL_63c8b109eb96455b98f77633b5084547",
              "IPY_MODEL_f0bb327a58314c47bcbbe61a20a166ac"
            ],
            "layout": "IPY_MODEL_70f6a8ce094642bba998171529ed84cd"
          }
        },
        "089c1a1f3515453ab2b25c2ead4636b4": {
          "model_module": "@jupyter-widgets/controls",
          "model_name": "HTMLModel",
          "model_module_version": "1.5.0",
          "state": {
            "_dom_classes": [],
            "_model_module": "@jupyter-widgets/controls",
            "_model_module_version": "1.5.0",
            "_model_name": "HTMLModel",
            "_view_count": null,
            "_view_module": "@jupyter-widgets/controls",
            "_view_module_version": "1.5.0",
            "_view_name": "HTMLView",
            "description": "",
            "description_tooltip": null,
            "layout": "IPY_MODEL_185c25c406694eddb99942d3e8554b8a",
            "placeholder": "​",
            "style": "IPY_MODEL_fc75086b94b149c7b9cc9cd759338003",
            "value": "Downloading: 100%"
          }
        },
        "63c8b109eb96455b98f77633b5084547": {
          "model_module": "@jupyter-widgets/controls",
          "model_name": "FloatProgressModel",
          "model_module_version": "1.5.0",
          "state": {
            "_dom_classes": [],
            "_model_module": "@jupyter-widgets/controls",
            "_model_module_version": "1.5.0",
            "_model_name": "FloatProgressModel",
            "_view_count": null,
            "_view_module": "@jupyter-widgets/controls",
            "_view_module_version": "1.5.0",
            "_view_name": "ProgressView",
            "bar_style": "success",
            "description": "",
            "description_tooltip": null,
            "layout": "IPY_MODEL_760d02c6c07a4d9f9c2d878dc22c58a2",
            "max": 267949840,
            "min": 0,
            "orientation": "horizontal",
            "style": "IPY_MODEL_8a4105ba5bcf4f29be1536785a6638c6",
            "value": 267949840
          }
        },
        "f0bb327a58314c47bcbbe61a20a166ac": {
          "model_module": "@jupyter-widgets/controls",
          "model_name": "HTMLModel",
          "model_module_version": "1.5.0",
          "state": {
            "_dom_classes": [],
            "_model_module": "@jupyter-widgets/controls",
            "_model_module_version": "1.5.0",
            "_model_name": "HTMLModel",
            "_view_count": null,
            "_view_module": "@jupyter-widgets/controls",
            "_view_module_version": "1.5.0",
            "_view_name": "HTMLView",
            "description": "",
            "description_tooltip": null,
            "layout": "IPY_MODEL_8b429bd537834c6eb305e70d7ab88393",
            "placeholder": "​",
            "style": "IPY_MODEL_1bb97b36647c43e5b7a06d12a639fd15",
            "value": " 268M/268M [00:11&lt;00:00, 23.2MB/s]"
          }
        },
        "70f6a8ce094642bba998171529ed84cd": {
          "model_module": "@jupyter-widgets/base",
          "model_name": "LayoutModel",
          "model_module_version": "1.2.0",
          "state": {
            "_model_module": "@jupyter-widgets/base",
            "_model_module_version": "1.2.0",
            "_model_name": "LayoutModel",
            "_view_count": null,
            "_view_module": "@jupyter-widgets/base",
            "_view_module_version": "1.2.0",
            "_view_name": "LayoutView",
            "align_content": null,
            "align_items": null,
            "align_self": null,
            "border": null,
            "bottom": null,
            "display": null,
            "flex": null,
            "flex_flow": null,
            "grid_area": null,
            "grid_auto_columns": null,
            "grid_auto_flow": null,
            "grid_auto_rows": null,
            "grid_column": null,
            "grid_gap": null,
            "grid_row": null,
            "grid_template_areas": null,
            "grid_template_columns": null,
            "grid_template_rows": null,
            "height": null,
            "justify_content": null,
            "justify_items": null,
            "left": null,
            "margin": null,
            "max_height": null,
            "max_width": null,
            "min_height": null,
            "min_width": null,
            "object_fit": null,
            "object_position": null,
            "order": null,
            "overflow": null,
            "overflow_x": null,
            "overflow_y": null,
            "padding": null,
            "right": null,
            "top": null,
            "visibility": null,
            "width": null
          }
        },
        "185c25c406694eddb99942d3e8554b8a": {
          "model_module": "@jupyter-widgets/base",
          "model_name": "LayoutModel",
          "model_module_version": "1.2.0",
          "state": {
            "_model_module": "@jupyter-widgets/base",
            "_model_module_version": "1.2.0",
            "_model_name": "LayoutModel",
            "_view_count": null,
            "_view_module": "@jupyter-widgets/base",
            "_view_module_version": "1.2.0",
            "_view_name": "LayoutView",
            "align_content": null,
            "align_items": null,
            "align_self": null,
            "border": null,
            "bottom": null,
            "display": null,
            "flex": null,
            "flex_flow": null,
            "grid_area": null,
            "grid_auto_columns": null,
            "grid_auto_flow": null,
            "grid_auto_rows": null,
            "grid_column": null,
            "grid_gap": null,
            "grid_row": null,
            "grid_template_areas": null,
            "grid_template_columns": null,
            "grid_template_rows": null,
            "height": null,
            "justify_content": null,
            "justify_items": null,
            "left": null,
            "margin": null,
            "max_height": null,
            "max_width": null,
            "min_height": null,
            "min_width": null,
            "object_fit": null,
            "object_position": null,
            "order": null,
            "overflow": null,
            "overflow_x": null,
            "overflow_y": null,
            "padding": null,
            "right": null,
            "top": null,
            "visibility": null,
            "width": null
          }
        },
        "fc75086b94b149c7b9cc9cd759338003": {
          "model_module": "@jupyter-widgets/controls",
          "model_name": "DescriptionStyleModel",
          "model_module_version": "1.5.0",
          "state": {
            "_model_module": "@jupyter-widgets/controls",
            "_model_module_version": "1.5.0",
            "_model_name": "DescriptionStyleModel",
            "_view_count": null,
            "_view_module": "@jupyter-widgets/base",
            "_view_module_version": "1.2.0",
            "_view_name": "StyleView",
            "description_width": ""
          }
        },
        "760d02c6c07a4d9f9c2d878dc22c58a2": {
          "model_module": "@jupyter-widgets/base",
          "model_name": "LayoutModel",
          "model_module_version": "1.2.0",
          "state": {
            "_model_module": "@jupyter-widgets/base",
            "_model_module_version": "1.2.0",
            "_model_name": "LayoutModel",
            "_view_count": null,
            "_view_module": "@jupyter-widgets/base",
            "_view_module_version": "1.2.0",
            "_view_name": "LayoutView",
            "align_content": null,
            "align_items": null,
            "align_self": null,
            "border": null,
            "bottom": null,
            "display": null,
            "flex": null,
            "flex_flow": null,
            "grid_area": null,
            "grid_auto_columns": null,
            "grid_auto_flow": null,
            "grid_auto_rows": null,
            "grid_column": null,
            "grid_gap": null,
            "grid_row": null,
            "grid_template_areas": null,
            "grid_template_columns": null,
            "grid_template_rows": null,
            "height": null,
            "justify_content": null,
            "justify_items": null,
            "left": null,
            "margin": null,
            "max_height": null,
            "max_width": null,
            "min_height": null,
            "min_width": null,
            "object_fit": null,
            "object_position": null,
            "order": null,
            "overflow": null,
            "overflow_x": null,
            "overflow_y": null,
            "padding": null,
            "right": null,
            "top": null,
            "visibility": null,
            "width": null
          }
        },
        "8a4105ba5bcf4f29be1536785a6638c6": {
          "model_module": "@jupyter-widgets/controls",
          "model_name": "ProgressStyleModel",
          "model_module_version": "1.5.0",
          "state": {
            "_model_module": "@jupyter-widgets/controls",
            "_model_module_version": "1.5.0",
            "_model_name": "ProgressStyleModel",
            "_view_count": null,
            "_view_module": "@jupyter-widgets/base",
            "_view_module_version": "1.2.0",
            "_view_name": "StyleView",
            "bar_color": null,
            "description_width": ""
          }
        },
        "8b429bd537834c6eb305e70d7ab88393": {
          "model_module": "@jupyter-widgets/base",
          "model_name": "LayoutModel",
          "model_module_version": "1.2.0",
          "state": {
            "_model_module": "@jupyter-widgets/base",
            "_model_module_version": "1.2.0",
            "_model_name": "LayoutModel",
            "_view_count": null,
            "_view_module": "@jupyter-widgets/base",
            "_view_module_version": "1.2.0",
            "_view_name": "LayoutView",
            "align_content": null,
            "align_items": null,
            "align_self": null,
            "border": null,
            "bottom": null,
            "display": null,
            "flex": null,
            "flex_flow": null,
            "grid_area": null,
            "grid_auto_columns": null,
            "grid_auto_flow": null,
            "grid_auto_rows": null,
            "grid_column": null,
            "grid_gap": null,
            "grid_row": null,
            "grid_template_areas": null,
            "grid_template_columns": null,
            "grid_template_rows": null,
            "height": null,
            "justify_content": null,
            "justify_items": null,
            "left": null,
            "margin": null,
            "max_height": null,
            "max_width": null,
            "min_height": null,
            "min_width": null,
            "object_fit": null,
            "object_position": null,
            "order": null,
            "overflow": null,
            "overflow_x": null,
            "overflow_y": null,
            "padding": null,
            "right": null,
            "top": null,
            "visibility": null,
            "width": null
          }
        },
        "1bb97b36647c43e5b7a06d12a639fd15": {
          "model_module": "@jupyter-widgets/controls",
          "model_name": "DescriptionStyleModel",
          "model_module_version": "1.5.0",
          "state": {
            "_model_module": "@jupyter-widgets/controls",
            "_model_module_version": "1.5.0",
            "_model_name": "DescriptionStyleModel",
            "_view_count": null,
            "_view_module": "@jupyter-widgets/base",
            "_view_module_version": "1.2.0",
            "_view_name": "StyleView",
            "description_width": ""
          }
        }
      }
    }
  },
  "cells": [
    {
      "cell_type": "markdown",
      "metadata": {
        "id": "view-in-github",
        "colab_type": "text"
      },
      "source": [
        "<a href=\"https://colab.research.google.com/github/KelvinLam05/Sentiment-analysis-From-binary-to-multi-class-classification/blob/main/Sentiment_analysis_Binary_classification.ipynb\" target=\"_parent\"><img src=\"https://colab.research.google.com/assets/colab-badge.svg\" alt=\"Open In Colab\"/></a>"
      ]
    },
    {
      "cell_type": "markdown",
      "metadata": {
        "id": "QpPy-WD4wDNw"
      },
      "source": [
        "**Goal of the project**\n",
        "\n",
        "For each textual review, we want to predict if it corresponds to a good review (the customer is happy) or to a bad one (the customer is not satisfied). The reviews overall ratings can range from 1/5 to 5/5. In order to simplify the problem we will split those into two categories:\n",
        "\n",
        "* bad reviews have overall ratings <= 2\n",
        "\n",
        "* good reviews have overall ratings >= 3\n",
        "\n",
        "The challenge here is to be able to predict this information using only the raw textual data from the review."
      ]
    },
    {
      "cell_type": "markdown",
      "metadata": {
        "id": "CcOA_-vCyxBV"
      },
      "source": [
        "**Data set information**\n",
        "\n",
        "This dataset consists of a nearly 3000 Amazon customer reviews (input text), star ratings, date of review, variant and feedback of various amazon Alexa products like Alexa Echo, Echo dots, Alexa Firesticks etc."
      ]
    },
    {
      "cell_type": "code",
      "metadata": {
        "id": "eh08alQdeoWh"
      },
      "source": [
        "# Importing libraries\n",
        "import pandas as pd\n",
        "import numpy as np\n",
        "import ktrain\n",
        "import tensorflow as tf\n",
        "from ktrain import text\n",
        "from sklearn.model_selection import train_test_split"
      ],
      "execution_count": null,
      "outputs": []
    },
    {
      "cell_type": "code",
      "metadata": {
        "id": "fljcO_v8g0ip"
      },
      "source": [
        "# Load dataset\n",
        "df = pd.read_csv('/content/amazon_alexa.tsv', sep = '\\t')"
      ],
      "execution_count": null,
      "outputs": []
    },
    {
      "cell_type": "code",
      "metadata": {
        "colab": {
          "base_uri": "https://localhost:8080/",
          "height": 204
        },
        "id": "AVtx3YAucZU0",
        "outputId": "cda98470-c18d-4cb5-e6ee-c1450180b801"
      },
      "source": [
        "# Examine the data\n",
        "df.head()"
      ],
      "execution_count": null,
      "outputs": [
        {
          "output_type": "execute_result",
          "data": {
            "text/html": [
              "<div>\n",
              "<style scoped>\n",
              "    .dataframe tbody tr th:only-of-type {\n",
              "        vertical-align: middle;\n",
              "    }\n",
              "\n",
              "    .dataframe tbody tr th {\n",
              "        vertical-align: top;\n",
              "    }\n",
              "\n",
              "    .dataframe thead th {\n",
              "        text-align: right;\n",
              "    }\n",
              "</style>\n",
              "<table border=\"1\" class=\"dataframe\">\n",
              "  <thead>\n",
              "    <tr style=\"text-align: right;\">\n",
              "      <th></th>\n",
              "      <th>rating</th>\n",
              "      <th>date</th>\n",
              "      <th>variation</th>\n",
              "      <th>verified_reviews</th>\n",
              "      <th>feedback</th>\n",
              "    </tr>\n",
              "  </thead>\n",
              "  <tbody>\n",
              "    <tr>\n",
              "      <th>0</th>\n",
              "      <td>5</td>\n",
              "      <td>31-Jul-18</td>\n",
              "      <td>Charcoal Fabric</td>\n",
              "      <td>Love my Echo!</td>\n",
              "      <td>1</td>\n",
              "    </tr>\n",
              "    <tr>\n",
              "      <th>1</th>\n",
              "      <td>5</td>\n",
              "      <td>31-Jul-18</td>\n",
              "      <td>Charcoal Fabric</td>\n",
              "      <td>Loved it!</td>\n",
              "      <td>1</td>\n",
              "    </tr>\n",
              "    <tr>\n",
              "      <th>2</th>\n",
              "      <td>4</td>\n",
              "      <td>31-Jul-18</td>\n",
              "      <td>Walnut Finish</td>\n",
              "      <td>Sometimes while playing a game, you can answer...</td>\n",
              "      <td>1</td>\n",
              "    </tr>\n",
              "    <tr>\n",
              "      <th>3</th>\n",
              "      <td>5</td>\n",
              "      <td>31-Jul-18</td>\n",
              "      <td>Charcoal Fabric</td>\n",
              "      <td>I have had a lot of fun with this thing. My 4 ...</td>\n",
              "      <td>1</td>\n",
              "    </tr>\n",
              "    <tr>\n",
              "      <th>4</th>\n",
              "      <td>5</td>\n",
              "      <td>31-Jul-18</td>\n",
              "      <td>Charcoal Fabric</td>\n",
              "      <td>Music</td>\n",
              "      <td>1</td>\n",
              "    </tr>\n",
              "  </tbody>\n",
              "</table>\n",
              "</div>"
            ],
            "text/plain": [
              "   rating  ... feedback\n",
              "0       5  ...        1\n",
              "1       5  ...        1\n",
              "2       4  ...        1\n",
              "3       5  ...        1\n",
              "4       5  ...        1\n",
              "\n",
              "[5 rows x 5 columns]"
            ]
          },
          "metadata": {},
          "execution_count": 4
        }
      ]
    },
    {
      "cell_type": "code",
      "metadata": {
        "colab": {
          "base_uri": "https://localhost:8080/"
        },
        "id": "-eBzQcq5cd3y",
        "outputId": "df8c42c9-85de-4fbe-8356-975f100d5797"
      },
      "source": [
        "# Overview of all variables, their datatypes\n",
        "df.info()"
      ],
      "execution_count": null,
      "outputs": [
        {
          "output_type": "stream",
          "name": "stdout",
          "text": [
            "<class 'pandas.core.frame.DataFrame'>\n",
            "RangeIndex: 3150 entries, 0 to 3149\n",
            "Data columns (total 5 columns):\n",
            " #   Column            Non-Null Count  Dtype \n",
            "---  ------            --------------  ----- \n",
            " 0   rating            3150 non-null   int64 \n",
            " 1   date              3150 non-null   object\n",
            " 2   variation         3150 non-null   object\n",
            " 3   verified_reviews  3150 non-null   object\n",
            " 4   feedback          3150 non-null   int64 \n",
            "dtypes: int64(2), object(3)\n",
            "memory usage: 123.2+ KB\n"
          ]
        }
      ]
    },
    {
      "cell_type": "markdown",
      "metadata": {
        "id": "rtkXwGEpsTL-"
      },
      "source": [
        "**Preprocessing**"
      ]
    },
    {
      "cell_type": "code",
      "metadata": {
        "colab": {
          "base_uri": "https://localhost:8080/"
        },
        "id": "bsTF_0sVoubv",
        "outputId": "f36316fc-edf4-417e-ddfb-bb52ab81b287"
      },
      "source": [
        "# Checking for missing values\n",
        "df.isnull().sum().sort_values(ascending = False)"
      ],
      "execution_count": null,
      "outputs": [
        {
          "output_type": "execute_result",
          "data": {
            "text/plain": [
              "feedback            0\n",
              "verified_reviews    0\n",
              "variation           0\n",
              "date                0\n",
              "rating              0\n",
              "dtype: int64"
            ]
          },
          "metadata": {},
          "execution_count": 6
        }
      ]
    },
    {
      "cell_type": "code",
      "metadata": {
        "id": "g_D6cs-towmL"
      },
      "source": [
        "# Drop columns that are not needed\n",
        "df = df[['verified_reviews', 'feedback']]"
      ],
      "execution_count": null,
      "outputs": []
    },
    {
      "cell_type": "code",
      "metadata": {
        "colab": {
          "base_uri": "https://localhost:8080/"
        },
        "id": "oJ4Ek3WR_Y5A",
        "outputId": "6ed4934f-0512-432f-811e-4d4fb107169c"
      },
      "source": [
        "# Checking the distribution of classes\n",
        "df['feedback'].value_counts() "
      ],
      "execution_count": null,
      "outputs": [
        {
          "output_type": "execute_result",
          "data": {
            "text/plain": [
              "1    2893\n",
              "0     257\n",
              "Name: feedback, dtype: int64"
            ]
          },
          "metadata": {},
          "execution_count": 8
        }
      ]
    },
    {
      "cell_type": "markdown",
      "metadata": {
        "id": "ToLsGl_Q_uck"
      },
      "source": [
        "It is evident, that the dataset is imbalanced."
      ]
    },
    {
      "cell_type": "code",
      "metadata": {
        "colab": {
          "base_uri": "https://localhost:8080/",
          "height": 54
        },
        "id": "jijEMI6qu8dY",
        "outputId": "e896b990-66a4-4e60-d574-f8a41c6baa38"
      },
      "source": [
        "# Find all unique characters and symbols \n",
        "all_text = str()\n",
        "\n",
        "for sentence in df['verified_reviews'].values:\n",
        "    all_text += sentence\n",
        "    \n",
        "''.join(set(all_text))"
      ],
      "execution_count": null,
      "outputs": [
        {
          "output_type": "execute_result",
          "data": {
            "application/vnd.google.colaboratory.intrinsic+json": {
              "type": "string"
            },
            "text/plain": [
              "'😂💋😬$N=_😊FóG-#xAjqI🤓1e😔c&😄Y⭐D2lúHp]Pd*.😥iL7TR😑b“\\'U9Vé😁0😳a”+\"vñX:‼rá6🎶O;fM‘⏰Euw,❤😍WC—so ![👍’🏻Jtk%5/z️8m4😏B😉ySn3KZ()í?g🏾h\\u200bQ😎'"
            ]
          },
          "metadata": {},
          "execution_count": 9
        }
      ]
    },
    {
      "cell_type": "code",
      "metadata": {
        "id": "9mM6TMr7H4yF"
      },
      "source": [
        "import re\n",
        "import nltk\n",
        "from nltk.tokenize import word_tokenize\n",
        "from nltk.corpus import stopwords\n",
        "from nltk.stem import WordNetLemmatizer "
      ],
      "execution_count": null,
      "outputs": []
    },
    {
      "cell_type": "code",
      "metadata": {
        "colab": {
          "base_uri": "https://localhost:8080/"
        },
        "id": "RWl6xo7vJYx-",
        "outputId": "c2473e89-e48c-4cc1-ce58-4c157e6619b7"
      },
      "source": [
        "nltk.download('stopwords')\n",
        "nltk.download('punkt')\n",
        "nltk.download('wordnet')"
      ],
      "execution_count": null,
      "outputs": [
        {
          "output_type": "stream",
          "name": "stdout",
          "text": [
            "[nltk_data] Downloading package stopwords to /root/nltk_data...\n",
            "[nltk_data]   Unzipping corpora/stopwords.zip.\n",
            "[nltk_data] Downloading package punkt to /root/nltk_data...\n",
            "[nltk_data]   Unzipping tokenizers/punkt.zip.\n",
            "[nltk_data] Downloading package wordnet to /root/nltk_data...\n",
            "[nltk_data]   Unzipping corpora/wordnet.zip.\n"
          ]
        },
        {
          "output_type": "execute_result",
          "data": {
            "text/plain": [
              "True"
            ]
          },
          "metadata": {},
          "execution_count": 11
        }
      ]
    },
    {
      "cell_type": "code",
      "metadata": {
        "id": "z7yn_p-1Jl6V"
      },
      "source": [
        "stop_words = set(stopwords.words('english'))\n",
        "lemma = WordNetLemmatizer()"
      ],
      "execution_count": null,
      "outputs": []
    },
    {
      "cell_type": "code",
      "metadata": {
        "id": "Ny0Ur4mSJrSy"
      },
      "source": [
        "def clean_review(review_text):\n",
        "  \n",
        "  review_text = re.sub('[^a-zA-Z]', ' ', review_text)                        # Removing all irrelevant characters (numbers and punctuation)\n",
        "  review_text = str(review_text).lower()                                     # Convert all characters into lowercase\n",
        "  review_text = word_tokenize(review_text)                                   # Tokenization\n",
        "  review_text = [item for item in review_text if item not in stop_words]     # Removing Stopwords\n",
        "  review_text = [lemma.lemmatize(word = w, pos = 'v') for w in review_text]  # Lemmatization\n",
        "  review_text = [i for i in review_text if len(i) > 2]                       # Remove the words having length <= 2\n",
        "  review_text = ' '.join (review_text)                                       # Convert the list of tokens into back to the string\n",
        "  \n",
        "  return review_text "
      ],
      "execution_count": null,
      "outputs": []
    },
    {
      "cell_type": "code",
      "metadata": {
        "id": "slUCSLWJJviz"
      },
      "source": [
        "df['clean_review'] = df['verified_reviews'].apply(clean_review)"
      ],
      "execution_count": null,
      "outputs": []
    },
    {
      "cell_type": "code",
      "metadata": {
        "colab": {
          "base_uri": "https://localhost:8080/",
          "height": 37
        },
        "id": "iIacjkogvF73",
        "outputId": "43530a5b-1417-49a3-9823-6bdcf97e5bbe"
      },
      "source": [
        "all_text = str()\n",
        "\n",
        "for sentence in df['clean_review'].values:\n",
        "    all_text += sentence\n",
        "    \n",
        "''.join(set(all_text))"
      ],
      "execution_count": null,
      "outputs": [
        {
          "output_type": "execute_result",
          "data": {
            "application/vnd.google.colaboratory.intrinsic+json": {
              "type": "string"
            },
            "text/plain": [
              "'so lvtkpzdmrxijqybnefghcuwa'"
            ]
          },
          "metadata": {},
          "execution_count": 15
        }
      ]
    },
    {
      "cell_type": "code",
      "metadata": {
        "colab": {
          "base_uri": "https://localhost:8080/"
        },
        "id": "HrpoHTweJxU9",
        "outputId": "7f9bb43b-3a19-43ab-c5fb-4a0dac8af6a6"
      },
      "source": [
        "df['clean_review'].head()"
      ],
      "execution_count": null,
      "outputs": [
        {
          "output_type": "execute_result",
          "data": {
            "text/plain": [
              "0                                            love echo\n",
              "1                                                 love\n",
              "2    sometimes play game answer question correctly ...\n",
              "3    lot fun thing old learn dinosaurs control ligh...\n",
              "4                                                music\n",
              "Name: clean_review, dtype: object"
            ]
          },
          "metadata": {},
          "execution_count": 16
        }
      ]
    },
    {
      "cell_type": "code",
      "metadata": {
        "colab": {
          "base_uri": "https://localhost:8080/"
        },
        "id": "-KiaifoK4DBu",
        "outputId": "0a72d9c7-009a-4113-81c8-aaf098f80970"
      },
      "source": [
        "df['clean_review'].head()"
      ],
      "execution_count": null,
      "outputs": [
        {
          "output_type": "execute_result",
          "data": {
            "text/plain": [
              "0                                            love echo\n",
              "1                                                 love\n",
              "2    sometimes play game answer question correctly ...\n",
              "3    lot fun thing old learn dinosaurs control ligh...\n",
              "4                                                music\n",
              "Name: clean_review, dtype: object"
            ]
          },
          "metadata": {},
          "execution_count": 17
        }
      ]
    },
    {
      "cell_type": "code",
      "metadata": {
        "id": "JFF5AINTJ2iI"
      },
      "source": [
        "df = df[['clean_review', 'feedback']]"
      ],
      "execution_count": null,
      "outputs": []
    },
    {
      "cell_type": "markdown",
      "metadata": {
        "id": "eepI9KgvvQxo"
      },
      "source": [
        "**Split the train and test data**"
      ]
    },
    {
      "cell_type": "code",
      "metadata": {
        "id": "e0ZP6vlKvRtH"
      },
      "source": [
        "# Define features and target\n",
        "X = df['clean_review']"
      ],
      "execution_count": null,
      "outputs": []
    },
    {
      "cell_type": "code",
      "metadata": {
        "id": "QEezuXh5vk5g"
      },
      "source": [
        "y = df['feedback']"
      ],
      "execution_count": null,
      "outputs": []
    },
    {
      "cell_type": "code",
      "metadata": {
        "id": "n8ErnFvVvq0J"
      },
      "source": [
        "# Isolate X and y variables, and perform train-test split\n",
        "X_train, X_test, y_train, y_test = train_test_split(X, y, test_size = 0.2, random_state = 42, shuffle = True, stratify = y)"
      ],
      "execution_count": null,
      "outputs": []
    },
    {
      "cell_type": "markdown",
      "metadata": {
        "id": "ZruNwUbVuJUt"
      },
      "source": [
        "**Preprocess data and build a transformer model**"
      ]
    },
    {
      "cell_type": "code",
      "metadata": {
        "id": "Bx-iROVRrhT3"
      },
      "source": [
        "# Transformer model\n",
        "MODEL_NAME = 'bhadresh-savani/distilbert-base-uncased-sentiment-sst2' "
      ],
      "execution_count": null,
      "outputs": []
    },
    {
      "cell_type": "code",
      "metadata": {
        "id": "83JIjwNeu_Ut"
      },
      "source": [
        "t = text.Transformer(MODEL_NAME, maxlen = 500, class_names =  ['negative', 'positive'])"
      ],
      "execution_count": null,
      "outputs": []
    },
    {
      "cell_type": "code",
      "metadata": {
        "id": "6eNyhM5kv85K"
      },
      "source": [
        "# Convert training set into a list\n",
        "X_tr = pd.DataFrame(data = X_train, columns = ['clean_review'])\n",
        "X_tr = X_tr['clean_review'].tolist()"
      ],
      "execution_count": null,
      "outputs": []
    },
    {
      "cell_type": "code",
      "metadata": {
        "id": "l7WpkFU2wGhh"
      },
      "source": [
        "y_tr = pd.DataFrame(data = y_train, columns = ['feedback'])\n",
        "y_tr = y_tr['feedback'].tolist()"
      ],
      "execution_count": null,
      "outputs": []
    },
    {
      "cell_type": "code",
      "metadata": {
        "id": "EgLcvp-DwPV8"
      },
      "source": [
        "# Convert testing set into a list\n",
        "X_te = pd.DataFrame(data = X_test, columns = ['clean_review'])\n",
        "X_te = X_te['clean_review'].tolist()"
      ],
      "execution_count": null,
      "outputs": []
    },
    {
      "cell_type": "code",
      "metadata": {
        "id": "kTts0rv-wVv4"
      },
      "source": [
        "y_te = pd.DataFrame(data = y_test, columns = ['feedback'])\n",
        "y_te = y_te['feedback'].tolist()"
      ],
      "execution_count": null,
      "outputs": []
    },
    {
      "cell_type": "code",
      "metadata": {
        "colab": {
          "base_uri": "https://localhost:8080/",
          "height": 238
        },
        "id": "3AQfs4Lmwelk",
        "outputId": "ad5692d7-f820-462c-c35e-cf3ad1d103bc"
      },
      "source": [
        "# Preprocessing training and testing set \n",
        "trn = t.preprocess_train(X_tr, y_tr)\n",
        "val = t.preprocess_test(X_te, y_te)"
      ],
      "execution_count": null,
      "outputs": [
        {
          "output_type": "stream",
          "name": "stdout",
          "text": [
            "preprocessing train...\n",
            "language: en\n",
            "train sequence lengths:\n",
            "\tmean : 12\n",
            "\t95percentile : 41\n",
            "\t99percentile : 73\n"
          ]
        },
        {
          "output_type": "display_data",
          "data": {
            "text/html": [
              ""
            ],
            "text/plain": [
              "<IPython.core.display.HTML object>"
            ]
          },
          "metadata": {}
        },
        {
          "output_type": "stream",
          "name": "stdout",
          "text": [
            "Is Multi-Label? False\n",
            "preprocessing test...\n",
            "language: en\n",
            "test sequence lengths:\n",
            "\tmean : 12\n",
            "\t95percentile : 36\n",
            "\t99percentile : 67\n"
          ]
        },
        {
          "output_type": "display_data",
          "data": {
            "text/html": [
              ""
            ],
            "text/plain": [
              "<IPython.core.display.HTML object>"
            ]
          },
          "metadata": {}
        }
      ]
    },
    {
      "cell_type": "code",
      "metadata": {
        "id": "x94yzT_qwhWU"
      },
      "source": [
        "# Model classifier\n",
        "model = t.get_classifier()"
      ],
      "execution_count": null,
      "outputs": []
    },
    {
      "cell_type": "code",
      "metadata": {
        "id": "yh8PXx-8wkO-"
      },
      "source": [
        "# Wrap model and data in ktrain.Learner object\n",
        "learner = ktrain.get_learner(model, train_data = trn, val_data = val, batch_size = 6)"
      ],
      "execution_count": null,
      "outputs": []
    },
    {
      "cell_type": "markdown",
      "metadata": {
        "id": "SLyzkd4c0APJ"
      },
      "source": [
        "**Re-Weighting**"
      ]
    },
    {
      "cell_type": "markdown",
      "metadata": {
        "id": "gfMg1Zjoz6ki"
      },
      "source": [
        "Here our loss function is influenced by assigning relatively higher costs to examples from minority classes. We can use the re-weighting method from scikit-learn library to estimate class weights for unbalanced dataset with ‘balanced’ as a parameter which the class weights will be given by n_samples / (n_classes * np.bincount(y))."
      ]
    },
    {
      "cell_type": "code",
      "metadata": {
        "id": "IuIJaia8zDqD"
      },
      "source": [
        "from sklearn.utils import class_weight"
      ],
      "execution_count": null,
      "outputs": []
    },
    {
      "cell_type": "code",
      "metadata": {
        "id": "oe6EwCJSzAwp"
      },
      "source": [
        "class_weights = dict(zip(np.unique(y_train), class_weight.compute_class_weight('balanced', np.unique(y_train), y_train))) "
      ],
      "execution_count": null,
      "outputs": []
    },
    {
      "cell_type": "code",
      "metadata": {
        "colab": {
          "base_uri": "https://localhost:8080/"
        },
        "id": "NLm1riogzTXH",
        "outputId": "f5b1f8e8-86e2-495b-83ba-63aae9622d84"
      },
      "source": [
        "class_weights"
      ],
      "execution_count": null,
      "outputs": [
        {
          "output_type": "execute_result",
          "data": {
            "text/plain": [
              "{0: 6.116504854368932, 1: 0.5445116681071738}"
            ]
          },
          "metadata": {},
          "execution_count": 67
        }
      ]
    },
    {
      "cell_type": "markdown",
      "metadata": {
        "id": "jV6fR3NP0PFd"
      },
      "source": [
        "As you can see the lower data in the certain classes then the higher weight it gets, vice versa."
      ]
    },
    {
      "cell_type": "code",
      "metadata": {
        "colab": {
          "base_uri": "https://localhost:8080/"
        },
        "id": "eVtH8pXNcZ38",
        "outputId": "2e5f0e89-501e-4411-d09e-62ec1710f9db"
      },
      "source": [
        "# Briefly simulate training to find good learning rate\n",
        "learner.lr_find(max_epochs = 1, class_weight = class_weights) "
      ],
      "execution_count": null,
      "outputs": [
        {
          "output_type": "stream",
          "name": "stdout",
          "text": [
            "simulating training for different learning rates... this may take a few moments...\n",
            "420/420 [==============================] - 225s 509ms/step - loss: 7.3585 - accuracy: 0.7306\n",
            "\n",
            "\n",
            "done.\n",
            "Please invoke the Learner.lr_plot() method to visually inspect the loss plot to help identify the maximal learning rate associated with falling loss.\n"
          ]
        }
      ]
    },
    {
      "cell_type": "code",
      "metadata": {
        "colab": {
          "base_uri": "https://localhost:8080/",
          "height": 283
        },
        "id": "OvsCA3gPxrod",
        "outputId": "62b45072-6ebb-4f03-909b-4cb65b247f90"
      },
      "source": [
        "# Visually identify best learning rate\n",
        "learner.lr_plot()"
      ],
      "execution_count": null,
      "outputs": [
        {
          "output_type": "display_data",
          "data": {
            "image/png": "[encoded data removed]",
            "text/plain": [
              "<Figure size 432x288 with 1 Axes>"
            ]
          },
          "metadata": {
            "needs_background": "light"
          }
        }
      ]
    },
    {
      "cell_type": "markdown",
      "metadata": {
        "id": "pDQEoq3IEigx"
      },
      "source": [
        "**Train model**"
      ]
    },
    {
      "cell_type": "code",
      "metadata": {
        "colab": {
          "base_uri": "https://localhost:8080/"
        },
        "id": "keYOsGn3NFZS",
        "outputId": "dfca68e9-d1d8-4f9d-ea8c-855f10f49419"
      },
      "source": [
        "# Training using the 1cycle policy\n",
        "learner.fit_onecycle(1.3e-7, 1, class_weight = class_weights)"
      ],
      "execution_count": null,
      "outputs": [
        {
          "output_type": "stream",
          "name": "stdout",
          "text": [
            "\n",
            "\n",
            "begin training using onecycle policy with max lr of 1.3e-07...\n",
            "420/420 [==============================] - 312s 718ms/step - loss: 0.7682 - accuracy: 0.7393 - val_loss: 0.6987 - val_accuracy: 0.7746\n"
          ]
        },
        {
          "output_type": "execute_result",
          "data": {
            "text/plain": [
              "<keras.callbacks.History at 0x7f5a70d73890>"
            ]
          },
          "metadata": {},
          "execution_count": 70
        }
      ]
    },
    {
      "cell_type": "markdown",
      "metadata": {
        "id": "yogj41Q2EvZR"
      },
      "source": [
        "**Evaluate/Inspect model**"
      ]
    },
    {
      "cell_type": "code",
      "metadata": {
        "colab": {
          "base_uri": "https://localhost:8080/"
        },
        "id": "bu2BuAKWx7U3",
        "outputId": "b887dafd-153e-4c3b-fee2-a513088341c7"
      },
      "source": [
        "# Evaluate model\n",
        "learner.validate(class_names = t.get_classes())"
      ],
      "execution_count": null,
      "outputs": [
        {
          "output_type": "stream",
          "name": "stdout",
          "text": [
            "              precision    recall  f1-score   support\n",
            "\n",
            "    negative       0.24      0.80      0.37        51\n",
            "    positive       0.98      0.77      0.86       579\n",
            "\n",
            "    accuracy                           0.77       630\n",
            "   macro avg       0.61      0.79      0.61       630\n",
            "weighted avg       0.92      0.77      0.82       630\n",
            "\n"
          ]
        },
        {
          "output_type": "execute_result",
          "data": {
            "text/plain": [
              "array([[ 41,  10],\n",
              "       [132, 447]])"
            ]
          },
          "metadata": {},
          "execution_count": 71
        }
      ]
    },
    {
      "cell_type": "markdown",
      "metadata": {
        "id": "bEYhahLzF9y0"
      },
      "source": [
        "The macro-averaged F1 score we get is ~61%."
      ]
    },
    {
      "cell_type": "markdown",
      "metadata": {
        "id": "zmJgfAGaQ0Ci"
      },
      "source": [
        "**Split the train and test data**"
      ]
    },
    {
      "cell_type": "code",
      "metadata": {
        "colab": {
          "base_uri": "https://localhost:8080/"
        },
        "id": "Ho8y7WfIRA-3",
        "outputId": "867a737c-3c64-4573-e0c5-739bb748b206"
      },
      "source": [
        "df['feedback'].value_counts() "
      ],
      "execution_count": null,
      "outputs": [
        {
          "data": {
            "text/plain": [
              "1    2893\n",
              "0     257\n",
              "Name: feedback, dtype: int64"
            ]
          },
          "execution_count": 72,
          "metadata": {},
          "output_type": "execute_result"
        }
      ]
    },
    {
      "cell_type": "code",
      "metadata": {
        "id": "gyE1jUfHP_6i"
      },
      "source": [
        "# Define features and target\n",
        "X = df['clean_review']"
      ],
      "execution_count": null,
      "outputs": []
    },
    {
      "cell_type": "code",
      "metadata": {
        "id": "7AnldhNzQBtJ"
      },
      "source": [
        "y = df['feedback']"
      ],
      "execution_count": null,
      "outputs": []
    },
    {
      "cell_type": "code",
      "metadata": {
        "id": "0hxh6Hd1Qqjb"
      },
      "source": [
        "# Isolate X and y variables, and perform train-test split\n",
        "X_train, X_test, y_train, y_test = train_test_split(X, y, test_size = 0.2, random_state = 42, shuffle = True, stratify = y)"
      ],
      "execution_count": null,
      "outputs": []
    },
    {
      "cell_type": "markdown",
      "metadata": {
        "id": "SGWpdIxLGE6e"
      },
      "source": [
        "**Oversampling**"
      ]
    },
    {
      "cell_type": "markdown",
      "metadata": {
        "id": "edrDeXq8bars"
      },
      "source": [
        "Oversampling is the process that reproduce data for the minority class to match the number of observations in the majority class. "
      ]
    },
    {
      "cell_type": "code",
      "metadata": {
        "id": "G6JfP_JtBcJ4"
      },
      "source": [
        "from sklearn.utils import resample"
      ],
      "execution_count": null,
      "outputs": []
    },
    {
      "cell_type": "code",
      "metadata": {
        "id": "uDuixOB0ANkU"
      },
      "source": [
        "# Concatenate training data\n",
        "X = pd.concat([X_train, y_train], axis = 1)"
      ],
      "execution_count": null,
      "outputs": []
    },
    {
      "cell_type": "code",
      "metadata": {
        "id": "9q9V-BQkAZwE"
      },
      "source": [
        "# Define minority and majority classes\n",
        "bad_review = X[X.feedback == 0]\n",
        "good_review = X[X.feedback == 1]"
      ],
      "execution_count": null,
      "outputs": []
    },
    {
      "cell_type": "code",
      "metadata": {
        "id": "6c1dlHtMA71N"
      },
      "source": [
        "# Upsample minority class\n",
        "bad_review_upsampled = resample(bad_review,\n",
        "                          replace = True, # Sample with replacement\n",
        "                          n_samples = len(good_review), # Match number in majority class\n",
        "                          random_state = 42) # Reproducible results"
      ],
      "execution_count": null,
      "outputs": []
    },
    {
      "cell_type": "code",
      "metadata": {
        "id": "-JMTHPcnBjUY"
      },
      "source": [
        "# Combine majority and upsampled minority\n",
        "df_train_up = pd.concat([good_review, bad_review_upsampled])"
      ],
      "execution_count": null,
      "outputs": []
    },
    {
      "cell_type": "code",
      "metadata": {
        "colab": {
          "base_uri": "https://localhost:8080/"
        },
        "id": "qysmh-vlBy8R",
        "outputId": "137b03ed-61da-42cd-e0cd-53477b87d954"
      },
      "source": [
        "# Check new class counts\n",
        "df_train_up.feedback.value_counts()"
      ],
      "execution_count": null,
      "outputs": [
        {
          "data": {
            "text/plain": [
              "1    2314\n",
              "0    2314\n",
              "Name: feedback, dtype: int64"
            ]
          },
          "execution_count": 29,
          "metadata": {},
          "output_type": "execute_result"
        }
      ]
    },
    {
      "cell_type": "code",
      "metadata": {
        "id": "uTXQUcEmCRSi"
      },
      "source": [
        "# Reassign training data\n",
        "X_train = df_train_up['clean_review']"
      ],
      "execution_count": null,
      "outputs": []
    },
    {
      "cell_type": "code",
      "metadata": {
        "id": "PSrZB9ZrCMy_"
      },
      "source": [
        "y_train = df_train_up['feedback']"
      ],
      "execution_count": null,
      "outputs": []
    },
    {
      "cell_type": "markdown",
      "metadata": {
        "id": "39cPwuYgK0mA"
      },
      "source": [
        "**Preprocess data and build a transformer model**"
      ]
    },
    {
      "cell_type": "code",
      "metadata": {
        "id": "WqgJLy11Mkfo"
      },
      "source": [
        "# Transformer model\n",
        "MODEL_NAME = 'distilbert-base-uncased-finetuned-sst-2-english' "
      ],
      "execution_count": null,
      "outputs": []
    },
    {
      "cell_type": "code",
      "metadata": {
        "colab": {
          "base_uri": "https://localhost:8080/",
          "height": 49,
          "referenced_widgets": [
            "861dd6ed580445d9acbea93ea528b2e1",
            "7a9d1a9a5fca407a8ba60394c4789314",
            "7981069611a84cc3bc8d4402839769de",
            "acf0d0ba043b471b89eee5063054fb61",
            "f0d4cd11757644af849dfea3c2ad4193",
            "57f78e703abc48858086d93ef78eafee",
            "fef24966c5c34f1f884d2f2b314c4940",
            "25abdead7f9245aab82fd5ae9ec8f85c",
            "6aac9b20fb654b148357945b8924b065",
            "a94bcd277fbf4b35b9b1283a0cbfb01c",
            "d07301a266834e3abb38d492bc623300"
          ]
        },
        "id": "KojrtkSFMrOy",
        "outputId": "48383506-4443-458b-f479-a632124a3961"
      },
      "source": [
        "t = text.Transformer(MODEL_NAME, maxlen = 500, class_names =  ['negative', 'positive'])"
      ],
      "execution_count": null,
      "outputs": [
        {
          "data": {
            "application/vnd.jupyter.widget-view+json": {
              "model_id": "861dd6ed580445d9acbea93ea528b2e1",
              "version_major": 2,
              "version_minor": 0
            },
            "text/plain": [
              "Downloading:   0%|          | 0.00/629 [00:00<?, ?B/s]"
            ]
          },
          "metadata": {},
          "output_type": "display_data"
        }
      ]
    },
    {
      "cell_type": "code",
      "metadata": {
        "id": "GWNFbwD2MlMQ"
      },
      "source": [
        "# Convert training set into a list\n",
        "X_tr = pd.DataFrame(data = X_train, columns = ['clean_review'])\n",
        "X_tr = X_tr['clean_review'].tolist()"
      ],
      "execution_count": null,
      "outputs": []
    },
    {
      "cell_type": "code",
      "metadata": {
        "id": "cRC8EZrxM1d1"
      },
      "source": [
        "y_tr = pd.DataFrame(data = y_train, columns = ['feedback'])\n",
        "y_tr = y_tr['feedback'].tolist()"
      ],
      "execution_count": null,
      "outputs": []
    },
    {
      "cell_type": "code",
      "metadata": {
        "id": "ZhX9Ccx3NI-o"
      },
      "source": [
        "# Convert testing set into a list\n",
        "X_te = pd.DataFrame(data = X_test, columns = ['clean_review'])\n",
        "X_te = X_te['clean_review'].tolist()"
      ],
      "execution_count": null,
      "outputs": []
    },
    {
      "cell_type": "code",
      "metadata": {
        "id": "Dr1LLTS8NO-Q"
      },
      "source": [
        "y_te = pd.DataFrame(data = y_test, columns = ['feedback'])\n",
        "y_te = y_te['feedback'].tolist()"
      ],
      "execution_count": null,
      "outputs": []
    },
    {
      "cell_type": "code",
      "metadata": {
        "colab": {
          "base_uri": "https://localhost:8080/",
          "height": 302,
          "referenced_widgets": [
            "fa1848ffaa784b9ba0c3d1d6aca15b34",
            "1febea6d457a40459a11bb816eb3d29f",
            "d8a3987401b84fe1bb2b4cca100a0c2f",
            "2a19a748cf0043fab5b1988df1a3b580",
            "00ca0ac2b6c64fa98a86be3e3f21aa23",
            "246e8191e6a7470bae2ea2b5f4d09919",
            "c9ffc25ed3764890a8a6b84175375cdd",
            "43f978a518d94073862ba433f9c60c2e",
            "f3bbe42ab9c647d9928c7db523cce2b1",
            "7b050db1d2aa458ba57ccf8d75ab007a",
            "689b07a5d8f14483a73465c056ce0017",
            "81c784e7716048c98d2c81f198924f73",
            "f57c16e02c894866a35f58cad3a13b08",
            "df49f18898534b9e8f22b641f23330c2",
            "8eeb7fa27798402b8e1d600b18e5ca11",
            "2adea96570b8469bb6dc58e6fbe267b4",
            "a936526dfc924d94b06ccc929a121986",
            "519a0c5fe5fb437ca65865085b918904",
            "215fa60aea734b8fb041b5878b5526cd",
            "5c548e133af04da7a821aecaf7d7a38e",
            "87086579a1074f18b645adfcde11ec5d",
            "500e193fc76c4aeaaa2975bc3fee463f"
          ]
        },
        "id": "RXdX-AvMNTGt",
        "outputId": "e406ddec-2dbf-4805-8dea-f08b03be9639"
      },
      "source": [
        "# Preprocessing training and testing set \n",
        "trn = t.preprocess_train(X_tr, y_tr)\n",
        "val = t.preprocess_test(X_te, y_te)"
      ],
      "execution_count": null,
      "outputs": [
        {
          "name": "stdout",
          "output_type": "stream",
          "text": [
            "preprocessing train...\n",
            "language: en\n",
            "train sequence lengths:\n",
            "\tmean : 16\n",
            "\t95percentile : 56\n",
            "\t99percentile : 84\n"
          ]
        },
        {
          "data": {
            "application/vnd.jupyter.widget-view+json": {
              "model_id": "fa1848ffaa784b9ba0c3d1d6aca15b34",
              "version_major": 2,
              "version_minor": 0
            },
            "text/plain": [
              "Downloading:   0%|          | 0.00/232k [00:00<?, ?B/s]"
            ]
          },
          "metadata": {},
          "output_type": "display_data"
        },
        {
          "data": {
            "application/vnd.jupyter.widget-view+json": {
              "model_id": "81c784e7716048c98d2c81f198924f73",
              "version_major": 2,
              "version_minor": 0
            },
            "text/plain": [
              "Downloading:   0%|          | 0.00/48.0 [00:00<?, ?B/s]"
            ]
          },
          "metadata": {},
          "output_type": "display_data"
        },
        {
          "data": {
            "text/html": [
              ""
            ],
            "text/plain": [
              "<IPython.core.display.HTML object>"
            ]
          },
          "metadata": {},
          "output_type": "display_data"
        },
        {
          "name": "stdout",
          "output_type": "stream",
          "text": [
            "Is Multi-Label? False\n",
            "preprocessing test...\n",
            "language: en\n",
            "test sequence lengths:\n",
            "\tmean : 12\n",
            "\t95percentile : 36\n",
            "\t99percentile : 67\n"
          ]
        },
        {
          "data": {
            "text/html": [
              ""
            ],
            "text/plain": [
              "<IPython.core.display.HTML object>"
            ]
          },
          "metadata": {},
          "output_type": "display_data"
        }
      ]
    },
    {
      "cell_type": "code",
      "metadata": {
        "colab": {
          "base_uri": "https://localhost:8080/",
          "height": 49,
          "referenced_widgets": [
            "383b4f4c7d1a4a6192e80e12fd0e8b04",
            "089c1a1f3515453ab2b25c2ead4636b4",
            "63c8b109eb96455b98f77633b5084547",
            "f0bb327a58314c47bcbbe61a20a166ac",
            "70f6a8ce094642bba998171529ed84cd",
            "185c25c406694eddb99942d3e8554b8a",
            "fc75086b94b149c7b9cc9cd759338003",
            "760d02c6c07a4d9f9c2d878dc22c58a2",
            "8a4105ba5bcf4f29be1536785a6638c6",
            "8b429bd537834c6eb305e70d7ab88393",
            "1bb97b36647c43e5b7a06d12a639fd15"
          ]
        },
        "id": "Ph-ipxTmNXTT",
        "outputId": "cf10b8a4-21b1-4925-faba-737ba53715de"
      },
      "source": [
        "# Model classifier\n",
        "model = t.get_classifier()"
      ],
      "execution_count": null,
      "outputs": [
        {
          "data": {
            "application/vnd.jupyter.widget-view+json": {
              "model_id": "383b4f4c7d1a4a6192e80e12fd0e8b04",
              "version_major": 2,
              "version_minor": 0
            },
            "text/plain": [
              "Downloading:   0%|          | 0.00/268M [00:00<?, ?B/s]"
            ]
          },
          "metadata": {},
          "output_type": "display_data"
        }
      ]
    },
    {
      "cell_type": "code",
      "metadata": {
        "id": "lHVmCuv2Nbv1"
      },
      "source": [
        "# Wrap model and data in ktrain.Learner object\n",
        "learner = ktrain.get_learner(model, train_data = trn, val_data = val, batch_size = 6)"
      ],
      "execution_count": null,
      "outputs": []
    },
    {
      "cell_type": "markdown",
      "metadata": {
        "id": "43EXqJQDNgbE"
      },
      "source": [
        "**Estimate a good learning rate**"
      ]
    },
    {
      "cell_type": "code",
      "metadata": {
        "colab": {
          "base_uri": "https://localhost:8080/"
        },
        "id": "pOdAls2ANrTi",
        "outputId": "dadcb4b3-fec0-4f60-db6b-9eb7c85aff43"
      },
      "source": [
        "# Briefly simulate training to find good learning rate\n",
        "learner.lr_find(max_epochs = 1) "
      ],
      "execution_count": null,
      "outputs": [
        {
          "name": "stdout",
          "output_type": "stream",
          "text": [
            "simulating training for different learning rates... this may take a few moments...\n",
            "771/771 [==============================] - 481s 606ms/step - loss: 266.4531 - accuracy: 0.6655\n",
            "\n",
            "\n",
            "done.\n",
            "Please invoke the Learner.lr_plot() method to visually inspect the loss plot to help identify the maximal learning rate associated with falling loss.\n"
          ]
        }
      ]
    },
    {
      "cell_type": "code",
      "metadata": {
        "colab": {
          "base_uri": "https://localhost:8080/",
          "height": 283
        },
        "id": "Bx7LAyIiNsaH",
        "outputId": "5327b922-d339-420f-c2e7-e96addf8d153"
      },
      "source": [
        "# Visually identify best learning rate\n",
        "learner.lr_plot()"
      ],
      "execution_count": null,
      "outputs": [
        {
          "data": {
            "image/png": "[encoded data removed]",
            "text/plain": [
              "<Figure size 432x288 with 1 Axes>"
            ]
          },
          "metadata": {},
          "output_type": "display_data"
        }
      ]
    },
    {
      "cell_type": "markdown",
      "metadata": {
        "id": "vFoLTQulNzR-"
      },
      "source": [
        "**Train model**"
      ]
    },
    {
      "cell_type": "code",
      "metadata": {
        "colab": {
          "base_uri": "https://localhost:8080/"
        },
        "id": "4_XauG5wN5tZ",
        "outputId": "43d712a2-4209-43d1-b776-5fe940fbb3f0"
      },
      "source": [
        "# Training using the 1cycle policy\n",
        "learner.fit_onecycle(5.5e-3, 1)"
      ],
      "execution_count": null,
      "outputs": [
        {
          "name": "stdout",
          "output_type": "stream",
          "text": [
            "\n",
            "\n",
            "begin training using onecycle policy with max lr of 0.0055...\n",
            "772/772 [==============================] - 525s 666ms/step - loss: 0.7110 - accuracy: 0.4981 - val_loss: 0.6870 - val_accuracy: 0.9190\n"
          ]
        },
        {
          "data": {
            "text/plain": [
              "<keras.callbacks.History at 0x7f3eb0a1cf50>"
            ]
          },
          "execution_count": 44,
          "metadata": {},
          "output_type": "execute_result"
        }
      ]
    },
    {
      "cell_type": "markdown",
      "metadata": {
        "id": "oSaErdrSODqF"
      },
      "source": [
        "**Evaluate/Inspect model**"
      ]
    },
    {
      "cell_type": "code",
      "metadata": {
        "colab": {
          "base_uri": "https://localhost:8080/"
        },
        "id": "Bvaos01XOKvK",
        "outputId": "7f63bfa3-0652-4dbc-9ce0-c0854b6696f1"
      },
      "source": [
        "# Evaluate model\n",
        "learner.validate(class_names = t.get_classes())"
      ],
      "execution_count": null,
      "outputs": [
        {
          "name": "stdout",
          "output_type": "stream",
          "text": [
            "              precision    recall  f1-score   support\n",
            "\n",
            "    negative       0.00      0.00      0.00        51\n",
            "    positive       0.92      1.00      0.96       579\n",
            "\n",
            "    accuracy                           0.92       630\n",
            "   macro avg       0.46      0.50      0.48       630\n",
            "weighted avg       0.84      0.92      0.88       630\n",
            "\n"
          ]
        },
        {
          "name": "stderr",
          "output_type": "stream",
          "text": [
            "/usr/local/lib/python3.7/dist-packages/sklearn/metrics/_classification.py:1221: UndefinedMetricWarning: Precision and F-score are ill-defined and being set to 0.0 in labels with no predicted samples. Use `zero_division` parameter to control this behavior.\n",
            "  _warn_prf(average, modifier, msg_start, len(result))\n"
          ]
        },
        {
          "data": {
            "text/plain": [
              "array([[  0,  51],\n",
              "       [  0, 579]])"
            ]
          },
          "execution_count": 45,
          "metadata": {},
          "output_type": "execute_result"
        }
      ]
    },
    {
      "cell_type": "markdown",
      "metadata": {
        "id": "A1KNdiZJF2ZK"
      },
      "source": [
        "The macro-averaged F1 score we get is ~48%."
      ]
    },
    {
      "cell_type": "markdown",
      "metadata": {
        "id": "7i5DN4r4ONMI"
      },
      "source": [
        "**Split the train and test data**"
      ]
    },
    {
      "cell_type": "code",
      "metadata": {
        "colab": {
          "base_uri": "https://localhost:8080/"
        },
        "id": "EtM2q3WNHLEE",
        "outputId": "a8f464d3-ac84-46e8-9963-8c2fa360694e"
      },
      "source": [
        "df['feedback'].value_counts() "
      ],
      "execution_count": null,
      "outputs": [
        {
          "data": {
            "text/plain": [
              "1    2893\n",
              "0     257\n",
              "Name: feedback, dtype: int64"
            ]
          },
          "execution_count": 76,
          "metadata": {},
          "output_type": "execute_result"
        }
      ]
    },
    {
      "cell_type": "code",
      "metadata": {
        "id": "QqncKDI-KUKV"
      },
      "source": [
        "X = df['clean_review']"
      ],
      "execution_count": null,
      "outputs": []
    },
    {
      "cell_type": "code",
      "metadata": {
        "id": "XNe_wUt_KdAI"
      },
      "source": [
        "y = df['feedback']"
      ],
      "execution_count": null,
      "outputs": []
    },
    {
      "cell_type": "code",
      "metadata": {
        "id": "TzM8S5sMKjio"
      },
      "source": [
        "# Isolate X and y variables, and perform train-test split\n",
        "X_train, X_test, y_train, y_test = train_test_split(X, y, test_size = 0.2, random_state = 42, shuffle = True, stratify = y)"
      ],
      "execution_count": null,
      "outputs": []
    },
    {
      "cell_type": "markdown",
      "metadata": {
        "id": "W25YEwvzVOC1"
      },
      "source": [
        "**Undersampling**"
      ]
    },
    {
      "cell_type": "markdown",
      "metadata": {
        "id": "HhpJztzibh4P"
      },
      "source": [
        "Undersampling is the process where you randomly delete some of the observations from the majority class in order to match the numbers with the minority class."
      ]
    },
    {
      "cell_type": "code",
      "metadata": {
        "id": "I-sUhlLYVfOl"
      },
      "source": [
        "from sklearn.utils import resample"
      ],
      "execution_count": null,
      "outputs": []
    },
    {
      "cell_type": "code",
      "metadata": {
        "id": "aGV49HNZVh3p"
      },
      "source": [
        "# Concatenate training data\n",
        "X = pd.concat([X_train, y_train], axis = 1)"
      ],
      "execution_count": null,
      "outputs": []
    },
    {
      "cell_type": "code",
      "metadata": {
        "id": "qSv8IzZtV6mc"
      },
      "source": [
        "# Define minority and majority classes\n",
        "bad_review = X[X.feedback == 0]\n",
        "good_review = X[X.feedback == 1]"
      ],
      "execution_count": null,
      "outputs": []
    },
    {
      "cell_type": "code",
      "metadata": {
        "id": "fZxa-7SjWBNK"
      },
      "source": [
        "# Downsample majority class\n",
        "good_review_downsampled = resample(good_review,\n",
        "                          replace = False, # Sample with replacement\n",
        "                          n_samples = len(bad_review), # Match number in minority class\n",
        "                          random_state = 42) # Reproducible results"
      ],
      "execution_count": null,
      "outputs": []
    },
    {
      "cell_type": "code",
      "metadata": {
        "id": "HNcCzm1mXERs"
      },
      "source": [
        "# Combine minority and downsampled majority\n",
        "df_train_down = pd.concat([bad_review, good_review_downsampled])"
      ],
      "execution_count": null,
      "outputs": []
    },
    {
      "cell_type": "code",
      "metadata": {
        "colab": {
          "base_uri": "https://localhost:8080/"
        },
        "id": "ci3TDtxBXzes",
        "outputId": "58b6d4f6-600c-4bd4-9a62-a7c5853263ce"
      },
      "source": [
        "# Check new class counts\n",
        "df_train_down.feedback.value_counts()"
      ],
      "execution_count": null,
      "outputs": [
        {
          "data": {
            "text/plain": [
              "1    206\n",
              "0    206\n",
              "Name: feedback, dtype: int64"
            ]
          },
          "execution_count": 86,
          "metadata": {},
          "output_type": "execute_result"
        }
      ]
    },
    {
      "cell_type": "code",
      "metadata": {
        "id": "cfajf5pSX7SX"
      },
      "source": [
        "# Reassign training data\n",
        "X_train = df_train_down['clean_review']"
      ],
      "execution_count": null,
      "outputs": []
    },
    {
      "cell_type": "code",
      "metadata": {
        "id": "b-zvkZBYX97z"
      },
      "source": [
        "y_train = df_train_down['feedback']"
      ],
      "execution_count": null,
      "outputs": []
    },
    {
      "cell_type": "markdown",
      "metadata": {
        "id": "FbljpuJLKpzI"
      },
      "source": [
        "**Preprocess data and build a transformer model**"
      ]
    },
    {
      "cell_type": "code",
      "metadata": {
        "id": "K7yC9fnuJFE7"
      },
      "source": [
        "# Transformer model\n",
        "MODEL_NAME = 'distilbert-base-uncased-finetuned-sst-2-english' "
      ],
      "execution_count": null,
      "outputs": []
    },
    {
      "cell_type": "code",
      "metadata": {
        "id": "kE9T77vhJvtr"
      },
      "source": [
        "t = text.Transformer(MODEL_NAME, maxlen = 500, class_names =  ['negative', 'positive'])"
      ],
      "execution_count": null,
      "outputs": []
    },
    {
      "cell_type": "code",
      "metadata": {
        "id": "jf4_-EbtKE6N"
      },
      "source": [
        "# Convert training set into a list\n",
        "X_tr = pd.DataFrame(data = X_train, columns = ['clean_review'])\n",
        "X_tr = X_tr['clean_review'].tolist()"
      ],
      "execution_count": null,
      "outputs": []
    },
    {
      "cell_type": "code",
      "metadata": {
        "id": "4vO7I0jZLJke"
      },
      "source": [
        "y_tr = pd.DataFrame(data = y_train, columns = ['feedback'])\n",
        "y_tr = y_tr['feedback'].tolist()"
      ],
      "execution_count": null,
      "outputs": []
    },
    {
      "cell_type": "code",
      "metadata": {
        "id": "_pea_YUBLNPc"
      },
      "source": [
        "# Convert testing set into a list\n",
        "X_te = pd.DataFrame(data = X_test, columns = ['clean_review'])\n",
        "X_te = X_te['clean_review'].tolist()"
      ],
      "execution_count": null,
      "outputs": []
    },
    {
      "cell_type": "code",
      "metadata": {
        "id": "rU1jKzEVLQxh"
      },
      "source": [
        "y_te = pd.DataFrame(data = y_test, columns = ['feedback'])\n",
        "y_te = y_te['feedback'].tolist()"
      ],
      "execution_count": null,
      "outputs": []
    },
    {
      "cell_type": "code",
      "metadata": {
        "colab": {
          "base_uri": "https://localhost:8080/",
          "height": 238
        },
        "id": "1jp-k9lLLU2A",
        "outputId": "fd5bd20b-6a52-47a7-8178-6b84514b678d"
      },
      "source": [
        "# Preprocessing training and testing set \n",
        "trn = t.preprocess_train(X_tr, y_tr)\n",
        "val = t.preprocess_test(X_te, y_te)"
      ],
      "execution_count": null,
      "outputs": [
        {
          "name": "stdout",
          "output_type": "stream",
          "text": [
            "preprocessing train...\n",
            "language: en\n",
            "train sequence lengths:\n",
            "\tmean : 16\n",
            "\t95percentile : 60\n",
            "\t99percentile : 88\n"
          ]
        },
        {
          "data": {
            "text/html": [
              ""
            ],
            "text/plain": [
              "<IPython.core.display.HTML object>"
            ]
          },
          "metadata": {},
          "output_type": "display_data"
        },
        {
          "name": "stdout",
          "output_type": "stream",
          "text": [
            "Is Multi-Label? False\n",
            "preprocessing test...\n",
            "language: en\n",
            "test sequence lengths:\n",
            "\tmean : 12\n",
            "\t95percentile : 36\n",
            "\t99percentile : 67\n"
          ]
        },
        {
          "data": {
            "text/html": [
              ""
            ],
            "text/plain": [
              "<IPython.core.display.HTML object>"
            ]
          },
          "metadata": {},
          "output_type": "display_data"
        }
      ]
    },
    {
      "cell_type": "code",
      "metadata": {
        "id": "KGrI0VxWLYxM"
      },
      "source": [
        "# Model classifier\n",
        "model = t.get_classifier()"
      ],
      "execution_count": null,
      "outputs": []
    },
    {
      "cell_type": "code",
      "metadata": {
        "id": "TtTiCJVEO2jT"
      },
      "source": [
        "# Wrap model and data in ktrain.Learner object\n",
        "learner = ktrain.get_learner(model, train_data = trn, val_data = val, batch_size = 6)"
      ],
      "execution_count": null,
      "outputs": []
    },
    {
      "cell_type": "markdown",
      "metadata": {
        "id": "IwzA9YkQYs3D"
      },
      "source": [
        "**Estimate a good learning rate**"
      ]
    },
    {
      "cell_type": "code",
      "metadata": {
        "colab": {
          "base_uri": "https://localhost:8080/"
        },
        "id": "yJpm8uWf28-g",
        "outputId": "3115964e-c6e5-4be4-86aa-a24ae7908efb"
      },
      "source": [
        "# Briefly simulate training to find good learning rate\n",
        "learner.lr_find(max_epochs = 1) "
      ],
      "execution_count": null,
      "outputs": [
        {
          "name": "stdout",
          "output_type": "stream",
          "text": [
            "simulating training for different learning rates... this may take a few moments...\n",
            "68/68 [==============================] - 48s 544ms/step - loss: 8.8480 - accuracy: 0.6930\n",
            "\n",
            "\n",
            "done.\n",
            "Please invoke the Learner.lr_plot() method to visually inspect the loss plot to help identify the maximal learning rate associated with falling loss.\n"
          ]
        }
      ]
    },
    {
      "cell_type": "code",
      "metadata": {
        "colab": {
          "base_uri": "https://localhost:8080/",
          "height": 285
        },
        "id": "O3iAYKjbZwav",
        "outputId": "9ec2d64a-2c78-4f9e-8c61-ca3c5d2f9f0e"
      },
      "source": [
        "# Visually identify best learning rate\n",
        "learner.lr_plot()"
      ],
      "execution_count": null,
      "outputs": [
        {
          "data": {
            "image/png": "[encoded data removed]",
            "text/plain": [
              "<Figure size 432x288 with 1 Axes>"
            ]
          },
          "metadata": {},
          "output_type": "display_data"
        }
      ]
    },
    {
      "cell_type": "markdown",
      "metadata": {
        "id": "8HOioQbdY1h6"
      },
      "source": [
        "**Train model**"
      ]
    },
    {
      "cell_type": "code",
      "metadata": {
        "colab": {
          "base_uri": "https://localhost:8080/"
        },
        "id": "6meG9TrCaEMN",
        "outputId": "2386fa86-012c-46c6-c11b-a9ae2cc6e21c"
      },
      "source": [
        "# Training using the 1cycle policy\n",
        "learner.fit_onecycle(1.3e-6, 1)"
      ],
      "execution_count": null,
      "outputs": [
        {
          "name": "stdout",
          "output_type": "stream",
          "text": [
            "\n",
            "\n",
            "begin training using onecycle policy with max lr of 1.3e-06...\n",
            "69/69 [==============================] - 66s 809ms/step - loss: 0.9046 - accuracy: 0.7549 - val_loss: 0.8382 - val_accuracy: 0.7667\n"
          ]
        },
        {
          "data": {
            "text/plain": [
              "<keras.callbacks.History at 0x7f3ea92c8f50>"
            ]
          },
          "execution_count": 100,
          "metadata": {},
          "output_type": "execute_result"
        }
      ]
    },
    {
      "cell_type": "markdown",
      "metadata": {
        "id": "_4ZHNfZnY8P0"
      },
      "source": [
        "**Evaluate/Inspect model**"
      ]
    },
    {
      "cell_type": "code",
      "metadata": {
        "colab": {
          "base_uri": "https://localhost:8080/"
        },
        "id": "KnLxB6M2apPf",
        "outputId": "9a13a40f-1db9-4f83-f35c-dbf04323c3f1"
      },
      "source": [
        "# Evaluate model\n",
        "learner.validate(class_names = t.get_classes())"
      ],
      "execution_count": null,
      "outputs": [
        {
          "name": "stdout",
          "output_type": "stream",
          "text": [
            "              precision    recall  f1-score   support\n",
            "\n",
            "    negative       0.23      0.78      0.35        51\n",
            "    positive       0.98      0.77      0.86       579\n",
            "\n",
            "    accuracy                           0.77       630\n",
            "   macro avg       0.60      0.77      0.61       630\n",
            "weighted avg       0.92      0.77      0.82       630\n",
            "\n"
          ]
        },
        {
          "data": {
            "text/plain": [
              "array([[ 40,  11],\n",
              "       [136, 443]])"
            ]
          },
          "execution_count": 101,
          "metadata": {},
          "output_type": "execute_result"
        }
      ]
    },
    {
      "cell_type": "markdown",
      "metadata": {
        "id": "7fw2Z7RlFZJP"
      },
      "source": [
        "The macro-averaged F1 score we get is ~61%."
      ]
    },
    {
      "cell_type": "markdown",
      "metadata": {
        "id": "pj9yG5l3pfEL"
      },
      "source": [
        "**Running ML algorithms**"
      ]
    },
    {
      "cell_type": "markdown",
      "metadata": {
        "id": "_SbbeDu6ptm0"
      },
      "source": [
        "The Naive Bayes classifier is a simple classifier that classifies based on probabilities of events. It is the applied commonly to text classification. Though it is a simple algorithm, it performs well in many text classification problems."
      ]
    },
    {
      "cell_type": "markdown",
      "metadata": {
        "id": "QQ-glM5a8-3n"
      },
      "source": [
        "**Split the train and test data**"
      ]
    },
    {
      "cell_type": "code",
      "metadata": {
        "colab": {
          "base_uri": "https://localhost:8080/"
        },
        "id": "6tOAQ8BwV2C1",
        "outputId": "fb2d16bd-6c8a-4682-c77c-208cb9e9e361"
      },
      "source": [
        "df['feedback'].value_counts() "
      ],
      "execution_count": null,
      "outputs": [
        {
          "output_type": "execute_result",
          "data": {
            "text/plain": [
              "1    2893\n",
              "0     257\n",
              "Name: feedback, dtype: int64"
            ]
          },
          "metadata": {},
          "execution_count": 29
        }
      ]
    },
    {
      "cell_type": "code",
      "metadata": {
        "id": "GBJqPL5xWSO3"
      },
      "source": [
        "X = df['clean_review']"
      ],
      "execution_count": null,
      "outputs": []
    },
    {
      "cell_type": "code",
      "metadata": {
        "id": "tjord4-hWbmT"
      },
      "source": [
        "y = df['feedback']"
      ],
      "execution_count": null,
      "outputs": []
    },
    {
      "cell_type": "code",
      "metadata": {
        "id": "a1I3AuW5sKTo"
      },
      "source": [
        "# Isolate X and y variables, and perform train-test split\n",
        "X_train, X_test, y_train, y_test = train_test_split(X, y, test_size = 0.2, random_state = 42, shuffle = True, stratify = y)"
      ],
      "execution_count": null,
      "outputs": []
    },
    {
      "cell_type": "code",
      "metadata": {
        "id": "TsYtAJk4wqrc"
      },
      "source": [
        "import six\n",
        "import sys\n",
        "sys.modules['sklearn.externals.six'] = six\n",
        "import mlrose_hiive"
      ],
      "execution_count": null,
      "outputs": []
    },
    {
      "cell_type": "code",
      "metadata": {
        "id": "g51tL1QelBhM"
      },
      "source": [
        "from imblearn.pipeline import Pipeline\n",
        "from sklearn.naive_bayes import BernoulliNB\n",
        "from sklearn.feature_extraction.text import CountVectorizer, TfidfTransformer"
      ],
      "execution_count": null,
      "outputs": []
    },
    {
      "cell_type": "code",
      "metadata": {
        "id": "qEX2djG6L-Nv"
      },
      "source": [
        "import optuna"
      ],
      "execution_count": null,
      "outputs": []
    },
    {
      "cell_type": "markdown",
      "metadata": {
        "id": "O7CP_yqQoPaq"
      },
      "source": [
        "**Extracting features from text files**"
      ]
    },
    {
      "cell_type": "markdown",
      "metadata": {
        "id": "dIXeZY-Xof1g"
      },
      "source": [
        "Text files are actually series of words (ordered). In order to run machine learning algorithms we need to convert the text files into numerical feature vectors. We will be using bag of words model for our example. Briefly, we segment each text file into words (for English splitting by space), and count # of times each word occurs in each document and finally assign each word an integer id. Each unique word in our dictionary will correspond to a feature (descriptive feature)."
      ]
    },
    {
      "cell_type": "markdown",
      "metadata": {
        "id": "MREpaLtnpAQg"
      },
      "source": [
        "**TF:** Just counting the number of words in each document has 1 issue: it will give more weightage to longer documents than shorter documents. To avoid this, we can use frequency (TF - Term Frequencies) i.e. #count(word) / #Total words, in each document.\n",
        "\n",
        "**TF-IDF:** Finally, we can even reduce the weightage of more common words like (the, is, an etc.) which occurs in all document. This is called as TF-IDF i.e Term Frequency times inverse document frequency."
      ]
    },
    {
      "cell_type": "markdown",
      "metadata": {
        "id": "wV0hg4nBXHQz"
      },
      "source": [
        "**Baseline**"
      ]
    },
    {
      "cell_type": "markdown",
      "metadata": {
        "id": "fAu6oMSBqKNx"
      },
      "source": [
        "**Building a pipeline:** We can write less code and do all of the above, by building a pipeline as follows:"
      ]
    },
    {
      "cell_type": "code",
      "metadata": {
        "id": "ujFfZjvffgkz"
      },
      "source": [
        "text_clf = Pipeline([('vect', CountVectorizer(ngram_range = (1, 2))),\n",
        "                     ('tfidf', TfidfTransformer()),\n",
        "                     ('clf', BernoulliNB(binarize = None))])"
      ],
      "execution_count": null,
      "outputs": []
    },
    {
      "cell_type": "markdown",
      "metadata": {
        "id": "l2IPqkwZrUUD"
      },
      "source": [
        "**Optuna**"
      ]
    },
    {
      "cell_type": "markdown",
      "metadata": {
        "id": "G4lKCSzfqrr1"
      },
      "source": [
        "Almost all the classifiers will have various parameters which can be tuned to obtain optimal performance. Optuna gives an extremely useful tool 'Optuna'."
      ]
    },
    {
      "cell_type": "code",
      "metadata": {
        "id": "AqZ3Xqrittx_"
      },
      "source": [
        "from sklearn.model_selection import cross_val_score"
      ],
      "execution_count": null,
      "outputs": []
    },
    {
      "cell_type": "code",
      "metadata": {
        "id": "HLXdUH5Uf8vm"
      },
      "source": [
        "def objective(trial):\n",
        "\n",
        "  params = {\n",
        "    'vect__max_df': trial.suggest_uniform('vect__max_df', 0.0, 1.0),\n",
        "    'vect__max_features' : trial.suggest_int('vect__max_features', 0, 50000),\n",
        "    'tfidf__use_idf': trial.suggest_categorical('tfidf__use_idf', [True, False]),  \n",
        "    'clf__fit_prior': trial.suggest_categorical('clf__fit_prior', [True, False]),\n",
        "    'clf__alpha': trial.suggest_uniform('clf__alpha', 1e-25, 1)\n",
        "  }\n",
        "\n",
        "  text_clf.set_params(**params)\n",
        "\n",
        "  scores = (cross_val_score(text_clf, X, y, cv = 10, scoring = 'f1_macro'))\n",
        "  \n",
        "  return scores.mean()  "
      ],
      "execution_count": null,
      "outputs": []
    },
    {
      "cell_type": "code",
      "metadata": {
        "colab": {
          "base_uri": "https://localhost:8080/"
        },
        "id": "nSY-W8YGTlml",
        "outputId": "915b19de-3b5e-46c5-acc2-320e33d0fccc"
      },
      "source": [
        "# Create Study object\n",
        "study = optuna.create_study(direction = 'maximize')\n",
        "\n",
        "# Optimize the study, use more trials to obtain better result, use less trials to be more cost-efficient\n",
        "study.optimize(objective, n_trials = 200)"
      ],
      "execution_count": null,
      "outputs": [
        {
          "output_type": "stream",
          "name": "stderr",
          "text": [
            "\u001b[32m[I 2021-10-18 15:13:36,901]\u001b[0m A new study created in memory with name: no-name-ad9acfea-2698-4111-8461-9b49d80a7439\u001b[0m\n",
            "\u001b[32m[I 2021-10-18 15:13:38,363]\u001b[0m Trial 0 finished with value: 0.8089464737021812 and parameters: {'vect__max_df': 0.15703017107424988, 'vect__max_features': 19837, 'tfidf__use_idf': True, 'clf__fit_prior': True, 'clf__alpha': 0.8628089639101039}. Best is trial 0 with value: 0.8089464737021812.\u001b[0m\n",
            "\u001b[32m[I 2021-10-18 15:13:39,790]\u001b[0m Trial 1 finished with value: 0.7829285683613845 and parameters: {'vect__max_df': 0.8600931248875916, 'vect__max_features': 35445, 'tfidf__use_idf': False, 'clf__fit_prior': False, 'clf__alpha': 0.04756958044023163}. Best is trial 0 with value: 0.8089464737021812.\u001b[0m\n",
            "\u001b[32m[I 2021-10-18 15:13:41,241]\u001b[0m Trial 2 finished with value: 0.7859229213308487 and parameters: {'vect__max_df': 0.1507330419737043, 'vect__max_features': 18704, 'tfidf__use_idf': False, 'clf__fit_prior': True, 'clf__alpha': 0.10486656380439485}. Best is trial 0 with value: 0.8089464737021812.\u001b[0m\n",
            "\u001b[32m[I 2021-10-18 15:13:42,643]\u001b[0m Trial 3 finished with value: 0.7978598088927629 and parameters: {'vect__max_df': 0.3713122296717122, 'vect__max_features': 13445, 'tfidf__use_idf': False, 'clf__fit_prior': True, 'clf__alpha': 0.6244780760558032}. Best is trial 0 with value: 0.8089464737021812.\u001b[0m\n",
            "\u001b[32m[I 2021-10-18 15:13:44,083]\u001b[0m Trial 4 finished with value: 0.8091568814942354 and parameters: {'vect__max_df': 0.7951721250831986, 'vect__max_features': 24054, 'tfidf__use_idf': True, 'clf__fit_prior': True, 'clf__alpha': 0.8663137557115259}. Best is trial 4 with value: 0.8091568814942354.\u001b[0m\n",
            "\u001b[32m[I 2021-10-18 15:13:45,489]\u001b[0m Trial 5 finished with value: 0.8052436423193171 and parameters: {'vect__max_df': 0.966377225120167, 'vect__max_features': 39823, 'tfidf__use_idf': False, 'clf__fit_prior': True, 'clf__alpha': 0.393470208247119}. Best is trial 4 with value: 0.8091568814942354.\u001b[0m\n",
            "\u001b[32m[I 2021-10-18 15:13:46,973]\u001b[0m Trial 6 finished with value: 0.8098266535604589 and parameters: {'vect__max_df': 0.630112832492251, 'vect__max_features': 41787, 'tfidf__use_idf': True, 'clf__fit_prior': True, 'clf__alpha': 0.8855279146784286}. Best is trial 6 with value: 0.8098266535604589.\u001b[0m\n",
            "\u001b[32m[I 2021-10-18 15:13:48,383]\u001b[0m Trial 7 finished with value: 0.8020483544216205 and parameters: {'vect__max_df': 0.6618714800258728, 'vect__max_features': 13559, 'tfidf__use_idf': False, 'clf__fit_prior': True, 'clf__alpha': 0.3002611413635742}. Best is trial 6 with value: 0.8098266535604589.\u001b[0m\n",
            "\u001b[32m[I 2021-10-18 15:13:49,789]\u001b[0m Trial 8 finished with value: 0.812722634272453 and parameters: {'vect__max_df': 0.7714258871576716, 'vect__max_features': 37261, 'tfidf__use_idf': False, 'clf__fit_prior': False, 'clf__alpha': 0.8258877200022932}. Best is trial 8 with value: 0.812722634272453.\u001b[0m\n",
            "\u001b[32m[I 2021-10-18 15:13:51,195]\u001b[0m Trial 9 finished with value: 0.7789404801355395 and parameters: {'vect__max_df': 0.7087827680053844, 'vect__max_features': 6918, 'tfidf__use_idf': True, 'clf__fit_prior': True, 'clf__alpha': 0.3040507737899769}. Best is trial 8 with value: 0.812722634272453.\u001b[0m\n",
            "\u001b[32m[I 2021-10-18 15:13:52,585]\u001b[0m Trial 10 finished with value: 0.8069931319752403 and parameters: {'vect__max_df': 0.476420867898815, 'vect__max_features': 48898, 'tfidf__use_idf': False, 'clf__fit_prior': False, 'clf__alpha': 0.6406368848335529}. Best is trial 8 with value: 0.812722634272453.\u001b[0m\n",
            "\u001b[32m[I 2021-10-18 15:13:54,039]\u001b[0m Trial 11 finished with value: 0.8070424830658318 and parameters: {'vect__max_df': 0.5819640792537047, 'vect__max_features': 34802, 'tfidf__use_idf': True, 'clf__fit_prior': False, 'clf__alpha': 0.9413480787414978}. Best is trial 8 with value: 0.812722634272453.\u001b[0m\n",
            "\u001b[32m[I 2021-10-18 15:13:55,502]\u001b[0m Trial 12 finished with value: 0.8069987351653023 and parameters: {'vect__max_df': 0.3446642412980346, 'vect__max_features': 47898, 'tfidf__use_idf': True, 'clf__fit_prior': False, 'clf__alpha': 0.7445883498747162}. Best is trial 8 with value: 0.812722634272453.\u001b[0m\n",
            "\u001b[32m[I 2021-10-18 15:13:56,945]\u001b[0m Trial 13 finished with value: 0.8088160867364993 and parameters: {'vect__max_df': 0.9642725203237408, 'vect__max_features': 31178, 'tfidf__use_idf': True, 'clf__fit_prior': False, 'clf__alpha': 0.9915718507870683}. Best is trial 8 with value: 0.812722634272453.\u001b[0m\n",
            "\u001b[32m[I 2021-10-18 15:13:58,393]\u001b[0m Trial 14 finished with value: 0.8069987351653023 and parameters: {'vect__max_df': 0.5352349499410207, 'vect__max_features': 42096, 'tfidf__use_idf': True, 'clf__fit_prior': False, 'clf__alpha': 0.7280162000782509}. Best is trial 8 with value: 0.812722634272453.\u001b[0m\n",
            "\u001b[32m[I 2021-10-18 15:13:59,803]\u001b[0m Trial 15 finished with value: 0.8034525284120072 and parameters: {'vect__max_df': 0.7573407116968701, 'vect__max_features': 29130, 'tfidf__use_idf': False, 'clf__fit_prior': False, 'clf__alpha': 0.5275877022320792}. Best is trial 8 with value: 0.812722634272453.\u001b[0m\n",
            "\u001b[32m[I 2021-10-18 15:14:01,269]\u001b[0m Trial 16 finished with value: 0.8120348776825042 and parameters: {'vect__max_df': 0.4089895031398541, 'vect__max_features': 41989, 'tfidf__use_idf': False, 'clf__fit_prior': True, 'clf__alpha': 0.791368082083275}. Best is trial 8 with value: 0.812722634272453.\u001b[0m\n",
            "\u001b[32m[I 2021-10-18 15:14:02,659]\u001b[0m Trial 17 finished with value: 0.668492700398737 and parameters: {'vect__max_df': 0.30539455137902144, 'vect__max_features': 469, 'tfidf__use_idf': False, 'clf__fit_prior': False, 'clf__alpha': 0.7441080564031038}. Best is trial 8 with value: 0.812722634272453.\u001b[0m\n",
            "\u001b[32m[I 2021-10-18 15:14:04,073]\u001b[0m Trial 18 finished with value: 0.8008301168891367 and parameters: {'vect__max_df': 0.04909281814379157, 'vect__max_features': 44628, 'tfidf__use_idf': False, 'clf__fit_prior': False, 'clf__alpha': 0.4937826648118321}. Best is trial 8 with value: 0.812722634272453.\u001b[0m\n",
            "\u001b[32m[I 2021-10-18 15:14:05,503]\u001b[0m Trial 19 finished with value: 0.8119850066740181 and parameters: {'vect__max_df': 0.4497674155597212, 'vect__max_features': 35800, 'tfidf__use_idf': False, 'clf__fit_prior': True, 'clf__alpha': 0.7819892481647271}. Best is trial 8 with value: 0.812722634272453.\u001b[0m\n",
            "\u001b[32m[I 2021-10-18 15:14:06,925]\u001b[0m Trial 20 finished with value: 0.8116948744655378 and parameters: {'vect__max_df': 0.2544928523253056, 'vect__max_features': 27809, 'tfidf__use_idf': False, 'clf__fit_prior': True, 'clf__alpha': 0.575496145275029}. Best is trial 8 with value: 0.812722634272453.\u001b[0m\n",
            "\u001b[32m[I 2021-10-18 15:14:08,319]\u001b[0m Trial 21 finished with value: 0.8120348776825042 and parameters: {'vect__max_df': 0.4541012383888823, 'vect__max_features': 36703, 'tfidf__use_idf': False, 'clf__fit_prior': True, 'clf__alpha': 0.7921706038595253}. Best is trial 8 with value: 0.812722634272453.\u001b[0m\n",
            "\u001b[32m[I 2021-10-18 15:14:09,698]\u001b[0m Trial 22 finished with value: 0.812722634272453 and parameters: {'vect__max_df': 0.3932612428834114, 'vect__max_features': 38082, 'tfidf__use_idf': False, 'clf__fit_prior': True, 'clf__alpha': 0.8198131955329897}. Best is trial 8 with value: 0.812722634272453.\u001b[0m\n",
            "\u001b[32m[I 2021-10-18 15:14:11,110]\u001b[0m Trial 23 finished with value: 0.808123962825516 and parameters: {'vect__max_df': 0.4096790681276356, 'vect__max_features': 46253, 'tfidf__use_idf': False, 'clf__fit_prior': True, 'clf__alpha': 0.675941485641077}. Best is trial 8 with value: 0.812722634272453.\u001b[0m\n",
            "\u001b[32m[I 2021-10-18 15:14:12,529]\u001b[0m Trial 24 finished with value: 0.8091328396597396 and parameters: {'vect__max_df': 0.5442016204083211, 'vect__max_features': 37986, 'tfidf__use_idf': False, 'clf__fit_prior': True, 'clf__alpha': 0.9873544467930315}. Best is trial 8 with value: 0.812722634272453.\u001b[0m\n",
            "\u001b[32m[I 2021-10-18 15:14:13,948]\u001b[0m Trial 25 finished with value: 0.8057763333022233 and parameters: {'vect__max_df': 0.25749874945098483, 'vect__max_features': 32634, 'tfidf__use_idf': False, 'clf__fit_prior': True, 'clf__alpha': 0.822916182871037}. Best is trial 8 with value: 0.812722634272453.\u001b[0m\n",
            "\u001b[32m[I 2021-10-18 15:14:15,393]\u001b[0m Trial 26 finished with value: 0.8102175585346526 and parameters: {'vect__max_df': 0.8779277061187469, 'vect__max_features': 24061, 'tfidf__use_idf': False, 'clf__fit_prior': False, 'clf__alpha': 0.9354462652674613}. Best is trial 8 with value: 0.812722634272453.\u001b[0m\n",
            "\u001b[32m[I 2021-10-18 15:14:16,819]\u001b[0m Trial 27 finished with value: 0.8087036750593917 and parameters: {'vect__max_df': 0.5008771910523641, 'vect__max_features': 38675, 'tfidf__use_idf': False, 'clf__fit_prior': True, 'clf__alpha': 0.6943256904464177}. Best is trial 8 with value: 0.812722634272453.\u001b[0m\n",
            "\u001b[32m[I 2021-10-18 15:14:18,257]\u001b[0m Trial 28 finished with value: 0.8065254622611755 and parameters: {'vect__max_df': 0.6195176337136169, 'vect__max_features': 27830, 'tfidf__use_idf': False, 'clf__fit_prior': False, 'clf__alpha': 0.4399753915812216}. Best is trial 8 with value: 0.812722634272453.\u001b[0m\n",
            "\u001b[32m[I 2021-10-18 15:14:19,672]\u001b[0m Trial 29 finished with value: 0.8086823128795299 and parameters: {'vect__max_df': 0.17440963681929908, 'vect__max_features': 21318, 'tfidf__use_idf': False, 'clf__fit_prior': True, 'clf__alpha': 0.8474253602132152}. Best is trial 8 with value: 0.812722634272453.\u001b[0m\n",
            "\u001b[32m[I 2021-10-18 15:14:21,080]\u001b[0m Trial 30 finished with value: 0.8111214273526409 and parameters: {'vect__max_df': 0.6842462064716425, 'vect__max_features': 32490, 'tfidf__use_idf': False, 'clf__fit_prior': True, 'clf__alpha': 0.9160661422033161}. Best is trial 8 with value: 0.812722634272453.\u001b[0m\n",
            "\u001b[32m[I 2021-10-18 15:14:22,505]\u001b[0m Trial 31 finished with value: 0.812722634272453 and parameters: {'vect__max_df': 0.4336192603582304, 'vect__max_features': 43846, 'tfidf__use_idf': False, 'clf__fit_prior': True, 'clf__alpha': 0.8065012955888907}. Best is trial 8 with value: 0.812722634272453.\u001b[0m\n",
            "\u001b[32m[I 2021-10-18 15:14:23,943]\u001b[0m Trial 32 finished with value: 0.812722634272453 and parameters: {'vect__max_df': 0.443963651570935, 'vect__max_features': 43777, 'tfidf__use_idf': False, 'clf__fit_prior': True, 'clf__alpha': 0.8252184480856215}. Best is trial 8 with value: 0.812722634272453.\u001b[0m\n",
            "\u001b[32m[I 2021-10-18 15:14:25,381]\u001b[0m Trial 33 finished with value: 0.8132600999415617 and parameters: {'vect__max_df': 0.31988214562714157, 'vect__max_features': 44763, 'tfidf__use_idf': False, 'clf__fit_prior': True, 'clf__alpha': 0.843704168364195}. Best is trial 33 with value: 0.8132600999415617.\u001b[0m\n",
            "\u001b[32m[I 2021-10-18 15:14:26,822]\u001b[0m Trial 34 finished with value: 0.8073481283754631 and parameters: {'vect__max_df': 0.19391448637952996, 'vect__max_features': 44753, 'tfidf__use_idf': False, 'clf__fit_prior': True, 'clf__alpha': 0.6338109125391669}. Best is trial 33 with value: 0.8132600999415617.\u001b[0m\n",
            "\u001b[32m[I 2021-10-18 15:14:28,275]\u001b[0m Trial 35 finished with value: 0.8104530273587496 and parameters: {'vect__max_df': 0.3021786228706745, 'vect__max_features': 48668, 'tfidf__use_idf': False, 'clf__fit_prior': True, 'clf__alpha': 0.8889889999960354}. Best is trial 33 with value: 0.8132600999415617.\u001b[0m\n",
            "\u001b[32m[I 2021-10-18 15:14:29,697]\u001b[0m Trial 36 finished with value: 0.7964390650613451 and parameters: {'vect__max_df': 0.8138655839239209, 'vect__max_features': 44912, 'tfidf__use_idf': False, 'clf__fit_prior': True, 'clf__alpha': 0.14735944597195622}. Best is trial 33 with value: 0.8132600999415617.\u001b[0m\n",
            "\u001b[32m[I 2021-10-18 15:14:31,127]\u001b[0m Trial 37 finished with value: 0.8069250130591488 and parameters: {'vect__max_df': 0.07841384555220271, 'vect__max_features': 38490, 'tfidf__use_idf': False, 'clf__fit_prior': True, 'clf__alpha': 0.7000828353074402}. Best is trial 33 with value: 0.8132600999415617.\u001b[0m\n",
            "\u001b[32m[I 2021-10-18 15:14:32,547]\u001b[0m Trial 38 finished with value: 0.8074201508557948 and parameters: {'vect__max_df': 0.3758257602153987, 'vect__max_features': 41711, 'tfidf__use_idf': False, 'clf__fit_prior': True, 'clf__alpha': 0.5985060083756748}. Best is trial 33 with value: 0.8132600999415617.\u001b[0m\n",
            "\u001b[32m[I 2021-10-18 15:14:33,957]\u001b[0m Trial 39 finished with value: 0.8054203270306649 and parameters: {'vect__max_df': 0.24075506577327177, 'vect__max_features': 49951, 'tfidf__use_idf': False, 'clf__fit_prior': False, 'clf__alpha': 0.8644703020268008}. Best is trial 33 with value: 0.8132600999415617.\u001b[0m\n",
            "\u001b[32m[I 2021-10-18 15:14:35,403]\u001b[0m Trial 40 finished with value: 0.8102175585346526 and parameters: {'vect__max_df': 0.3347684328572745, 'vect__max_features': 40744, 'tfidf__use_idf': False, 'clf__fit_prior': True, 'clf__alpha': 0.9359528424201067}. Best is trial 33 with value: 0.8132600999415617.\u001b[0m\n",
            "\u001b[32m[I 2021-10-18 15:14:36,851]\u001b[0m Trial 41 finished with value: 0.8122346724045311 and parameters: {'vect__max_df': 0.42074275340728745, 'vect__max_features': 43625, 'tfidf__use_idf': False, 'clf__fit_prior': True, 'clf__alpha': 0.8355285878826433}. Best is trial 33 with value: 0.8132600999415617.\u001b[0m\n",
            "\u001b[32m[I 2021-10-18 15:14:38,289]\u001b[0m Trial 42 finished with value: 0.8119850066740181 and parameters: {'vect__max_df': 0.5081289591908389, 'vect__max_features': 46491, 'tfidf__use_idf': False, 'clf__fit_prior': True, 'clf__alpha': 0.7843844627525036}. Best is trial 33 with value: 0.8132600999415617.\u001b[0m\n",
            "\u001b[32m[I 2021-10-18 15:14:39,709]\u001b[0m Trial 43 finished with value: 0.8104530273587496 and parameters: {'vect__max_df': 0.560969334423006, 'vect__max_features': 33632, 'tfidf__use_idf': False, 'clf__fit_prior': True, 'clf__alpha': 0.8884948826151139}. Best is trial 33 with value: 0.8132600999415617.\u001b[0m\n",
            "\u001b[32m[I 2021-10-18 15:14:41,186]\u001b[0m Trial 44 finished with value: 0.8091568814942354 and parameters: {'vect__max_df': 0.3726678345612633, 'vect__max_features': 39647, 'tfidf__use_idf': True, 'clf__fit_prior': True, 'clf__alpha': 0.8254141782072962}. Best is trial 33 with value: 0.8132600999415617.\u001b[0m\n",
            "\u001b[32m[I 2021-10-18 15:14:42,602]\u001b[0m Trial 45 finished with value: 0.8090193231432862 and parameters: {'vect__max_df': 0.6257891981999706, 'vect__max_features': 36435, 'tfidf__use_idf': False, 'clf__fit_prior': True, 'clf__alpha': 0.66366839532345}. Best is trial 33 with value: 0.8132600999415617.\u001b[0m\n",
            "\u001b[32m[I 2021-10-18 15:14:44,059]\u001b[0m Trial 46 finished with value: 0.8006309203703156 and parameters: {'vect__max_df': 0.12413361832316816, 'vect__max_features': 14375, 'tfidf__use_idf': True, 'clf__fit_prior': False, 'clf__alpha': 0.7416549366107941}. Best is trial 33 with value: 0.8132600999415617.\u001b[0m\n",
            "\u001b[32m[I 2021-10-18 15:14:45,471]\u001b[0m Trial 47 finished with value: 0.7587370719580847 and parameters: {'vect__max_df': 0.3179424351692447, 'vect__max_features': 46939, 'tfidf__use_idf': False, 'clf__fit_prior': True, 'clf__alpha': 0.005339243297159124}. Best is trial 33 with value: 0.8132600999415617.\u001b[0m\n",
            "\u001b[32m[I 2021-10-18 15:14:46,887]\u001b[0m Trial 48 finished with value: 0.8091328396597396 and parameters: {'vect__max_df': 0.8930786102845135, 'vect__max_features': 43301, 'tfidf__use_idf': False, 'clf__fit_prior': False, 'clf__alpha': 0.9996130282228209}. Best is trial 33 with value: 0.8132600999415617.\u001b[0m\n",
            "\u001b[32m[I 2021-10-18 15:14:48,372]\u001b[0m Trial 49 finished with value: 0.8080638059113276 and parameters: {'vect__max_df': 0.4588215034956322, 'vect__max_features': 30581, 'tfidf__use_idf': True, 'clf__fit_prior': True, 'clf__alpha': 0.7750134354336209}. Best is trial 33 with value: 0.8132600999415617.\u001b[0m\n",
            "\u001b[32m[I 2021-10-18 15:14:49,797]\u001b[0m Trial 50 finished with value: 0.8091328396597396 and parameters: {'vect__max_df': 0.5824487301633137, 'vect__max_features': 41644, 'tfidf__use_idf': False, 'clf__fit_prior': False, 'clf__alpha': 0.9608688518142814}. Best is trial 33 with value: 0.8132600999415617.\u001b[0m\n",
            "\u001b[32m[I 2021-10-18 15:14:51,224]\u001b[0m Trial 51 finished with value: 0.8122346724045311 and parameters: {'vect__max_df': 0.40571912582600533, 'vect__max_features': 43631, 'tfidf__use_idf': False, 'clf__fit_prior': True, 'clf__alpha': 0.8359619428289284}. Best is trial 33 with value: 0.8132600999415617.\u001b[0m\n",
            "\u001b[32m[I 2021-10-18 15:14:52,671]\u001b[0m Trial 52 finished with value: 0.8104530273587496 and parameters: {'vect__max_df': 0.38067313123941926, 'vect__max_features': 45936, 'tfidf__use_idf': False, 'clf__fit_prior': True, 'clf__alpha': 0.8936354675134666}. Best is trial 33 with value: 0.8132600999415617.\u001b[0m\n",
            "\u001b[32m[I 2021-10-18 15:14:54,116]\u001b[0m Trial 53 finished with value: 0.8102963766186194 and parameters: {'vect__max_df': 0.42315252477128895, 'vect__max_features': 40113, 'tfidf__use_idf': False, 'clf__fit_prior': True, 'clf__alpha': 0.7227864179023905}. Best is trial 33 with value: 0.8132600999415617.\u001b[0m\n",
            "\u001b[32m[I 2021-10-18 15:14:55,522]\u001b[0m Trial 54 finished with value: 0.8108915629057062 and parameters: {'vect__max_df': 0.28487248116231045, 'vect__max_features': 42834, 'tfidf__use_idf': False, 'clf__fit_prior': True, 'clf__alpha': 0.8129866551475126}. Best is trial 33 with value: 0.8132600999415617.\u001b[0m\n",
            "\u001b[32m[I 2021-10-18 15:14:56,937]\u001b[0m Trial 55 finished with value: 0.8049037489792777 and parameters: {'vect__max_df': 0.4996411116631433, 'vect__max_features': 49147, 'tfidf__use_idf': False, 'clf__fit_prior': True, 'clf__alpha': 0.2990469796089984}. Best is trial 33 with value: 0.8132600999415617.\u001b[0m\n",
            "\u001b[32m[I 2021-10-18 15:14:58,371]\u001b[0m Trial 56 finished with value: 0.8119850066740181 and parameters: {'vect__max_df': 0.4366635630891096, 'vect__max_features': 34379, 'tfidf__use_idf': False, 'clf__fit_prior': True, 'clf__alpha': 0.7730308567784654}. Best is trial 33 with value: 0.8132600999415617.\u001b[0m\n",
            "\u001b[32m[I 2021-10-18 15:14:59,801]\u001b[0m Trial 57 finished with value: 0.8054203270306649 and parameters: {'vect__max_df': 0.2125924587311625, 'vect__max_features': 37680, 'tfidf__use_idf': False, 'clf__fit_prior': True, 'clf__alpha': 0.8715105750076705}. Best is trial 33 with value: 0.8132600999415617.\u001b[0m\n",
            "\u001b[32m[I 2021-10-18 15:15:01,314]\u001b[0m Trial 58 finished with value: 0.8091568814942354 and parameters: {'vect__max_df': 0.3625944535135175, 'vect__max_features': 44781, 'tfidf__use_idf': True, 'clf__fit_prior': False, 'clf__alpha': 0.8500577811252664}. Best is trial 33 with value: 0.8132600999415617.\u001b[0m\n",
            "\u001b[32m[I 2021-10-18 15:15:02,782]\u001b[0m Trial 59 finished with value: 0.8111214273526409 and parameters: {'vect__max_df': 0.33774046709091843, 'vect__max_features': 47988, 'tfidf__use_idf': False, 'clf__fit_prior': True, 'clf__alpha': 0.9189841995871062}. Best is trial 33 with value: 0.8132600999415617.\u001b[0m\n",
            "\u001b[32m[I 2021-10-18 15:15:04,207]\u001b[0m Trial 60 finished with value: 0.8034525284120072 and parameters: {'vect__max_df': 0.7364200434962338, 'vect__max_features': 35524, 'tfidf__use_idf': False, 'clf__fit_prior': True, 'clf__alpha': 0.5537432864217593}. Best is trial 33 with value: 0.8132600999415617.\u001b[0m\n",
            "\u001b[32m[I 2021-10-18 15:15:05,639]\u001b[0m Trial 61 finished with value: 0.812722634272453 and parameters: {'vect__max_df': 0.39966423154181874, 'vect__max_features': 43696, 'tfidf__use_idf': False, 'clf__fit_prior': True, 'clf__alpha': 0.8275144610429009}. Best is trial 33 with value: 0.8132600999415617.\u001b[0m\n",
            "\u001b[32m[I 2021-10-18 15:15:07,095]\u001b[0m Trial 62 finished with value: 0.8119850066740181 and parameters: {'vect__max_df': 0.4739958035873739, 'vect__max_features': 40062, 'tfidf__use_idf': False, 'clf__fit_prior': True, 'clf__alpha': 0.7671555061774502}. Best is trial 33 with value: 0.8132600999415617.\u001b[0m\n",
            "\u001b[32m[I 2021-10-18 15:15:08,544]\u001b[0m Trial 63 finished with value: 0.812722634272453 and parameters: {'vect__max_df': 0.9918979912679589, 'vect__max_features': 43366, 'tfidf__use_idf': False, 'clf__fit_prior': True, 'clf__alpha': 0.8096699865231357}. Best is trial 33 with value: 0.8132600999415617.\u001b[0m\n",
            "\u001b[32m[I 2021-10-18 15:15:09,998]\u001b[0m Trial 64 finished with value: 0.8102963766186194 and parameters: {'vect__max_df': 0.9365100999262622, 'vect__max_features': 47145, 'tfidf__use_idf': False, 'clf__fit_prior': True, 'clf__alpha': 0.722144751284029}. Best is trial 33 with value: 0.8132600999415617.\u001b[0m\n",
            "\u001b[32m[I 2021-10-18 15:15:11,457]\u001b[0m Trial 65 finished with value: 0.8119850066740181 and parameters: {'vect__max_df': 0.9362357162739459, 'vect__max_features': 41830, 'tfidf__use_idf': False, 'clf__fit_prior': True, 'clf__alpha': 0.7530157459329916}. Best is trial 33 with value: 0.8132600999415617.\u001b[0m\n",
            "\u001b[32m[I 2021-10-18 15:15:12,871]\u001b[0m Trial 66 finished with value: 0.8091328396597396 and parameters: {'vect__max_df': 0.7996156466293635, 'vect__max_features': 37385, 'tfidf__use_idf': False, 'clf__fit_prior': False, 'clf__alpha': 0.9618642145781333}. Best is trial 33 with value: 0.8132600999415617.\u001b[0m\n",
            "\u001b[32m[I 2021-10-18 15:15:14,298]\u001b[0m Trial 67 finished with value: 0.8071740206533736 and parameters: {'vect__max_df': 0.28300951785849726, 'vect__max_features': 39019, 'tfidf__use_idf': False, 'clf__fit_prior': True, 'clf__alpha': 0.8021720858073947}. Best is trial 33 with value: 0.8132600999415617.\u001b[0m\n",
            "\u001b[32m[I 2021-10-18 15:15:15,700]\u001b[0m Trial 68 finished with value: 0.8111214273526409 and parameters: {'vect__max_df': 0.8475763916441641, 'vect__max_features': 45505, 'tfidf__use_idf': False, 'clf__fit_prior': True, 'clf__alpha': 0.9098214251567756}. Best is trial 33 with value: 0.8132600999415617.\u001b[0m\n",
            "\u001b[32m[I 2021-10-18 15:15:17,124]\u001b[0m Trial 69 finished with value: 0.8090193231432862 and parameters: {'vect__max_df': 0.7541050509844122, 'vect__max_features': 43556, 'tfidf__use_idf': False, 'clf__fit_prior': False, 'clf__alpha': 0.6610647269875141}. Best is trial 33 with value: 0.8132600999415617.\u001b[0m\n",
            "\u001b[32m[I 2021-10-18 15:15:18,545]\u001b[0m Trial 70 finished with value: 0.8087036750593917 and parameters: {'vect__max_df': 0.5276484150589589, 'vect__max_features': 25646, 'tfidf__use_idf': False, 'clf__fit_prior': True, 'clf__alpha': 0.6985233161133999}. Best is trial 33 with value: 0.8132600999415617.\u001b[0m\n",
            "\u001b[32m[I 2021-10-18 15:15:19,995]\u001b[0m Trial 71 finished with value: 0.8122346724045311 and parameters: {'vect__max_df': 0.39441338582908625, 'vect__max_features': 43665, 'tfidf__use_idf': False, 'clf__fit_prior': True, 'clf__alpha': 0.8427028043674843}. Best is trial 33 with value: 0.8132600999415617.\u001b[0m\n",
            "\u001b[32m[I 2021-10-18 15:15:21,400]\u001b[0m Trial 72 finished with value: 0.8123225183507339 and parameters: {'vect__max_df': 0.39529991025503625, 'vect__max_features': 40615, 'tfidf__use_idf': False, 'clf__fit_prior': True, 'clf__alpha': 0.8640735434722013}. Best is trial 33 with value: 0.8132600999415617.\u001b[0m\n",
            "\u001b[32m[I 2021-10-18 15:15:22,811]\u001b[0m Trial 73 finished with value: 0.8120348776825042 and parameters: {'vect__max_df': 0.47966954579224075, 'vect__max_features': 40826, 'tfidf__use_idf': False, 'clf__fit_prior': True, 'clf__alpha': 0.806304500622538}. Best is trial 33 with value: 0.8132600999415617.\u001b[0m\n",
            "\u001b[32m[I 2021-10-18 15:15:24,295]\u001b[0m Trial 74 finished with value: 0.8098089916283225 and parameters: {'vect__max_df': 0.34144737955081256, 'vect__max_features': 41988, 'tfidf__use_idf': False, 'clf__fit_prior': True, 'clf__alpha': 0.8665772437795599}. Best is trial 33 with value: 0.8132600999415617.\u001b[0m\n",
            "\u001b[32m[I 2021-10-18 15:15:25,727]\u001b[0m Trial 75 finished with value: 0.8091328396597396 and parameters: {'vect__max_df': 0.9779411294309731, 'vect__max_features': 47538, 'tfidf__use_idf': False, 'clf__fit_prior': True, 'clf__alpha': 0.9572638524140168}. Best is trial 33 with value: 0.8132600999415617.\u001b[0m\n",
            "\u001b[32m[I 2021-10-18 15:15:27,172]\u001b[0m Trial 76 finished with value: 0.8104530273587496 and parameters: {'vect__max_df': 0.45352592149991505, 'vect__max_features': 38737, 'tfidf__use_idf': False, 'clf__fit_prior': True, 'clf__alpha': 0.8803907520948455}. Best is trial 33 with value: 0.8132600999415617.\u001b[0m\n",
            "\u001b[32m[I 2021-10-18 15:15:28,660]\u001b[0m Trial 77 finished with value: 0.8091568814942354 and parameters: {'vect__max_df': 0.9937143753982591, 'vect__max_features': 49978, 'tfidf__use_idf': True, 'clf__fit_prior': True, 'clf__alpha': 0.8136397385165891}. Best is trial 33 with value: 0.8132600999415617.\u001b[0m\n",
            "\u001b[32m[I 2021-10-18 15:15:30,124]\u001b[0m Trial 78 finished with value: 0.8052436423193171 and parameters: {'vect__max_df': 0.5856331211967278, 'vect__max_features': 36303, 'tfidf__use_idf': False, 'clf__fit_prior': True, 'clf__alpha': 0.3743191495997529}. Best is trial 33 with value: 0.8132600999415617.\u001b[0m\n",
            "\u001b[32m[I 2021-10-18 15:15:31,556]\u001b[0m Trial 79 finished with value: 0.8119850066740181 and parameters: {'vect__max_df': 0.6949804937874893, 'vect__max_features': 45442, 'tfidf__use_idf': False, 'clf__fit_prior': False, 'clf__alpha': 0.7537520162728784}. Best is trial 33 with value: 0.8132600999415617.\u001b[0m\n",
            "\u001b[32m[I 2021-10-18 15:15:32,940]\u001b[0m Trial 80 finished with value: 0.6641668367137965 and parameters: {'vect__max_df': 0.31441867700773435, 'vect__max_features': 380, 'tfidf__use_idf': False, 'clf__fit_prior': True, 'clf__alpha': 0.9079932942040156}. Best is trial 33 with value: 0.8132600999415617.\u001b[0m\n",
            "\u001b[32m[I 2021-10-18 15:15:34,377]\u001b[0m Trial 81 finished with value: 0.8132600999415617 and parameters: {'vect__max_df': 0.4063845664723367, 'vect__max_features': 44042, 'tfidf__use_idf': False, 'clf__fit_prior': True, 'clf__alpha': 0.8489272086386309}. Best is trial 33 with value: 0.8132600999415617.\u001b[0m\n",
            "\u001b[32m[I 2021-10-18 15:15:35,788]\u001b[0m Trial 82 finished with value: 0.8120348776825042 and parameters: {'vect__max_df': 0.35621330902627546, 'vect__max_features': 40769, 'tfidf__use_idf': False, 'clf__fit_prior': True, 'clf__alpha': 0.7922098515270943}. Best is trial 33 with value: 0.8132600999415617.\u001b[0m\n",
            "\u001b[32m[I 2021-10-18 15:15:37,205]\u001b[0m Trial 83 finished with value: 0.8123225183507339 and parameters: {'vect__max_df': 0.42517183991907426, 'vect__max_features': 42823, 'tfidf__use_idf': False, 'clf__fit_prior': True, 'clf__alpha': 0.8617046268273068}. Best is trial 33 with value: 0.8132600999415617.\u001b[0m\n",
            "\u001b[32m[I 2021-10-18 15:15:38,579]\u001b[0m Trial 84 finished with value: 0.7485120337270809 and parameters: {'vect__max_df': 0.49046617339651866, 'vect__max_features': 2721, 'tfidf__use_idf': False, 'clf__fit_prior': True, 'clf__alpha': 0.8289267024988968}. Best is trial 33 with value: 0.8132600999415617.\u001b[0m\n",
            "\u001b[32m[I 2021-10-18 15:15:40,010]\u001b[0m Trial 85 finished with value: 0.8102963766186194 and parameters: {'vect__max_df': 0.4377486883387619, 'vect__max_features': 44367, 'tfidf__use_idf': False, 'clf__fit_prior': True, 'clf__alpha': 0.7281597143023011}. Best is trial 33 with value: 0.8132600999415617.\u001b[0m\n",
            "\u001b[32m[I 2021-10-18 15:15:41,450]\u001b[0m Trial 86 finished with value: 0.8102175585346526 and parameters: {'vect__max_df': 0.5215302942959054, 'vect__max_features': 46251, 'tfidf__use_idf': False, 'clf__fit_prior': True, 'clf__alpha': 0.9278116630513191}. Best is trial 33 with value: 0.8132600999415617.\u001b[0m\n",
            "\u001b[32m[I 2021-10-18 15:15:42,861]\u001b[0m Trial 87 finished with value: 0.8104530273587496 and parameters: {'vect__max_df': 0.39689639839005947, 'vect__max_features': 42460, 'tfidf__use_idf': False, 'clf__fit_prior': True, 'clf__alpha': 0.8892204171681847}. Best is trial 33 with value: 0.8132600999415617.\u001b[0m\n",
            "\u001b[32m[I 2021-10-18 15:15:44,334]\u001b[0m Trial 88 finished with value: 0.8033498919443239 and parameters: {'vect__max_df': 0.5539267171577349, 'vect__max_features': 17817, 'tfidf__use_idf': True, 'clf__fit_prior': False, 'clf__alpha': 0.8533374990099059}. Best is trial 33 with value: 0.8132600999415617.\u001b[0m\n",
            "\u001b[32m[I 2021-10-18 15:15:45,765]\u001b[0m Trial 89 finished with value: 0.8062616994578132 and parameters: {'vect__max_df': 0.27986913327000806, 'vect__max_features': 48249, 'tfidf__use_idf': False, 'clf__fit_prior': True, 'clf__alpha': 0.8006110414394947}. Best is trial 33 with value: 0.8132600999415617.\u001b[0m\n",
            "\u001b[32m[I 2021-10-18 15:15:47,182]\u001b[0m Trial 90 finished with value: 0.8062616994578132 and parameters: {'vect__max_df': 0.2300611136370172, 'vect__max_features': 39584, 'tfidf__use_idf': False, 'clf__fit_prior': True, 'clf__alpha': 0.7642672127222581}. Best is trial 33 with value: 0.8132600999415617.\u001b[0m\n",
            "\u001b[32m[I 2021-10-18 15:15:48,614]\u001b[0m Trial 91 finished with value: 0.8123225183507339 and parameters: {'vect__max_df': 0.4193235374271925, 'vect__max_features': 41080, 'tfidf__use_idf': False, 'clf__fit_prior': True, 'clf__alpha': 0.861745662387307}. Best is trial 33 with value: 0.8132600999415617.\u001b[0m\n",
            "\u001b[32m[I 2021-10-18 15:15:50,020]\u001b[0m Trial 92 finished with value: 0.812722634272453 and parameters: {'vect__max_df': 0.4260324694729798, 'vect__max_features': 42509, 'tfidf__use_idf': False, 'clf__fit_prior': True, 'clf__alpha': 0.8212991228254385}. Best is trial 33 with value: 0.8132600999415617.\u001b[0m\n",
            "\u001b[32m[I 2021-10-18 15:15:51,475]\u001b[0m Trial 93 finished with value: 0.812722634272453 and parameters: {'vect__max_df': 0.46450843967376787, 'vect__max_features': 44775, 'tfidf__use_idf': False, 'clf__fit_prior': True, 'clf__alpha': 0.8196833808453337}. Best is trial 33 with value: 0.8132600999415617.\u001b[0m\n",
            "\u001b[32m[I 2021-10-18 15:15:52,900]\u001b[0m Trial 94 finished with value: 0.8122346724045311 and parameters: {'vect__max_df': 0.4658909912603937, 'vect__max_features': 44571, 'tfidf__use_idf': False, 'clf__fit_prior': True, 'clf__alpha': 0.8373951424351944}. Best is trial 33 with value: 0.8132600999415617.\u001b[0m\n",
            "\u001b[32m[I 2021-10-18 15:15:54,340]\u001b[0m Trial 95 finished with value: 0.801210724193638 and parameters: {'vect__max_df': 0.377274297115049, 'vect__max_features': 46405, 'tfidf__use_idf': False, 'clf__fit_prior': True, 'clf__alpha': 0.18426419527933136}. Best is trial 33 with value: 0.8132600999415617.\u001b[0m\n",
            "\u001b[32m[I 2021-10-18 15:15:55,741]\u001b[0m Trial 96 finished with value: 0.812722634272453 and parameters: {'vect__max_df': 0.6432351158333263, 'vect__max_features': 44338, 'tfidf__use_idf': False, 'clf__fit_prior': True, 'clf__alpha': 0.8246941259123094}. Best is trial 33 with value: 0.8132600999415617.\u001b[0m\n",
            "\u001b[32m[I 2021-10-18 15:15:57,169]\u001b[0m Trial 97 finished with value: 0.8119850066740181 and parameters: {'vect__max_df': 0.6138979622902132, 'vect__max_features': 45463, 'tfidf__use_idf': False, 'clf__fit_prior': True, 'clf__alpha': 0.7839383295278843}. Best is trial 33 with value: 0.8132600999415617.\u001b[0m\n",
            "\u001b[32m[I 2021-10-18 15:15:58,577]\u001b[0m Trial 98 finished with value: 0.812722634272453 and parameters: {'vect__max_df': 0.6578915312255529, 'vect__max_features': 49075, 'tfidf__use_idf': False, 'clf__fit_prior': False, 'clf__alpha': 0.8240229472157227}. Best is trial 33 with value: 0.8132600999415617.\u001b[0m\n",
            "\u001b[32m[I 2021-10-18 15:15:59,989]\u001b[0m Trial 99 finished with value: 0.8104530273587496 and parameters: {'vect__max_df': 0.665140552153052, 'vect__max_features': 47401, 'tfidf__use_idf': False, 'clf__fit_prior': False, 'clf__alpha': 0.899800384693985}. Best is trial 33 with value: 0.8132600999415617.\u001b[0m\n",
            "\u001b[32m[I 2021-10-18 15:16:01,477]\u001b[0m Trial 100 finished with value: 0.8108768129992064 and parameters: {'vect__max_df': 0.7205610022212362, 'vect__max_features': 48745, 'tfidf__use_idf': False, 'clf__fit_prior': False, 'clf__alpha': 0.7373932109477321}. Best is trial 33 with value: 0.8132600999415617.\u001b[0m\n",
            "\u001b[32m[I 2021-10-18 15:16:02,916]\u001b[0m Trial 101 finished with value: 0.812722634272453 and parameters: {'vect__max_df': 0.7723968502677466, 'vect__max_features': 44571, 'tfidf__use_idf': False, 'clf__fit_prior': False, 'clf__alpha': 0.8274138547625677}. Best is trial 33 with value: 0.8132600999415617.\u001b[0m\n",
            "\u001b[32m[I 2021-10-18 15:16:04,330]\u001b[0m Trial 102 finished with value: 0.812722634272453 and parameters: {'vect__max_df': 0.4441254374321806, 'vect__max_features': 44470, 'tfidf__use_idf': False, 'clf__fit_prior': False, 'clf__alpha': 0.8264856668721504}. Best is trial 33 with value: 0.8132600999415617.\u001b[0m\n",
            "\u001b[32m[I 2021-10-18 15:16:05,742]\u001b[0m Trial 103 finished with value: 0.8119850066740181 and parameters: {'vect__max_df': 0.44846964561690156, 'vect__max_features': 42818, 'tfidf__use_idf': False, 'clf__fit_prior': False, 'clf__alpha': 0.7835712865174653}. Best is trial 33 with value: 0.8132600999415617.\u001b[0m\n",
            "\u001b[32m[I 2021-10-18 15:16:07,164]\u001b[0m Trial 104 finished with value: 0.812722634272453 and parameters: {'vect__max_df': 0.8541162575299779, 'vect__max_features': 44398, 'tfidf__use_idf': False, 'clf__fit_prior': False, 'clf__alpha': 0.8226275165057872}. Best is trial 33 with value: 0.8132600999415617.\u001b[0m\n",
            "\u001b[32m[I 2021-10-18 15:16:08,577]\u001b[0m Trial 105 finished with value: 0.812722634272453 and parameters: {'vect__max_df': 0.8420832945252483, 'vect__max_features': 49309, 'tfidf__use_idf': False, 'clf__fit_prior': False, 'clf__alpha': 0.8069172209193746}. Best is trial 33 with value: 0.8132600999415617.\u001b[0m\n",
            "\u001b[32m[I 2021-10-18 15:16:09,989]\u001b[0m Trial 106 finished with value: 0.8087036750593917 and parameters: {'vect__max_df': 0.653473301233821, 'vect__max_features': 49079, 'tfidf__use_idf': False, 'clf__fit_prior': False, 'clf__alpha': 0.7110065244115366}. Best is trial 33 with value: 0.8132600999415617.\u001b[0m\n",
            "\u001b[32m[I 2021-10-18 15:16:11,473]\u001b[0m Trial 107 finished with value: 0.8119850066740181 and parameters: {'vect__max_df': 0.3530135211973757, 'vect__max_features': 46775, 'tfidf__use_idf': False, 'clf__fit_prior': True, 'clf__alpha': 0.7719571266730172}. Best is trial 33 with value: 0.8132600999415617.\u001b[0m\n",
            "\u001b[32m[I 2021-10-18 15:16:12,984]\u001b[0m Trial 108 finished with value: 0.8098266535604589 and parameters: {'vect__max_df': 0.5132848416124345, 'vect__max_features': 45660, 'tfidf__use_idf': True, 'clf__fit_prior': False, 'clf__alpha': 0.8799384901861127}. Best is trial 33 with value: 0.8132600999415617.\u001b[0m\n",
            "\u001b[32m[I 2021-10-18 15:16:14,444]\u001b[0m Trial 109 finished with value: 0.8069477916041963 and parameters: {'vect__max_df': 0.4875530847891107, 'vect__max_features': 47824, 'tfidf__use_idf': False, 'clf__fit_prior': True, 'clf__alpha': 0.6137863984248707}. Best is trial 33 with value: 0.8132600999415617.\u001b[0m\n",
            "\u001b[32m[I 2021-10-18 15:16:15,879]\u001b[0m Trial 110 finished with value: 0.8102175585346526 and parameters: {'vect__max_df': 0.330618241684404, 'vect__max_features': 41461, 'tfidf__use_idf': False, 'clf__fit_prior': True, 'clf__alpha': 0.949071427457416}. Best is trial 33 with value: 0.8132600999415617.\u001b[0m\n",
            "\u001b[32m[I 2021-10-18 15:16:17,338]\u001b[0m Trial 111 finished with value: 0.8132600999415617 and parameters: {'vect__max_df': 0.7449155227488552, 'vect__max_features': 37172, 'tfidf__use_idf': False, 'clf__fit_prior': False, 'clf__alpha': 0.8436698865403525}. Best is trial 33 with value: 0.8132600999415617.\u001b[0m\n",
            "\u001b[32m[I 2021-10-18 15:16:18,795]\u001b[0m Trial 112 finished with value: 0.8122346724045311 and parameters: {'vect__max_df': 0.7713212859766665, 'vect__max_features': 44265, 'tfidf__use_idf': False, 'clf__fit_prior': False, 'clf__alpha': 0.842885115716152}. Best is trial 33 with value: 0.8132600999415617.\u001b[0m\n",
            "\u001b[32m[I 2021-10-18 15:16:20,256]\u001b[0m Trial 113 finished with value: 0.8122346724045311 and parameters: {'vect__max_df': 0.8185052665556505, 'vect__max_features': 42431, 'tfidf__use_idf': False, 'clf__fit_prior': False, 'clf__alpha': 0.8320903497988118}. Best is trial 33 with value: 0.8132600999415617.\u001b[0m\n",
            "\u001b[32m[I 2021-10-18 15:16:21,693]\u001b[0m Trial 114 finished with value: 0.8119850066740181 and parameters: {'vect__max_df': 0.7734037781188944, 'vect__max_features': 32373, 'tfidf__use_idf': False, 'clf__fit_prior': False, 'clf__alpha': 0.7485432391980937}. Best is trial 33 with value: 0.8132600999415617.\u001b[0m\n",
            "\u001b[32m[I 2021-10-18 15:16:23,173]\u001b[0m Trial 115 finished with value: 0.812722634272453 and parameters: {'vect__max_df': 0.7293864253015269, 'vect__max_features': 44971, 'tfidf__use_idf': False, 'clf__fit_prior': False, 'clf__alpha': 0.8174375568098513}. Best is trial 33 with value: 0.8132600999415617.\u001b[0m\n",
            "\u001b[32m[I 2021-10-18 15:16:24,613]\u001b[0m Trial 116 finished with value: 0.8091328396597396 and parameters: {'vect__max_df': 0.7192799883759606, 'vect__max_features': 46503, 'tfidf__use_idf': False, 'clf__fit_prior': False, 'clf__alpha': 0.9801217063713894}. Best is trial 33 with value: 0.8132600999415617.\u001b[0m\n",
            "\u001b[32m[I 2021-10-18 15:16:26,050]\u001b[0m Trial 117 finished with value: 0.8040516156716618 and parameters: {'vect__max_df': 0.6860983523488805, 'vect__max_features': 37653, 'tfidf__use_idf': False, 'clf__fit_prior': False, 'clf__alpha': 0.48571219164052337}. Best is trial 33 with value: 0.8132600999415617.\u001b[0m\n",
            "\u001b[32m[I 2021-10-18 15:16:27,479]\u001b[0m Trial 118 finished with value: 0.8120348776825042 and parameters: {'vect__max_df': 0.8548410143984275, 'vect__max_features': 49606, 'tfidf__use_idf': False, 'clf__fit_prior': False, 'clf__alpha': 0.790554612030855}. Best is trial 33 with value: 0.8132600999415617.\u001b[0m\n",
            "\u001b[32m[I 2021-10-18 15:16:28,902]\u001b[0m Trial 119 finished with value: 0.8102175585346526 and parameters: {'vect__max_df': 0.43063071905006955, 'vect__max_features': 43764, 'tfidf__use_idf': False, 'clf__fit_prior': False, 'clf__alpha': 0.9275702023484145}. Best is trial 33 with value: 0.8132600999415617.\u001b[0m\n",
            "\u001b[32m[I 2021-10-18 15:16:30,358]\u001b[0m Trial 120 finished with value: 0.808123962825516 and parameters: {'vect__max_df': 0.9412873998991468, 'vect__max_features': 30644, 'tfidf__use_idf': False, 'clf__fit_prior': False, 'clf__alpha': 0.6773665510387595}. Best is trial 33 with value: 0.8132600999415617.\u001b[0m\n",
            "\u001b[32m[I 2021-10-18 15:16:31,781]\u001b[0m Trial 121 finished with value: 0.8120348776825042 and parameters: {'vect__max_df': 0.8795930043227438, 'vect__max_features': 48359, 'tfidf__use_idf': False, 'clf__fit_prior': False, 'clf__alpha': 0.8024601202788502}. Best is trial 33 with value: 0.8132600999415617.\u001b[0m\n",
            "\u001b[32m[I 2021-10-18 15:16:33,262]\u001b[0m Trial 122 finished with value: 0.8132600999415617 and parameters: {'vect__max_df': 0.8192213521548416, 'vect__max_features': 44706, 'tfidf__use_idf': False, 'clf__fit_prior': False, 'clf__alpha': 0.8491339947716965}. Best is trial 33 with value: 0.8132600999415617.\u001b[0m\n",
            "\u001b[32m[I 2021-10-18 15:16:34,909]\u001b[0m Trial 123 finished with value: 0.8132600999415617 and parameters: {'vect__max_df': 0.8185195748926323, 'vect__max_features': 44742, 'tfidf__use_idf': False, 'clf__fit_prior': False, 'clf__alpha': 0.8498815901018528}. Best is trial 33 with value: 0.8132600999415617.\u001b[0m\n",
            "\u001b[32m[I 2021-10-18 15:16:36,323]\u001b[0m Trial 124 finished with value: 0.8104530273587496 and parameters: {'vect__max_df': 0.7477411789913698, 'vect__max_features': 43233, 'tfidf__use_idf': False, 'clf__fit_prior': False, 'clf__alpha': 0.8789958667333795}. Best is trial 33 with value: 0.8132600999415617.\u001b[0m\n",
            "\u001b[32m[I 2021-10-18 15:16:37,732]\u001b[0m Trial 125 finished with value: 0.8132600999415617 and parameters: {'vect__max_df': 0.8269197029001659, 'vect__max_features': 45129, 'tfidf__use_idf': False, 'clf__fit_prior': False, 'clf__alpha': 0.8522981211379493}. Best is trial 33 with value: 0.8132600999415617.\u001b[0m\n",
            "\u001b[32m[I 2021-10-18 15:16:39,216]\u001b[0m Trial 126 finished with value: 0.8104530273587496 and parameters: {'vect__max_df': 0.8239447422438015, 'vect__max_features': 45989, 'tfidf__use_idf': False, 'clf__fit_prior': False, 'clf__alpha': 0.9022569874479727}. Best is trial 33 with value: 0.8132600999415617.\u001b[0m\n",
            "\u001b[32m[I 2021-10-18 15:16:40,654]\u001b[0m Trial 127 finished with value: 0.8123225183507339 and parameters: {'vect__max_df': 0.40716815886874547, 'vect__max_features': 42107, 'tfidf__use_idf': False, 'clf__fit_prior': True, 'clf__alpha': 0.8570305339503969}. Best is trial 33 with value: 0.8132600999415617.\u001b[0m\n",
            "\u001b[32m[I 2021-10-18 15:16:42,091]\u001b[0m Trial 128 finished with value: 0.8132600999415617 and parameters: {'vect__max_df': 0.9092625082097331, 'vect__max_features': 47602, 'tfidf__use_idf': False, 'clf__fit_prior': True, 'clf__alpha': 0.8492222742325759}. Best is trial 33 with value: 0.8132600999415617.\u001b[0m\n",
            "\u001b[32m[I 2021-10-18 15:16:43,606]\u001b[0m Trial 129 finished with value: 0.8091568814942354 and parameters: {'vect__max_df': 0.8899493836876642, 'vect__max_features': 47117, 'tfidf__use_idf': True, 'clf__fit_prior': True, 'clf__alpha': 0.8553207391433183}. Best is trial 33 with value: 0.8132600999415617.\u001b[0m\n",
            "\u001b[32m[I 2021-10-18 15:16:45,037]\u001b[0m Trial 130 finished with value: 0.8104530273587496 and parameters: {'vect__max_df': 0.9010562393102418, 'vect__max_features': 47526, 'tfidf__use_idf': False, 'clf__fit_prior': False, 'clf__alpha': 0.8809400733026989}. Best is trial 33 with value: 0.8132600999415617.\u001b[0m\n",
            "\u001b[32m[I 2021-10-18 15:16:46,474]\u001b[0m Trial 131 finished with value: 0.8132600999415617 and parameters: {'vect__max_df': 0.7876755969317752, 'vect__max_features': 49856, 'tfidf__use_idf': False, 'clf__fit_prior': False, 'clf__alpha': 0.8461199085813966}. Best is trial 33 with value: 0.8132600999415617.\u001b[0m\n",
            "\u001b[32m[I 2021-10-18 15:16:47,873]\u001b[0m Trial 132 finished with value: 0.8132600999415617 and parameters: {'vect__max_df': 0.791712730304623, 'vect__max_features': 45653, 'tfidf__use_idf': False, 'clf__fit_prior': False, 'clf__alpha': 0.848959482969318}. Best is trial 33 with value: 0.8132600999415617.\u001b[0m\n",
            "\u001b[32m[I 2021-10-18 15:16:49,335]\u001b[0m Trial 133 finished with value: 0.8111214273526409 and parameters: {'vect__max_df': 0.8335016824116215, 'vect__max_features': 49989, 'tfidf__use_idf': False, 'clf__fit_prior': False, 'clf__alpha': 0.9090290333285391}. Best is trial 33 with value: 0.8132600999415617.\u001b[0m\n",
            "\u001b[32m[I 2021-10-18 15:16:50,759]\u001b[0m Trial 134 finished with value: 0.8132600999415617 and parameters: {'vect__max_df': 0.7941488243249626, 'vect__max_features': 45653, 'tfidf__use_idf': False, 'clf__fit_prior': False, 'clf__alpha': 0.8459384297331071}. Best is trial 33 with value: 0.8132600999415617.\u001b[0m\n",
            "\u001b[32m[I 2021-10-18 15:16:52,218]\u001b[0m Trial 135 finished with value: 0.8098089916283225 and parameters: {'vect__max_df': 0.7911557509002589, 'vect__max_features': 48583, 'tfidf__use_idf': False, 'clf__fit_prior': False, 'clf__alpha': 0.8693901790991939}. Best is trial 33 with value: 0.8132600999415617.\u001b[0m\n",
            "\u001b[32m[I 2021-10-18 15:16:53,683]\u001b[0m Trial 136 finished with value: 0.8132600999415617 and parameters: {'vect__max_df': 0.9048872966723174, 'vect__max_features': 46406, 'tfidf__use_idf': False, 'clf__fit_prior': False, 'clf__alpha': 0.8469582345573443}. Best is trial 33 with value: 0.8132600999415617.\u001b[0m\n",
            "\u001b[32m[I 2021-10-18 15:16:55,110]\u001b[0m Trial 137 finished with value: 0.8132600999415617 and parameters: {'vect__max_df': 0.8026931829709233, 'vect__max_features': 45600, 'tfidf__use_idf': False, 'clf__fit_prior': False, 'clf__alpha': 0.8446125857836518}. Best is trial 33 with value: 0.8132600999415617.\u001b[0m\n",
            "\u001b[32m[I 2021-10-18 15:16:56,523]\u001b[0m Trial 138 finished with value: 0.8132600999415617 and parameters: {'vect__max_df': 0.7966494614156575, 'vect__max_features': 46154, 'tfidf__use_idf': False, 'clf__fit_prior': False, 'clf__alpha': 0.8472611499942694}. Best is trial 33 with value: 0.8132600999415617.\u001b[0m\n",
            "\u001b[32m[I 2021-10-18 15:16:57,960]\u001b[0m Trial 139 finished with value: 0.8104530273587496 and parameters: {'vect__max_df': 0.9153861166600458, 'vect__max_features': 45944, 'tfidf__use_idf': False, 'clf__fit_prior': False, 'clf__alpha': 0.898139113123186}. Best is trial 33 with value: 0.8132600999415617.\u001b[0m\n",
            "\u001b[32m[I 2021-10-18 15:16:59,406]\u001b[0m Trial 140 finished with value: 0.8102175585346526 and parameters: {'vect__max_df': 0.805509721181019, 'vect__max_features': 46815, 'tfidf__use_idf': False, 'clf__fit_prior': False, 'clf__alpha': 0.9347139943198007}. Best is trial 33 with value: 0.8132600999415617.\u001b[0m\n",
            "\u001b[32m[I 2021-10-18 15:17:00,824]\u001b[0m Trial 141 finished with value: 0.8132600999415617 and parameters: {'vect__max_df': 0.8682976391124367, 'vect__max_features': 47836, 'tfidf__use_idf': False, 'clf__fit_prior': False, 'clf__alpha': 0.8501644733814737}. Best is trial 33 with value: 0.8132600999415617.\u001b[0m\n",
            "\u001b[32m[I 2021-10-18 15:17:02,290]\u001b[0m Trial 142 finished with value: 0.8132600999415617 and parameters: {'vect__max_df': 0.7991123276071794, 'vect__max_features': 45649, 'tfidf__use_idf': False, 'clf__fit_prior': False, 'clf__alpha': 0.8521003501908809}. Best is trial 33 with value: 0.8132600999415617.\u001b[0m\n",
            "\u001b[32m[I 2021-10-18 15:17:03,752]\u001b[0m Trial 143 finished with value: 0.8132600999415617 and parameters: {'vect__max_df': 0.8653983604409935, 'vect__max_features': 47559, 'tfidf__use_idf': False, 'clf__fit_prior': False, 'clf__alpha': 0.8506557652578505}. Best is trial 33 with value: 0.8132600999415617.\u001b[0m\n",
            "\u001b[32m[I 2021-10-18 15:17:05,189]\u001b[0m Trial 144 finished with value: 0.8132600999415617 and parameters: {'vect__max_df': 0.7958691004706344, 'vect__max_features': 45419, 'tfidf__use_idf': False, 'clf__fit_prior': False, 'clf__alpha': 0.8455706162436856}. Best is trial 33 with value: 0.8132600999415617.\u001b[0m\n",
            "\u001b[32m[I 2021-10-18 15:17:06,598]\u001b[0m Trial 145 finished with value: 0.8104530273587496 and parameters: {'vect__max_df': 0.8599145559214617, 'vect__max_features': 48088, 'tfidf__use_idf': False, 'clf__fit_prior': False, 'clf__alpha': 0.8753394286406747}. Best is trial 33 with value: 0.8132600999415617.\u001b[0m\n",
            "\u001b[32m[I 2021-10-18 15:17:08,001]\u001b[0m Trial 146 finished with value: 0.8104530273587496 and parameters: {'vect__max_df': 0.792168900789908, 'vect__max_features': 46451, 'tfidf__use_idf': False, 'clf__fit_prior': False, 'clf__alpha': 0.8910268110306315}. Best is trial 33 with value: 0.8132600999415617.\u001b[0m\n",
            "\u001b[32m[I 2021-10-18 15:17:09,430]\u001b[0m Trial 147 finished with value: 0.8132600999415617 and parameters: {'vect__max_df': 0.9109701186014981, 'vect__max_features': 45530, 'tfidf__use_idf': False, 'clf__fit_prior': False, 'clf__alpha': 0.8512526707879385}. Best is trial 33 with value: 0.8132600999415617.\u001b[0m\n",
            "\u001b[32m[I 2021-10-18 15:17:10,863]\u001b[0m Trial 148 finished with value: 0.8111214273526409 and parameters: {'vect__max_df': 0.9151298613605174, 'vect__max_features': 47143, 'tfidf__use_idf': False, 'clf__fit_prior': False, 'clf__alpha': 0.915844168554193}. Best is trial 33 with value: 0.8132600999415617.\u001b[0m\n",
            "\u001b[32m[I 2021-10-18 15:17:12,289]\u001b[0m Trial 149 finished with value: 0.8123225183507339 and parameters: {'vect__max_df': 0.8756358516628369, 'vect__max_features': 47678, 'tfidf__use_idf': False, 'clf__fit_prior': False, 'clf__alpha': 0.8616692203412001}. Best is trial 33 with value: 0.8132600999415617.\u001b[0m\n",
            "\u001b[32m[I 2021-10-18 15:17:13,731]\u001b[0m Trial 150 finished with value: 0.8120348776825042 and parameters: {'vect__max_df': 0.8287586179279955, 'vect__max_features': 45722, 'tfidf__use_idf': False, 'clf__fit_prior': False, 'clf__alpha': 0.7962429238326165}. Best is trial 33 with value: 0.8132600999415617.\u001b[0m\n",
            "\u001b[32m[I 2021-10-18 15:17:15,188]\u001b[0m Trial 151 finished with value: 0.7842821240683249 and parameters: {'vect__max_df': 0.77325517488259, 'vect__max_features': 10222, 'tfidf__use_idf': False, 'clf__fit_prior': False, 'clf__alpha': 0.8450389923226799}. Best is trial 33 with value: 0.8132600999415617.\u001b[0m\n",
            "\u001b[32m[I 2021-10-18 15:17:16,613]\u001b[0m Trial 152 finished with value: 0.8122346724045311 and parameters: {'vect__max_df': 0.8041994409893309, 'vect__max_features': 45939, 'tfidf__use_idf': False, 'clf__fit_prior': False, 'clf__alpha': 0.8429199431638686}. Best is trial 33 with value: 0.8132600999415617.\u001b[0m\n",
            "\u001b[32m[I 2021-10-18 15:17:18,039]\u001b[0m Trial 153 finished with value: 0.8098089916283225 and parameters: {'vect__max_df': 0.8342739076494665, 'vect__max_features': 48071, 'tfidf__use_idf': False, 'clf__fit_prior': False, 'clf__alpha': 0.867244998695455}. Best is trial 33 with value: 0.8132600999415617.\u001b[0m\n",
            "\u001b[32m[I 2021-10-18 15:17:19,482]\u001b[0m Trial 154 finished with value: 0.8104530273587496 and parameters: {'vect__max_df': 0.9485895676409763, 'vect__max_features': 45658, 'tfidf__use_idf': False, 'clf__fit_prior': False, 'clf__alpha': 0.8963950976760933}. Best is trial 33 with value: 0.8132600999415617.\u001b[0m\n",
            "\u001b[32m[I 2021-10-18 15:17:20,901]\u001b[0m Trial 155 finished with value: 0.8104530273587496 and parameters: {'vect__max_df': 0.7890368239310782, 'vect__max_features': 45159, 'tfidf__use_idf': False, 'clf__fit_prior': False, 'clf__alpha': 0.8789583074715225}. Best is trial 33 with value: 0.8132600999415617.\u001b[0m\n",
            "\u001b[32m[I 2021-10-18 15:17:22,347]\u001b[0m Trial 156 finished with value: 0.8122346724045311 and parameters: {'vect__max_df': 0.8738201584907384, 'vect__max_features': 47093, 'tfidf__use_idf': False, 'clf__fit_prior': False, 'clf__alpha': 0.8398804683179203}. Best is trial 33 with value: 0.8132600999415617.\u001b[0m\n",
            "\u001b[32m[I 2021-10-18 15:17:23,810]\u001b[0m Trial 157 finished with value: 0.8111214273526409 and parameters: {'vect__max_df': 0.7527064614220792, 'vect__max_features': 43693, 'tfidf__use_idf': False, 'clf__fit_prior': False, 'clf__alpha': 0.9199791486050894}. Best is trial 33 with value: 0.8132600999415617.\u001b[0m\n",
            "\u001b[32m[I 2021-10-18 15:17:25,311]\u001b[0m Trial 158 finished with value: 0.8080638059113276 and parameters: {'vect__max_df': 0.8158304974802669, 'vect__max_features': 48488, 'tfidf__use_idf': True, 'clf__fit_prior': False, 'clf__alpha': 0.7733612265738843}. Best is trial 33 with value: 0.8132600999415617.\u001b[0m\n",
            "\u001b[32m[I 2021-10-18 15:17:26,733]\u001b[0m Trial 159 finished with value: 0.8123225183507339 and parameters: {'vect__max_df': 0.9162132438159903, 'vect__max_features': 45102, 'tfidf__use_idf': False, 'clf__fit_prior': False, 'clf__alpha': 0.855264557368572}. Best is trial 33 with value: 0.8132600999415617.\u001b[0m\n",
            "\u001b[32m[I 2021-10-18 15:17:28,173]\u001b[0m Trial 160 finished with value: 0.8120348776825042 and parameters: {'vect__max_df': 0.8638778468336078, 'vect__max_features': 48977, 'tfidf__use_idf': False, 'clf__fit_prior': False, 'clf__alpha': 0.8050170984363008}. Best is trial 33 with value: 0.8132600999415617.\u001b[0m\n",
            "\u001b[32m[I 2021-10-18 15:17:29,632]\u001b[0m Trial 161 finished with value: 0.8132600999415617 and parameters: {'vect__max_df': 0.8920079148678196, 'vect__max_features': 47057, 'tfidf__use_idf': False, 'clf__fit_prior': False, 'clf__alpha': 0.8541321248982071}. Best is trial 33 with value: 0.8132600999415617.\u001b[0m\n",
            "\u001b[32m[I 2021-10-18 15:17:31,078]\u001b[0m Trial 162 finished with value: 0.8098089916283225 and parameters: {'vect__max_df': 0.9608018514946437, 'vect__max_features': 47502, 'tfidf__use_idf': False, 'clf__fit_prior': False, 'clf__alpha': 0.8676526232888652}. Best is trial 33 with value: 0.8132600999415617.\u001b[0m\n",
            "\u001b[32m[I 2021-10-18 15:17:32,504]\u001b[0m Trial 163 finished with value: 0.8122346724045311 and parameters: {'vect__max_df': 0.7808195454846639, 'vect__max_features': 46529, 'tfidf__use_idf': False, 'clf__fit_prior': False, 'clf__alpha': 0.8387332563718372}. Best is trial 33 with value: 0.8132600999415617.\u001b[0m\n",
            "\u001b[32m[I 2021-10-18 15:17:33,917]\u001b[0m Trial 164 finished with value: 0.8104530273587496 and parameters: {'vect__max_df': 0.8071051937422972, 'vect__max_features': 45213, 'tfidf__use_idf': False, 'clf__fit_prior': False, 'clf__alpha': 0.8877478753824004}. Best is trial 33 with value: 0.8132600999415617.\u001b[0m\n",
            "\u001b[32m[I 2021-10-18 15:17:35,361]\u001b[0m Trial 165 finished with value: 0.8132600999415617 and parameters: {'vect__max_df': 0.8473450423146686, 'vect__max_features': 43035, 'tfidf__use_idf': False, 'clf__fit_prior': False, 'clf__alpha': 0.8462278270738688}. Best is trial 33 with value: 0.8132600999415617.\u001b[0m\n",
            "\u001b[32m[I 2021-10-18 15:17:36,795]\u001b[0m Trial 166 finished with value: 0.8113928450030803 and parameters: {'vect__max_df': 0.8436163265577494, 'vect__max_features': 49950, 'tfidf__use_idf': False, 'clf__fit_prior': False, 'clf__alpha': 0.7895110197183502}. Best is trial 33 with value: 0.8132600999415617.\u001b[0m\n",
            "\u001b[32m[I 2021-10-18 15:17:38,230]\u001b[0m Trial 167 finished with value: 0.812722634272453 and parameters: {'vect__max_df': 0.91290333838664, 'vect__max_features': 43310, 'tfidf__use_idf': False, 'clf__fit_prior': False, 'clf__alpha': 0.8134385269162312}. Best is trial 33 with value: 0.8132600999415617.\u001b[0m\n",
            "\u001b[32m[I 2021-10-18 15:17:39,681]\u001b[0m Trial 168 finished with value: 0.8104530273587496 and parameters: {'vect__max_df': 0.7550280054719353, 'vect__max_features': 44977, 'tfidf__use_idf': False, 'clf__fit_prior': False, 'clf__alpha': 0.8836685571344982}. Best is trial 33 with value: 0.8132600999415617.\u001b[0m\n",
            "\u001b[32m[I 2021-10-18 15:17:41,109]\u001b[0m Trial 169 finished with value: 0.8122346724045311 and parameters: {'vect__max_df': 0.8607964274366458, 'vect__max_features': 46138, 'tfidf__use_idf': False, 'clf__fit_prior': False, 'clf__alpha': 0.843113192457542}. Best is trial 33 with value: 0.8132600999415617.\u001b[0m\n",
            "\u001b[32m[I 2021-10-18 15:17:42,561]\u001b[0m Trial 170 finished with value: 0.8111214273526409 and parameters: {'vect__max_df': 0.8851777036358566, 'vect__max_features': 47926, 'tfidf__use_idf': False, 'clf__fit_prior': False, 'clf__alpha': 0.9083380703854682}. Best is trial 33 with value: 0.8132600999415617.\u001b[0m\n",
            "\u001b[32m[I 2021-10-18 15:17:44,034]\u001b[0m Trial 171 finished with value: 0.8123225183507339 and parameters: {'vect__max_df': 0.8083076115906402, 'vect__max_features': 44056, 'tfidf__use_idf': False, 'clf__fit_prior': False, 'clf__alpha': 0.8560393224394042}. Best is trial 33 with value: 0.8132600999415617.\u001b[0m\n",
            "\u001b[32m[I 2021-10-18 15:17:45,484]\u001b[0m Trial 172 finished with value: 0.8122346724045311 and parameters: {'vect__max_df': 0.9275290033805353, 'vect__max_features': 47019, 'tfidf__use_idf': False, 'clf__fit_prior': False, 'clf__alpha': 0.8315584207300287}. Best is trial 33 with value: 0.8132600999415617.\u001b[0m\n",
            "\u001b[32m[I 2021-10-18 15:17:46,899]\u001b[0m Trial 173 finished with value: 0.8098089916283225 and parameters: {'vect__max_df': 0.8365745278736644, 'vect__max_features': 42907, 'tfidf__use_idf': False, 'clf__fit_prior': False, 'clf__alpha': 0.8691623329148854}. Best is trial 33 with value: 0.8132600999415617.\u001b[0m\n",
            "\u001b[32m[I 2021-10-18 15:17:48,344]\u001b[0m Trial 174 finished with value: 0.812722634272453 and parameters: {'vect__max_df': 0.820743799314063, 'vect__max_features': 45484, 'tfidf__use_idf': False, 'clf__fit_prior': False, 'clf__alpha': 0.8152898493978181}. Best is trial 33 with value: 0.8132600999415617.\u001b[0m\n",
            "\u001b[32m[I 2021-10-18 15:17:49,780]\u001b[0m Trial 175 finished with value: 0.8123225183507339 and parameters: {'vect__max_df': 0.8849806129374644, 'vect__max_features': 48668, 'tfidf__use_idf': False, 'clf__fit_prior': False, 'clf__alpha': 0.8546820896599429}. Best is trial 33 with value: 0.8132600999415617.\u001b[0m\n",
            "\u001b[32m[I 2021-10-18 15:17:51,225]\u001b[0m Trial 176 finished with value: 0.8122346724045311 and parameters: {'vect__max_df': 0.785085511330022, 'vect__max_features': 46698, 'tfidf__use_idf': False, 'clf__fit_prior': False, 'clf__alpha': 0.8348234100871916}. Best is trial 33 with value: 0.8132600999415617.\u001b[0m\n",
            "\u001b[32m[I 2021-10-18 15:17:52,639]\u001b[0m Trial 177 finished with value: 0.8053591722060066 and parameters: {'vect__max_df': 0.9019434006895672, 'vect__max_features': 27092, 'tfidf__use_idf': False, 'clf__fit_prior': False, 'clf__alpha': 0.2639710947602958}. Best is trial 33 with value: 0.8132600999415617.\u001b[0m\n",
            "\u001b[32m[I 2021-10-18 15:17:54,111]\u001b[0m Trial 178 finished with value: 0.8104530273587496 and parameters: {'vect__max_df': 0.8543155788179619, 'vect__max_features': 43798, 'tfidf__use_idf': False, 'clf__fit_prior': False, 'clf__alpha': 0.8837107752674135}. Best is trial 33 with value: 0.8132600999415617.\u001b[0m\n",
            "\u001b[32m[I 2021-10-18 15:17:55,571]\u001b[0m Trial 179 finished with value: 0.8120348776825042 and parameters: {'vect__max_df': 0.8347658431365288, 'vect__max_features': 45959, 'tfidf__use_idf': False, 'clf__fit_prior': False, 'clf__alpha': 0.799759022937399}. Best is trial 33 with value: 0.8132600999415617.\u001b[0m\n",
            "\u001b[32m[I 2021-10-18 15:17:57,050]\u001b[0m Trial 180 finished with value: 0.8122346724045311 and parameters: {'vect__max_df': 0.7649587275603946, 'vect__max_features': 23158, 'tfidf__use_idf': False, 'clf__fit_prior': False, 'clf__alpha': 0.8475427702078974}. Best is trial 33 with value: 0.8132600999415617.\u001b[0m\n",
            "\u001b[32m[I 2021-10-18 15:17:58,506]\u001b[0m Trial 181 finished with value: 0.8122346724045311 and parameters: {'vect__max_df': 0.7968145199293029, 'vect__max_features': 44579, 'tfidf__use_idf': False, 'clf__fit_prior': False, 'clf__alpha': 0.8431095418694029}. Best is trial 33 with value: 0.8132600999415617.\u001b[0m\n",
            "\u001b[32m[I 2021-10-18 15:17:59,949]\u001b[0m Trial 182 finished with value: 0.8123225183507339 and parameters: {'vect__max_df': 0.8986489985586139, 'vect__max_features': 47732, 'tfidf__use_idf': False, 'clf__fit_prior': False, 'clf__alpha': 0.864044552863898}. Best is trial 33 with value: 0.8132600999415617.\u001b[0m\n",
            "\u001b[32m[I 2021-10-18 15:18:01,443]\u001b[0m Trial 183 finished with value: 0.812722634272453 and parameters: {'vect__max_df': 0.7436111815523041, 'vect__max_features': 45100, 'tfidf__use_idf': False, 'clf__fit_prior': False, 'clf__alpha': 0.8181698158893791}. Best is trial 33 with value: 0.8132600999415617.\u001b[0m\n",
            "\u001b[32m[I 2021-10-18 15:18:02,918]\u001b[0m Trial 184 finished with value: 0.8104530273587496 and parameters: {'vect__max_df': 0.8169967254937387, 'vect__max_features': 46495, 'tfidf__use_idf': False, 'clf__fit_prior': False, 'clf__alpha': 0.8961187931282499}. Best is trial 33 with value: 0.8132600999415617.\u001b[0m\n",
            "\u001b[32m[I 2021-10-18 15:18:04,366]\u001b[0m Trial 185 finished with value: 0.8098089916283225 and parameters: {'vect__max_df': 0.8476353595620671, 'vect__max_features': 49043, 'tfidf__use_idf': False, 'clf__fit_prior': False, 'clf__alpha': 0.8728311090899802}. Best is trial 33 with value: 0.8132600999415617.\u001b[0m\n",
            "\u001b[32m[I 2021-10-18 15:18:05,769]\u001b[0m Trial 186 finished with value: 0.8132600999415617 and parameters: {'vect__max_df': 0.8728284156035652, 'vect__max_features': 47128, 'tfidf__use_idf': False, 'clf__fit_prior': False, 'clf__alpha': 0.852596265472085}. Best is trial 33 with value: 0.8132600999415617.\u001b[0m\n",
            "\u001b[32m[I 2021-10-18 15:18:07,261]\u001b[0m Trial 187 finished with value: 0.8091568814942354 and parameters: {'vect__max_df': 0.9506369904399781, 'vect__max_features': 41872, 'tfidf__use_idf': True, 'clf__fit_prior': False, 'clf__alpha': 0.8301596029515235}. Best is trial 33 with value: 0.8132600999415617.\u001b[0m\n",
            "\u001b[32m[I 2021-10-18 15:18:08,687]\u001b[0m Trial 188 finished with value: 0.8123225183507339 and parameters: {'vect__max_df': 0.8917873730275533, 'vect__max_features': 47338, 'tfidf__use_idf': False, 'clf__fit_prior': False, 'clf__alpha': 0.8629513554732935}. Best is trial 33 with value: 0.8132600999415617.\u001b[0m\n",
            "\u001b[32m[I 2021-10-18 15:18:10,128]\u001b[0m Trial 189 finished with value: 0.8120348776825042 and parameters: {'vect__max_df': 0.8687154039706859, 'vect__max_features': 48207, 'tfidf__use_idf': False, 'clf__fit_prior': False, 'clf__alpha': 0.804566706098961}. Best is trial 33 with value: 0.8132600999415617.\u001b[0m\n",
            "\u001b[32m[I 2021-10-18 15:18:11,589]\u001b[0m Trial 190 finished with value: 0.8119850066740181 and parameters: {'vect__max_df': 0.9728869800652139, 'vect__max_features': 46335, 'tfidf__use_idf': False, 'clf__fit_prior': False, 'clf__alpha': 0.7751550186051362}. Best is trial 33 with value: 0.8132600999415617.\u001b[0m\n",
            "\u001b[32m[I 2021-10-18 15:18:13,009]\u001b[0m Trial 191 finished with value: 0.8132600999415617 and parameters: {'vect__max_df': 0.8694729036999483, 'vect__max_features': 44352, 'tfidf__use_idf': False, 'clf__fit_prior': False, 'clf__alpha': 0.84921368604834}. Best is trial 33 with value: 0.8132600999415617.\u001b[0m\n",
            "\u001b[32m[I 2021-10-18 15:18:14,481]\u001b[0m Trial 192 finished with value: 0.8122346724045311 and parameters: {'vect__max_df': 0.8289625863990205, 'vect__max_features': 44225, 'tfidf__use_idf': False, 'clf__fit_prior': False, 'clf__alpha': 0.8330378408430992}. Best is trial 33 with value: 0.8132600999415617.\u001b[0m\n",
            "\u001b[32m[I 2021-10-18 15:18:15,910]\u001b[0m Trial 193 finished with value: 0.8132600999415617 and parameters: {'vect__max_df': 0.8739685529873357, 'vect__max_features': 45662, 'tfidf__use_idf': False, 'clf__fit_prior': False, 'clf__alpha': 0.8506414094685085}. Best is trial 33 with value: 0.8132600999415617.\u001b[0m\n",
            "\u001b[32m[I 2021-10-18 15:18:17,363]\u001b[0m Trial 194 finished with value: 0.8104530273587496 and parameters: {'vect__max_df': 0.7926281420295076, 'vect__max_features': 45418, 'tfidf__use_idf': False, 'clf__fit_prior': False, 'clf__alpha': 0.8809292107943358}. Best is trial 33 with value: 0.8132600999415617.\u001b[0m\n",
            "\u001b[32m[I 2021-10-18 15:18:18,812]\u001b[0m Trial 195 finished with value: 0.812722634272453 and parameters: {'vect__max_df': 0.8156977234997136, 'vect__max_features': 42917, 'tfidf__use_idf': False, 'clf__fit_prior': False, 'clf__alpha': 0.8206990477865694}. Best is trial 33 with value: 0.8132600999415617.\u001b[0m\n",
            "\u001b[32m[I 2021-10-18 15:18:20,266]\u001b[0m Trial 196 finished with value: 0.8027717313345073 and parameters: {'vect__max_df': 0.7732593065672573, 'vect__max_features': 17768, 'tfidf__use_idf': False, 'clf__fit_prior': False, 'clf__alpha': 0.9013040978043976}. Best is trial 33 with value: 0.8132600999415617.\u001b[0m\n",
            "\u001b[32m[I 2021-10-18 15:18:21,694]\u001b[0m Trial 197 finished with value: 0.8114429314499182 and parameters: {'vect__max_df': 0.8621302254783784, 'vect__max_features': 47330, 'tfidf__use_idf': False, 'clf__fit_prior': False, 'clf__alpha': 0.8657451549916254}. Best is trial 33 with value: 0.8132600999415617.\u001b[0m\n",
            "\u001b[32m[I 2021-10-18 15:18:23,137]\u001b[0m Trial 198 finished with value: 0.8132600999415617 and parameters: {'vect__max_df': 0.935454842688133, 'vect__max_features': 46290, 'tfidf__use_idf': False, 'clf__fit_prior': False, 'clf__alpha': 0.8477428139743254}. Best is trial 33 with value: 0.8132600999415617.\u001b[0m\n",
            "\u001b[32m[I 2021-10-18 15:18:24,610]\u001b[0m Trial 199 finished with value: 0.812722634272453 and parameters: {'vect__max_df': 0.9391618524904656, 'vect__max_features': 46076, 'tfidf__use_idf': False, 'clf__fit_prior': False, 'clf__alpha': 0.8065083111506529}. Best is trial 33 with value: 0.8132600999415617.\u001b[0m\n"
          ]
        }
      ]
    },
    {
      "cell_type": "code",
      "metadata": {
        "colab": {
          "base_uri": "https://localhost:8080/"
        },
        "id": "JfNK_P1euNGu",
        "outputId": "e1327e14-ec7b-4eca-d450-5a885d444baa"
      },
      "source": [
        "# Print the result\n",
        "best_params = study.best_params\n",
        "best_score = study.best_value\n",
        "\n",
        "print(f'Best score: {best_score}\\n')\n",
        "print(f'Optimized parameters: {best_params}\\n')"
      ],
      "execution_count": null,
      "outputs": [
        {
          "output_type": "stream",
          "name": "stdout",
          "text": [
            "Best score: 0.8132600999415617\n",
            "\n",
            "Optimized parameters: {'vect__max_df': 0.31988214562714157, 'vect__max_features': 44763, 'tfidf__use_idf': False, 'clf__fit_prior': True, 'clf__alpha': 0.843704168364195}\n",
            "\n"
          ]
        }
      ]
    },
    {
      "cell_type": "code",
      "metadata": {
        "colab": {
          "base_uri": "https://localhost:8080/"
        },
        "id": "Rch2-dimt5gK",
        "outputId": "322f9856-cdaa-427f-df2c-90ac69c51b41"
      },
      "source": [
        "# Set the best parameters to the model \n",
        "text_clf.set_params(**study.best_params)"
      ],
      "execution_count": null,
      "outputs": [
        {
          "output_type": "execute_result",
          "data": {
            "text/plain": [
              "Pipeline(steps=[('vect',\n",
              "                 CountVectorizer(max_df=0.31988214562714157, max_features=44763,\n",
              "                                 ngram_range=(1, 2))),\n",
              "                ('tfidf', TfidfTransformer(use_idf=False)),\n",
              "                ('ove',\n",
              "                 RandomOverSampler(random_state=42,\n",
              "                                   sampling_strategy='minority')),\n",
              "                ('clf', BernoulliNB(alpha=0.843704168364195, binarize=None))])"
            ]
          },
          "metadata": {},
          "execution_count": 57
        }
      ]
    },
    {
      "cell_type": "code",
      "metadata": {
        "colab": {
          "base_uri": "https://localhost:8080/"
        },
        "id": "wqVtp-l2vyLq",
        "outputId": "a78a996b-a95d-4ef4-b3f9-95883d6363e2"
      },
      "source": [
        "# Fit on train data\n",
        "text_clf.fit(X_train, y_train)"
      ],
      "execution_count": null,
      "outputs": [
        {
          "output_type": "execute_result",
          "data": {
            "text/plain": [
              "Pipeline(steps=[('vect',\n",
              "                 CountVectorizer(max_df=0.31988214562714157, max_features=44763,\n",
              "                                 ngram_range=(1, 2))),\n",
              "                ('tfidf', TfidfTransformer(use_idf=False)),\n",
              "                ('ove',\n",
              "                 RandomOverSampler(random_state=42,\n",
              "                                   sampling_strategy='minority')),\n",
              "                ('clf', BernoulliNB(alpha=0.843704168364195, binarize=None))])"
            ]
          },
          "metadata": {},
          "execution_count": 58
        }
      ]
    },
    {
      "cell_type": "code",
      "metadata": {
        "id": "hsmBuTu63q7b"
      },
      "source": [
        "# Predict on test data\n",
        "y_pred_test = text_clf.predict(X_test)"
      ],
      "execution_count": null,
      "outputs": []
    },
    {
      "cell_type": "code",
      "metadata": {
        "id": "r9BypYXfwvmK"
      },
      "source": [
        "from sklearn.metrics import f1_score\n",
        "from sklearn.metrics import classification_report"
      ],
      "execution_count": null,
      "outputs": []
    },
    {
      "cell_type": "code",
      "metadata": {
        "colab": {
          "base_uri": "https://localhost:8080/"
        },
        "id": "sE_LMCE4x6Sk",
        "outputId": "c696ec87-819c-4c64-bc68-0d9ebdf7e21f"
      },
      "source": [
        "# Print F1 score\n",
        "print('F1 score(test set):', f1_score(y_test, y_pred_test, average = 'macro'))"
      ],
      "execution_count": null,
      "outputs": [
        {
          "output_type": "stream",
          "name": "stdout",
          "text": [
            "F1 score(test set): 0.773613069077038\n"
          ]
        }
      ]
    },
    {
      "cell_type": "code",
      "metadata": {
        "colab": {
          "base_uri": "https://localhost:8080/"
        },
        "id": "gsgeyPx4wyiJ",
        "outputId": "897c35d2-5787-49b2-89c4-fe32d90d07d1"
      },
      "source": [
        "print(classification_report(y_test, y_pred_test))"
      ],
      "execution_count": null,
      "outputs": [
        {
          "output_type": "stream",
          "name": "stdout",
          "text": [
            "              precision    recall  f1-score   support\n",
            "\n",
            "           0       0.64      0.53      0.58        51\n",
            "           1       0.96      0.97      0.97       579\n",
            "\n",
            "    accuracy                           0.94       630\n",
            "   macro avg       0.80      0.75      0.77       630\n",
            "weighted avg       0.93      0.94      0.94       630\n",
            "\n"
          ]
        }
      ]
    },
    {
      "cell_type": "markdown",
      "metadata": {
        "id": "QQx4gRvQsh32"
      },
      "source": [
        "The macro-averaged F1 score we get is ~77%."
      ]
    },
    {
      "cell_type": "markdown",
      "metadata": {
        "id": "mATrUkJAuRoD"
      },
      "source": [
        "**Random Oversampling**"
      ]
    },
    {
      "cell_type": "markdown",
      "metadata": {
        "id": "eVeNDitmtaoO"
      },
      "source": [
        "Random oversampling involves randomly duplicating examples from the minority class and adding them to the training dataset.\n",
        "\n",
        "Random oversampling can be implemented using the RandomOverSampler class.\n",
        "\n",
        "The class can be defined and takes a sampling_strategy argument that can be set to 'minority' to automatically balance the minority class with majority class or classes."
      ]
    },
    {
      "cell_type": "code",
      "metadata": {
        "id": "zSKLGIhcQN2I"
      },
      "source": [
        "from imblearn.over_sampling import RandomOverSampler"
      ],
      "execution_count": null,
      "outputs": []
    },
    {
      "cell_type": "code",
      "metadata": {
        "id": "Fceq6j_aRv3z"
      },
      "source": [
        "text_clf = Pipeline([('vect', CountVectorizer(ngram_range = (1, 2))),\n",
        "                     ('tfidf', TfidfTransformer()),\n",
        "                     ('ove', RandomOverSampler(sampling_strategy = 'minority', random_state = 42)),\n",
        "                     ('clf', BernoulliNB(binarize = None))])"
      ],
      "execution_count": null,
      "outputs": []
    },
    {
      "cell_type": "markdown",
      "metadata": {
        "id": "bqwS0uGXuEyz"
      },
      "source": [
        "This means that if the majority class had 1,000 examples and the minority class had 100, this strategy would oversampling the minority class so that it has 1,000 examples."
      ]
    },
    {
      "cell_type": "code",
      "metadata": {
        "id": "iV0uSOq0tN7k"
      },
      "source": [
        "def objective(trial):\n",
        "\n",
        "  params = {\n",
        "    'vect__max_df': trial.suggest_uniform('vect__max_df', 0.0, 1.0),\n",
        "    'vect__max_features' : trial.suggest_int('vect__max_features', 0, 50000),\n",
        "    'tfidf__use_idf': trial.suggest_categorical('tfidf__use_idf', [True, False]),\n",
        "    'clf__fit_prior': trial.suggest_categorical('clf__fit_prior', [True, False]),\n",
        "    'clf__alpha': trial.suggest_uniform('clf__alpha', 1e-25, 1.0)\n",
        "  }\n",
        "\n",
        "  text_clf.set_params(**params)\n",
        "\n",
        "  scores = (cross_val_score(text_clf, X, y, cv = 10, scoring = 'f1_macro'))\n",
        "  \n",
        "  return scores.mean()  "
      ],
      "execution_count": null,
      "outputs": []
    },
    {
      "cell_type": "code",
      "metadata": {
        "colab": {
          "base_uri": "https://localhost:8080/"
        },
        "id": "6NLSNVc-tTCN",
        "outputId": "b70dffee-3969-498b-deed-dea80e5861f1"
      },
      "source": [
        "# Create Study object\n",
        "study = optuna.create_study(direction = 'maximize')\n",
        "\n",
        "# Optimize the study, use more trials to obtain better result, use less trials to be more cost-efficient\n",
        "study.optimize(objective, n_trials = 200)"
      ],
      "execution_count": null,
      "outputs": [
        {
          "output_type": "stream",
          "name": "stderr",
          "text": [
            "\u001b[32m[I 2021-10-18 15:18:24,896]\u001b[0m A new study created in memory with name: no-name-686e11e9-baa3-414a-ac47-ae2af57aa1ca\u001b[0m\n",
            "\u001b[32m[I 2021-10-18 15:18:26,441]\u001b[0m Trial 0 finished with value: 0.8060789408802655 and parameters: {'vect__max_df': 0.36831269117668963, 'vect__max_features': 39557, 'tfidf__use_idf': True, 'clf__fit_prior': True, 'clf__alpha': 0.7165001710866636}. Best is trial 0 with value: 0.8060789408802655.\u001b[0m\n",
            "\u001b[32m[I 2021-10-18 15:18:27,988]\u001b[0m Trial 1 finished with value: 0.8003725890093669 and parameters: {'vect__max_df': 0.456946876670111, 'vect__max_features': 43509, 'tfidf__use_idf': True, 'clf__fit_prior': False, 'clf__alpha': 0.27854927090828696}. Best is trial 0 with value: 0.8060789408802655.\u001b[0m\n",
            "\u001b[32m[I 2021-10-18 15:18:29,468]\u001b[0m Trial 2 finished with value: 0.8133317103574302 and parameters: {'vect__max_df': 0.12496415574168596, 'vect__max_features': 25605, 'tfidf__use_idf': False, 'clf__fit_prior': False, 'clf__alpha': 0.6263689041462646}. Best is trial 2 with value: 0.8133317103574302.\u001b[0m\n",
            "\u001b[32m[I 2021-10-18 15:18:30,970]\u001b[0m Trial 3 finished with value: 0.803963790278989 and parameters: {'vect__max_df': 0.06023090671210307, 'vect__max_features': 42640, 'tfidf__use_idf': True, 'clf__fit_prior': False, 'clf__alpha': 0.8823992356083156}. Best is trial 2 with value: 0.8133317103574302.\u001b[0m\n",
            "\u001b[32m[I 2021-10-18 15:18:32,413]\u001b[0m Trial 4 finished with value: 0.8102175585346526 and parameters: {'vect__max_df': 0.6975523589841057, 'vect__max_features': 42948, 'tfidf__use_idf': False, 'clf__fit_prior': False, 'clf__alpha': 0.9334255854931413}. Best is trial 2 with value: 0.8133317103574302.\u001b[0m\n",
            "\u001b[32m[I 2021-10-18 15:18:33,924]\u001b[0m Trial 5 finished with value: 0.7997303516073204 and parameters: {'vect__max_df': 0.6462980227994444, 'vect__max_features': 45984, 'tfidf__use_idf': True, 'clf__fit_prior': False, 'clf__alpha': 0.2711308669196292}. Best is trial 2 with value: 0.8133317103574302.\u001b[0m\n",
            "\u001b[32m[I 2021-10-18 15:18:35,370]\u001b[0m Trial 6 finished with value: 0.7877964799637076 and parameters: {'vect__max_df': 0.8944502240519518, 'vect__max_features': 9441, 'tfidf__use_idf': True, 'clf__fit_prior': False, 'clf__alpha': 0.9143715294158926}. Best is trial 2 with value: 0.8133317103574302.\u001b[0m\n",
            "\u001b[32m[I 2021-10-18 15:18:36,824]\u001b[0m Trial 7 finished with value: 0.8036434839791278 and parameters: {'vect__max_df': 0.8773856695405646, 'vect__max_features': 14077, 'tfidf__use_idf': False, 'clf__fit_prior': False, 'clf__alpha': 0.1925256824270084}. Best is trial 2 with value: 0.8133317103574302.\u001b[0m\n",
            "\u001b[32m[I 2021-10-18 15:18:38,218]\u001b[0m Trial 8 finished with value: 0.7593707388708287 and parameters: {'vect__max_df': 0.3317962437181815, 'vect__max_features': 4022, 'tfidf__use_idf': False, 'clf__fit_prior': True, 'clf__alpha': 0.8234515579025713}. Best is trial 2 with value: 0.8133317103574302.\u001b[0m\n",
            "\u001b[32m[I 2021-10-18 15:18:39,714]\u001b[0m Trial 9 finished with value: 0.776213107448333 and parameters: {'vect__max_df': 0.5859197307283449, 'vect__max_features': 23075, 'tfidf__use_idf': True, 'clf__fit_prior': True, 'clf__alpha': 0.0667748438562974}. Best is trial 2 with value: 0.8133317103574302.\u001b[0m\n",
            "\u001b[32m[I 2021-10-18 15:18:41,163]\u001b[0m Trial 10 finished with value: 0.7954206909451109 and parameters: {'vect__max_df': 0.040506620970778506, 'vect__max_features': 26495, 'tfidf__use_idf': False, 'clf__fit_prior': True, 'clf__alpha': 0.561946255126921}. Best is trial 2 with value: 0.8133317103574302.\u001b[0m\n",
            "\u001b[32m[I 2021-10-18 15:18:42,616]\u001b[0m Trial 11 finished with value: 0.8034525284120072 and parameters: {'vect__max_df': 0.7247900491106085, 'vect__max_features': 31866, 'tfidf__use_idf': False, 'clf__fit_prior': False, 'clf__alpha': 0.5379088480394911}. Best is trial 2 with value: 0.8133317103574302.\u001b[0m\n",
            "\u001b[32m[I 2021-10-18 15:18:44,073]\u001b[0m Trial 12 finished with value: 0.8065501133795057 and parameters: {'vect__max_df': 0.223292443429722, 'vect__max_features': 34042, 'tfidf__use_idf': False, 'clf__fit_prior': False, 'clf__alpha': 0.7104876426215577}. Best is trial 2 with value: 0.8133317103574302.\u001b[0m\n",
            "\u001b[32m[I 2021-10-18 15:18:45,531]\u001b[0m Trial 13 finished with value: 0.80537829594552 and parameters: {'vect__max_df': 0.7515726194949736, 'vect__max_features': 18833, 'tfidf__use_idf': False, 'clf__fit_prior': False, 'clf__alpha': 0.9962941797083811}. Best is trial 2 with value: 0.8133317103574302.\u001b[0m\n",
            "\u001b[32m[I 2021-10-18 15:18:46,986]\u001b[0m Trial 14 finished with value: 0.8102400134053479 and parameters: {'vect__max_df': 0.2296286878918315, 'vect__max_features': 34733, 'tfidf__use_idf': False, 'clf__fit_prior': False, 'clf__alpha': 0.4257338195548364}. Best is trial 2 with value: 0.8133317103574302.\u001b[0m\n",
            "\u001b[32m[I 2021-10-18 15:18:48,453]\u001b[0m Trial 15 finished with value: 0.8082149571830062 and parameters: {'vect__max_df': 0.190577889586654, 'vect__max_features': 31383, 'tfidf__use_idf': False, 'clf__fit_prior': False, 'clf__alpha': 0.4160189682563785}. Best is trial 2 with value: 0.8133317103574302.\u001b[0m\n",
            "\u001b[32m[I 2021-10-18 15:18:49,915]\u001b[0m Trial 16 finished with value: 0.8098868223727351 and parameters: {'vect__max_df': 0.1836124699938958, 'vect__max_features': 49646, 'tfidf__use_idf': False, 'clf__fit_prior': False, 'clf__alpha': 0.456538746092646}. Best is trial 2 with value: 0.8133317103574302.\u001b[0m\n",
            "\u001b[32m[I 2021-10-18 15:18:51,327]\u001b[0m Trial 17 finished with value: 0.8090193231432862 and parameters: {'vect__max_df': 0.30816179611750066, 'vect__max_features': 25404, 'tfidf__use_idf': False, 'clf__fit_prior': False, 'clf__alpha': 0.6615336747325229}. Best is trial 2 with value: 0.8133317103574302.\u001b[0m\n",
            "\u001b[32m[I 2021-10-18 15:18:52,769]\u001b[0m Trial 18 finished with value: 0.8086489951557047 and parameters: {'vect__max_df': 0.10832952929860433, 'vect__max_features': 36005, 'tfidf__use_idf': False, 'clf__fit_prior': True, 'clf__alpha': 0.38174318345032465}. Best is trial 2 with value: 0.8133317103574302.\u001b[0m\n",
            "\u001b[32m[I 2021-10-18 15:18:54,230]\u001b[0m Trial 19 finished with value: 0.8066103454645 and parameters: {'vect__max_df': 0.46078692997753107, 'vect__max_features': 18501, 'tfidf__use_idf': False, 'clf__fit_prior': False, 'clf__alpha': 0.606389363155193}. Best is trial 2 with value: 0.8133317103574302.\u001b[0m\n",
            "\u001b[32m[I 2021-10-18 15:18:55,651]\u001b[0m Trial 20 finished with value: 0.7692793145286834 and parameters: {'vect__max_df': 0.013901958309717716, 'vect__max_features': 26121, 'tfidf__use_idf': False, 'clf__fit_prior': False, 'clf__alpha': 0.01658820601714822}. Best is trial 2 with value: 0.8133317103574302.\u001b[0m\n",
            "\u001b[32m[I 2021-10-18 15:18:57,106]\u001b[0m Trial 21 finished with value: 0.812722634272453 and parameters: {'vect__max_df': 0.5572528346711523, 'vect__max_features': 37549, 'tfidf__use_idf': False, 'clf__fit_prior': False, 'clf__alpha': 0.8082789945604801}. Best is trial 2 with value: 0.8133317103574302.\u001b[0m\n",
            "\u001b[32m[I 2021-10-18 15:18:58,573]\u001b[0m Trial 22 finished with value: 0.8120348776825042 and parameters: {'vect__max_df': 0.5377644225482325, 'vect__max_features': 37325, 'tfidf__use_idf': False, 'clf__fit_prior': False, 'clf__alpha': 0.8010544699578398}. Best is trial 2 with value: 0.8133317103574302.\u001b[0m\n",
            "\u001b[32m[I 2021-10-18 15:19:00,039]\u001b[0m Trial 23 finished with value: 0.8113928450030803 and parameters: {'vect__max_df': 0.5305905818524035, 'vect__max_features': 37644, 'tfidf__use_idf': False, 'clf__fit_prior': False, 'clf__alpha': 0.7863904208130633}. Best is trial 2 with value: 0.8133317103574302.\u001b[0m\n",
            "\u001b[32m[I 2021-10-18 15:19:01,513]\u001b[0m Trial 24 finished with value: 0.8119850066740181 and parameters: {'vect__max_df': 0.5576453337627831, 'vect__max_features': 28107, 'tfidf__use_idf': False, 'clf__fit_prior': False, 'clf__alpha': 0.7635601493189066}. Best is trial 2 with value: 0.8133317103574302.\u001b[0m\n",
            "\u001b[32m[I 2021-10-18 15:19:03,010]\u001b[0m Trial 25 finished with value: 0.8069931319752403 and parameters: {'vect__max_df': 0.403940565473506, 'vect__max_features': 31191, 'tfidf__use_idf': False, 'clf__fit_prior': False, 'clf__alpha': 0.6377083920453182}. Best is trial 2 with value: 0.8133317103574302.\u001b[0m\n",
            "\u001b[32m[I 2021-10-18 15:19:04,470]\u001b[0m Trial 26 finished with value: 0.8086690413216922 and parameters: {'vect__max_df': 0.8303521898612484, 'vect__max_features': 20011, 'tfidf__use_idf': False, 'clf__fit_prior': True, 'clf__alpha': 0.8622327651249803}. Best is trial 2 with value: 0.8133317103574302.\u001b[0m\n",
            "\u001b[32m[I 2021-10-18 15:19:05,918]\u001b[0m Trial 27 finished with value: 0.8102963766186194 and parameters: {'vect__max_df': 0.6129108813852573, 'vect__max_features': 49131, 'tfidf__use_idf': False, 'clf__fit_prior': False, 'clf__alpha': 0.7248498620907335}. Best is trial 2 with value: 0.8133317103574302.\u001b[0m\n",
            "\u001b[32m[I 2021-10-18 15:19:07,380]\u001b[0m Trial 28 finished with value: 0.8091328396597396 and parameters: {'vect__max_df': 0.4965295882020755, 'vect__max_features': 38780, 'tfidf__use_idf': False, 'clf__fit_prior': False, 'clf__alpha': 0.9830318025967628}. Best is trial 2 with value: 0.8133317103574302.\u001b[0m\n",
            "\u001b[32m[I 2021-10-18 15:19:08,890]\u001b[0m Trial 29 finished with value: 0.8054499425637672 and parameters: {'vect__max_df': 0.3995815216055357, 'vect__max_features': 40842, 'tfidf__use_idf': True, 'clf__fit_prior': True, 'clf__alpha': 0.6644469402222564}. Best is trial 2 with value: 0.8133317103574302.\u001b[0m\n",
            "\u001b[32m[I 2021-10-18 15:19:10,368]\u001b[0m Trial 30 finished with value: 0.8013636307074309 and parameters: {'vect__max_df': 0.9539213709106749, 'vect__max_features': 14514, 'tfidf__use_idf': False, 'clf__fit_prior': False, 'clf__alpha': 0.8088517401909376}. Best is trial 2 with value: 0.8133317103574302.\u001b[0m\n",
            "\u001b[32m[I 2021-10-18 15:19:11,823]\u001b[0m Trial 31 finished with value: 0.8119850066740181 and parameters: {'vect__max_df': 0.568194666116819, 'vect__max_features': 28391, 'tfidf__use_idf': False, 'clf__fit_prior': False, 'clf__alpha': 0.7500081042274154}. Best is trial 2 with value: 0.8133317103574302.\u001b[0m\n",
            "\u001b[32m[I 2021-10-18 15:19:13,303]\u001b[0m Trial 32 finished with value: 0.8102963766186194 and parameters: {'vect__max_df': 0.6574917454293451, 'vect__max_features': 28434, 'tfidf__use_idf': False, 'clf__fit_prior': False, 'clf__alpha': 0.7230351360894014}. Best is trial 2 with value: 0.8133317103574302.\u001b[0m\n",
            "\u001b[32m[I 2021-10-18 15:19:14,790]\u001b[0m Trial 33 finished with value: 0.8112970908137033 and parameters: {'vect__max_df': 0.5267262857143993, 'vect__max_features': 22925, 'tfidf__use_idf': False, 'clf__fit_prior': False, 'clf__alpha': 0.8529212546205079}. Best is trial 2 with value: 0.8133317103574302.\u001b[0m\n",
            "\u001b[32m[I 2021-10-18 15:19:16,312]\u001b[0m Trial 34 finished with value: 0.8082713851557715 and parameters: {'vect__max_df': 0.44341034694893044, 'vect__max_features': 40440, 'tfidf__use_idf': True, 'clf__fit_prior': False, 'clf__alpha': 0.579064593338277}. Best is trial 2 with value: 0.8133317103574302.\u001b[0m\n",
            "\u001b[32m[I 2021-10-18 15:19:17,778]\u001b[0m Trial 35 finished with value: 0.8034518042652958 and parameters: {'vect__max_df': 0.7654318525074781, 'vect__max_features': 45397, 'tfidf__use_idf': False, 'clf__fit_prior': False, 'clf__alpha': 0.5100853858555556}. Best is trial 2 with value: 0.8133317103574302.\u001b[0m\n",
            "\u001b[32m[I 2021-10-18 15:19:19,306]\u001b[0m Trial 36 finished with value: 0.8084860229449623 and parameters: {'vect__max_df': 0.6531419510114511, 'vect__max_features': 29978, 'tfidf__use_idf': True, 'clf__fit_prior': False, 'clf__alpha': 0.9187152539235457}. Best is trial 2 with value: 0.8133317103574302.\u001b[0m\n",
            "\u001b[32m[I 2021-10-18 15:19:20,753]\u001b[0m Trial 37 finished with value: 0.8119850066740181 and parameters: {'vect__max_df': 0.31681817642784776, 'vect__max_features': 34049, 'tfidf__use_idf': False, 'clf__fit_prior': False, 'clf__alpha': 0.7733507360428047}. Best is trial 2 with value: 0.8133317103574302.\u001b[0m\n",
            "\u001b[32m[I 2021-10-18 15:19:22,217]\u001b[0m Trial 38 finished with value: 0.8106920149594767 and parameters: {'vect__max_df': 0.28729604966126365, 'vect__max_features': 43764, 'tfidf__use_idf': False, 'clf__fit_prior': False, 'clf__alpha': 0.6825822637529515}. Best is trial 2 with value: 0.8133317103574302.\u001b[0m\n",
            "\u001b[32m[I 2021-10-18 15:19:23,767]\u001b[0m Trial 39 finished with value: 0.807122104203458 and parameters: {'vect__max_df': 0.11113721043924413, 'vect__max_features': 36329, 'tfidf__use_idf': True, 'clf__fit_prior': False, 'clf__alpha': 0.8701285435659036}. Best is trial 2 with value: 0.8133317103574302.\u001b[0m\n",
            "\u001b[32m[I 2021-10-18 15:19:25,232]\u001b[0m Trial 40 finished with value: 0.8120348776825042 and parameters: {'vect__max_df': 0.36828340362522616, 'vect__max_features': 33612, 'tfidf__use_idf': False, 'clf__fit_prior': True, 'clf__alpha': 0.7968608478624666}. Best is trial 2 with value: 0.8133317103574302.\u001b[0m\n",
            "\u001b[32m[I 2021-10-18 15:19:26,689]\u001b[0m Trial 41 finished with value: 0.8119850066740181 and parameters: {'vect__max_df': 0.4684245123252417, 'vect__max_features': 23205, 'tfidf__use_idf': False, 'clf__fit_prior': True, 'clf__alpha': 0.7557009695955033}. Best is trial 2 with value: 0.8133317103574302.\u001b[0m\n",
            "\u001b[32m[I 2021-10-18 15:19:28,163]\u001b[0m Trial 42 finished with value: 0.812722634272453 and parameters: {'vect__max_df': 0.49907132214601063, 'vect__max_features': 33112, 'tfidf__use_idf': False, 'clf__fit_prior': True, 'clf__alpha': 0.8268773557947122}. Best is trial 2 with value: 0.8133317103574302.\u001b[0m\n",
            "\u001b[32m[I 2021-10-18 15:19:29,665]\u001b[0m Trial 43 finished with value: 0.8102175585346526 and parameters: {'vect__max_df': 0.3897952177017604, 'vect__max_features': 33271, 'tfidf__use_idf': False, 'clf__fit_prior': True, 'clf__alpha': 0.9280648391818396}. Best is trial 2 with value: 0.8133317103574302.\u001b[0m\n",
            "\u001b[32m[I 2021-10-18 15:19:31,166]\u001b[0m Trial 44 finished with value: 0.8122346724045311 and parameters: {'vect__max_df': 0.6140970273380807, 'vect__max_features': 42015, 'tfidf__use_idf': False, 'clf__fit_prior': True, 'clf__alpha': 0.8351368579619007}. Best is trial 2 with value: 0.8133317103574302.\u001b[0m\n",
            "\u001b[32m[I 2021-10-18 15:19:32,669]\u001b[0m Trial 45 finished with value: 0.8132600999415617 and parameters: {'vect__max_df': 0.6826963990616131, 'vect__max_features': 41607, 'tfidf__use_idf': False, 'clf__fit_prior': True, 'clf__alpha': 0.8451101132918656}. Best is trial 2 with value: 0.8133317103574302.\u001b[0m\n",
            "\u001b[32m[I 2021-10-18 15:19:34,129]\u001b[0m Trial 46 finished with value: 0.8122346724045311 and parameters: {'vect__max_df': 0.8151343347485551, 'vect__max_features': 42665, 'tfidf__use_idf': False, 'clf__fit_prior': True, 'clf__alpha': 0.8393697531446542}. Best is trial 2 with value: 0.8133317103574302.\u001b[0m\n",
            "\u001b[32m[I 2021-10-18 15:19:35,629]\u001b[0m Trial 47 finished with value: 0.8088160867364993 and parameters: {'vect__max_df': 0.8125701515124121, 'vect__max_features': 46966, 'tfidf__use_idf': True, 'clf__fit_prior': True, 'clf__alpha': 0.9670560346356197}. Best is trial 2 with value: 0.8133317103574302.\u001b[0m\n",
            "\u001b[32m[I 2021-10-18 15:19:37,090]\u001b[0m Trial 48 finished with value: 0.8104530273587496 and parameters: {'vect__max_df': 0.6900450943924414, 'vect__max_features': 40361, 'tfidf__use_idf': False, 'clf__fit_prior': True, 'clf__alpha': 0.8937695597840387}. Best is trial 2 with value: 0.8133317103574302.\u001b[0m\n",
            "\u001b[32m[I 2021-10-18 15:19:38,554]\u001b[0m Trial 49 finished with value: 0.8102175585346526 and parameters: {'vect__max_df': 0.9475916657841217, 'vect__max_features': 43081, 'tfidf__use_idf': False, 'clf__fit_prior': True, 'clf__alpha': 0.9333804780720314}. Best is trial 2 with value: 0.8133317103574302.\u001b[0m\n",
            "\u001b[32m[I 2021-10-18 15:19:39,992]\u001b[0m Trial 50 finished with value: 0.8104530273587496 and parameters: {'vect__max_df': 0.8164855310081682, 'vect__max_features': 44511, 'tfidf__use_idf': False, 'clf__fit_prior': True, 'clf__alpha': 0.8926918379313564}. Best is trial 2 with value: 0.8133317103574302.\u001b[0m\n",
            "\u001b[32m[I 2021-10-18 15:19:41,495]\u001b[0m Trial 51 finished with value: 0.812722634272453 and parameters: {'vect__max_df': 0.6055733310266611, 'vect__max_features': 39429, 'tfidf__use_idf': False, 'clf__fit_prior': True, 'clf__alpha': 0.8135706013861976}. Best is trial 2 with value: 0.8133317103574302.\u001b[0m\n",
            "\u001b[32m[I 2021-10-18 15:19:42,961]\u001b[0m Trial 52 finished with value: 0.8122346724045311 and parameters: {'vect__max_df': 0.7005902949554971, 'vect__max_features': 46881, 'tfidf__use_idf': False, 'clf__fit_prior': True, 'clf__alpha': 0.8374697310824166}. Best is trial 2 with value: 0.8133317103574302.\u001b[0m\n",
            "\u001b[32m[I 2021-10-18 15:19:44,416]\u001b[0m Trial 53 finished with value: 0.8087036750593917 and parameters: {'vect__max_df': 0.6950299185645854, 'vect__max_features': 46991, 'tfidf__use_idf': False, 'clf__fit_prior': True, 'clf__alpha': 0.7005054886095805}. Best is trial 2 with value: 0.8133317103574302.\u001b[0m\n",
            "\u001b[32m[I 2021-10-18 15:19:45,832]\u001b[0m Trial 54 finished with value: 0.7621212244452373 and parameters: {'vect__max_df': 0.6109285645342968, 'vect__max_features': 2923, 'tfidf__use_idf': False, 'clf__fit_prior': True, 'clf__alpha': 0.331156186332653}. Best is trial 2 with value: 0.8133317103574302.\u001b[0m\n",
            "\u001b[32m[I 2021-10-18 15:19:47,292]\u001b[0m Trial 55 finished with value: 0.8022668027268072 and parameters: {'vect__max_df': 0.8715598954563342, 'vect__max_features': 38503, 'tfidf__use_idf': False, 'clf__fit_prior': True, 'clf__alpha': 0.22395654304059776}. Best is trial 2 with value: 0.8133317103574302.\u001b[0m\n",
            "\u001b[32m[I 2021-10-18 15:19:48,705]\u001b[0m Trial 56 finished with value: 0.7684756962443232 and parameters: {'vect__max_df': 0.7326878840977621, 'vect__max_features': 6336, 'tfidf__use_idf': False, 'clf__fit_prior': True, 'clf__alpha': 0.6215218629967177}. Best is trial 2 with value: 0.8133317103574302.\u001b[0m\n",
            "\u001b[32m[I 2021-10-18 15:19:50,161]\u001b[0m Trial 57 finished with value: 0.8091328396597396 and parameters: {'vect__max_df': 0.7822191224422914, 'vect__max_features': 35730, 'tfidf__use_idf': False, 'clf__fit_prior': True, 'clf__alpha': 0.9521767067808945}. Best is trial 2 with value: 0.8133317103574302.\u001b[0m\n",
            "\u001b[32m[I 2021-10-18 15:19:51,609]\u001b[0m Trial 58 finished with value: 0.812722634272453 and parameters: {'vect__max_df': 0.6757314633059113, 'vect__max_features': 49022, 'tfidf__use_idf': False, 'clf__fit_prior': True, 'clf__alpha': 0.8104128754627327}. Best is trial 2 with value: 0.8133317103574302.\u001b[0m\n",
            "\u001b[32m[I 2021-10-18 15:19:53,058]\u001b[0m Trial 59 finished with value: 0.8114970448060962 and parameters: {'vect__max_df': 0.49751531986588554, 'vect__max_features': 49860, 'tfidf__use_idf': False, 'clf__fit_prior': True, 'clf__alpha': 0.7430123202206061}. Best is trial 2 with value: 0.8133317103574302.\u001b[0m\n",
            "\u001b[32m[I 2021-10-18 15:19:54,560]\u001b[0m Trial 60 finished with value: 0.8082713851557715 and parameters: {'vect__max_df': 0.5812312929226452, 'vect__max_features': 32444, 'tfidf__use_idf': True, 'clf__fit_prior': True, 'clf__alpha': 0.579356218713497}. Best is trial 2 with value: 0.8133317103574302.\u001b[0m\n",
            "\u001b[32m[I 2021-10-18 15:19:56,013]\u001b[0m Trial 61 finished with value: 0.812722634272453 and parameters: {'vect__max_df': 0.6685698829341291, 'vect__max_features': 48040, 'tfidf__use_idf': False, 'clf__fit_prior': True, 'clf__alpha': 0.8101284731503001}. Best is trial 2 with value: 0.8133317103574302.\u001b[0m\n",
            "\u001b[32m[I 2021-10-18 15:19:57,459]\u001b[0m Trial 62 finished with value: 0.812722634272453 and parameters: {'vect__max_df': 0.647924746582671, 'vect__max_features': 48283, 'tfidf__use_idf': False, 'clf__fit_prior': True, 'clf__alpha': 0.8082866186954504}. Best is trial 2 with value: 0.8133317103574302.\u001b[0m\n",
            "\u001b[32m[I 2021-10-18 15:19:58,904]\u001b[0m Trial 63 finished with value: 0.8104530273587496 and parameters: {'vect__max_df': 0.6406097361597656, 'vect__max_features': 48212, 'tfidf__use_idf': False, 'clf__fit_prior': True, 'clf__alpha': 0.8858123638874132}. Best is trial 2 with value: 0.8133317103574302.\u001b[0m\n",
            "\u001b[32m[I 2021-10-18 15:20:00,380]\u001b[0m Trial 64 finished with value: 0.8119850066740181 and parameters: {'vect__max_df': 0.6751913578008342, 'vect__max_features': 45169, 'tfidf__use_idf': False, 'clf__fit_prior': True, 'clf__alpha': 0.7814196902341652}. Best is trial 2 with value: 0.8133317103574302.\u001b[0m\n",
            "\u001b[32m[I 2021-10-18 15:20:01,875]\u001b[0m Trial 65 finished with value: 0.8083628826653536 and parameters: {'vect__max_df': 0.6249112237982278, 'vect__max_features': 48279, 'tfidf__use_idf': False, 'clf__fit_prior': True, 'clf__alpha': 0.6482260868087002}. Best is trial 2 with value: 0.8133317103574302.\u001b[0m\n",
            "\u001b[32m[I 2021-10-18 15:20:03,369]\u001b[0m Trial 66 finished with value: 0.8087036750593917 and parameters: {'vect__max_df': 0.7323260666720169, 'vect__max_features': 41508, 'tfidf__use_idf': False, 'clf__fit_prior': True, 'clf__alpha': 0.7060146906675476}. Best is trial 2 with value: 0.8133317103574302.\u001b[0m\n",
            "\u001b[32m[I 2021-10-18 15:20:04,821]\u001b[0m Trial 67 finished with value: 0.812722634272453 and parameters: {'vect__max_df': 0.5574406424963455, 'vect__max_features': 45789, 'tfidf__use_idf': False, 'clf__fit_prior': True, 'clf__alpha': 0.8138345906402179}. Best is trial 2 with value: 0.8133317103574302.\u001b[0m\n",
            "\u001b[32m[I 2021-10-18 15:20:06,284]\u001b[0m Trial 68 finished with value: 0.8114429314499182 and parameters: {'vect__max_df': 0.5971106700975752, 'vect__max_features': 44152, 'tfidf__use_idf': False, 'clf__fit_prior': True, 'clf__alpha': 0.8652840654805353}. Best is trial 2 with value: 0.8133317103574302.\u001b[0m\n",
            "\u001b[32m[I 2021-10-18 15:20:07,746]\u001b[0m Trial 69 finished with value: 0.8034518042652958 and parameters: {'vect__max_df': 0.43095656509211966, 'vect__max_features': 37625, 'tfidf__use_idf': False, 'clf__fit_prior': True, 'clf__alpha': 0.491636954731657}. Best is trial 2 with value: 0.8133317103574302.\u001b[0m\n",
            "\u001b[32m[I 2021-10-18 15:20:09,219]\u001b[0m Trial 70 finished with value: 0.8085971568935235 and parameters: {'vect__max_df': 0.26586827787140044, 'vect__max_features': 39313, 'tfidf__use_idf': False, 'clf__fit_prior': True, 'clf__alpha': 0.7378894810515436}. Best is trial 2 with value: 0.8133317103574302.\u001b[0m\n",
            "\u001b[32m[I 2021-10-18 15:20:10,668]\u001b[0m Trial 71 finished with value: 0.812722634272453 and parameters: {'vect__max_df': 0.6662900627259809, 'vect__max_features': 48246, 'tfidf__use_idf': False, 'clf__fit_prior': True, 'clf__alpha': 0.8152473947904957}. Best is trial 2 with value: 0.8133317103574302.\u001b[0m\n",
            "\u001b[32m[I 2021-10-18 15:20:12,142]\u001b[0m Trial 72 finished with value: 0.8119850066740181 and parameters: {'vect__max_df': 0.5537676912282875, 'vect__max_features': 46603, 'tfidf__use_idf': False, 'clf__fit_prior': True, 'clf__alpha': 0.7692061737129285}. Best is trial 2 with value: 0.8133317103574302.\u001b[0m\n",
            "\u001b[32m[I 2021-10-18 15:20:13,562]\u001b[0m Trial 73 finished with value: 0.8091328396597396 and parameters: {'vect__max_df': 0.5248603028057206, 'vect__max_features': 47984, 'tfidf__use_idf': False, 'clf__fit_prior': True, 'clf__alpha': 0.9982954556030834}. Best is trial 2 with value: 0.8133317103574302.\u001b[0m\n",
            "\u001b[32m[I 2021-10-18 15:20:15,297]\u001b[0m Trial 74 finished with value: 0.7869491157689841 and parameters: {'vect__max_df': 0.08522183832216129, 'vect__max_features': 45175, 'tfidf__use_idf': False, 'clf__fit_prior': True, 'clf__alpha': 0.11573597999040292}. Best is trial 2 with value: 0.8133317103574302.\u001b[0m\n",
            "\u001b[32m[I 2021-10-18 15:20:16,774]\u001b[0m Trial 75 finished with value: 0.7997180450654018 and parameters: {'vect__max_df': 0.47596648667727937, 'vect__max_features': 15914, 'tfidf__use_idf': False, 'clf__fit_prior': True, 'clf__alpha': 0.8990652511351733}. Best is trial 2 with value: 0.8133317103574302.\u001b[0m\n",
            "\u001b[32m[I 2021-10-18 15:20:18,239]\u001b[0m Trial 76 finished with value: 0.8113928450030803 and parameters: {'vect__max_df': 0.6545636150293811, 'vect__max_features': 43116, 'tfidf__use_idf': False, 'clf__fit_prior': True, 'clf__alpha': 0.7869565302086261}. Best is trial 2 with value: 0.8133317103574302.\u001b[0m\n",
            "\u001b[32m[I 2021-10-18 15:20:19,728]\u001b[0m Trial 77 finished with value: 0.7906201884482786 and parameters: {'vect__max_df': 0.7668237475471148, 'vect__max_features': 11080, 'tfidf__use_idf': True, 'clf__fit_prior': False, 'clf__alpha': 0.8123367756737728}. Best is trial 2 with value: 0.8133317103574302.\u001b[0m\n",
            "\u001b[32m[I 2021-10-18 15:20:21,169]\u001b[0m Trial 78 finished with value: 0.8087036750593917 and parameters: {'vect__max_df': 0.5696420294183604, 'vect__max_features': 45945, 'tfidf__use_idf': False, 'clf__fit_prior': True, 'clf__alpha': 0.6913292482775891}. Best is trial 2 with value: 0.8133317103574302.\u001b[0m\n",
            "\u001b[32m[I 2021-10-18 15:20:22,643]\u001b[0m Trial 79 finished with value: 0.812722634272453 and parameters: {'vect__max_df': 0.713111222147115, 'vect__max_features': 40731, 'tfidf__use_idf': False, 'clf__fit_prior': False, 'clf__alpha': 0.8302774470285061}. Best is trial 2 with value: 0.8133317103574302.\u001b[0m\n",
            "\u001b[32m[I 2021-10-18 15:20:24,092]\u001b[0m Trial 80 finished with value: 0.8123225183507339 and parameters: {'vect__max_df': 0.7011318080679487, 'vect__max_features': 49953, 'tfidf__use_idf': False, 'clf__fit_prior': False, 'clf__alpha': 0.8625244803526129}. Best is trial 2 with value: 0.8133317103574302.\u001b[0m\n",
            "\u001b[32m[I 2021-10-18 15:20:25,573]\u001b[0m Trial 81 finished with value: 0.812722634272453 and parameters: {'vect__max_df': 0.6718889576272081, 'vect__max_features': 48665, 'tfidf__use_idf': False, 'clf__fit_prior': True, 'clf__alpha': 0.8162131618357062}. Best is trial 2 with value: 0.8133317103574302.\u001b[0m\n",
            "\u001b[32m[I 2021-10-18 15:20:26,995]\u001b[0m Trial 82 finished with value: 0.8119850066740181 and parameters: {'vect__max_df': 0.6368814844289832, 'vect__max_features': 30010, 'tfidf__use_idf': False, 'clf__fit_prior': True, 'clf__alpha': 0.7574010709998118}. Best is trial 2 with value: 0.8133317103574302.\u001b[0m\n",
            "\u001b[32m[I 2021-10-18 15:20:28,478]\u001b[0m Trial 83 finished with value: 0.8132600999415617 and parameters: {'vect__max_df': 0.7219067844875072, 'vect__max_features': 41496, 'tfidf__use_idf': False, 'clf__fit_prior': False, 'clf__alpha': 0.846585393731496}. Best is trial 2 with value: 0.8133317103574302.\u001b[0m\n",
            "\u001b[32m[I 2021-10-18 15:20:29,965]\u001b[0m Trial 84 finished with value: 0.8091328396597396 and parameters: {'vect__max_df': 0.7353926385116231, 'vect__max_features': 35905, 'tfidf__use_idf': False, 'clf__fit_prior': False, 'clf__alpha': 0.9554891785608124}. Best is trial 2 with value: 0.8133317103574302.\u001b[0m\n",
            "\u001b[32m[I 2021-10-18 15:20:31,438]\u001b[0m Trial 85 finished with value: 0.8081216697122151 and parameters: {'vect__max_df': 0.17023419630881875, 'vect__max_features': 42042, 'tfidf__use_idf': False, 'clf__fit_prior': True, 'clf__alpha': 0.8583999702358331}. Best is trial 2 with value: 0.8133317103574302.\u001b[0m\n",
            "\u001b[32m[I 2021-10-18 15:20:32,917]\u001b[0m Trial 86 finished with value: 0.8111214273526409 and parameters: {'vect__max_df': 0.5888703935939053, 'vect__max_features': 39731, 'tfidf__use_idf': False, 'clf__fit_prior': False, 'clf__alpha': 0.9106528829016796}. Best is trial 2 with value: 0.8133317103574302.\u001b[0m\n",
            "\u001b[32m[I 2021-10-18 15:20:34,376]\u001b[0m Trial 87 finished with value: 0.8102963766186194 and parameters: {'vect__max_df': 0.7927470323967828, 'vect__max_features': 44140, 'tfidf__use_idf': False, 'clf__fit_prior': False, 'clf__alpha': 0.7252320974774241}. Best is trial 2 with value: 0.8133317103574302.\u001b[0m\n",
            "\u001b[32m[I 2021-10-18 15:20:35,840]\u001b[0m Trial 88 finished with value: 0.8120348776825042 and parameters: {'vect__max_df': 0.5295302985863118, 'vect__max_features': 47548, 'tfidf__use_idf': False, 'clf__fit_prior': False, 'clf__alpha': 0.7990111397531957}. Best is trial 2 with value: 0.8133317103574302.\u001b[0m\n",
            "\u001b[32m[I 2021-10-18 15:20:37,397]\u001b[0m Trial 89 finished with value: 0.8098266535604589 and parameters: {'vect__max_df': 0.8645637195209572, 'vect__max_features': 34823, 'tfidf__use_idf': True, 'clf__fit_prior': False, 'clf__alpha': 0.881344486526073}. Best is trial 2 with value: 0.8133317103574302.\u001b[0m\n",
            "\u001b[32m[I 2021-10-18 15:20:38,861]\u001b[0m Trial 90 finished with value: 0.8132600999415617 and parameters: {'vect__max_df': 0.7526523654595898, 'vect__max_features': 45935, 'tfidf__use_idf': False, 'clf__fit_prior': False, 'clf__alpha': 0.8480114674066359}. Best is trial 2 with value: 0.8133317103574302.\u001b[0m\n",
            "\u001b[32m[I 2021-10-18 15:20:40,343]\u001b[0m Trial 91 finished with value: 0.8132600999415617 and parameters: {'vect__max_df': 0.6805967338976693, 'vect__max_features': 49135, 'tfidf__use_idf': False, 'clf__fit_prior': False, 'clf__alpha': 0.8495595247708326}. Best is trial 2 with value: 0.8133317103574302.\u001b[0m\n",
            "\u001b[32m[I 2021-10-18 15:20:41,782]\u001b[0m Trial 92 finished with value: 0.8111214273526409 and parameters: {'vect__max_df': 0.6743413077666173, 'vect__max_features': 49195, 'tfidf__use_idf': False, 'clf__fit_prior': False, 'clf__alpha': 0.9170414020082437}. Best is trial 2 with value: 0.8133317103574302.\u001b[0m\n",
            "\u001b[32m[I 2021-10-18 15:20:43,290]\u001b[0m Trial 93 finished with value: 0.8122346724045311 and parameters: {'vect__max_df': 0.7531175739869201, 'vect__max_features': 45787, 'tfidf__use_idf': False, 'clf__fit_prior': False, 'clf__alpha': 0.8380054145939531}. Best is trial 2 with value: 0.8133317103574302.\u001b[0m\n",
            "\u001b[32m[I 2021-10-18 15:20:44,771]\u001b[0m Trial 94 finished with value: 0.8119850066740181 and parameters: {'vect__max_df': 0.7186549336162362, 'vect__max_features': 46046, 'tfidf__use_idf': False, 'clf__fit_prior': False, 'clf__alpha': 0.7693470194989742}. Best is trial 2 with value: 0.8133317103574302.\u001b[0m\n",
            "\u001b[32m[I 2021-10-18 15:20:46,261]\u001b[0m Trial 95 finished with value: 0.8132600999415617 and parameters: {'vect__max_df': 0.71375357726015, 'vect__max_features': 43282, 'tfidf__use_idf': False, 'clf__fit_prior': False, 'clf__alpha': 0.8443576515253407}. Best is trial 2 with value: 0.8133317103574302.\u001b[0m\n",
            "\u001b[32m[I 2021-10-18 15:20:47,713]\u001b[0m Trial 96 finished with value: 0.8132600999415617 and parameters: {'vect__max_df': 0.7528621435033909, 'vect__max_features': 24364, 'tfidf__use_idf': False, 'clf__fit_prior': False, 'clf__alpha': 0.8508980295242257}. Best is trial 2 with value: 0.8133317103574302.\u001b[0m\n",
            "\u001b[32m[I 2021-10-18 15:20:49,175]\u001b[0m Trial 97 finished with value: 0.8104530273587496 and parameters: {'vect__max_df': 0.853528420600551, 'vect__max_features': 24660, 'tfidf__use_idf': False, 'clf__fit_prior': False, 'clf__alpha': 0.874580632451732}. Best is trial 2 with value: 0.8133317103574302.\u001b[0m\n",
            "\u001b[32m[I 2021-10-18 15:20:50,652]\u001b[0m Trial 98 finished with value: 0.8083287817526477 and parameters: {'vect__max_df': 0.7923052865759407, 'vect__max_features': 21859, 'tfidf__use_idf': False, 'clf__fit_prior': False, 'clf__alpha': 0.939957418550605}. Best is trial 2 with value: 0.8133317103574302.\u001b[0m\n",
            "\u001b[32m[I 2021-10-18 15:20:52,097]\u001b[0m Trial 99 finished with value: 0.8132600999415617 and parameters: {'vect__max_df': 0.7201412939814352, 'vect__max_features': 40726, 'tfidf__use_idf': False, 'clf__fit_prior': False, 'clf__alpha': 0.8498573137449785}. Best is trial 2 with value: 0.8133317103574302.\u001b[0m\n",
            "\u001b[32m[I 2021-10-18 15:20:53,581]\u001b[0m Trial 100 finished with value: 0.8111214273526409 and parameters: {'vect__max_df': 0.7584891037760393, 'vect__max_features': 42146, 'tfidf__use_idf': False, 'clf__fit_prior': False, 'clf__alpha': 0.9067581242282482}. Best is trial 2 with value: 0.8133317103574302.\u001b[0m\n",
            "\u001b[32m[I 2021-10-18 15:20:54,998]\u001b[0m Trial 101 finished with value: 0.8091328396597396 and parameters: {'vect__max_df': 0.7375937340056707, 'vect__max_features': 44524, 'tfidf__use_idf': False, 'clf__fit_prior': False, 'clf__alpha': 0.9714069218419961}. Best is trial 2 with value: 0.8133317103574302.\u001b[0m\n",
            "\u001b[32m[I 2021-10-18 15:20:56,445]\u001b[0m Trial 102 finished with value: 0.8132600999415617 and parameters: {'vect__max_df': 0.6337211442098967, 'vect__max_features': 37415, 'tfidf__use_idf': False, 'clf__fit_prior': False, 'clf__alpha': 0.8444093223373181}. Best is trial 2 with value: 0.8133317103574302.\u001b[0m\n",
            "\u001b[32m[I 2021-10-18 15:20:57,904]\u001b[0m Trial 103 finished with value: 0.8132600999415617 and parameters: {'vect__max_df': 0.9019618421472164, 'vect__max_features': 26265, 'tfidf__use_idf': False, 'clf__fit_prior': False, 'clf__alpha': 0.8496098977006526}. Best is trial 2 with value: 0.8133317103574302.\u001b[0m\n",
            "\u001b[32m[I 2021-10-18 15:20:59,390]\u001b[0m Trial 104 finished with value: 0.8132600999415617 and parameters: {'vect__max_df': 0.9201730941498103, 'vect__max_features': 25024, 'tfidf__use_idf': False, 'clf__fit_prior': False, 'clf__alpha': 0.8538469533435594}. Best is trial 2 with value: 0.8133317103574302.\u001b[0m\n",
            "\u001b[32m[I 2021-10-18 15:21:00,853]\u001b[0m Trial 105 finished with value: 0.8123225183507339 and parameters: {'vect__max_df': 0.8252596270456171, 'vect__max_features': 27279, 'tfidf__use_idf': False, 'clf__fit_prior': False, 'clf__alpha': 0.8612044247131733}. Best is trial 2 with value: 0.8133317103574302.\u001b[0m\n",
            "\u001b[32m[I 2021-10-18 15:21:02,364]\u001b[0m Trial 106 finished with value: 0.8132600999415617 and parameters: {'vect__max_df': 0.928357420504835, 'vect__max_features': 25429, 'tfidf__use_idf': False, 'clf__fit_prior': False, 'clf__alpha': 0.8487094635348853}. Best is trial 2 with value: 0.8133317103574302.\u001b[0m\n",
            "\u001b[32m[I 2021-10-18 15:21:03,869]\u001b[0m Trial 107 finished with value: 0.808254332172695 and parameters: {'vect__max_df': 0.940665129603956, 'vect__max_features': 20257, 'tfidf__use_idf': False, 'clf__fit_prior': False, 'clf__alpha': 0.888203881467802}. Best is trial 2 with value: 0.8133317103574302.\u001b[0m\n",
            "\u001b[32m[I 2021-10-18 15:21:05,317]\u001b[0m Trial 108 finished with value: 0.8102175585346526 and parameters: {'vect__max_df': 0.9126805322900211, 'vect__max_features': 26160, 'tfidf__use_idf': False, 'clf__fit_prior': False, 'clf__alpha': 0.9283722256315389}. Best is trial 2 with value: 0.8133317103574302.\u001b[0m\n",
            "\u001b[32m[I 2021-10-18 15:21:06,810]\u001b[0m Trial 109 finished with value: 0.8100766757792719 and parameters: {'vect__max_df': 0.9656675376090343, 'vect__max_features': 22423, 'tfidf__use_idf': True, 'clf__fit_prior': False, 'clf__alpha': 0.847885311661531}. Best is trial 2 with value: 0.8133317103574302.\u001b[0m\n",
            "\u001b[32m[I 2021-10-18 15:21:08,252]\u001b[0m Trial 110 finished with value: 0.8120348776825042 and parameters: {'vect__max_df': 0.9917917898824307, 'vect__max_features': 24524, 'tfidf__use_idf': False, 'clf__fit_prior': False, 'clf__alpha': 0.7916873426844658}. Best is trial 2 with value: 0.8133317103574302.\u001b[0m\n",
            "\u001b[32m[I 2021-10-18 15:21:09,692]\u001b[0m Trial 111 finished with value: 0.8132600999415617 and parameters: {'vect__max_df': 0.9096067977676934, 'vect__max_features': 23609, 'tfidf__use_idf': False, 'clf__fit_prior': False, 'clf__alpha': 0.8526990081452797}. Best is trial 2 with value: 0.8133317103574302.\u001b[0m\n",
            "\u001b[32m[I 2021-10-18 15:21:11,172]\u001b[0m Trial 112 finished with value: 0.8114166500569672 and parameters: {'vect__max_df': 0.8321975200508753, 'vect__max_features': 20620, 'tfidf__use_idf': False, 'clf__fit_prior': False, 'clf__alpha': 0.8422804626842271}. Best is trial 2 with value: 0.8133317103574302.\u001b[0m\n",
            "\u001b[32m[I 2021-10-18 15:21:12,619]\u001b[0m Trial 113 finished with value: 0.8104530273587496 and parameters: {'vect__max_df': 0.7105407659049194, 'vect__max_features': 23565, 'tfidf__use_idf': False, 'clf__fit_prior': False, 'clf__alpha': 0.8850857268153964}. Best is trial 2 with value: 0.8133317103574302.\u001b[0m\n",
            "\u001b[32m[I 2021-10-18 15:21:14,132]\u001b[0m Trial 114 finished with value: 0.8122346724045311 and parameters: {'vect__max_df': 0.7758805509055856, 'vect__max_features': 29726, 'tfidf__use_idf': False, 'clf__fit_prior': False, 'clf__alpha': 0.830912443672835}. Best is trial 2 with value: 0.8133317103574302.\u001b[0m\n",
            "\u001b[32m[I 2021-10-18 15:21:15,621]\u001b[0m Trial 115 finished with value: 0.8061634366043539 and parameters: {'vect__max_df': 0.9132334682041555, 'vect__max_features': 26967, 'tfidf__use_idf': False, 'clf__fit_prior': False, 'clf__alpha': 0.366132688497004}. Best is trial 2 with value: 0.8133317103574302.\u001b[0m\n",
            "\u001b[32m[I 2021-10-18 15:21:17,091]\u001b[0m Trial 116 finished with value: 0.8035232828434324 and parameters: {'vect__max_df': 0.8990863277798202, 'vect__max_features': 18244, 'tfidf__use_idf': False, 'clf__fit_prior': False, 'clf__alpha': 0.9023183780406936}. Best is trial 2 with value: 0.8133317103574302.\u001b[0m\n",
            "\u001b[32m[I 2021-10-18 15:21:18,565]\u001b[0m Trial 117 finished with value: 0.8098089916283225 and parameters: {'vect__max_df': 0.8920108115277782, 'vect__max_features': 25001, 'tfidf__use_idf': False, 'clf__fit_prior': False, 'clf__alpha': 0.8717932109868648}. Best is trial 2 with value: 0.8133317103574302.\u001b[0m\n",
            "\u001b[32m[I 2021-10-18 15:21:20,001]\u001b[0m Trial 118 finished with value: 0.8102175585346526 and parameters: {'vect__max_df': 0.9917034150331151, 'vect__max_features': 28471, 'tfidf__use_idf': False, 'clf__fit_prior': False, 'clf__alpha': 0.9311485624612125}. Best is trial 2 with value: 0.8133317103574302.\u001b[0m\n",
            "\u001b[32m[I 2021-10-18 15:21:21,459]\u001b[0m Trial 119 finished with value: 0.8080316048713575 and parameters: {'vect__max_df': 0.9208919515201314, 'vect__max_features': 21082, 'tfidf__use_idf': False, 'clf__fit_prior': False, 'clf__alpha': 0.7785727913013152}. Best is trial 2 with value: 0.8133317103574302.\u001b[0m\n",
            "\u001b[32m[I 2021-10-18 15:21:22,917]\u001b[0m Trial 120 finished with value: 0.8102175585346526 and parameters: {'vect__max_df': 0.6892622374134473, 'vect__max_features': 25659, 'tfidf__use_idf': False, 'clf__fit_prior': False, 'clf__alpha': 0.947956864580217}. Best is trial 2 with value: 0.8133317103574302.\u001b[0m\n",
            "\u001b[32m[I 2021-10-18 15:21:24,396]\u001b[0m Trial 121 finished with value: 0.8132600999415617 and parameters: {'vect__max_df': 0.8474737127383045, 'vect__max_features': 23824, 'tfidf__use_idf': False, 'clf__fit_prior': False, 'clf__alpha': 0.8490260675462981}. Best is trial 2 with value: 0.8133317103574302.\u001b[0m\n",
            "\u001b[32m[I 2021-10-18 15:21:25,875]\u001b[0m Trial 122 finished with value: 0.8075083053931452 and parameters: {'vect__max_df': 0.8469135556927735, 'vect__max_features': 19355, 'tfidf__use_idf': False, 'clf__fit_prior': False, 'clf__alpha': 0.8559874162938953}. Best is trial 2 with value: 0.8133317103574302.\u001b[0m\n",
            "\u001b[32m[I 2021-10-18 15:21:27,350]\u001b[0m Trial 123 finished with value: 0.8076603817587562 and parameters: {'vect__max_df': 0.884162503037247, 'vect__max_features': 21755, 'tfidf__use_idf': False, 'clf__fit_prior': False, 'clf__alpha': 0.8768224171914538}. Best is trial 2 with value: 0.8133317103574302.\u001b[0m\n",
            "\u001b[32m[I 2021-10-18 15:21:28,815]\u001b[0m Trial 124 finished with value: 0.8122346724045311 and parameters: {'vect__max_df': 0.7995422318547417, 'vect__max_features': 23936, 'tfidf__use_idf': False, 'clf__fit_prior': False, 'clf__alpha': 0.8347532298317635}. Best is trial 2 with value: 0.8133317103574302.\u001b[0m\n",
            "\u001b[32m[I 2021-10-18 15:21:30,304]\u001b[0m Trial 125 finished with value: 0.8034525284120072 and parameters: {'vect__max_df': 0.9669514691185986, 'vect__max_features': 41376, 'tfidf__use_idf': False, 'clf__fit_prior': False, 'clf__alpha': 0.5406970378598085}. Best is trial 2 with value: 0.8133317103574302.\u001b[0m\n",
            "\u001b[32m[I 2021-10-18 15:21:31,748]\u001b[0m Trial 126 finished with value: 0.8120348776825042 and parameters: {'vect__max_df': 0.930564158200586, 'vect__max_features': 38196, 'tfidf__use_idf': False, 'clf__fit_prior': False, 'clf__alpha': 0.7947181507036271}. Best is trial 2 with value: 0.8133317103574302.\u001b[0m\n",
            "\u001b[32m[I 2021-10-18 15:21:33,245]\u001b[0m Trial 127 finished with value: 0.8119850066740181 and parameters: {'vect__max_df': 0.8376294162581119, 'vect__max_features': 22722, 'tfidf__use_idf': False, 'clf__fit_prior': False, 'clf__alpha': 0.7511944475775847}. Best is trial 2 with value: 0.8133317103574302.\u001b[0m\n",
            "\u001b[32m[I 2021-10-18 15:21:34,690]\u001b[0m Trial 128 finished with value: 0.8055519952682861 and parameters: {'vect__max_df': 0.7443308352850918, 'vect__max_features': 26369, 'tfidf__use_idf': False, 'clf__fit_prior': False, 'clf__alpha': 0.45134510358771374}. Best is trial 2 with value: 0.8133317103574302.\u001b[0m\n",
            "\u001b[32m[I 2021-10-18 15:21:36,162]\u001b[0m Trial 129 finished with value: 0.7893207508613729 and parameters: {'vect__max_df': 0.011608364642262739, 'vect__max_features': 27809, 'tfidf__use_idf': True, 'clf__fit_prior': False, 'clf__alpha': 0.8235701121355247}. Best is trial 2 with value: 0.8133317103574302.\u001b[0m\n",
            "\u001b[32m[I 2021-10-18 15:21:37,658]\u001b[0m Trial 130 finished with value: 0.8010604722326546 and parameters: {'vect__max_df': 0.8695290450035525, 'vect__max_features': 17591, 'tfidf__use_idf': False, 'clf__fit_prior': False, 'clf__alpha': 0.8898301267145516}. Best is trial 2 with value: 0.8133317103574302.\u001b[0m\n",
            "\u001b[32m[I 2021-10-18 15:21:39,093]\u001b[0m Trial 131 finished with value: 0.8132600999415617 and parameters: {'vect__max_df': 0.8960161001649867, 'vect__max_features': 28849, 'tfidf__use_idf': False, 'clf__fit_prior': False, 'clf__alpha': 0.8486923339093864}. Best is trial 2 with value: 0.8133317103574302.\u001b[0m\n",
            "\u001b[32m[I 2021-10-18 15:21:40,529]\u001b[0m Trial 132 finished with value: 0.8123225183507339 and parameters: {'vect__max_df': 0.8983722954632914, 'vect__max_features': 24097, 'tfidf__use_idf': False, 'clf__fit_prior': False, 'clf__alpha': 0.8560750495765367}. Best is trial 2 with value: 0.8133317103574302.\u001b[0m\n",
            "\u001b[32m[I 2021-10-18 15:21:41,954]\u001b[0m Trial 133 finished with value: 0.8111214273526409 and parameters: {'vect__max_df': 0.930496913487098, 'vect__max_features': 25527, 'tfidf__use_idf': False, 'clf__fit_prior': False, 'clf__alpha': 0.9144695258147325}. Best is trial 2 with value: 0.8133317103574302.\u001b[0m\n",
            "\u001b[32m[I 2021-10-18 15:21:43,439]\u001b[0m Trial 134 finished with value: 0.812722634272453 and parameters: {'vect__max_df': 0.7153489303780775, 'vect__max_features': 42820, 'tfidf__use_idf': False, 'clf__fit_prior': False, 'clf__alpha': 0.8264807154372633}. Best is trial 2 with value: 0.8133317103574302.\u001b[0m\n",
            "\u001b[32m[I 2021-10-18 15:21:44,928]\u001b[0m Trial 135 finished with value: 0.8098089916283225 and parameters: {'vect__max_df': 0.9561018099466524, 'vect__max_features': 31346, 'tfidf__use_idf': False, 'clf__fit_prior': False, 'clf__alpha': 0.8726844825455912}. Best is trial 2 with value: 0.8133317103574302.\u001b[0m\n",
            "\u001b[32m[I 2021-10-18 15:21:46,428]\u001b[0m Trial 136 finished with value: 0.8120348776825042 and parameters: {'vect__max_df': 0.8599309553547076, 'vect__max_features': 29026, 'tfidf__use_idf': False, 'clf__fit_prior': False, 'clf__alpha': 0.7997793515240011}. Best is trial 2 with value: 0.8133317103574302.\u001b[0m\n",
            "\u001b[32m[I 2021-10-18 15:21:47,914]\u001b[0m Trial 137 finished with value: 0.8132600999415617 and parameters: {'vect__max_df': 0.7682407848519338, 'vect__max_features': 27063, 'tfidf__use_idf': False, 'clf__fit_prior': False, 'clf__alpha': 0.8515773336338844}. Best is trial 2 with value: 0.8133317103574302.\u001b[0m\n",
            "\u001b[32m[I 2021-10-18 15:21:49,371]\u001b[0m Trial 138 finished with value: 0.8104530273587496 and parameters: {'vect__max_df': 0.7507039497933237, 'vect__max_features': 40311, 'tfidf__use_idf': False, 'clf__fit_prior': False, 'clf__alpha': 0.8992313623604674}. Best is trial 2 with value: 0.8133317103574302.\u001b[0m\n",
            "\u001b[32m[I 2021-10-18 15:21:50,807]\u001b[0m Trial 139 finished with value: 0.8132600999415617 and parameters: {'vect__max_df': 0.8034035602487752, 'vect__max_features': 26316, 'tfidf__use_idf': False, 'clf__fit_prior': False, 'clf__alpha': 0.8465916801393484}. Best is trial 2 with value: 0.8133317103574302.\u001b[0m\n",
            "\u001b[32m[I 2021-10-18 15:21:52,258]\u001b[0m Trial 140 finished with value: 0.812722634272453 and parameters: {'vect__max_df': 0.8041094361971224, 'vect__max_features': 23411, 'tfidf__use_idf': False, 'clf__fit_prior': False, 'clf__alpha': 0.8236837731604512}. Best is trial 2 with value: 0.8133317103574302.\u001b[0m\n",
            "\u001b[32m[I 2021-10-18 15:21:53,705]\u001b[0m Trial 141 finished with value: 0.8119850066740181 and parameters: {'vect__max_df': 0.7700674924728919, 'vect__max_features': 26976, 'tfidf__use_idf': False, 'clf__fit_prior': False, 'clf__alpha': 0.778681737905053}. Best is trial 2 with value: 0.8133317103574302.\u001b[0m\n",
            "\u001b[32m[I 2021-10-18 15:21:55,111]\u001b[0m Trial 142 finished with value: 0.8132600999415617 and parameters: {'vect__max_df': 0.8756504245033487, 'vect__max_features': 25304, 'tfidf__use_idf': False, 'clf__fit_prior': False, 'clf__alpha': 0.8501172320401992}. Best is trial 2 with value: 0.8133317103574302.\u001b[0m\n",
            "\u001b[32m[I 2021-10-18 15:21:56,568]\u001b[0m Trial 143 finished with value: 0.8112970908137033 and parameters: {'vect__max_df': 0.6906850498637799, 'vect__max_features': 22420, 'tfidf__use_idf': False, 'clf__fit_prior': False, 'clf__alpha': 0.8455724814435579}. Best is trial 2 with value: 0.8133317103574302.\u001b[0m\n",
            "\u001b[32m[I 2021-10-18 15:21:57,995]\u001b[0m Trial 144 finished with value: 0.8098089916283225 and parameters: {'vect__max_df': 0.8874752640990082, 'vect__max_features': 25008, 'tfidf__use_idf': False, 'clf__fit_prior': False, 'clf__alpha': 0.8685067611261943}. Best is trial 2 with value: 0.8133317103574302.\u001b[0m\n",
            "\u001b[32m[I 2021-10-18 15:21:59,455]\u001b[0m Trial 145 finished with value: 0.8104530273587496 and parameters: {'vect__max_df': 0.7230624840092386, 'vect__max_features': 43356, 'tfidf__use_idf': False, 'clf__fit_prior': False, 'clf__alpha': 0.8954440920046949}. Best is trial 2 with value: 0.8133317103574302.\u001b[0m\n",
            "\u001b[32m[I 2021-10-18 15:22:00,913]\u001b[0m Trial 146 finished with value: 0.8120348776825042 and parameters: {'vect__max_df': 0.7842465444006865, 'vect__max_features': 27862, 'tfidf__use_idf': False, 'clf__fit_prior': False, 'clf__alpha': 0.798053191680729}. Best is trial 2 with value: 0.8133317103574302.\u001b[0m\n",
            "\u001b[32m[I 2021-10-18 15:22:02,412]\u001b[0m Trial 147 finished with value: 0.8111214273526409 and parameters: {'vect__max_df': 0.6302306916138984, 'vect__max_features': 41243, 'tfidf__use_idf': False, 'clf__fit_prior': False, 'clf__alpha': 0.9184183493145113}. Best is trial 2 with value: 0.8133317103574302.\u001b[0m\n",
            "\u001b[32m[I 2021-10-18 15:22:03,870]\u001b[0m Trial 148 finished with value: 0.812722634272453 and parameters: {'vect__max_df': 0.7330271340200698, 'vect__max_features': 37143, 'tfidf__use_idf': False, 'clf__fit_prior': False, 'clf__alpha': 0.8199294146083678}. Best is trial 2 with value: 0.8133317103574302.\u001b[0m\n",
            "\u001b[32m[I 2021-10-18 15:22:05,317]\u001b[0m Trial 149 finished with value: 0.8122346724045311 and parameters: {'vect__max_df': 0.8443105654282865, 'vect__max_features': 27092, 'tfidf__use_idf': False, 'clf__fit_prior': False, 'clf__alpha': 0.8389786662889117}. Best is trial 2 with value: 0.8133317103574302.\u001b[0m\n",
            "\u001b[32m[I 2021-10-18 15:22:06,765]\u001b[0m Trial 150 finished with value: 0.8114429314499182 and parameters: {'vect__max_df': 0.8175268563424692, 'vect__max_features': 26057, 'tfidf__use_idf': False, 'clf__fit_prior': False, 'clf__alpha': 0.8649252139957141}. Best is trial 2 with value: 0.8133317103574302.\u001b[0m\n",
            "\u001b[32m[I 2021-10-18 15:22:08,230]\u001b[0m Trial 151 finished with value: 0.8132600999415617 and parameters: {'vect__max_df': 0.8747700064758837, 'vect__max_features': 29240, 'tfidf__use_idf': False, 'clf__fit_prior': False, 'clf__alpha': 0.8514777106612339}. Best is trial 2 with value: 0.8133317103574302.\u001b[0m\n",
            "\u001b[32m[I 2021-10-18 15:22:09,668]\u001b[0m Trial 152 finished with value: 0.8104530273587496 and parameters: {'vect__max_df': 0.7656950596028297, 'vect__max_features': 28699, 'tfidf__use_idf': False, 'clf__fit_prior': False, 'clf__alpha': 0.8752167041712525}. Best is trial 2 with value: 0.8133317103574302.\u001b[0m\n",
            "\u001b[32m[I 2021-10-18 15:22:11,140]\u001b[0m Trial 153 finished with value: 0.8123225183507339 and parameters: {'vect__max_df': 0.9086970005924699, 'vect__max_features': 30300, 'tfidf__use_idf': False, 'clf__fit_prior': False, 'clf__alpha': 0.8575894471179262}. Best is trial 2 with value: 0.8133317103574302.\u001b[0m\n",
            "\u001b[32m[I 2021-10-18 15:22:12,560]\u001b[0m Trial 154 finished with value: 0.8104530273587496 and parameters: {'vect__max_df': 0.933673079955095, 'vect__max_features': 25004, 'tfidf__use_idf': False, 'clf__fit_prior': False, 'clf__alpha': 0.8915033798501153}. Best is trial 2 with value: 0.8133317103574302.\u001b[0m\n",
            "\u001b[32m[I 2021-10-18 15:22:14,020]\u001b[0m Trial 155 finished with value: 0.812722634272453 and parameters: {'vect__max_df': 0.7052199093093424, 'vect__max_features': 26146, 'tfidf__use_idf': False, 'clf__fit_prior': False, 'clf__alpha': 0.8299441088918018}. Best is trial 2 with value: 0.8133317103574302.\u001b[0m\n",
            "\u001b[32m[I 2021-10-18 15:22:15,513]\u001b[0m Trial 156 finished with value: 0.8091568814942354 and parameters: {'vect__max_df': 0.7548021563889299, 'vect__max_features': 23633, 'tfidf__use_idf': True, 'clf__fit_prior': False, 'clf__alpha': 0.8054771726085199}. Best is trial 2 with value: 0.8133317103574302.\u001b[0m\n",
            "\u001b[32m[I 2021-10-18 15:22:17,016]\u001b[0m Trial 157 finished with value: 0.81104742508319 and parameters: {'vect__max_df': 0.34315079819189476, 'vect__max_features': 21710, 'tfidf__use_idf': False, 'clf__fit_prior': False, 'clf__alpha': 0.7787352529485158}. Best is trial 2 with value: 0.8133317103574302.\u001b[0m\n",
            "\u001b[32m[I 2021-10-18 15:22:18,509]\u001b[0m Trial 158 finished with value: 0.8122346724045311 and parameters: {'vect__max_df': 0.812649829933181, 'vect__max_features': 30836, 'tfidf__use_idf': False, 'clf__fit_prior': False, 'clf__alpha': 0.8423192031730679}. Best is trial 2 with value: 0.8133317103574302.\u001b[0m\n",
            "\u001b[32m[I 2021-10-18 15:22:19,988]\u001b[0m Trial 159 finished with value: 0.808123962825516 and parameters: {'vect__max_df': 0.9778255343979607, 'vect__max_features': 24495, 'tfidf__use_idf': False, 'clf__fit_prior': False, 'clf__alpha': 0.6738294343816131}. Best is trial 2 with value: 0.8133317103574302.\u001b[0m\n",
            "\u001b[32m[I 2021-10-18 15:22:21,437]\u001b[0m Trial 160 finished with value: 0.8074201508557948 and parameters: {'vect__max_df': 0.6830182621895882, 'vect__max_features': 39169, 'tfidf__use_idf': False, 'clf__fit_prior': False, 'clf__alpha': 0.6002631759468184}. Best is trial 2 with value: 0.8133317103574302.\u001b[0m\n",
            "\u001b[32m[I 2021-10-18 15:22:22,917]\u001b[0m Trial 161 finished with value: 0.8104530273587496 and parameters: {'vect__max_df': 0.6552812879594506, 'vect__max_features': 26804, 'tfidf__use_idf': False, 'clf__fit_prior': False, 'clf__alpha': 0.8757724942484963}. Best is trial 2 with value: 0.8133317103574302.\u001b[0m\n",
            "\u001b[32m[I 2021-10-18 15:22:24,368]\u001b[0m Trial 162 finished with value: 0.8132600999415617 and parameters: {'vect__max_df': 0.8709732025125154, 'vect__max_features': 27799, 'tfidf__use_idf': False, 'clf__fit_prior': False, 'clf__alpha': 0.8525203630498068}. Best is trial 2 with value: 0.8133317103574302.\u001b[0m\n",
            "\u001b[32m[I 2021-10-18 15:22:25,804]\u001b[0m Trial 163 finished with value: 0.8122346724045311 and parameters: {'vect__max_df': 0.7868610213432295, 'vect__max_features': 28197, 'tfidf__use_idf': False, 'clf__fit_prior': False, 'clf__alpha': 0.8363879083089666}. Best is trial 2 with value: 0.8133317103574302.\u001b[0m\n",
            "\u001b[32m[I 2021-10-18 15:22:27,265]\u001b[0m Trial 164 finished with value: 0.8111214273526409 and parameters: {'vect__max_df': 0.9176906242825322, 'vect__max_features': 44425, 'tfidf__use_idf': False, 'clf__fit_prior': False, 'clf__alpha': 0.9107184238510257}. Best is trial 2 with value: 0.8133317103574302.\u001b[0m\n",
            "\u001b[32m[I 2021-10-18 15:22:28,675]\u001b[0m Trial 165 finished with value: 0.7151287353689886 and parameters: {'vect__max_df': 0.9487251509290695, 'vect__max_features': 989, 'tfidf__use_idf': False, 'clf__fit_prior': False, 'clf__alpha': 0.8196496789924383}. Best is trial 2 with value: 0.8133317103574302.\u001b[0m\n",
            "\u001b[32m[I 2021-10-18 15:22:30,188]\u001b[0m Trial 166 finished with value: 0.8098089916283225 and parameters: {'vect__max_df': 0.8858904185665792, 'vect__max_features': 32287, 'tfidf__use_idf': False, 'clf__fit_prior': False, 'clf__alpha': 0.8662538817014734}. Best is trial 2 with value: 0.8133317103574302.\u001b[0m\n",
            "\u001b[32m[I 2021-10-18 15:22:31,663]\u001b[0m Trial 167 finished with value: 0.8132600999415617 and parameters: {'vect__max_df': 0.856558978984634, 'vect__max_features': 25690, 'tfidf__use_idf': False, 'clf__fit_prior': False, 'clf__alpha': 0.8512720969310767}. Best is trial 2 with value: 0.8133317103574302.\u001b[0m\n",
            "\u001b[32m[I 2021-10-18 15:22:33,155]\u001b[0m Trial 168 finished with value: 0.8104530273587496 and parameters: {'vect__max_df': 0.8830282398436432, 'vect__max_features': 24349, 'tfidf__use_idf': False, 'clf__fit_prior': False, 'clf__alpha': 0.883651586668952}. Best is trial 2 with value: 0.8133317103574302.\u001b[0m\n",
            "\u001b[32m[I 2021-10-18 15:22:34,587]\u001b[0m Trial 169 finished with value: 0.8120348776825042 and parameters: {'vect__max_df': 0.8656499367121813, 'vect__max_features': 23121, 'tfidf__use_idf': False, 'clf__fit_prior': False, 'clf__alpha': 0.8002134764215187}. Best is trial 2 with value: 0.8133317103574302.\u001b[0m\n",
            "\u001b[32m[I 2021-10-18 15:22:36,029]\u001b[0m Trial 170 finished with value: 0.804304015929009 and parameters: {'vect__max_df': 0.8385628430216148, 'vect__max_features': 29339, 'tfidf__use_idf': False, 'clf__fit_prior': False, 'clf__alpha': 0.28998100663124016}. Best is trial 2 with value: 0.8133317103574302.\u001b[0m\n",
            "\u001b[32m[I 2021-10-18 15:22:37,540]\u001b[0m Trial 171 finished with value: 0.8028232273570026 and parameters: {'vect__max_df': 0.047747255857693405, 'vect__max_features': 27447, 'tfidf__use_idf': False, 'clf__fit_prior': False, 'clf__alpha': 0.846740943415333}. Best is trial 2 with value: 0.8133317103574302.\u001b[0m\n",
            "\u001b[32m[I 2021-10-18 15:22:38,973]\u001b[0m Trial 172 finished with value: 0.8123225183507339 and parameters: {'vect__max_df': 0.8615670792191668, 'vect__max_features': 42438, 'tfidf__use_idf': False, 'clf__fit_prior': False, 'clf__alpha': 0.8551857483897901}. Best is trial 2 with value: 0.8133317103574302.\u001b[0m\n",
            "\u001b[32m[I 2021-10-18 15:22:40,455]\u001b[0m Trial 173 finished with value: 0.812722634272453 and parameters: {'vect__max_df': 0.9046434026415074, 'vect__max_features': 25566, 'tfidf__use_idf': False, 'clf__fit_prior': False, 'clf__alpha': 0.8270693539676928}. Best is trial 2 with value: 0.8133317103574302.\u001b[0m\n",
            "\u001b[32m[I 2021-10-18 15:22:41,884]\u001b[0m Trial 174 finished with value: 0.8104530273587496 and parameters: {'vect__max_df': 0.8792567343624899, 'vect__max_features': 26690, 'tfidf__use_idf': False, 'clf__fit_prior': False, 'clf__alpha': 0.8976543105323417}. Best is trial 2 with value: 0.8133317103574302.\u001b[0m\n",
            "\u001b[32m[I 2021-10-18 15:22:43,337]\u001b[0m Trial 175 finished with value: 0.8132600999415617 and parameters: {'vect__max_df': 0.8350102665530922, 'vect__max_features': 27998, 'tfidf__use_idf': False, 'clf__fit_prior': False, 'clf__alpha': 0.8513846399512676}. Best is trial 2 with value: 0.8133317103574302.\u001b[0m\n",
            "\u001b[32m[I 2021-10-18 15:22:44,777]\u001b[0m Trial 176 finished with value: 0.8097381811123363 and parameters: {'vect__max_df': 0.1509192801111555, 'vect__max_features': 40150, 'tfidf__use_idf': False, 'clf__fit_prior': False, 'clf__alpha': 0.8140845271426543}. Best is trial 2 with value: 0.8133317103574302.\u001b[0m\n",
            "\u001b[32m[I 2021-10-18 15:22:46,225]\u001b[0m Trial 177 finished with value: 0.7964390650613451 and parameters: {'vect__max_df': 0.8218772534500407, 'vect__max_features': 29737, 'tfidf__use_idf': False, 'clf__fit_prior': False, 'clf__alpha': 0.14600355194286602}. Best is trial 2 with value: 0.8133317103574302.\u001b[0m\n",
            "\u001b[32m[I 2021-10-18 15:22:47,663]\u001b[0m Trial 178 finished with value: 0.8104530273587496 and parameters: {'vect__max_df': 0.7983877821798981, 'vect__max_features': 26087, 'tfidf__use_idf': False, 'clf__fit_prior': False, 'clf__alpha': 0.8801784843052719}. Best is trial 2 with value: 0.8133317103574302.\u001b[0m\n",
            "\u001b[32m[I 2021-10-18 15:22:49,097]\u001b[0m Trial 179 finished with value: 0.8113928450030803 and parameters: {'vect__max_df': 0.8533360840519607, 'vect__max_features': 24762, 'tfidf__use_idf': False, 'clf__fit_prior': False, 'clf__alpha': 0.7867720675036428}. Best is trial 2 with value: 0.8133317103574302.\u001b[0m\n",
            "\u001b[32m[I 2021-10-18 15:22:50,613]\u001b[0m Trial 180 finished with value: 0.8091568814942354 and parameters: {'vect__max_df': 0.7259978690569059, 'vect__max_features': 41888, 'tfidf__use_idf': True, 'clf__fit_prior': False, 'clf__alpha': 0.8328493822318634}. Best is trial 2 with value: 0.8133317103574302.\u001b[0m\n",
            "\u001b[32m[I 2021-10-18 15:22:52,072]\u001b[0m Trial 181 finished with value: 0.8123225183507339 and parameters: {'vect__max_df': 0.7036886325403467, 'vect__max_features': 23708, 'tfidf__use_idf': False, 'clf__fit_prior': False, 'clf__alpha': 0.8605964025919467}. Best is trial 2 with value: 0.8133317103574302.\u001b[0m\n",
            "\u001b[32m[I 2021-10-18 15:22:53,527]\u001b[0m Trial 182 finished with value: 0.8122346724045311 and parameters: {'vect__max_df': 0.9374601808650822, 'vect__max_features': 43379, 'tfidf__use_idf': False, 'clf__fit_prior': False, 'clf__alpha': 0.8422154380086287}. Best is trial 2 with value: 0.8133317103574302.\u001b[0m\n",
            "\u001b[32m[I 2021-10-18 15:22:54,966]\u001b[0m Trial 183 finished with value: 0.8098089916283225 and parameters: {'vect__max_df': 0.7445253903091905, 'vect__max_features': 25526, 'tfidf__use_idf': False, 'clf__fit_prior': False, 'clf__alpha': 0.871323820538389}. Best is trial 2 with value: 0.8133317103574302.\u001b[0m\n",
            "\u001b[32m[I 2021-10-18 15:22:56,414]\u001b[0m Trial 184 finished with value: 0.8132600999415617 and parameters: {'vect__max_df': 0.8329704185767427, 'vect__max_features': 28999, 'tfidf__use_idf': False, 'clf__fit_prior': False, 'clf__alpha': 0.8529360936910173}. Best is trial 2 with value: 0.8133317103574302.\u001b[0m\n",
            "\u001b[32m[I 2021-10-18 15:22:57,866]\u001b[0m Trial 185 finished with value: 0.812722634272453 and parameters: {'vect__max_df': 0.8972098295428129, 'vect__max_features': 28709, 'tfidf__use_idf': False, 'clf__fit_prior': False, 'clf__alpha': 0.8068643271950169}. Best is trial 2 with value: 0.8133317103574302.\u001b[0m\n",
            "\u001b[32m[I 2021-10-18 15:22:59,371]\u001b[0m Trial 186 finished with value: 0.8104530273587496 and parameters: {'vect__max_df': 0.9200588564204218, 'vect__max_features': 26507, 'tfidf__use_idf': False, 'clf__fit_prior': False, 'clf__alpha': 0.8974539472126645}. Best is trial 2 with value: 0.8133317103574302.\u001b[0m\n",
            "\u001b[32m[I 2021-10-18 15:23:00,865]\u001b[0m Trial 187 finished with value: 0.8119850066740181 and parameters: {'vect__max_df': 0.7198228139802967, 'vect__max_features': 22896, 'tfidf__use_idf': False, 'clf__fit_prior': False, 'clf__alpha': 0.7648550571937524}. Best is trial 2 with value: 0.8133317103574302.\u001b[0m\n",
            "\u001b[32m[I 2021-10-18 15:23:02,418]\u001b[0m Trial 188 finished with value: 0.8086736375507814 and parameters: {'vect__max_df': 0.7649518839334097, 'vect__max_features': 21215, 'tfidf__use_idf': False, 'clf__fit_prior': False, 'clf__alpha': 0.8248301670977746}. Best is trial 2 with value: 0.8133317103574302.\u001b[0m\n",
            "\u001b[32m[I 2021-10-18 15:23:03,874]\u001b[0m Trial 189 finished with value: 0.8132600999415617 and parameters: {'vect__max_df': 0.8670644806627361, 'vect__max_features': 25475, 'tfidf__use_idf': False, 'clf__fit_prior': False, 'clf__alpha': 0.8534104371221636}. Best is trial 2 with value: 0.8133317103574302.\u001b[0m\n",
            "\u001b[32m[I 2021-10-18 15:23:05,352]\u001b[0m Trial 190 finished with value: 0.8111214273526409 and parameters: {'vect__max_df': 0.902826173226185, 'vect__max_features': 34742, 'tfidf__use_idf': False, 'clf__fit_prior': False, 'clf__alpha': 0.9220652167374369}. Best is trial 2 with value: 0.8133317103574302.\u001b[0m\n",
            "\u001b[32m[I 2021-10-18 15:23:06,797]\u001b[0m Trial 191 finished with value: 0.8098089916283225 and parameters: {'vect__max_df': 0.8813638610007692, 'vect__max_features': 27538, 'tfidf__use_idf': False, 'clf__fit_prior': False, 'clf__alpha': 0.8715111070952279}. Best is trial 2 with value: 0.8133317103574302.\u001b[0m\n",
            "\u001b[32m[I 2021-10-18 15:23:08,231]\u001b[0m Trial 192 finished with value: 0.8132600999415617 and parameters: {'vect__max_df': 0.8424619033751445, 'vect__max_features': 25316, 'tfidf__use_idf': False, 'clf__fit_prior': False, 'clf__alpha': 0.8462273155918916}. Best is trial 2 with value: 0.8133317103574302.\u001b[0m\n",
            "\u001b[32m[I 2021-10-18 15:23:09,681]\u001b[0m Trial 193 finished with value: 0.8132600999415617 and parameters: {'vect__max_df': 0.8115316298633578, 'vect__max_features': 27753, 'tfidf__use_idf': False, 'clf__fit_prior': False, 'clf__alpha': 0.8524520927189281}. Best is trial 2 with value: 0.8133317103574302.\u001b[0m\n",
            "\u001b[32m[I 2021-10-18 15:23:11,153]\u001b[0m Trial 194 finished with value: 0.771662807603677 and parameters: {'vect__max_df': 0.8623808786536311, 'vect__max_features': 24204, 'tfidf__use_idf': False, 'clf__fit_prior': False, 'clf__alpha': 0.020166434354017715}. Best is trial 2 with value: 0.8133317103574302.\u001b[0m\n",
            "\u001b[32m[I 2021-10-18 15:23:12,617]\u001b[0m Trial 195 finished with value: 0.8104530273587496 and parameters: {'vect__max_df': 0.7837981085603578, 'vect__max_features': 27879, 'tfidf__use_idf': False, 'clf__fit_prior': False, 'clf__alpha': 0.8902403516027728}. Best is trial 2 with value: 0.8133317103574302.\u001b[0m\n",
            "\u001b[32m[I 2021-10-18 15:23:14,119]\u001b[0m Trial 196 finished with value: 0.812722634272453 and parameters: {'vect__max_df': 0.839643667101712, 'vect__max_features': 29479, 'tfidf__use_idf': False, 'clf__fit_prior': False, 'clf__alpha': 0.8192362775213463}. Best is trial 2 with value: 0.8133317103574302.\u001b[0m\n",
            "\u001b[32m[I 2021-10-18 15:23:15,588]\u001b[0m Trial 197 finished with value: 0.8098089916283225 and parameters: {'vect__max_df': 0.6611183438954513, 'vect__max_features': 31636, 'tfidf__use_idf': False, 'clf__fit_prior': False, 'clf__alpha': 0.8701571115967048}. Best is trial 2 with value: 0.8133317103574302.\u001b[0m\n",
            "\u001b[32m[I 2021-10-18 15:23:17,032]\u001b[0m Trial 198 finished with value: 0.8122346724045311 and parameters: {'vect__max_df': 0.809333665207348, 'vect__max_features': 28010, 'tfidf__use_idf': False, 'clf__fit_prior': False, 'clf__alpha': 0.83791797230175}. Best is trial 2 with value: 0.8133317103574302.\u001b[0m\n",
            "\u001b[32m[I 2021-10-18 15:23:18,492]\u001b[0m Trial 199 finished with value: 0.8120348776825042 and parameters: {'vect__max_df': 0.745327565517143, 'vect__max_features': 46835, 'tfidf__use_idf': False, 'clf__fit_prior': False, 'clf__alpha': 0.7951639405251766}. Best is trial 2 with value: 0.8133317103574302.\u001b[0m\n"
          ]
        }
      ]
    },
    {
      "cell_type": "code",
      "metadata": {
        "id": "P2XAgfJbtYwJ",
        "colab": {
          "base_uri": "https://localhost:8080/"
        },
        "outputId": "93510019-0cf8-493d-dd49-8ccbd6beadab"
      },
      "source": [
        "# Print the result\n",
        "best_params = study.best_params\n",
        "best_score = study.best_value\n",
        "\n",
        "print(f'Best score: {best_score}\\n')\n",
        "print(f'Optimized parameters: {best_params}\\n')"
      ],
      "execution_count": null,
      "outputs": [
        {
          "output_type": "stream",
          "name": "stdout",
          "text": [
            "Best score: 0.8133317103574302\n",
            "\n",
            "Optimized parameters: {'vect__max_df': 0.12496415574168596, 'vect__max_features': 25605, 'tfidf__use_idf': False, 'clf__fit_prior': False, 'clf__alpha': 0.6263689041462646}\n",
            "\n"
          ]
        }
      ]
    },
    {
      "cell_type": "code",
      "metadata": {
        "id": "lFcYOrfltdUo",
        "colab": {
          "base_uri": "https://localhost:8080/"
        },
        "outputId": "c1bf2732-0b19-45c6-8e25-150b3a780f27"
      },
      "source": [
        "# Set the best parameters to the model \n",
        "text_clf.set_params(**study.best_params)"
      ],
      "execution_count": null,
      "outputs": [
        {
          "output_type": "execute_result",
          "data": {
            "text/plain": [
              "Pipeline(steps=[('vect',\n",
              "                 CountVectorizer(max_df=0.12496415574168596, max_features=25605,\n",
              "                                 ngram_range=(1, 2))),\n",
              "                ('tfidf', TfidfTransformer(use_idf=False)),\n",
              "                ('ove',\n",
              "                 RandomOverSampler(random_state=42,\n",
              "                                   sampling_strategy='minority')),\n",
              "                ('clf',\n",
              "                 BernoulliNB(alpha=0.6263689041462646, binarize=None,\n",
              "                             fit_prior=False))])"
            ]
          },
          "metadata": {},
          "execution_count": 68
        }
      ]
    },
    {
      "cell_type": "code",
      "metadata": {
        "id": "Bxk3iP_LthQU",
        "colab": {
          "base_uri": "https://localhost:8080/"
        },
        "outputId": "72e89b05-5567-4512-df4d-636b5700cc11"
      },
      "source": [
        "# Fit on train data\n",
        "text_clf.fit(X_train, y_train)"
      ],
      "execution_count": null,
      "outputs": [
        {
          "output_type": "execute_result",
          "data": {
            "text/plain": [
              "Pipeline(steps=[('vect',\n",
              "                 CountVectorizer(max_df=0.12496415574168596, max_features=25605,\n",
              "                                 ngram_range=(1, 2))),\n",
              "                ('tfidf', TfidfTransformer(use_idf=False)),\n",
              "                ('ove',\n",
              "                 RandomOverSampler(random_state=42,\n",
              "                                   sampling_strategy='minority')),\n",
              "                ('clf',\n",
              "                 BernoulliNB(alpha=0.6263689041462646, binarize=None,\n",
              "                             fit_prior=False))])"
            ]
          },
          "metadata": {},
          "execution_count": 69
        }
      ]
    },
    {
      "cell_type": "code",
      "metadata": {
        "id": "PBeTc7-Z-mtW"
      },
      "source": [
        "# Predict on test data\n",
        "y_pred_test = text_clf.predict(X_test)"
      ],
      "execution_count": null,
      "outputs": []
    },
    {
      "cell_type": "code",
      "metadata": {
        "id": "roftoRqXtovi",
        "colab": {
          "base_uri": "https://localhost:8080/"
        },
        "outputId": "d5aed52e-f92c-4350-f1e1-2580ca553a0e"
      },
      "source": [
        "# Print F1 score\n",
        "print('F1 score(test set):', f1_score(y_test, y_pred_test, average = 'macro'))"
      ],
      "execution_count": null,
      "outputs": [
        {
          "output_type": "stream",
          "name": "stdout",
          "text": [
            "F1 score(test set): 0.7503938966746828\n"
          ]
        }
      ]
    },
    {
      "cell_type": "code",
      "metadata": {
        "id": "PEJ2e5uMtwND",
        "colab": {
          "base_uri": "https://localhost:8080/"
        },
        "outputId": "12a8f3bb-f2af-47f6-e035-4d75dd8e8e37"
      },
      "source": [
        "print(classification_report(y_test, y_pred_test))"
      ],
      "execution_count": null,
      "outputs": [
        {
          "output_type": "stream",
          "name": "stdout",
          "text": [
            "              precision    recall  f1-score   support\n",
            "\n",
            "           0       0.60      0.49      0.54        51\n",
            "           1       0.96      0.97      0.96       579\n",
            "\n",
            "    accuracy                           0.93       630\n",
            "   macro avg       0.78      0.73      0.75       630\n",
            "weighted avg       0.93      0.93      0.93       630\n",
            "\n"
          ]
        }
      ]
    },
    {
      "cell_type": "markdown",
      "metadata": {
        "id": "rZaZd-l8unEq"
      },
      "source": [
        "The macro-averaged F1 score we get is ~75%."
      ]
    },
    {
      "cell_type": "markdown",
      "metadata": {
        "id": "H0R31OSiu0gV"
      },
      "source": [
        "**Random Undersampling**"
      ]
    },
    {
      "cell_type": "markdown",
      "metadata": {
        "id": "TVDVaqrEu99V"
      },
      "source": [
        "Random undersampling involves randomly selecting examples from the majority class to delete from the training dataset."
      ]
    },
    {
      "cell_type": "code",
      "metadata": {
        "id": "gLX4GvJ5QCpa"
      },
      "source": [
        "from imblearn.under_sampling import RandomUnderSampler"
      ],
      "execution_count": null,
      "outputs": []
    },
    {
      "cell_type": "code",
      "metadata": {
        "id": "8JitgRcWJT2r"
      },
      "source": [
        "text_clf = Pipeline([('vect', CountVectorizer(ngram_range = (1, 2))),\n",
        "                     ('tfidf', TfidfTransformer()),\n",
        "                     ('und', RandomUnderSampler(sampling_strategy = 'majority', random_state = 42)),\n",
        "                     ('clf', BernoulliNB(binarize = None))])"
      ],
      "execution_count": null,
      "outputs": []
    },
    {
      "cell_type": "code",
      "metadata": {
        "id": "6IeDQm8sJX3T"
      },
      "source": [
        "def objective(trial):\n",
        "\n",
        "  params = {\n",
        "    'vect__max_df': trial.suggest_uniform('vect__max_df', 0.0, 1.0),\n",
        "    'vect__max_features' : trial.suggest_int('vect__max_features', 0, 50000),\n",
        "    'tfidf__use_idf': trial.suggest_categorical('tfidf__use_idf', [True, False]),\n",
        "    'und__replacement': trial.suggest_categorical('und__replacement', [True, False]),\n",
        "    'clf__fit_prior': trial.suggest_categorical('clf__fit_prior', [True, False]),\n",
        "    'clf__alpha': trial.suggest_uniform('clf__alpha', 1e-25, 1)\n",
        "  }\n",
        "\n",
        "  text_clf.set_params(**params)\n",
        "\n",
        "  scores = (cross_val_score(text_clf, X, y, cv = 10, scoring = 'f1_macro'))\n",
        "  \n",
        "  return scores.mean()  "
      ],
      "execution_count": null,
      "outputs": []
    },
    {
      "cell_type": "code",
      "metadata": {
        "id": "qB_di7u9Ja8Y",
        "colab": {
          "base_uri": "https://localhost:8080/"
        },
        "outputId": "f6759a50-9ff6-4b5b-ca21-f5e6d99f9c41"
      },
      "source": [
        "# Create Study object\n",
        "study = optuna.create_study(direction = 'maximize')\n",
        "\n",
        "# Optimize the study, use more trials to obtain better result, use less trials to be more cost-efficient\n",
        "study.optimize(objective, n_trials = 200)"
      ],
      "execution_count": null,
      "outputs": [
        {
          "output_type": "stream",
          "name": "stderr",
          "text": [
            "\u001b[32m[I 2021-10-18 15:23:18,826]\u001b[0m A new study created in memory with name: no-name-d58524cd-a755-4b28-b882-2758a196bb2b\u001b[0m\n",
            "\u001b[32m[I 2021-10-18 15:23:20,257]\u001b[0m Trial 0 finished with value: 0.7329403293169452 and parameters: {'vect__max_df': 0.3894633971876309, 'vect__max_features': 22742, 'tfidf__use_idf': False, 'und__replacement': False, 'clf__fit_prior': True, 'clf__alpha': 0.6114536235650267}. Best is trial 0 with value: 0.7329403293169452.\u001b[0m\n",
            "\u001b[32m[I 2021-10-18 15:23:21,738]\u001b[0m Trial 1 finished with value: 0.7675665164291348 and parameters: {'vect__max_df': 0.4416634862140981, 'vect__max_features': 29641, 'tfidf__use_idf': True, 'und__replacement': True, 'clf__fit_prior': True, 'clf__alpha': 0.4496310128795341}. Best is trial 1 with value: 0.7675665164291348.\u001b[0m\n",
            "\u001b[32m[I 2021-10-18 15:23:23,143]\u001b[0m Trial 2 finished with value: 0.6526665174523 and parameters: {'vect__max_df': 0.06290073669506402, 'vect__max_features': 4305, 'tfidf__use_idf': False, 'und__replacement': True, 'clf__fit_prior': False, 'clf__alpha': 0.23396915079017422}. Best is trial 1 with value: 0.7675665164291348.\u001b[0m\n",
            "\u001b[32m[I 2021-10-18 15:23:24,612]\u001b[0m Trial 3 finished with value: 0.7207011760129136 and parameters: {'vect__max_df': 0.21899443800076546, 'vect__max_features': 49762, 'tfidf__use_idf': True, 'und__replacement': False, 'clf__fit_prior': True, 'clf__alpha': 0.5070749448833157}. Best is trial 1 with value: 0.7675665164291348.\u001b[0m\n",
            "\u001b[32m[I 2021-10-18 15:23:26,031]\u001b[0m Trial 4 finished with value: 0.752643463779099 and parameters: {'vect__max_df': 0.11945747295628495, 'vect__max_features': 11449, 'tfidf__use_idf': False, 'und__replacement': False, 'clf__fit_prior': True, 'clf__alpha': 0.468379742538502}. Best is trial 1 with value: 0.7675665164291348.\u001b[0m\n",
            "\u001b[32m[I 2021-10-18 15:23:27,461]\u001b[0m Trial 5 finished with value: 0.6091044388785134 and parameters: {'vect__max_df': 0.1825531055792402, 'vect__max_features': 668, 'tfidf__use_idf': True, 'und__replacement': False, 'clf__fit_prior': False, 'clf__alpha': 0.5572303092210689}. Best is trial 1 with value: 0.7675665164291348.\u001b[0m\n",
            "\u001b[32m[I 2021-10-18 15:23:28,914]\u001b[0m Trial 6 finished with value: 0.7258659163430468 and parameters: {'vect__max_df': 0.7855529251176278, 'vect__max_features': 17778, 'tfidf__use_idf': False, 'und__replacement': False, 'clf__fit_prior': True, 'clf__alpha': 0.6808285214457399}. Best is trial 1 with value: 0.7675665164291348.\u001b[0m\n",
            "\u001b[32m[I 2021-10-18 15:23:30,372]\u001b[0m Trial 7 finished with value: 0.7671128642201729 and parameters: {'vect__max_df': 0.252791195462563, 'vect__max_features': 10264, 'tfidf__use_idf': True, 'und__replacement': False, 'clf__fit_prior': False, 'clf__alpha': 0.5709668266262548}. Best is trial 1 with value: 0.7675665164291348.\u001b[0m\n",
            "\u001b[32m[I 2021-10-18 15:23:31,784]\u001b[0m Trial 8 finished with value: 0.6856604729895501 and parameters: {'vect__max_df': 0.8377491743562657, 'vect__max_features': 32268, 'tfidf__use_idf': False, 'und__replacement': True, 'clf__fit_prior': False, 'clf__alpha': 0.9764248790508518}. Best is trial 1 with value: 0.7675665164291348.\u001b[0m\n",
            "\u001b[32m[I 2021-10-18 15:23:33,260]\u001b[0m Trial 9 finished with value: 0.6338999174310076 and parameters: {'vect__max_df': 0.22087939169156845, 'vect__max_features': 21122, 'tfidf__use_idf': False, 'und__replacement': False, 'clf__fit_prior': True, 'clf__alpha': 0.9317714007504923}. Best is trial 1 with value: 0.7675665164291348.\u001b[0m\n",
            "\u001b[32m[I 2021-10-18 15:23:34,696]\u001b[0m Trial 10 finished with value: 0.735286538066027 and parameters: {'vect__max_df': 0.5986353964483383, 'vect__max_features': 36038, 'tfidf__use_idf': True, 'und__replacement': True, 'clf__fit_prior': True, 'clf__alpha': 0.055517381232964236}. Best is trial 1 with value: 0.7675665164291348.\u001b[0m\n",
            "\u001b[32m[I 2021-10-18 15:23:36,126]\u001b[0m Trial 11 finished with value: 0.776445838400355 and parameters: {'vect__max_df': 0.4221655557657693, 'vect__max_features': 34599, 'tfidf__use_idf': True, 'und__replacement': True, 'clf__fit_prior': False, 'clf__alpha': 0.3220879092428814}. Best is trial 11 with value: 0.776445838400355.\u001b[0m\n",
            "\u001b[32m[I 2021-10-18 15:23:37,633]\u001b[0m Trial 12 finished with value: 0.7812289900401421 and parameters: {'vect__max_df': 0.5508801587973047, 'vect__max_features': 35856, 'tfidf__use_idf': True, 'und__replacement': True, 'clf__fit_prior': False, 'clf__alpha': 0.2896420939579024}. Best is trial 12 with value: 0.7812289900401421.\u001b[0m\n",
            "\u001b[32m[I 2021-10-18 15:23:39,101]\u001b[0m Trial 13 finished with value: 0.772167245211634 and parameters: {'vect__max_df': 0.6254997737209826, 'vect__max_features': 42713, 'tfidf__use_idf': True, 'und__replacement': True, 'clf__fit_prior': False, 'clf__alpha': 0.22903201452631455}. Best is trial 12 with value: 0.7812289900401421.\u001b[0m\n",
            "\u001b[32m[I 2021-10-18 15:23:40,582]\u001b[0m Trial 14 finished with value: 0.7833742521854041 and parameters: {'vect__max_df': 0.6232449639849332, 'vect__max_features': 41086, 'tfidf__use_idf': True, 'und__replacement': True, 'clf__fit_prior': False, 'clf__alpha': 0.28633332240195347}. Best is trial 14 with value: 0.7833742521854041.\u001b[0m\n",
            "\u001b[32m[I 2021-10-18 15:23:42,064]\u001b[0m Trial 15 finished with value: 0.7005879591018214 and parameters: {'vect__max_df': 0.9763657503453484, 'vect__max_features': 42889, 'tfidf__use_idf': True, 'und__replacement': True, 'clf__fit_prior': False, 'clf__alpha': 0.022020371558415686}. Best is trial 14 with value: 0.7833742521854041.\u001b[0m\n",
            "\u001b[32m[I 2021-10-18 15:23:43,562]\u001b[0m Trial 16 finished with value: 0.7770690020566378 and parameters: {'vect__max_df': 0.6276860204395409, 'vect__max_features': 40842, 'tfidf__use_idf': True, 'und__replacement': True, 'clf__fit_prior': False, 'clf__alpha': 0.344393006535492}. Best is trial 14 with value: 0.7833742521854041.\u001b[0m\n",
            "\u001b[32m[I 2021-10-18 15:23:45,030]\u001b[0m Trial 17 finished with value: 0.7663667236105155 and parameters: {'vect__max_df': 0.7606440833642543, 'vect__max_features': 47878, 'tfidf__use_idf': True, 'und__replacement': True, 'clf__fit_prior': False, 'clf__alpha': 0.14111155786812155}. Best is trial 14 with value: 0.7833742521854041.\u001b[0m\n",
            "\u001b[32m[I 2021-10-18 15:23:46,512]\u001b[0m Trial 18 finished with value: 0.7770690020566378 and parameters: {'vect__max_df': 0.5503673703120865, 'vect__max_features': 27826, 'tfidf__use_idf': True, 'und__replacement': True, 'clf__fit_prior': False, 'clf__alpha': 0.3397693487151626}. Best is trial 14 with value: 0.7833742521854041.\u001b[0m\n",
            "\u001b[32m[I 2021-10-18 15:23:48,005]\u001b[0m Trial 19 finished with value: 0.67677155455383 and parameters: {'vect__max_df': 0.3437870471729314, 'vect__max_features': 38133, 'tfidf__use_idf': True, 'und__replacement': True, 'clf__fit_prior': False, 'clf__alpha': 0.8193627511012618}. Best is trial 14 with value: 0.7833742521854041.\u001b[0m\n",
            "\u001b[32m[I 2021-10-18 15:23:49,454]\u001b[0m Trial 20 finished with value: 0.7686463182600811 and parameters: {'vect__max_df': 0.5096334706018406, 'vect__max_features': 43664, 'tfidf__use_idf': True, 'und__replacement': True, 'clf__fit_prior': False, 'clf__alpha': 0.180702284262162}. Best is trial 14 with value: 0.7833742521854041.\u001b[0m\n",
            "\u001b[32m[I 2021-10-18 15:23:50,913]\u001b[0m Trial 21 finished with value: 0.7755595781446368 and parameters: {'vect__max_df': 0.5354797593053119, 'vect__max_features': 29063, 'tfidf__use_idf': True, 'und__replacement': True, 'clf__fit_prior': False, 'clf__alpha': 0.3598071970045685}. Best is trial 14 with value: 0.7833742521854041.\u001b[0m\n",
            "\u001b[32m[I 2021-10-18 15:23:52,386]\u001b[0m Trial 22 finished with value: 0.7812289900401421 and parameters: {'vect__max_df': 0.6851753026094671, 'vect__max_features': 27058, 'tfidf__use_idf': True, 'und__replacement': True, 'clf__fit_prior': False, 'clf__alpha': 0.29174142236648926}. Best is trial 14 with value: 0.7833742521854041.\u001b[0m\n",
            "\u001b[32m[I 2021-10-18 15:23:54,100]\u001b[0m Trial 23 finished with value: 0.7566399689563703 and parameters: {'vect__max_df': 0.7019289210852926, 'vect__max_features': 24939, 'tfidf__use_idf': True, 'und__replacement': True, 'clf__fit_prior': False, 'clf__alpha': 0.11289587243010596}. Best is trial 14 with value: 0.7833742521854041.\u001b[0m\n",
            "\u001b[32m[I 2021-10-18 15:23:55,544]\u001b[0m Trial 24 finished with value: 0.7735124554725079 and parameters: {'vect__max_df': 0.8800455785037056, 'vect__max_features': 37833, 'tfidf__use_idf': True, 'und__replacement': True, 'clf__fit_prior': False, 'clf__alpha': 0.25200257645515534}. Best is trial 14 with value: 0.7833742521854041.\u001b[0m\n",
            "\u001b[32m[I 2021-10-18 15:23:57,007]\u001b[0m Trial 25 finished with value: 0.7745547136640137 and parameters: {'vect__max_df': 0.6942619492548484, 'vect__max_features': 31866, 'tfidf__use_idf': True, 'und__replacement': True, 'clf__fit_prior': False, 'clf__alpha': 0.42112860967137533}. Best is trial 14 with value: 0.7833742521854041.\u001b[0m\n",
            "\u001b[32m[I 2021-10-18 15:23:58,499]\u001b[0m Trial 26 finished with value: 0.7611457905932598 and parameters: {'vect__max_df': 0.6690377289258788, 'vect__max_features': 17073, 'tfidf__use_idf': True, 'und__replacement': True, 'clf__fit_prior': False, 'clf__alpha': 0.2571454847823636}. Best is trial 14 with value: 0.7833742521854041.\u001b[0m\n",
            "\u001b[32m[I 2021-10-18 15:23:59,969]\u001b[0m Trial 27 finished with value: 0.7751655813304722 and parameters: {'vect__max_df': 0.8966670510427136, 'vect__max_features': 45956, 'tfidf__use_idf': True, 'und__replacement': True, 'clf__fit_prior': False, 'clf__alpha': 0.40602183311536744}. Best is trial 14 with value: 0.7833742521854041.\u001b[0m\n",
            "\u001b[32m[I 2021-10-18 15:24:01,457]\u001b[0m Trial 28 finished with value: 0.7581310809927408 and parameters: {'vect__max_df': 0.7672225562907378, 'vect__max_features': 39732, 'tfidf__use_idf': True, 'und__replacement': True, 'clf__fit_prior': False, 'clf__alpha': 0.10495827611260816}. Best is trial 14 with value: 0.7833742521854041.\u001b[0m\n",
            "\u001b[32m[I 2021-10-18 15:24:02,920]\u001b[0m Trial 29 finished with value: 0.7684927150027353 and parameters: {'vect__max_df': 0.44918062928050395, 'vect__max_features': 23027, 'tfidf__use_idf': False, 'und__replacement': True, 'clf__fit_prior': False, 'clf__alpha': 0.2935668537960212}. Best is trial 14 with value: 0.7833742521854041.\u001b[0m\n",
            "\u001b[32m[I 2021-10-18 15:24:04,392]\u001b[0m Trial 30 finished with value: 0.7691096262643252 and parameters: {'vect__max_df': 0.3025519664576076, 'vect__max_features': 32421, 'tfidf__use_idf': True, 'und__replacement': True, 'clf__fit_prior': False, 'clf__alpha': 0.18365445495605215}. Best is trial 14 with value: 0.7833742521854041.\u001b[0m\n",
            "\u001b[32m[I 2021-10-18 15:24:05,862]\u001b[0m Trial 31 finished with value: 0.7755595781446368 and parameters: {'vect__max_df': 0.5568259340311781, 'vect__max_features': 27820, 'tfidf__use_idf': True, 'und__replacement': True, 'clf__fit_prior': False, 'clf__alpha': 0.36091820734755165}. Best is trial 14 with value: 0.7833742521854041.\u001b[0m\n",
            "\u001b[32m[I 2021-10-18 15:24:07,300]\u001b[0m Trial 32 finished with value: 0.7750986229780802 and parameters: {'vect__max_df': 0.4763740831755249, 'vect__max_features': 24859, 'tfidf__use_idf': True, 'und__replacement': True, 'clf__fit_prior': False, 'clf__alpha': 0.3908144335006584}. Best is trial 14 with value: 0.7833742521854041.\u001b[0m\n",
            "\u001b[32m[I 2021-10-18 15:24:08,765]\u001b[0m Trial 33 finished with value: 0.7805838024848314 and parameters: {'vect__max_df': 0.6186209701861478, 'vect__max_features': 40985, 'tfidf__use_idf': True, 'und__replacement': True, 'clf__fit_prior': False, 'clf__alpha': 0.3048080250816992}. Best is trial 14 with value: 0.7833742521854041.\u001b[0m\n",
            "\u001b[32m[I 2021-10-18 15:24:10,233]\u001b[0m Trial 34 finished with value: 0.7300897869736401 and parameters: {'vect__max_df': 0.7277305454138162, 'vect__max_features': 35054, 'tfidf__use_idf': True, 'und__replacement': True, 'clf__fit_prior': True, 'clf__alpha': 0.6393119324600917}. Best is trial 14 with value: 0.7833742521854041.\u001b[0m\n",
            "\u001b[32m[I 2021-10-18 15:24:11,701]\u001b[0m Trial 35 finished with value: 0.7597250027155831 and parameters: {'vect__max_df': 0.6116145075927925, 'vect__max_features': 46032, 'tfidf__use_idf': True, 'und__replacement': True, 'clf__fit_prior': False, 'clf__alpha': 0.4854840965617102}. Best is trial 14 with value: 0.7833742521854041.\u001b[0m\n",
            "\u001b[32m[I 2021-10-18 15:24:13,142]\u001b[0m Trial 36 finished with value: 0.7713656364435942 and parameters: {'vect__max_df': 0.4056879991528153, 'vect__max_features': 39549, 'tfidf__use_idf': False, 'und__replacement': False, 'clf__fit_prior': False, 'clf__alpha': 0.20322081467940842}. Best is trial 14 with value: 0.7833742521854041.\u001b[0m\n",
            "\u001b[32m[I 2021-10-18 15:24:14,608]\u001b[0m Trial 37 finished with value: 0.7833742521854041 and parameters: {'vect__max_df': 0.6595473168522245, 'vect__max_features': 49988, 'tfidf__use_idf': True, 'und__replacement': True, 'clf__fit_prior': True, 'clf__alpha': 0.2861348637002457}. Best is trial 14 with value: 0.7833742521854041.\u001b[0m\n",
            "\u001b[32m[I 2021-10-18 15:24:16,082]\u001b[0m Trial 38 finished with value: 0.7368389370067734 and parameters: {'vect__max_df': 0.8389901572798837, 'vect__max_features': 49780, 'tfidf__use_idf': True, 'und__replacement': False, 'clf__fit_prior': True, 'clf__alpha': 0.521302588350724}. Best is trial 14 with value: 0.7833742521854041.\u001b[0m\n",
            "\u001b[32m[I 2021-10-18 15:24:17,491]\u001b[0m Trial 39 finished with value: 0.7687891412646624 and parameters: {'vect__max_df': 0.6806862985210597, 'vect__max_features': 45973, 'tfidf__use_idf': False, 'und__replacement': True, 'clf__fit_prior': True, 'clf__alpha': 0.26793476509932324}. Best is trial 14 with value: 0.7833742521854041.\u001b[0m\n",
            "\u001b[32m[I 2021-10-18 15:24:18,929]\u001b[0m Trial 40 finished with value: 0.7240410953873418 and parameters: {'vect__max_df': 0.03578491159762148, 'vect__max_features': 13222, 'tfidf__use_idf': True, 'und__replacement': False, 'clf__fit_prior': True, 'clf__alpha': 0.15196120707678898}. Best is trial 14 with value: 0.7833742521854041.\u001b[0m\n",
            "\u001b[32m[I 2021-10-18 15:24:20,372]\u001b[0m Trial 41 finished with value: 0.780237459031524 and parameters: {'vect__max_df': 0.5711093637993846, 'vect__max_features': 41834, 'tfidf__use_idf': True, 'und__replacement': True, 'clf__fit_prior': True, 'clf__alpha': 0.2985249196510258}. Best is trial 14 with value: 0.7833742521854041.\u001b[0m\n",
            "\u001b[32m[I 2021-10-18 15:24:21,830]\u001b[0m Trial 42 finished with value: 0.7626912765133053 and parameters: {'vect__max_df': 0.49466541191766694, 'vect__max_features': 37298, 'tfidf__use_idf': True, 'und__replacement': True, 'clf__fit_prior': True, 'clf__alpha': 0.461217553702976}. Best is trial 14 with value: 0.7833742521854041.\u001b[0m\n",
            "\u001b[32m[I 2021-10-18 15:24:23,287]\u001b[0m Trial 43 finished with value: 0.7749701750278947 and parameters: {'vect__max_df': 0.6488847412912034, 'vect__max_features': 44403, 'tfidf__use_idf': True, 'und__replacement': True, 'clf__fit_prior': True, 'clf__alpha': 0.43090744287786353}. Best is trial 14 with value: 0.7833742521854041.\u001b[0m\n",
            "\u001b[32m[I 2021-10-18 15:24:24,766]\u001b[0m Trial 44 finished with value: 0.7469368859491309 and parameters: {'vect__max_df': 0.595402761915822, 'vect__max_features': 34007, 'tfidf__use_idf': True, 'und__replacement': True, 'clf__fit_prior': False, 'clf__alpha': 0.07467046016930462}. Best is trial 14 with value: 0.7833742521854041.\u001b[0m\n",
            "\u001b[32m[I 2021-10-18 15:24:26,180]\u001b[0m Trial 45 finished with value: 0.7714966007722024 and parameters: {'vect__max_df': 0.7273532992095388, 'vect__max_features': 48322, 'tfidf__use_idf': False, 'und__replacement': True, 'clf__fit_prior': True, 'clf__alpha': 0.3005140466856336}. Best is trial 14 with value: 0.7833742521854041.\u001b[0m\n",
            "\u001b[32m[I 2021-10-18 15:24:27,638]\u001b[0m Trial 46 finished with value: 0.7954977351947417 and parameters: {'vect__max_df': 0.8065324566519194, 'vect__max_features': 39507, 'tfidf__use_idf': True, 'und__replacement': False, 'clf__fit_prior': False, 'clf__alpha': 0.19939665741327667}. Best is trial 46 with value: 0.7954977351947417.\u001b[0m\n",
            "\u001b[32m[I 2021-10-18 15:24:29,131]\u001b[0m Trial 47 finished with value: 0.7852664270562806 and parameters: {'vect__max_df': 0.786739195671791, 'vect__max_features': 19534, 'tfidf__use_idf': True, 'und__replacement': False, 'clf__fit_prior': False, 'clf__alpha': 0.22113703328286094}. Best is trial 46 with value: 0.7954977351947417.\u001b[0m\n",
            "\u001b[32m[I 2021-10-18 15:24:30,613]\u001b[0m Trial 48 finished with value: 0.7763091268127491 and parameters: {'vect__max_df': 0.7956315412608903, 'vect__max_features': 16578, 'tfidf__use_idf': True, 'und__replacement': False, 'clf__fit_prior': True, 'clf__alpha': 0.19792048892797182}. Best is trial 46 with value: 0.7954977351947417.\u001b[0m\n",
            "\u001b[32m[I 2021-10-18 15:24:32,155]\u001b[0m Trial 49 finished with value: 0.6418416963736902 and parameters: {'vect__max_df': 0.9724062575111253, 'vect__max_features': 19416, 'tfidf__use_idf': True, 'und__replacement': False, 'clf__fit_prior': False, 'clf__alpha': 0.004941021264771833}. Best is trial 46 with value: 0.7954977351947417.\u001b[0m\n",
            "\u001b[32m[I 2021-10-18 15:24:33,614]\u001b[0m Trial 50 finished with value: 0.699168376739691 and parameters: {'vect__max_df': 0.8139898985363129, 'vect__max_features': 7376, 'tfidf__use_idf': False, 'und__replacement': False, 'clf__fit_prior': False, 'clf__alpha': 0.22943844079435916}. Best is trial 46 with value: 0.7954977351947417.\u001b[0m\n",
            "\u001b[32m[I 2021-10-18 15:24:35,146]\u001b[0m Trial 51 finished with value: 0.7810783981064364 and parameters: {'vect__max_df': 0.8906552868801993, 'vect__max_features': 20917, 'tfidf__use_idf': True, 'und__replacement': False, 'clf__fit_prior': False, 'clf__alpha': 0.15490503665051497}. Best is trial 46 with value: 0.7954977351947417.\u001b[0m\n",
            "\u001b[32m[I 2021-10-18 15:24:36,605]\u001b[0m Trial 52 finished with value: 0.7650041740396476 and parameters: {'vect__max_df': 0.7304565691073617, 'vect__max_features': 31253, 'tfidf__use_idf': True, 'und__replacement': False, 'clf__fit_prior': False, 'clf__alpha': 0.378052891393048}. Best is trial 46 with value: 0.7954977351947417.\u001b[0m\n",
            "\u001b[32m[I 2021-10-18 15:24:38,082]\u001b[0m Trial 53 finished with value: 0.6634765386212365 and parameters: {'vect__max_df': 0.8565075135754583, 'vect__max_features': 27576, 'tfidf__use_idf': True, 'und__replacement': False, 'clf__fit_prior': False, 'clf__alpha': 0.7458280610361434}. Best is trial 46 with value: 0.7954977351947417.\u001b[0m\n",
            "\u001b[32m[I 2021-10-18 15:24:39,555]\u001b[0m Trial 54 finished with value: 0.7939684115370536 and parameters: {'vect__max_df': 0.7724422389938048, 'vect__max_features': 30361, 'tfidf__use_idf': True, 'und__replacement': False, 'clf__fit_prior': False, 'clf__alpha': 0.23468934735148342}. Best is trial 46 with value: 0.7954977351947417.\u001b[0m\n",
            "\u001b[32m[I 2021-10-18 15:24:41,016]\u001b[0m Trial 55 finished with value: 0.7980946469329185 and parameters: {'vect__max_df': 0.7559309700250331, 'vect__max_features': 29669, 'tfidf__use_idf': True, 'und__replacement': False, 'clf__fit_prior': False, 'clf__alpha': 0.2111400805360681}. Best is trial 55 with value: 0.7980946469329185.\u001b[0m\n",
            "\u001b[32m[I 2021-10-18 15:24:42,493]\u001b[0m Trial 56 finished with value: 0.7728471070467146 and parameters: {'vect__max_df': 0.7625656764985133, 'vect__max_features': 30078, 'tfidf__use_idf': True, 'und__replacement': False, 'clf__fit_prior': False, 'clf__alpha': 0.0830459790940623}. Best is trial 55 with value: 0.7980946469329185.\u001b[0m\n",
            "\u001b[32m[I 2021-10-18 15:24:43,960]\u001b[0m Trial 57 finished with value: 0.7268921789005988 and parameters: {'vect__max_df': 0.9304145156527618, 'vect__max_features': 33613, 'tfidf__use_idf': True, 'und__replacement': False, 'clf__fit_prior': False, 'clf__alpha': 0.036126887905298444}. Best is trial 55 with value: 0.7980946469329185.\u001b[0m\n",
            "\u001b[32m[I 2021-10-18 15:24:45,449]\u001b[0m Trial 58 finished with value: 0.7725296820601242 and parameters: {'vect__max_df': 0.9352172677788239, 'vect__max_features': 13797, 'tfidf__use_idf': True, 'und__replacement': False, 'clf__fit_prior': False, 'clf__alpha': 0.2325803205739619}. Best is trial 55 with value: 0.7980946469329185.\u001b[0m\n",
            "\u001b[32m[I 2021-10-18 15:24:46,926]\u001b[0m Trial 59 finished with value: 0.7861297039052246 and parameters: {'vect__max_df': 0.8147064707928258, 'vect__max_features': 26332, 'tfidf__use_idf': True, 'und__replacement': False, 'clf__fit_prior': True, 'clf__alpha': 0.14324228376332734}. Best is trial 55 with value: 0.7980946469329185.\u001b[0m\n",
            "\u001b[32m[I 2021-10-18 15:24:48,384]\u001b[0m Trial 60 finished with value: 0.7798880410306605 and parameters: {'vect__max_df': 0.8135989674834726, 'vect__max_features': 25951, 'tfidf__use_idf': True, 'und__replacement': False, 'clf__fit_prior': False, 'clf__alpha': 0.1256737068687344}. Best is trial 55 with value: 0.7980946469329185.\u001b[0m\n",
            "\u001b[32m[I 2021-10-18 15:24:49,860]\u001b[0m Trial 61 finished with value: 0.7971725494705507 and parameters: {'vect__max_df': 0.7866081609050241, 'vect__max_features': 23229, 'tfidf__use_idf': True, 'und__replacement': False, 'clf__fit_prior': True, 'clf__alpha': 0.2068302368147499}. Best is trial 55 with value: 0.7980946469329185.\u001b[0m\n",
            "\u001b[32m[I 2021-10-18 15:24:51,330]\u001b[0m Trial 62 finished with value: 0.7884536699725713 and parameters: {'vect__max_df': 0.7932947105135314, 'vect__max_features': 22388, 'tfidf__use_idf': True, 'und__replacement': False, 'clf__fit_prior': True, 'clf__alpha': 0.16645549623752248}. Best is trial 55 with value: 0.7980946469329185.\u001b[0m\n",
            "\u001b[32m[I 2021-10-18 15:24:52,842]\u001b[0m Trial 63 finished with value: 0.7904099799967387 and parameters: {'vect__max_df': 0.8525880480441209, 'vect__max_features': 22112, 'tfidf__use_idf': True, 'und__replacement': False, 'clf__fit_prior': True, 'clf__alpha': 0.17330072561775067}. Best is trial 55 with value: 0.7980946469329185.\u001b[0m\n",
            "\u001b[32m[I 2021-10-18 15:24:54,342]\u001b[0m Trial 64 finished with value: 0.7891308599129021 and parameters: {'vect__max_df': 0.8471954303815804, 'vect__max_features': 23239, 'tfidf__use_idf': True, 'und__replacement': False, 'clf__fit_prior': True, 'clf__alpha': 0.16588350558214562}. Best is trial 55 with value: 0.7980946469329185.\u001b[0m\n",
            "\u001b[32m[I 2021-10-18 15:24:55,825]\u001b[0m Trial 65 finished with value: 0.7848311210541928 and parameters: {'vect__max_df': 0.8580521496352693, 'vect__max_features': 20820, 'tfidf__use_idf': True, 'und__replacement': False, 'clf__fit_prior': True, 'clf__alpha': 0.16434862633655728}. Best is trial 55 with value: 0.7980946469329185.\u001b[0m\n",
            "\u001b[32m[I 2021-10-18 15:24:57,288]\u001b[0m Trial 66 finished with value: 0.7755882513818392 and parameters: {'vect__max_df': 0.9929410020275684, 'vect__max_features': 23684, 'tfidf__use_idf': True, 'und__replacement': False, 'clf__fit_prior': True, 'clf__alpha': 0.09937933606443261}. Best is trial 55 with value: 0.7980946469329185.\u001b[0m\n",
            "\u001b[32m[I 2021-10-18 15:24:58,764]\u001b[0m Trial 67 finished with value: 0.7533263376100269 and parameters: {'vect__max_df': 0.9185948164992648, 'vect__max_features': 22656, 'tfidf__use_idf': True, 'und__replacement': False, 'clf__fit_prior': True, 'clf__alpha': 0.06237713917301117}. Best is trial 55 with value: 0.7980946469329185.\u001b[0m\n",
            "\u001b[32m[I 2021-10-18 15:25:00,256]\u001b[0m Trial 68 finished with value: 0.7953147672485055 and parameters: {'vect__max_df': 0.744158661501904, 'vect__max_features': 29023, 'tfidf__use_idf': True, 'und__replacement': False, 'clf__fit_prior': True, 'clf__alpha': 0.1790837525566706}. Best is trial 55 with value: 0.7980946469329185.\u001b[0m\n",
            "\u001b[32m[I 2021-10-18 15:25:01,700]\u001b[0m Trial 69 finished with value: 0.7814539469158002 and parameters: {'vect__max_df': 0.7474463576747793, 'vect__max_features': 28852, 'tfidf__use_idf': False, 'und__replacement': False, 'clf__fit_prior': True, 'clf__alpha': 0.24724863477520848}. Best is trial 55 with value: 0.7980946469329185.\u001b[0m\n",
            "\u001b[32m[I 2021-10-18 15:25:03,234]\u001b[0m Trial 70 finished with value: 0.7965769192553552 and parameters: {'vect__max_df': 0.8582273095607932, 'vect__max_features': 24216, 'tfidf__use_idf': True, 'und__replacement': False, 'clf__fit_prior': True, 'clf__alpha': 0.2036722057548805}. Best is trial 55 with value: 0.7980946469329185.\u001b[0m\n",
            "\u001b[32m[I 2021-10-18 15:25:04,694]\u001b[0m Trial 71 finished with value: 0.7954977351947417 and parameters: {'vect__max_df': 0.8599652741983077, 'vect__max_features': 24592, 'tfidf__use_idf': True, 'und__replacement': False, 'clf__fit_prior': True, 'clf__alpha': 0.2003790728725302}. Best is trial 55 with value: 0.7980946469329185.\u001b[0m\n",
            "\u001b[32m[I 2021-10-18 15:25:06,201]\u001b[0m Trial 72 finished with value: 0.7995297503024056 and parameters: {'vect__max_df': 0.8762560644744745, 'vect__max_features': 30547, 'tfidf__use_idf': True, 'und__replacement': False, 'clf__fit_prior': True, 'clf__alpha': 0.21752916489756963}. Best is trial 72 with value: 0.7995297503024056.\u001b[0m\n",
            "\u001b[32m[I 2021-10-18 15:25:07,645]\u001b[0m Trial 73 finished with value: 0.7980946469329185 and parameters: {'vect__max_df': 0.872994729023922, 'vect__max_features': 29630, 'tfidf__use_idf': True, 'und__replacement': False, 'clf__fit_prior': True, 'clf__alpha': 0.21307198781239567}. Best is trial 72 with value: 0.7995297503024056.\u001b[0m\n",
            "\u001b[32m[I 2021-10-18 15:25:09,113]\u001b[0m Trial 74 finished with value: 0.7967764413174663 and parameters: {'vect__max_df': 0.9587725622072931, 'vect__max_features': 24714, 'tfidf__use_idf': True, 'und__replacement': False, 'clf__fit_prior': True, 'clf__alpha': 0.1953931065257846}. Best is trial 72 with value: 0.7995297503024056.\u001b[0m\n",
            "\u001b[32m[I 2021-10-18 15:25:10,574]\u001b[0m Trial 75 finished with value: 0.798609956017369 and parameters: {'vect__max_df': 0.9687497051986443, 'vect__max_features': 24705, 'tfidf__use_idf': True, 'und__replacement': False, 'clf__fit_prior': True, 'clf__alpha': 0.21561458085151497}. Best is trial 72 with value: 0.7995297503024056.\u001b[0m\n",
            "\u001b[32m[I 2021-10-18 15:25:12,029]\u001b[0m Trial 76 finished with value: 0.7781295162858485 and parameters: {'vect__max_df': 0.9511843922549027, 'vect__max_features': 26013, 'tfidf__use_idf': True, 'und__replacement': False, 'clf__fit_prior': True, 'clf__alpha': 0.3281439688019995}. Best is trial 72 with value: 0.7995297503024056.\u001b[0m\n",
            "\u001b[32m[I 2021-10-18 15:25:13,537]\u001b[0m Trial 77 finished with value: 0.7862327734883515 and parameters: {'vect__max_df': 0.8976405243314592, 'vect__max_features': 18980, 'tfidf__use_idf': True, 'und__replacement': False, 'clf__fit_prior': True, 'clf__alpha': 0.2658992878636599}. Best is trial 72 with value: 0.7995297503024056.\u001b[0m\n",
            "\u001b[32m[I 2021-10-18 15:25:15,009]\u001b[0m Trial 78 finished with value: 0.7814779493303425 and parameters: {'vect__max_df': 0.9740785386045132, 'vect__max_features': 24337, 'tfidf__use_idf': True, 'und__replacement': False, 'clf__fit_prior': True, 'clf__alpha': 0.12472297013131706}. Best is trial 72 with value: 0.7995297503024056.\u001b[0m\n",
            "\u001b[32m[I 2021-10-18 15:25:16,531]\u001b[0m Trial 79 finished with value: 0.7971725494705507 and parameters: {'vect__max_df': 0.9469238366760596, 'vect__max_features': 32504, 'tfidf__use_idf': True, 'und__replacement': False, 'clf__fit_prior': True, 'clf__alpha': 0.20760238387893443}. Best is trial 72 with value: 0.7995297503024056.\u001b[0m\n",
            "\u001b[32m[I 2021-10-18 15:25:18,006]\u001b[0m Trial 80 finished with value: 0.7894537127092842 and parameters: {'vect__max_df': 0.9982869800162164, 'vect__max_features': 31293, 'tfidf__use_idf': True, 'und__replacement': False, 'clf__fit_prior': True, 'clf__alpha': 0.26172389445465905}. Best is trial 72 with value: 0.7995297503024056.\u001b[0m\n",
            "\u001b[32m[I 2021-10-18 15:25:19,486]\u001b[0m Trial 81 finished with value: 0.798609956017369 and parameters: {'vect__max_df': 0.9076258202239607, 'vect__max_features': 32334, 'tfidf__use_idf': True, 'und__replacement': False, 'clf__fit_prior': True, 'clf__alpha': 0.21468024616499323}. Best is trial 72 with value: 0.7995297503024056.\u001b[0m\n",
            "\u001b[32m[I 2021-10-18 15:25:20,924]\u001b[0m Trial 82 finished with value: 0.798609956017369 and parameters: {'vect__max_df': 0.9136852781782034, 'vect__max_features': 36600, 'tfidf__use_idf': True, 'und__replacement': False, 'clf__fit_prior': True, 'clf__alpha': 0.21452773938355527}. Best is trial 72 with value: 0.7995297503024056.\u001b[0m\n",
            "\u001b[32m[I 2021-10-18 15:25:22,404]\u001b[0m Trial 83 finished with value: 0.7795316392601468 and parameters: {'vect__max_df': 0.9555521988187153, 'vect__max_features': 33269, 'tfidf__use_idf': True, 'und__replacement': False, 'clf__fit_prior': True, 'clf__alpha': 0.34015807686172717}. Best is trial 72 with value: 0.7995297503024056.\u001b[0m\n",
            "\u001b[32m[I 2021-10-18 15:25:23,879]\u001b[0m Trial 84 finished with value: 0.7995297503024056 and parameters: {'vect__max_df': 0.9141902793484491, 'vect__max_features': 35991, 'tfidf__use_idf': True, 'und__replacement': False, 'clf__fit_prior': True, 'clf__alpha': 0.216733182853191}. Best is trial 72 with value: 0.7995297503024056.\u001b[0m\n",
            "\u001b[32m[I 2021-10-18 15:25:25,359]\u001b[0m Trial 85 finished with value: 0.7919370245497134 and parameters: {'vect__max_df': 0.9011395825289905, 'vect__max_features': 35961, 'tfidf__use_idf': True, 'und__replacement': False, 'clf__fit_prior': True, 'clf__alpha': 0.27156769610619136}. Best is trial 72 with value: 0.7995297503024056.\u001b[0m\n",
            "\u001b[32m[I 2021-10-18 15:25:26,827]\u001b[0m Trial 86 finished with value: 0.798609956017369 and parameters: {'vect__max_df': 0.9193234063704877, 'vect__max_features': 37259, 'tfidf__use_idf': True, 'und__replacement': False, 'clf__fit_prior': True, 'clf__alpha': 0.21580137576670705}. Best is trial 72 with value: 0.7995297503024056.\u001b[0m\n",
            "\u001b[32m[I 2021-10-18 15:25:28,290]\u001b[0m Trial 87 finished with value: 0.7810243289628005 and parameters: {'vect__max_df': 0.8822978350600397, 'vect__max_features': 36690, 'tfidf__use_idf': False, 'und__replacement': False, 'clf__fit_prior': True, 'clf__alpha': 0.3174129970832763}. Best is trial 72 with value: 0.7995297503024056.\u001b[0m\n",
            "\u001b[32m[I 2021-10-18 15:25:29,794]\u001b[0m Trial 88 finished with value: 0.7838864872759214 and parameters: {'vect__max_df': 0.9164377048261939, 'vect__max_features': 35511, 'tfidf__use_idf': True, 'und__replacement': False, 'clf__fit_prior': True, 'clf__alpha': 0.1361986223738737}. Best is trial 72 with value: 0.7995297503024056.\u001b[0m\n",
            "\u001b[32m[I 2021-10-18 15:25:31,285]\u001b[0m Trial 89 finished with value: 0.7730136339818106 and parameters: {'vect__max_df': 0.15816154456504045, 'vect__max_features': 33971, 'tfidf__use_idf': True, 'und__replacement': False, 'clf__fit_prior': True, 'clf__alpha': 0.10990594913929173}. Best is trial 72 with value: 0.7995297503024056.\u001b[0m\n",
            "\u001b[32m[I 2021-10-18 15:25:32,776]\u001b[0m Trial 90 finished with value: 0.6100805966201044 and parameters: {'vect__max_df': 0.9105838248635331, 'vect__max_features': 38368, 'tfidf__use_idf': True, 'und__replacement': False, 'clf__fit_prior': True, 'clf__alpha': 0.8854482898908325}. Best is trial 72 with value: 0.7995297503024056.\u001b[0m\n",
            "\u001b[32m[I 2021-10-18 15:25:34,269]\u001b[0m Trial 91 finished with value: 0.7980946469329185 and parameters: {'vect__max_df': 0.9405329554967452, 'vect__max_features': 32502, 'tfidf__use_idf': True, 'und__replacement': False, 'clf__fit_prior': True, 'clf__alpha': 0.20975455933585735}. Best is trial 72 with value: 0.7995297503024056.\u001b[0m\n",
            "\u001b[32m[I 2021-10-18 15:25:35,732]\u001b[0m Trial 92 finished with value: 0.8010657000800483 and parameters: {'vect__max_df': 0.8745687171390053, 'vect__max_features': 30632, 'tfidf__use_idf': True, 'und__replacement': False, 'clf__fit_prior': True, 'clf__alpha': 0.22752295322714447}. Best is trial 92 with value: 0.8010657000800483.\u001b[0m\n",
            "\u001b[32m[I 2021-10-18 15:25:37,214]\u001b[0m Trial 93 finished with value: 0.7872175570621327 and parameters: {'vect__max_df': 0.8730117277731483, 'vect__max_features': 30623, 'tfidf__use_idf': True, 'und__replacement': False, 'clf__fit_prior': True, 'clf__alpha': 0.24680019436526424}. Best is trial 92 with value: 0.8010657000800483.\u001b[0m\n",
            "\u001b[32m[I 2021-10-18 15:25:38,693]\u001b[0m Trial 94 finished with value: 0.7939684115370536 and parameters: {'vect__max_df': 0.8278327139063953, 'vect__max_features': 32157, 'tfidf__use_idf': True, 'und__replacement': False, 'clf__fit_prior': True, 'clf__alpha': 0.23413045653939812}. Best is trial 92 with value: 0.8010657000800483.\u001b[0m\n",
            "\u001b[32m[I 2021-10-18 15:25:40,174]\u001b[0m Trial 95 finished with value: 0.7904738237006429 and parameters: {'vect__max_df': 0.9254585503200409, 'vect__max_features': 28277, 'tfidf__use_idf': True, 'und__replacement': False, 'clf__fit_prior': True, 'clf__alpha': 0.2739701974359834}. Best is trial 92 with value: 0.8010657000800483.\u001b[0m\n",
            "\u001b[32m[I 2021-10-18 15:25:41,643]\u001b[0m Trial 96 finished with value: 0.8010657000800483 and parameters: {'vect__max_df': 0.9750376490226713, 'vect__max_features': 34437, 'tfidf__use_idf': True, 'und__replacement': False, 'clf__fit_prior': True, 'clf__alpha': 0.22672878565756308}. Best is trial 92 with value: 0.8010657000800483.\u001b[0m\n",
            "\u001b[32m[I 2021-10-18 15:25:43,121]\u001b[0m Trial 97 finished with value: 0.7088613476176422 and parameters: {'vect__max_df': 0.9764559192296699, 'vect__max_features': 35026, 'tfidf__use_idf': True, 'und__replacement': False, 'clf__fit_prior': True, 'clf__alpha': 0.5900016543052691}. Best is trial 92 with value: 0.8010657000800483.\u001b[0m\n",
            "\u001b[32m[I 2021-10-18 15:25:44,605]\u001b[0m Trial 98 finished with value: 0.7822695570191025 and parameters: {'vect__max_df': 0.8774093624849203, 'vect__max_features': 37250, 'tfidf__use_idf': True, 'und__replacement': False, 'clf__fit_prior': True, 'clf__alpha': 0.31266666975764723}. Best is trial 92 with value: 0.8010657000800483.\u001b[0m\n",
            "\u001b[32m[I 2021-10-18 15:25:46,066]\u001b[0m Trial 99 finished with value: 0.7732135024052005 and parameters: {'vect__max_df': 0.933759159505715, 'vect__max_features': 38574, 'tfidf__use_idf': False, 'und__replacement': False, 'clf__fit_prior': True, 'clf__alpha': 0.35725686955360925}. Best is trial 92 with value: 0.8010657000800483.\u001b[0m\n",
            "\u001b[32m[I 2021-10-18 15:25:47,556]\u001b[0m Trial 100 finished with value: 0.7876278459792413 and parameters: {'vect__max_df': 0.9970061837088097, 'vect__max_features': 34494, 'tfidf__use_idf': True, 'und__replacement': False, 'clf__fit_prior': True, 'clf__alpha': 0.2827431168343639}. Best is trial 92 with value: 0.8010657000800483.\u001b[0m\n",
            "\u001b[32m[I 2021-10-18 15:25:49,051]\u001b[0m Trial 101 finished with value: 0.8000598634156061 and parameters: {'vect__max_df': 0.9653395624134958, 'vect__max_features': 33012, 'tfidf__use_idf': True, 'und__replacement': False, 'clf__fit_prior': True, 'clf__alpha': 0.21951209538249344}. Best is trial 92 with value: 0.8010657000800483.\u001b[0m\n",
            "\u001b[32m[I 2021-10-18 15:25:50,532]\u001b[0m Trial 102 finished with value: 0.787804551497005 and parameters: {'vect__max_df': 0.975810695100867, 'vect__max_features': 30088, 'tfidf__use_idf': True, 'und__replacement': False, 'clf__fit_prior': True, 'clf__alpha': 0.250004874100879}. Best is trial 92 with value: 0.8010657000800483.\u001b[0m\n",
            "\u001b[32m[I 2021-10-18 15:25:52,005]\u001b[0m Trial 103 finished with value: 0.8000598634156061 and parameters: {'vect__max_df': 0.9085772137531619, 'vect__max_features': 31397, 'tfidf__use_idf': True, 'und__replacement': False, 'clf__fit_prior': True, 'clf__alpha': 0.22132747373634656}. Best is trial 92 with value: 0.8010657000800483.\u001b[0m\n",
            "\u001b[32m[I 2021-10-18 15:25:53,475]\u001b[0m Trial 104 finished with value: 0.795845591399263 and parameters: {'vect__max_df': 0.9397823081072221, 'vect__max_features': 36407, 'tfidf__use_idf': True, 'und__replacement': False, 'clf__fit_prior': True, 'clf__alpha': 0.2319123672683341}. Best is trial 92 with value: 0.8010657000800483.\u001b[0m\n",
            "\u001b[32m[I 2021-10-18 15:25:54,948]\u001b[0m Trial 105 finished with value: 0.7943592879614167 and parameters: {'vect__max_df': 0.9083279869954435, 'vect__max_features': 33496, 'tfidf__use_idf': True, 'und__replacement': False, 'clf__fit_prior': True, 'clf__alpha': 0.1835322076190239}. Best is trial 92 with value: 0.8010657000800483.\u001b[0m\n",
            "\u001b[32m[I 2021-10-18 15:25:56,408]\u001b[0m Trial 106 finished with value: 0.782167098270209 and parameters: {'vect__max_df': 0.9604047564748541, 'vect__max_features': 32709, 'tfidf__use_idf': True, 'und__replacement': False, 'clf__fit_prior': True, 'clf__alpha': 0.14972428023566395}. Best is trial 92 with value: 0.8010657000800483.\u001b[0m\n",
            "\u001b[32m[I 2021-10-18 15:25:57,858]\u001b[0m Trial 107 finished with value: 0.7938966370445655 and parameters: {'vect__max_df': 0.835748234966603, 'vect__max_features': 39201, 'tfidf__use_idf': True, 'und__replacement': False, 'clf__fit_prior': True, 'clf__alpha': 0.1869260878798787}. Best is trial 92 with value: 0.8010657000800483.\u001b[0m\n",
            "\u001b[32m[I 2021-10-18 15:25:59,350]\u001b[0m Trial 108 finished with value: 0.8010657000800483 and parameters: {'vect__max_df': 0.3613335560761627, 'vect__max_features': 26979, 'tfidf__use_idf': True, 'und__replacement': False, 'clf__fit_prior': True, 'clf__alpha': 0.22430685228829228}. Best is trial 92 with value: 0.8010657000800483.\u001b[0m\n",
            "\u001b[32m[I 2021-10-18 15:26:00,836]\u001b[0m Trial 109 finished with value: 0.7872175570621327 and parameters: {'vect__max_df': 0.35633098292810017, 'vect__max_features': 26769, 'tfidf__use_idf': True, 'und__replacement': False, 'clf__fit_prior': True, 'clf__alpha': 0.24728330985747488}. Best is trial 92 with value: 0.8010657000800483.\u001b[0m\n",
            "\u001b[32m[I 2021-10-18 15:26:02,348]\u001b[0m Trial 110 finished with value: 0.7721266505026358 and parameters: {'vect__max_df': 0.8966998987456024, 'vect__max_features': 31067, 'tfidf__use_idf': True, 'und__replacement': False, 'clf__fit_prior': True, 'clf__alpha': 0.08621750239783654}. Best is trial 92 with value: 0.8010657000800483.\u001b[0m\n",
            "\u001b[32m[I 2021-10-18 15:26:03,815]\u001b[0m Trial 111 finished with value: 0.7786706981818454 and parameters: {'vect__max_df': 0.2689837561011803, 'vect__max_features': 28171, 'tfidf__use_idf': True, 'und__replacement': False, 'clf__fit_prior': True, 'clf__alpha': 0.2882915897409894}. Best is trial 92 with value: 0.8010657000800483.\u001b[0m\n",
            "\u001b[32m[I 2021-10-18 15:26:05,294]\u001b[0m Trial 112 finished with value: 0.798621209521839 and parameters: {'vect__max_df': 0.8809940724071661, 'vect__max_features': 31452, 'tfidf__use_idf': True, 'und__replacement': False, 'clf__fit_prior': True, 'clf__alpha': 0.22876181468693496}. Best is trial 92 with value: 0.8010657000800483.\u001b[0m\n",
            "\u001b[32m[I 2021-10-18 15:26:06,679]\u001b[0m Trial 113 finished with value: 0.6201250871202993 and parameters: {'vect__max_df': 0.9836627457259406, 'vect__max_features': 985, 'tfidf__use_idf': True, 'und__replacement': False, 'clf__fit_prior': True, 'clf__alpha': 0.22316551294888506}. Best is trial 92 with value: 0.8010657000800483.\u001b[0m\n",
            "\u001b[32m[I 2021-10-18 15:26:08,154]\u001b[0m Trial 114 finished with value: 0.7924446905948426 and parameters: {'vect__max_df': 0.9196083023812168, 'vect__max_features': 34749, 'tfidf__use_idf': True, 'und__replacement': False, 'clf__fit_prior': True, 'clf__alpha': 0.16934072422692958}. Best is trial 92 with value: 0.8010657000800483.\u001b[0m\n",
            "\u001b[32m[I 2021-10-18 15:26:09,623]\u001b[0m Trial 115 finished with value: 0.7873605070041617 and parameters: {'vect__max_df': 0.8875186843201308, 'vect__max_features': 40375, 'tfidf__use_idf': True, 'und__replacement': False, 'clf__fit_prior': True, 'clf__alpha': 0.14003869434053162}. Best is trial 92 with value: 0.8010657000800483.\u001b[0m\n",
            "\u001b[32m[I 2021-10-18 15:26:11,152]\u001b[0m Trial 116 finished with value: 0.7894810831210877 and parameters: {'vect__max_df': 0.9575612072975535, 'vect__max_features': 31837, 'tfidf__use_idf': True, 'und__replacement': False, 'clf__fit_prior': True, 'clf__alpha': 0.25814561904676786}. Best is trial 92 with value: 0.8010657000800483.\u001b[0m\n",
            "\u001b[32m[I 2021-10-18 15:26:12,625]\u001b[0m Trial 117 finished with value: 0.8010657000800483 and parameters: {'vect__max_df': 0.33445202569855986, 'vect__max_features': 37240, 'tfidf__use_idf': True, 'und__replacement': False, 'clf__fit_prior': True, 'clf__alpha': 0.2273416492603934}. Best is trial 92 with value: 0.8010657000800483.\u001b[0m\n",
            "\u001b[32m[I 2021-10-18 15:26:14,110]\u001b[0m Trial 118 finished with value: 0.7943592879614167 and parameters: {'vect__max_df': 0.3031768454350027, 'vect__max_features': 37853, 'tfidf__use_idf': True, 'und__replacement': False, 'clf__fit_prior': True, 'clf__alpha': 0.18404075127108935}. Best is trial 92 with value: 0.8010657000800483.\u001b[0m\n",
            "\u001b[32m[I 2021-10-18 15:26:15,598]\u001b[0m Trial 119 finished with value: 0.7906365737083442 and parameters: {'vect__max_df': 0.3706694335936137, 'vect__max_features': 27515, 'tfidf__use_idf': True, 'und__replacement': False, 'clf__fit_prior': True, 'clf__alpha': 0.2377998552861146}. Best is trial 92 with value: 0.8010657000800483.\u001b[0m\n",
            "\u001b[32m[I 2021-10-18 15:26:17,016]\u001b[0m Trial 120 finished with value: 0.7845583956602936 and parameters: {'vect__max_df': 0.45394896541638396, 'vect__max_features': 35734, 'tfidf__use_idf': False, 'und__replacement': False, 'clf__fit_prior': True, 'clf__alpha': 0.30962179843089327}. Best is trial 92 with value: 0.8010657000800483.\u001b[0m\n",
            "\u001b[32m[I 2021-10-18 15:26:18,495]\u001b[0m Trial 121 finished with value: 0.7995297503024056 and parameters: {'vect__max_df': 0.38999310279668126, 'vect__max_features': 36943, 'tfidf__use_idf': True, 'und__replacement': False, 'clf__fit_prior': True, 'clf__alpha': 0.21666682430926215}. Best is trial 92 with value: 0.8010657000800483.\u001b[0m\n",
            "\u001b[32m[I 2021-10-18 15:26:19,938]\u001b[0m Trial 122 finished with value: 0.7868003836838116 and parameters: {'vect__max_df': 0.2994914903279628, 'vect__max_features': 34053, 'tfidf__use_idf': True, 'und__replacement': False, 'clf__fit_prior': True, 'clf__alpha': 0.278241310813748}. Best is trial 92 with value: 0.8010657000800483.\u001b[0m\n",
            "\u001b[32m[I 2021-10-18 15:26:21,394]\u001b[0m Trial 123 finished with value: 0.7870260600573004 and parameters: {'vect__max_df': 0.4242586495099749, 'vect__max_features': 31254, 'tfidf__use_idf': True, 'und__replacement': False, 'clf__fit_prior': True, 'clf__alpha': 0.15923103829093466}. Best is trial 92 with value: 0.8010657000800483.\u001b[0m\n",
            "\u001b[32m[I 2021-10-18 15:26:22,853]\u001b[0m Trial 124 finished with value: 0.7986462664653362 and parameters: {'vect__max_df': 0.31815208914074294, 'vect__max_features': 37052, 'tfidf__use_idf': True, 'und__replacement': False, 'clf__fit_prior': True, 'clf__alpha': 0.22258515455003633}. Best is trial 92 with value: 0.8010657000800483.\u001b[0m\n",
            "\u001b[32m[I 2021-10-18 15:26:24,333]\u001b[0m Trial 125 finished with value: 0.7894810831210877 and parameters: {'vect__max_df': 0.32115724910424154, 'vect__max_features': 41795, 'tfidf__use_idf': True, 'und__replacement': False, 'clf__fit_prior': True, 'clf__alpha': 0.2577539378498997}. Best is trial 92 with value: 0.8010657000800483.\u001b[0m\n",
            "\u001b[32m[I 2021-10-18 15:26:25,788]\u001b[0m Trial 126 finished with value: 0.7926824288824192 and parameters: {'vect__max_df': 0.2409694688894667, 'vect__max_features': 37711, 'tfidf__use_idf': True, 'und__replacement': False, 'clf__fit_prior': True, 'clf__alpha': 0.18901517041450372}. Best is trial 92 with value: 0.8010657000800483.\u001b[0m\n",
            "\u001b[32m[I 2021-10-18 15:26:27,257]\u001b[0m Trial 127 finished with value: 0.8010657000800483 and parameters: {'vect__max_df': 0.33656980119571445, 'vect__max_features': 35519, 'tfidf__use_idf': True, 'und__replacement': False, 'clf__fit_prior': True, 'clf__alpha': 0.2250243590498584}. Best is trial 92 with value: 0.8010657000800483.\u001b[0m\n",
            "\u001b[32m[I 2021-10-18 15:26:28,735]\u001b[0m Trial 128 finished with value: 0.7968964471225679 and parameters: {'vect__max_df': 0.37143968750486833, 'vect__max_features': 35053, 'tfidf__use_idf': True, 'und__replacement': False, 'clf__fit_prior': True, 'clf__alpha': 0.22920891317672115}. Best is trial 92 with value: 0.8010657000800483.\u001b[0m\n",
            "\u001b[32m[I 2021-10-18 15:26:30,215]\u001b[0m Trial 129 finished with value: 0.7806181117380515 and parameters: {'vect__max_df': 0.3331237434685388, 'vect__max_features': 32979, 'tfidf__use_idf': True, 'und__replacement': False, 'clf__fit_prior': True, 'clf__alpha': 0.12917896469392676}. Best is trial 92 with value: 0.8010657000800483.\u001b[0m\n",
            "\u001b[32m[I 2021-10-18 15:26:31,681]\u001b[0m Trial 130 finished with value: 0.7802491553243792 and parameters: {'vect__max_df': 0.26377104271000784, 'vect__max_features': 36987, 'tfidf__use_idf': True, 'und__replacement': False, 'clf__fit_prior': True, 'clf__alpha': 0.2875882810431902}. Best is trial 92 with value: 0.8010657000800483.\u001b[0m\n",
            "\u001b[32m[I 2021-10-18 15:26:33,165]\u001b[0m Trial 131 finished with value: 0.7996027652970584 and parameters: {'vect__max_df': 0.3937334724708529, 'vect__max_features': 36098, 'tfidf__use_idf': True, 'und__replacement': False, 'clf__fit_prior': True, 'clf__alpha': 0.22353164173175358}. Best is trial 92 with value: 0.8010657000800483.\u001b[0m\n",
            "\u001b[32m[I 2021-10-18 15:26:34,646]\u001b[0m Trial 132 finished with value: 0.7872175570621327 and parameters: {'vect__max_df': 0.40550684894400957, 'vect__max_features': 38841, 'tfidf__use_idf': True, 'und__replacement': False, 'clf__fit_prior': True, 'clf__alpha': 0.24491917011413994}. Best is trial 92 with value: 0.8010657000800483.\u001b[0m\n",
            "\u001b[32m[I 2021-10-18 15:26:36,110]\u001b[0m Trial 133 finished with value: 0.670351785031372 and parameters: {'vect__max_df': 0.38893294534158, 'vect__max_features': 36167, 'tfidf__use_idf': True, 'und__replacement': False, 'clf__fit_prior': True, 'clf__alpha': 0.696776341301901}. Best is trial 92 with value: 0.8010657000800483.\u001b[0m\n",
            "\u001b[32m[I 2021-10-18 15:26:37,603]\u001b[0m Trial 134 finished with value: 0.7162829431595379 and parameters: {'vect__max_df': 0.2881748635504494, 'vect__max_features': 40341, 'tfidf__use_idf': True, 'und__replacement': False, 'clf__fit_prior': True, 'clf__alpha': 0.5367621614995133}. Best is trial 92 with value: 0.8010657000800483.\u001b[0m\n",
            "\u001b[32m[I 2021-10-18 15:26:39,068]\u001b[0m Trial 135 finished with value: 0.7950097733268198 and parameters: {'vect__max_df': 0.34702240032088705, 'vect__max_features': 33989, 'tfidf__use_idf': True, 'und__replacement': False, 'clf__fit_prior': True, 'clf__alpha': 0.19663324954434436}. Best is trial 92 with value: 0.8010657000800483.\u001b[0m\n",
            "\u001b[32m[I 2021-10-18 15:26:40,538]\u001b[0m Trial 136 finished with value: 0.7922337968779287 and parameters: {'vect__max_df': 0.38637277426994904, 'vect__max_features': 35657, 'tfidf__use_idf': True, 'und__replacement': False, 'clf__fit_prior': True, 'clf__alpha': 0.267851815006261}. Best is trial 92 with value: 0.8010657000800483.\u001b[0m\n",
            "\u001b[32m[I 2021-10-18 15:26:41,995]\u001b[0m Trial 137 finished with value: 0.7924446905948426 and parameters: {'vect__max_df': 0.32299878454988606, 'vect__max_features': 29358, 'tfidf__use_idf': True, 'und__replacement': False, 'clf__fit_prior': True, 'clf__alpha': 0.16888583874579297}. Best is trial 92 with value: 0.8010657000800483.\u001b[0m\n",
            "\u001b[32m[I 2021-10-18 15:26:43,525]\u001b[0m Trial 138 finished with value: 0.798621209521839 and parameters: {'vect__max_df': 0.42670328629715465, 'vect__max_features': 31586, 'tfidf__use_idf': True, 'und__replacement': False, 'clf__fit_prior': True, 'clf__alpha': 0.2281393670487277}. Best is trial 92 with value: 0.8010657000800483.\u001b[0m\n",
            "\u001b[32m[I 2021-10-18 15:26:45,059]\u001b[0m Trial 139 finished with value: 0.7793617337139218 and parameters: {'vect__max_df': 0.41351516169140284, 'vect__max_features': 31503, 'tfidf__use_idf': True, 'und__replacement': False, 'clf__fit_prior': True, 'clf__alpha': 0.33106337839634226}. Best is trial 92 with value: 0.8010657000800483.\u001b[0m\n",
            "\u001b[32m[I 2021-10-18 15:26:46,558]\u001b[0m Trial 140 finished with value: 0.7939684115370536 and parameters: {'vect__max_df': 0.4406027337298695, 'vect__max_features': 33318, 'tfidf__use_idf': True, 'und__replacement': False, 'clf__fit_prior': True, 'clf__alpha': 0.234478963797906}. Best is trial 92 with value: 0.8010657000800483.\u001b[0m\n",
            "\u001b[32m[I 2021-10-18 15:26:48,013]\u001b[0m Trial 141 finished with value: 0.798621209521839 and parameters: {'vect__max_df': 0.4948252712035841, 'vect__max_features': 34766, 'tfidf__use_idf': True, 'und__replacement': False, 'clf__fit_prior': True, 'clf__alpha': 0.2285188425762109}. Best is trial 92 with value: 0.8010657000800483.\u001b[0m\n",
            "\u001b[32m[I 2021-10-18 15:26:49,465]\u001b[0m Trial 142 finished with value: 0.7986462664653362 and parameters: {'vect__max_df': 0.5206142410085958, 'vect__max_features': 34717, 'tfidf__use_idf': True, 'und__replacement': False, 'clf__fit_prior': True, 'clf__alpha': 0.22250078101609705}. Best is trial 92 with value: 0.8010657000800483.\u001b[0m\n",
            "\u001b[32m[I 2021-10-18 15:26:50,950]\u001b[0m Trial 143 finished with value: 0.7948466312641579 and parameters: {'vect__max_df': 0.5203610694303222, 'vect__max_features': 35129, 'tfidf__use_idf': True, 'und__replacement': False, 'clf__fit_prior': True, 'clf__alpha': 0.18946801748083703}. Best is trial 92 with value: 0.8010657000800483.\u001b[0m\n",
            "\u001b[32m[I 2021-10-18 15:26:52,386]\u001b[0m Trial 144 finished with value: 0.7865248621045418 and parameters: {'vect__max_df': 0.35444091419578705, 'vect__max_features': 30779, 'tfidf__use_idf': True, 'und__replacement': False, 'clf__fit_prior': True, 'clf__alpha': 0.30163572743005995}. Best is trial 92 with value: 0.8010657000800483.\u001b[0m\n",
            "\u001b[32m[I 2021-10-18 15:26:53,885]\u001b[0m Trial 145 finished with value: 0.7894810831210877 and parameters: {'vect__max_df': 0.32422482722590457, 'vect__max_features': 34158, 'tfidf__use_idf': True, 'und__replacement': False, 'clf__fit_prior': True, 'clf__alpha': 0.2585171018878362}. Best is trial 92 with value: 0.8010657000800483.\u001b[0m\n",
            "\u001b[32m[I 2021-10-18 15:26:55,274]\u001b[0m Trial 146 finished with value: 0.7790440543039625 and parameters: {'vect__max_df': 0.43469932352850954, 'vect__max_features': 36516, 'tfidf__use_idf': False, 'und__replacement': False, 'clf__fit_prior': True, 'clf__alpha': 0.21983056297106068}. Best is trial 92 with value: 0.8010657000800483.\u001b[0m\n",
            "\u001b[32m[I 2021-10-18 15:26:56,742]\u001b[0m Trial 147 finished with value: 0.7909133299496387 and parameters: {'vect__max_df': 0.2042163952842636, 'vect__max_features': 28873, 'tfidf__use_idf': True, 'und__replacement': False, 'clf__fit_prior': True, 'clf__alpha': 0.15361633513662726}. Best is trial 92 with value: 0.8010657000800483.\u001b[0m\n",
            "\u001b[32m[I 2021-10-18 15:26:58,221]\u001b[0m Trial 148 finished with value: 0.7954977351947417 and parameters: {'vect__max_df': 0.3920829629923371, 'vect__max_features': 30268, 'tfidf__use_idf': True, 'und__replacement': False, 'clf__fit_prior': True, 'clf__alpha': 0.1988210534229786}. Best is trial 92 with value: 0.8010657000800483.\u001b[0m\n",
            "\u001b[32m[I 2021-10-18 15:26:59,715]\u001b[0m Trial 149 finished with value: 0.7919370245497134 and parameters: {'vect__max_df': 0.3699167631385979, 'vect__max_features': 32661, 'tfidf__use_idf': True, 'und__replacement': False, 'clf__fit_prior': True, 'clf__alpha': 0.2717018754694089}. Best is trial 92 with value: 0.8010657000800483.\u001b[0m\n",
            "\u001b[32m[I 2021-10-18 15:27:01,208]\u001b[0m Trial 150 finished with value: 0.7872175570621327 and parameters: {'vect__max_df': 0.45529595187810673, 'vect__max_features': 38360, 'tfidf__use_idf': True, 'und__replacement': False, 'clf__fit_prior': True, 'clf__alpha': 0.24482340984254142}. Best is trial 92 with value: 0.8010657000800483.\u001b[0m\n",
            "\u001b[32m[I 2021-10-18 15:27:02,696]\u001b[0m Trial 151 finished with value: 0.78578880232328 and parameters: {'vect__max_df': 0.08662398808339566, 'vect__max_features': 34807, 'tfidf__use_idf': True, 'und__replacement': False, 'clf__fit_prior': True, 'clf__alpha': 0.22541848301734363}. Best is trial 92 with value: 0.8010657000800483.\u001b[0m\n",
            "\u001b[32m[I 2021-10-18 15:27:04,152]\u001b[0m Trial 152 finished with value: 0.7938866992467097 and parameters: {'vect__max_df': 0.4898080859924243, 'vect__max_features': 33570, 'tfidf__use_idf': True, 'und__replacement': False, 'clf__fit_prior': True, 'clf__alpha': 0.1734620702148304}. Best is trial 92 with value: 0.8010657000800483.\u001b[0m\n",
            "\u001b[32m[I 2021-10-18 15:27:05,641]\u001b[0m Trial 153 finished with value: 0.7980946469329185 and parameters: {'vect__max_df': 0.5703366153356414, 'vect__max_features': 32134, 'tfidf__use_idf': True, 'und__replacement': False, 'clf__fit_prior': True, 'clf__alpha': 0.20841608557991032}. Best is trial 92 with value: 0.8010657000800483.\u001b[0m\n",
            "\u001b[32m[I 2021-10-18 15:27:07,121]\u001b[0m Trial 154 finished with value: 0.7906365737083442 and parameters: {'vect__max_df': 0.34225167829455705, 'vect__max_features': 35786, 'tfidf__use_idf': True, 'und__replacement': False, 'clf__fit_prior': True, 'clf__alpha': 0.23885518305203576}. Best is trial 92 with value: 0.8010657000800483.\u001b[0m\n",
            "\u001b[32m[I 2021-10-18 15:27:08,563]\u001b[0m Trial 155 finished with value: 0.7894810831210877 and parameters: {'vect__max_df': 0.5286976362144047, 'vect__max_features': 34550, 'tfidf__use_idf': True, 'und__replacement': False, 'clf__fit_prior': True, 'clf__alpha': 0.25678664978874693}. Best is trial 92 with value: 0.8010657000800483.\u001b[0m\n",
            "\u001b[32m[I 2021-10-18 15:27:10,009]\u001b[0m Trial 156 finished with value: 0.7996027652970584 and parameters: {'vect__max_df': 0.40477997092138807, 'vect__max_features': 37241, 'tfidf__use_idf': True, 'und__replacement': False, 'clf__fit_prior': True, 'clf__alpha': 0.22320185159265687}. Best is trial 92 with value: 0.8010657000800483.\u001b[0m\n",
            "\u001b[32m[I 2021-10-18 15:27:11,449]\u001b[0m Trial 157 finished with value: 0.7953147672485055 and parameters: {'vect__max_df': 0.48199915178107805, 'vect__max_features': 39628, 'tfidf__use_idf': True, 'und__replacement': False, 'clf__fit_prior': True, 'clf__alpha': 0.17777019435390623}. Best is trial 92 with value: 0.8010657000800483.\u001b[0m\n",
            "\u001b[32m[I 2021-10-18 15:27:12,941]\u001b[0m Trial 158 finished with value: 0.7876051844274021 and parameters: {'vect__max_df': 0.47090704216605944, 'vect__max_features': 37619, 'tfidf__use_idf': True, 'und__replacement': False, 'clf__fit_prior': True, 'clf__alpha': 0.2899684434566412}. Best is trial 92 with value: 0.8010657000800483.\u001b[0m\n",
            "\u001b[32m[I 2021-10-18 15:27:14,430]\u001b[0m Trial 159 finished with value: 0.7971725494705507 and parameters: {'vect__max_df': 0.3944470575501558, 'vect__max_features': 36731, 'tfidf__use_idf': True, 'und__replacement': False, 'clf__fit_prior': True, 'clf__alpha': 0.2064143938082272}. Best is trial 92 with value: 0.8010657000800483.\u001b[0m\n",
            "\u001b[32m[I 2021-10-18 15:27:15,861]\u001b[0m Trial 160 finished with value: 0.7948466312641579 and parameters: {'vect__max_df': 0.36363276235327785, 'vect__max_features': 31512, 'tfidf__use_idf': True, 'und__replacement': False, 'clf__fit_prior': True, 'clf__alpha': 0.19024187118001293}. Best is trial 92 with value: 0.8010657000800483.\u001b[0m\n",
            "\u001b[32m[I 2021-10-18 15:27:17,365]\u001b[0m Trial 161 finished with value: 0.7996027652970584 and parameters: {'vect__max_df': 0.4217320249067319, 'vect__max_features': 33430, 'tfidf__use_idf': True, 'und__replacement': False, 'clf__fit_prior': True, 'clf__alpha': 0.22318188490600754}. Best is trial 92 with value: 0.8010657000800483.\u001b[0m\n",
            "\u001b[32m[I 2021-10-18 15:27:18,849]\u001b[0m Trial 162 finished with value: 0.8000598634156061 and parameters: {'vect__max_df': 0.30414470672894706, 'vect__max_features': 35561, 'tfidf__use_idf': True, 'und__replacement': False, 'clf__fit_prior': True, 'clf__alpha': 0.21866464716341277}. Best is trial 92 with value: 0.8010657000800483.\u001b[0m\n",
            "\u001b[32m[I 2021-10-18 15:27:20,360]\u001b[0m Trial 163 finished with value: 0.7864482706133404 and parameters: {'vect__max_df': 0.28675133117895946, 'vect__max_features': 36042, 'tfidf__use_idf': True, 'und__replacement': False, 'clf__fit_prior': True, 'clf__alpha': 0.24884817280125232}. Best is trial 92 with value: 0.8010657000800483.\u001b[0m\n",
            "\u001b[32m[I 2021-10-18 15:27:21,845]\u001b[0m Trial 164 finished with value: 0.798609956017369 and parameters: {'vect__max_df': 0.3079751009069242, 'vect__max_features': 37633, 'tfidf__use_idf': True, 'und__replacement': False, 'clf__fit_prior': True, 'clf__alpha': 0.21638086821209843}. Best is trial 92 with value: 0.8010657000800483.\u001b[0m\n",
            "\u001b[32m[I 2021-10-18 15:27:23,336]\u001b[0m Trial 165 finished with value: 0.7912723444393222 and parameters: {'vect__max_df': 0.4203385801029823, 'vect__max_features': 33232, 'tfidf__use_idf': True, 'und__replacement': False, 'clf__fit_prior': True, 'clf__alpha': 0.2715238281193178}. Best is trial 92 with value: 0.8010657000800483.\u001b[0m\n",
            "\u001b[32m[I 2021-10-18 15:27:24,819]\u001b[0m Trial 166 finished with value: 0.7967764413174663 and parameters: {'vect__max_df': 0.3438069220285994, 'vect__max_features': 35175, 'tfidf__use_idf': True, 'und__replacement': False, 'clf__fit_prior': True, 'clf__alpha': 0.19387671977318502}. Best is trial 92 with value: 0.8010657000800483.\u001b[0m\n",
            "\u001b[32m[I 2021-10-18 15:27:26,316]\u001b[0m Trial 167 finished with value: 0.7857843703837835 and parameters: {'vect__max_df': 0.3820425725634637, 'vect__max_features': 38744, 'tfidf__use_idf': True, 'und__replacement': False, 'clf__fit_prior': True, 'clf__alpha': 0.15695163469277312}. Best is trial 92 with value: 0.8010657000800483.\u001b[0m\n",
            "\u001b[32m[I 2021-10-18 15:27:27,829]\u001b[0m Trial 168 finished with value: 0.8000598634156061 and parameters: {'vect__max_df': 0.4088172053260591, 'vect__max_features': 36728, 'tfidf__use_idf': True, 'und__replacement': False, 'clf__fit_prior': True, 'clf__alpha': 0.22075527782570856}. Best is trial 92 with value: 0.8010657000800483.\u001b[0m\n",
            "\u001b[32m[I 2021-10-18 15:27:29,281]\u001b[0m Trial 169 finished with value: 0.7827571420530518 and parameters: {'vect__max_df': 0.405371739652249, 'vect__max_features': 37794, 'tfidf__use_idf': False, 'und__replacement': False, 'clf__fit_prior': True, 'clf__alpha': 0.252982125643431}. Best is trial 92 with value: 0.8010657000800483.\u001b[0m\n",
            "\u001b[32m[I 2021-10-18 15:27:30,795]\u001b[0m Trial 170 finished with value: 0.5647878106312588 and parameters: {'vect__max_df': 0.2844280675512152, 'vect__max_features': 36818, 'tfidf__use_idf': True, 'und__replacement': False, 'clf__fit_prior': True, 'clf__alpha': 0.978733210658822}. Best is trial 92 with value: 0.8010657000800483.\u001b[0m\n",
            "\u001b[32m[I 2021-10-18 15:27:32,281]\u001b[0m Trial 171 finished with value: 0.798609956017369 and parameters: {'vect__max_df': 0.33122353037377095, 'vect__max_features': 35980, 'tfidf__use_idf': True, 'und__replacement': False, 'clf__fit_prior': True, 'clf__alpha': 0.21618011469115375}. Best is trial 92 with value: 0.8010657000800483.\u001b[0m\n",
            "\u001b[32m[I 2021-10-18 15:27:33,783]\u001b[0m Trial 172 finished with value: 0.7953147672485055 and parameters: {'vect__max_df': 0.4199281402597766, 'vect__max_features': 34082, 'tfidf__use_idf': True, 'und__replacement': False, 'clf__fit_prior': True, 'clf__alpha': 0.17901904814846054}. Best is trial 92 with value: 0.8010657000800483.\u001b[0m\n",
            "\u001b[32m[I 2021-10-18 15:27:35,482]\u001b[0m Trial 173 finished with value: 0.7968964471225679 and parameters: {'vect__max_df': 0.45592862412945745, 'vect__max_features': 33254, 'tfidf__use_idf': True, 'und__replacement': False, 'clf__fit_prior': True, 'clf__alpha': 0.23031477284778207}. Best is trial 92 with value: 0.8010657000800483.\u001b[0m\n",
            "\u001b[32m[I 2021-10-18 15:27:36,977]\u001b[0m Trial 174 finished with value: 0.7960756435006456 and parameters: {'vect__max_df': 0.3485563258643906, 'vect__max_features': 35528, 'tfidf__use_idf': True, 'und__replacement': False, 'clf__fit_prior': True, 'clf__alpha': 0.20145992468863844}. Best is trial 92 with value: 0.8010657000800483.\u001b[0m\n",
            "\u001b[32m[I 2021-10-18 15:27:38,461]\u001b[0m Trial 175 finished with value: 0.7906365737083442 and parameters: {'vect__max_df': 0.37059825573155186, 'vect__max_features': 39773, 'tfidf__use_idf': True, 'und__replacement': False, 'clf__fit_prior': True, 'clf__alpha': 0.23903474375971495}. Best is trial 92 with value: 0.8010657000800483.\u001b[0m\n",
            "\u001b[32m[I 2021-10-18 15:27:39,914]\u001b[0m Trial 176 finished with value: 0.7059526209197969 and parameters: {'vect__max_df': 0.0029652907459443156, 'vect__max_features': 38394, 'tfidf__use_idf': True, 'und__replacement': False, 'clf__fit_prior': True, 'clf__alpha': 0.27025342252634377}. Best is trial 92 with value: 0.8010657000800483.\u001b[0m\n",
            "\u001b[32m[I 2021-10-18 15:27:41,383]\u001b[0m Trial 177 finished with value: 0.7995297503024056 and parameters: {'vect__max_df': 0.3086299797320857, 'vect__max_features': 37020, 'tfidf__use_idf': True, 'und__replacement': False, 'clf__fit_prior': True, 'clf__alpha': 0.21696746222951763}. Best is trial 92 with value: 0.8010657000800483.\u001b[0m\n",
            "\u001b[32m[I 2021-10-18 15:27:42,837]\u001b[0m Trial 178 finished with value: 0.7900646286226716 and parameters: {'vect__max_df': 0.22628454709088347, 'vect__max_features': 41359, 'tfidf__use_idf': True, 'und__replacement': False, 'clf__fit_prior': True, 'clf__alpha': 0.20602841879481823}. Best is trial 92 with value: 0.8010657000800483.\u001b[0m\n",
            "\u001b[32m[I 2021-10-18 15:27:44,351]\u001b[0m Trial 179 finished with value: 0.7926824288824192 and parameters: {'vect__max_df': 0.26508570410757637, 'vect__max_features': 36527, 'tfidf__use_idf': True, 'und__replacement': False, 'clf__fit_prior': True, 'clf__alpha': 0.18925156581447364}. Best is trial 92 with value: 0.8010657000800483.\u001b[0m\n",
            "\u001b[32m[I 2021-10-18 15:27:45,816]\u001b[0m Trial 180 finished with value: 0.7884224221398435 and parameters: {'vect__max_df': 0.31205077176628143, 'vect__max_features': 37193, 'tfidf__use_idf': True, 'und__replacement': False, 'clf__fit_prior': True, 'clf__alpha': 0.16060879499430575}. Best is trial 92 with value: 0.8010657000800483.\u001b[0m\n",
            "\u001b[32m[I 2021-10-18 15:27:47,294]\u001b[0m Trial 181 finished with value: 0.8004216643496213 and parameters: {'vect__max_df': 0.3159199784345602, 'vect__max_features': 34375, 'tfidf__use_idf': True, 'und__replacement': False, 'clf__fit_prior': True, 'clf__alpha': 0.22388430038088583}. Best is trial 92 with value: 0.8010657000800483.\u001b[0m\n",
            "\u001b[32m[I 2021-10-18 15:27:48,750]\u001b[0m Trial 182 finished with value: 0.7891889257931195 and parameters: {'vect__max_df': 0.3244732896734027, 'vect__max_features': 34756, 'tfidf__use_idf': True, 'und__replacement': False, 'clf__fit_prior': True, 'clf__alpha': 0.24369098124508476}. Best is trial 92 with value: 0.8010657000800483.\u001b[0m\n",
            "\u001b[32m[I 2021-10-18 15:27:50,280]\u001b[0m Trial 183 finished with value: 0.7900384940809804 and parameters: {'vect__max_df': 0.28133060535567367, 'vect__max_features': 35641, 'tfidf__use_idf': True, 'und__replacement': False, 'clf__fit_prior': True, 'clf__alpha': 0.21956490503372728}. Best is trial 92 with value: 0.8010657000800483.\u001b[0m\n",
            "\u001b[32m[I 2021-10-18 15:27:51,834]\u001b[0m Trial 184 finished with value: 0.7845284460972703 and parameters: {'vect__max_df': 0.2513594104434671, 'vect__max_features': 33900, 'tfidf__use_idf': True, 'und__replacement': False, 'clf__fit_prior': True, 'clf__alpha': 0.2589089566053547}. Best is trial 92 with value: 0.8010657000800483.\u001b[0m\n",
            "\u001b[32m[I 2021-10-18 15:27:53,341]\u001b[0m Trial 185 finished with value: 0.7980946469329185 and parameters: {'vect__max_df': 0.2989649647454823, 'vect__max_features': 37269, 'tfidf__use_idf': True, 'und__replacement': False, 'clf__fit_prior': True, 'clf__alpha': 0.20890186218795304}. Best is trial 92 with value: 0.8010657000800483.\u001b[0m\n",
            "\u001b[32m[I 2021-10-18 15:27:54,801]\u001b[0m Trial 186 finished with value: 0.7906365737083442 and parameters: {'vect__max_df': 0.3845400127732527, 'vect__max_features': 39186, 'tfidf__use_idf': True, 'und__replacement': False, 'clf__fit_prior': True, 'clf__alpha': 0.2366557388970476}. Best is trial 92 with value: 0.8010657000800483.\u001b[0m\n",
            "\u001b[32m[I 2021-10-18 15:27:56,261]\u001b[0m Trial 187 finished with value: 0.7938966370445655 and parameters: {'vect__max_df': 0.35294477168453015, 'vect__max_features': 32698, 'tfidf__use_idf': True, 'und__replacement': False, 'clf__fit_prior': True, 'clf__alpha': 0.188642162702032}. Best is trial 92 with value: 0.8010657000800483.\u001b[0m\n",
            "\u001b[32m[I 2021-10-18 15:27:57,792]\u001b[0m Trial 188 finished with value: 0.7876278459792413 and parameters: {'vect__max_df': 0.40118049120855764, 'vect__max_features': 36239, 'tfidf__use_idf': True, 'und__replacement': False, 'clf__fit_prior': True, 'clf__alpha': 0.28216225240064596}. Best is trial 92 with value: 0.8010657000800483.\u001b[0m\n",
            "\u001b[32m[I 2021-10-18 15:27:59,300]\u001b[0m Trial 189 finished with value: 0.8000598634156061 and parameters: {'vect__max_df': 0.33554803578934816, 'vect__max_features': 34544, 'tfidf__use_idf': True, 'und__replacement': False, 'clf__fit_prior': True, 'clf__alpha': 0.21943581861601813}. Best is trial 92 with value: 0.8010657000800483.\u001b[0m\n",
            "\u001b[32m[I 2021-10-18 15:28:00,762]\u001b[0m Trial 190 finished with value: 0.7883502952548379 and parameters: {'vect__max_df': 0.365240439215254, 'vect__max_features': 34258, 'tfidf__use_idf': True, 'und__replacement': False, 'clf__fit_prior': True, 'clf__alpha': 0.25254081897869685}. Best is trial 92 with value: 0.8010657000800483.\u001b[0m\n",
            "\u001b[32m[I 2021-10-18 15:28:02,309]\u001b[0m Trial 191 finished with value: 0.798609956017369 and parameters: {'vect__max_df': 0.3292354303324021, 'vect__max_features': 35148, 'tfidf__use_idf': True, 'und__replacement': False, 'clf__fit_prior': True, 'clf__alpha': 0.21502358453587744}. Best is trial 92 with value: 0.8010657000800483.\u001b[0m\n",
            "\u001b[32m[I 2021-10-18 15:28:03,772]\u001b[0m Trial 192 finished with value: 0.8010657000800483 and parameters: {'vect__max_df': 0.3176304557373325, 'vect__max_features': 36755, 'tfidf__use_idf': True, 'und__replacement': False, 'clf__fit_prior': True, 'clf__alpha': 0.22578926057599896}. Best is trial 92 with value: 0.8010657000800483.\u001b[0m\n",
            "\u001b[32m[I 2021-10-18 15:28:05,221]\u001b[0m Trial 193 finished with value: 0.794350007250954 and parameters: {'vect__max_df': 0.3230976109823611, 'vect__max_features': 37922, 'tfidf__use_idf': True, 'und__replacement': False, 'clf__fit_prior': True, 'clf__alpha': 0.17547756754603266}. Best is trial 92 with value: 0.8010657000800483.\u001b[0m\n",
            "\u001b[32m[I 2021-10-18 15:28:06,687]\u001b[0m Trial 194 finished with value: 0.7954977351947417 and parameters: {'vect__max_df': 0.30556170329497423, 'vect__max_features': 36445, 'tfidf__use_idf': True, 'und__replacement': False, 'clf__fit_prior': True, 'clf__alpha': 0.2010374146721706}. Best is trial 92 with value: 0.8010657000800483.\u001b[0m\n",
            "\u001b[32m[I 2021-10-18 15:28:08,135]\u001b[0m Trial 195 finished with value: 0.8001190609932672 and parameters: {'vect__max_df': 0.3415217322788501, 'vect__max_features': 37150, 'tfidf__use_idf': True, 'und__replacement': False, 'clf__fit_prior': True, 'clf__alpha': 0.22787232698770896}. Best is trial 92 with value: 0.8010657000800483.\u001b[0m\n",
            "\u001b[32m[I 2021-10-18 15:28:09,602]\u001b[0m Trial 196 finished with value: 0.7906365737083442 and parameters: {'vect__max_df': 0.3423448677172301, 'vect__max_features': 38428, 'tfidf__use_idf': True, 'und__replacement': False, 'clf__fit_prior': True, 'clf__alpha': 0.24142006539375038}. Best is trial 92 with value: 0.8010657000800483.\u001b[0m\n",
            "\u001b[32m[I 2021-10-18 15:28:11,054]\u001b[0m Trial 197 finished with value: 0.7900341490898712 and parameters: {'vect__max_df': 0.37134694546331004, 'vect__max_features': 35304, 'tfidf__use_idf': True, 'und__replacement': False, 'clf__fit_prior': True, 'clf__alpha': 0.2657729614251757}. Best is trial 92 with value: 0.8010657000800483.\u001b[0m\n",
            "\u001b[32m[I 2021-10-18 15:28:12,510]\u001b[0m Trial 198 finished with value: 0.7954977351947417 and parameters: {'vect__max_df': 0.3431541701651404, 'vect__max_features': 32893, 'tfidf__use_idf': True, 'und__replacement': False, 'clf__fit_prior': True, 'clf__alpha': 0.19749598338294005}. Best is trial 92 with value: 0.8010657000800483.\u001b[0m\n",
            "\u001b[32m[I 2021-10-18 15:28:14,015]\u001b[0m Trial 199 finished with value: 0.7895054012186629 and parameters: {'vect__max_df': 0.2771647605513614, 'vect__max_features': 36916, 'tfidf__use_idf': True, 'und__replacement': False, 'clf__fit_prior': True, 'clf__alpha': 0.23139276620379617}. Best is trial 92 with value: 0.8010657000800483.\u001b[0m\n"
          ]
        }
      ]
    },
    {
      "cell_type": "code",
      "metadata": {
        "id": "lOv1gcqhJdru",
        "colab": {
          "base_uri": "https://localhost:8080/"
        },
        "outputId": "ec74e5b0-cd00-4a60-c675-a80ca9a1a207"
      },
      "source": [
        "# Print the result\n",
        "best_params = study.best_params\n",
        "best_score = study.best_value\n",
        "\n",
        "print(f'Best score: {best_score}\\n')\n",
        "print(f'Optimized parameters: {best_params}\\n')"
      ],
      "execution_count": null,
      "outputs": [
        {
          "output_type": "stream",
          "name": "stdout",
          "text": [
            "Best score: 0.8010657000800483\n",
            "\n",
            "Optimized parameters: {'vect__max_df': 0.8745687171390053, 'vect__max_features': 30632, 'tfidf__use_idf': True, 'und__replacement': False, 'clf__fit_prior': True, 'clf__alpha': 0.22752295322714447}\n",
            "\n"
          ]
        }
      ]
    },
    {
      "cell_type": "code",
      "metadata": {
        "id": "oC40Md0XJgSK",
        "colab": {
          "base_uri": "https://localhost:8080/"
        },
        "outputId": "850e13a8-d7dd-4b1e-9b9f-4c8f763e8d4a"
      },
      "source": [
        "# Set the best parameters to the model \n",
        "text_clf.set_params(**study.best_params)"
      ],
      "execution_count": null,
      "outputs": [
        {
          "output_type": "execute_result",
          "data": {
            "text/plain": [
              "Pipeline(steps=[('vect',\n",
              "                 CountVectorizer(max_df=0.8745687171390053, max_features=30632,\n",
              "                                 ngram_range=(1, 2))),\n",
              "                ('tfidf', TfidfTransformer()),\n",
              "                ('und',\n",
              "                 RandomUnderSampler(random_state=42,\n",
              "                                    sampling_strategy='majority')),\n",
              "                ('clf', BernoulliNB(alpha=0.22752295322714447, binarize=None))])"
            ]
          },
          "metadata": {},
          "execution_count": 78
        }
      ]
    },
    {
      "cell_type": "code",
      "metadata": {
        "id": "I8ZUDdn2Ji8r",
        "colab": {
          "base_uri": "https://localhost:8080/"
        },
        "outputId": "2dd80d22-00e7-4a46-c978-6f87c4d66e62"
      },
      "source": [
        "# Fit on train data\n",
        "text_clf.fit(X_train, y_train)"
      ],
      "execution_count": null,
      "outputs": [
        {
          "output_type": "execute_result",
          "data": {
            "text/plain": [
              "Pipeline(steps=[('vect',\n",
              "                 CountVectorizer(max_df=0.8745687171390053, max_features=30632,\n",
              "                                 ngram_range=(1, 2))),\n",
              "                ('tfidf', TfidfTransformer()),\n",
              "                ('und',\n",
              "                 RandomUnderSampler(random_state=42,\n",
              "                                    sampling_strategy='majority')),\n",
              "                ('clf', BernoulliNB(alpha=0.22752295322714447, binarize=None))])"
            ]
          },
          "metadata": {},
          "execution_count": 79
        }
      ]
    },
    {
      "cell_type": "code",
      "metadata": {
        "id": "LgceHl0X-__X"
      },
      "source": [
        "# Predict on test data\n",
        "y_pred_test = text_clf.predict(X_test)"
      ],
      "execution_count": null,
      "outputs": []
    },
    {
      "cell_type": "code",
      "metadata": {
        "id": "EGDCDw7rJori",
        "colab": {
          "base_uri": "https://localhost:8080/"
        },
        "outputId": "c49b7ecc-9285-4073-d56c-7972111dc837"
      },
      "source": [
        "# Print F1 score\n",
        "print('F1 score(test set):', f1_score(y_test, y_pred_test, average = 'macro'))"
      ],
      "execution_count": null,
      "outputs": [
        {
          "output_type": "stream",
          "name": "stdout",
          "text": [
            "F1 score(test set): 0.7710329666433238\n"
          ]
        }
      ]
    },
    {
      "cell_type": "code",
      "metadata": {
        "id": "GQb-sP64Jtk6",
        "colab": {
          "base_uri": "https://localhost:8080/"
        },
        "outputId": "63844a38-efd9-4aae-fde8-34181f3f6460"
      },
      "source": [
        "print(classification_report(y_test, y_pred_test))"
      ],
      "execution_count": null,
      "outputs": [
        {
          "output_type": "stream",
          "name": "stdout",
          "text": [
            "              precision    recall  f1-score   support\n",
            "\n",
            "           0       0.61      0.55      0.58        51\n",
            "           1       0.96      0.97      0.96       579\n",
            "\n",
            "    accuracy                           0.93       630\n",
            "   macro avg       0.78      0.76      0.77       630\n",
            "weighted avg       0.93      0.93      0.93       630\n",
            "\n"
          ]
        }
      ]
    },
    {
      "cell_type": "markdown",
      "metadata": {
        "id": "JoZX1kUpT4Jf"
      },
      "source": [
        "The macro-averaged F1 score we get is ~77%."
      ]
    },
    {
      "cell_type": "markdown",
      "metadata": {
        "id": "rEwvphbACl4X"
      },
      "source": [
        "**Random Oversampling (floating point value)** "
      ]
    },
    {
      "cell_type": "code",
      "metadata": {
        "id": "-aNX-t2yCKD1"
      },
      "source": [
        "text_clf = Pipeline([('vect', CountVectorizer(ngram_range = (1, 2))),\n",
        "                     ('tfidf', TfidfTransformer()),\n",
        "                     ('ove', RandomOverSampler(random_state = 42)),\n",
        "                     ('clf', BernoulliNB(binarize = None))])"
      ],
      "execution_count": null,
      "outputs": []
    },
    {
      "cell_type": "markdown",
      "metadata": {
        "id": "VFip68DSwU8i"
      },
      "source": [
        "A floating point value can be specified to indicate the ratio of minority class majority examples in the transformed dataset."
      ]
    },
    {
      "cell_type": "code",
      "metadata": {
        "id": "7wWQ55r3EIfm"
      },
      "source": [
        "def objective(trial):\n",
        "\n",
        "  params = {\n",
        "    'vect__max_df': trial.suggest_uniform('vect__max_df', 0.0, 1.0),\n",
        "    'vect__max_features' : trial.suggest_int('vect__max_features', 0, 50000),\n",
        "    'tfidf__use_idf': trial.suggest_categorical('tfidf__use_idf', [True, False]),\n",
        "    'ove__sampling_strategy': trial.suggest_uniform('ove__sampling_strategy', 0.0, 1.0),  \n",
        "    'clf__fit_prior': trial.suggest_categorical('clf__fit_prior', [True, False]),\n",
        "    'clf__alpha': trial.suggest_uniform('clf__alpha', 1e-25, 1)\n",
        "  }\n",
        "\n",
        "  text_clf.set_params(**params)\n",
        "\n",
        "  scores = (cross_val_score(text_clf, X, y, cv = 10, scoring = 'f1_macro'))\n",
        "  \n",
        "  return scores.mean()  "
      ],
      "execution_count": null,
      "outputs": []
    },
    {
      "cell_type": "code",
      "metadata": {
        "id": "XHS1HjAfEa0V",
        "colab": {
          "base_uri": "https://localhost:8080/"
        },
        "outputId": "1df53662-56d8-41cb-d5b0-fd05018967c8"
      },
      "source": [
        "# Create Study object\n",
        "study = optuna.create_study(direction = 'maximize')\n",
        "\n",
        "# Optimize the study, use more trials to obtain better result, use less trials to be more cost-efficient\n",
        "study.optimize(objective, n_trials = 200)"
      ],
      "execution_count": null,
      "outputs": [
        {
          "output_type": "stream",
          "name": "stderr",
          "text": [
            "\u001b[32m[I 2021-10-18 15:28:14,288]\u001b[0m A new study created in memory with name: no-name-8fc3f2d2-b2b9-4031-87b9-d8e3db8ba09e\u001b[0m\n",
            "\u001b[32m[I 2021-10-18 15:28:15,785]\u001b[0m Trial 0 finished with value: 0.47873542772699906 and parameters: {'vect__max_df': 0.8553527511178001, 'vect__max_features': 48852, 'tfidf__use_idf': True, 'ove__sampling_strategy': 0.3363518371617632, 'clf__fit_prior': True, 'clf__alpha': 0.969815178747201}. Best is trial 0 with value: 0.47873542772699906.\u001b[0m\n",
            "\u001b[32m[I 2021-10-18 15:28:17,296]\u001b[0m Trial 1 finished with value: 0.48982030036254287 and parameters: {'vect__max_df': 0.03889243757721139, 'vect__max_features': 41933, 'tfidf__use_idf': True, 'ove__sampling_strategy': 0.43173626544827093, 'clf__fit_prior': False, 'clf__alpha': 0.814341715945087}. Best is trial 1 with value: 0.48982030036254287.\u001b[0m\n",
            "\u001b[32m[I 2021-10-18 15:28:18,799]\u001b[0m Trial 2 finished with value: 0.792453039690216 and parameters: {'vect__max_df': 0.7189492371375839, 'vect__max_features': 21480, 'tfidf__use_idf': True, 'ove__sampling_strategy': 0.9255258546627448, 'clf__fit_prior': False, 'clf__alpha': 0.8461310675903594}. Best is trial 2 with value: 0.792453039690216.\u001b[0m\n",
            "\u001b[32m[I 2021-10-18 15:28:20,230]\u001b[0m Trial 3 finished with value: 0.7628196285050898 and parameters: {'vect__max_df': 0.6533883845580329, 'vect__max_features': 41446, 'tfidf__use_idf': False, 'ove__sampling_strategy': 0.8270565537514524, 'clf__fit_prior': True, 'clf__alpha': 0.4979573300173834}. Best is trial 2 with value: 0.792453039690216.\u001b[0m\n",
            "\u001b[32m[I 2021-10-18 15:28:21,716]\u001b[0m Trial 4 finished with value: 0.48251848082061854 and parameters: {'vect__max_df': 0.11399514836063851, 'vect__max_features': 16463, 'tfidf__use_idf': True, 'ove__sampling_strategy': 0.12392121229731412, 'clf__fit_prior': False, 'clf__alpha': 0.3077570617777412}. Best is trial 2 with value: 0.792453039690216.\u001b[0m\n",
            "\u001b[32m[I 2021-10-18 15:28:23,162]\u001b[0m Trial 5 finished with value: 0.5598423319523838 and parameters: {'vect__max_df': 0.004969284674500307, 'vect__max_features': 47980, 'tfidf__use_idf': False, 'ove__sampling_strategy': 0.6530849961272933, 'clf__fit_prior': True, 'clf__alpha': 0.852497235694162}. Best is trial 2 with value: 0.792453039690216.\u001b[0m\n",
            "\u001b[32m[I 2021-10-18 15:28:24,616]\u001b[0m Trial 6 finished with value: 0.8110496187931616 and parameters: {'vect__max_df': 0.4009010088091167, 'vect__max_features': 29088, 'tfidf__use_idf': False, 'ove__sampling_strategy': 0.9511511848423712, 'clf__fit_prior': False, 'clf__alpha': 0.3234197808505175}. Best is trial 6 with value: 0.8110496187931616.\u001b[0m\n",
            "\u001b[33m[W 2021-10-18 15:28:25,896]\u001b[0m Trial 7 failed, because the objective function returned nan.\u001b[0m\n",
            "\u001b[32m[I 2021-10-18 15:28:27,272]\u001b[0m Trial 8 finished with value: 0.6685728051424931 and parameters: {'vect__max_df': 0.482313584513272, 'vect__max_features': 157, 'tfidf__use_idf': False, 'ove__sampling_strategy': 0.6364275956274477, 'clf__fit_prior': True, 'clf__alpha': 0.8131023929964473}. Best is trial 6 with value: 0.8110496187931616.\u001b[0m\n",
            "\u001b[32m[I 2021-10-18 15:28:28,766]\u001b[0m Trial 9 finished with value: 0.7579384164301662 and parameters: {'vect__max_df': 0.5675246633193028, 'vect__max_features': 18885, 'tfidf__use_idf': True, 'ove__sampling_strategy': 0.3162812611708036, 'clf__fit_prior': True, 'clf__alpha': 0.03256127016099364}. Best is trial 6 with value: 0.8110496187931616.\u001b[0m\n",
            "\u001b[32m[I 2021-10-18 15:28:30,219]\u001b[0m Trial 10 finished with value: 0.7895755014326342 and parameters: {'vect__max_df': 0.8140297418956295, 'vect__max_features': 10814, 'tfidf__use_idf': False, 'ove__sampling_strategy': 0.8281584268310797, 'clf__fit_prior': True, 'clf__alpha': 0.8030491563798549}. Best is trial 6 with value: 0.8110496187931616.\u001b[0m\n",
            "\u001b[33m[W 2021-10-18 15:28:31,470]\u001b[0m Trial 11 failed, because the objective function returned nan.\u001b[0m\n",
            "\u001b[32m[I 2021-10-18 15:28:32,918]\u001b[0m Trial 12 finished with value: 0.8022668027268072 and parameters: {'vect__max_df': 0.32253806428431675, 'vect__max_features': 30285, 'tfidf__use_idf': False, 'ove__sampling_strategy': 0.9981491662503799, 'clf__fit_prior': False, 'clf__alpha': 0.21317487003018015}. Best is trial 6 with value: 0.8110496187931616.\u001b[0m\n",
            "\u001b[32m[I 2021-10-18 15:28:34,358]\u001b[0m Trial 13 finished with value: 0.8004245545497263 and parameters: {'vect__max_df': 0.27846019876339834, 'vect__max_features': 33260, 'tfidf__use_idf': False, 'ove__sampling_strategy': 0.9962234779336776, 'clf__fit_prior': False, 'clf__alpha': 0.202387378756978}. Best is trial 6 with value: 0.8110496187931616.\u001b[0m\n",
            "\u001b[32m[I 2021-10-18 15:28:35,758]\u001b[0m Trial 14 finished with value: 0.7488545800398156 and parameters: {'vect__max_df': 0.3680360294507263, 'vect__max_features': 30291, 'tfidf__use_idf': False, 'ove__sampling_strategy': 0.682358235374589, 'clf__fit_prior': False, 'clf__alpha': 0.4067946063226179}. Best is trial 6 with value: 0.8110496187931616.\u001b[0m\n",
            "\u001b[32m[I 2021-10-18 15:28:37,191]\u001b[0m Trial 15 finished with value: 0.8039465048065475 and parameters: {'vect__max_df': 0.281378022519303, 'vect__max_features': 30501, 'tfidf__use_idf': False, 'ove__sampling_strategy': 0.814584953985974, 'clf__fit_prior': False, 'clf__alpha': 0.1343014044573711}. Best is trial 6 with value: 0.8110496187931616.\u001b[0m\n",
            "\u001b[32m[I 2021-10-18 15:28:38,603]\u001b[0m Trial 16 finished with value: 0.7871287516242844 and parameters: {'vect__max_df': 0.18738034057537245, 'vect__max_features': 36335, 'tfidf__use_idf': False, 'ove__sampling_strategy': 0.8000112163101504, 'clf__fit_prior': False, 'clf__alpha': 0.0517649386658941}. Best is trial 6 with value: 0.8110496187931616.\u001b[0m\n",
            "\u001b[32m[I 2021-10-18 15:28:40,028]\u001b[0m Trial 17 finished with value: 0.5394119837886676 and parameters: {'vect__max_df': 0.4692845817880832, 'vect__max_features': 24966, 'tfidf__use_idf': False, 'ove__sampling_strategy': 0.5171572120590953, 'clf__fit_prior': False, 'clf__alpha': 0.6204337547634304}. Best is trial 6 with value: 0.8110496187931616.\u001b[0m\n",
            "\u001b[32m[I 2021-10-18 15:28:41,460]\u001b[0m Trial 18 finished with value: 0.7863469702881758 and parameters: {'vect__max_df': 0.19169641856271288, 'vect__max_features': 11083, 'tfidf__use_idf': False, 'ove__sampling_strategy': 0.7497613625494364, 'clf__fit_prior': False, 'clf__alpha': 0.16741608091565088}. Best is trial 6 with value: 0.8110496187931616.\u001b[0m\n",
            "\u001b[32m[I 2021-10-18 15:28:42,866]\u001b[0m Trial 19 finished with value: 0.7059731451523747 and parameters: {'vect__max_df': 0.3874782077068532, 'vect__max_features': 26265, 'tfidf__use_idf': False, 'ove__sampling_strategy': 0.5539965074336016, 'clf__fit_prior': False, 'clf__alpha': 0.35452132946754816}. Best is trial 6 with value: 0.8110496187931616.\u001b[0m\n",
            "\u001b[32m[I 2021-10-18 15:28:44,348]\u001b[0m Trial 20 finished with value: 0.7879595049795762 and parameters: {'vect__max_df': 0.24561405774309159, 'vect__max_features': 38433, 'tfidf__use_idf': False, 'ove__sampling_strategy': 0.88606358301882, 'clf__fit_prior': False, 'clf__alpha': 0.5524164915233755}. Best is trial 6 with value: 0.8110496187931616.\u001b[0m\n",
            "\u001b[32m[I 2021-10-18 15:28:45,760]\u001b[0m Trial 21 finished with value: 0.525723967185795 and parameters: {'vect__max_df': 0.5560751369654651, 'vect__max_features': 27090, 'tfidf__use_idf': False, 'ove__sampling_strategy': 0.10873089859274992, 'clf__fit_prior': False, 'clf__alpha': 0.14497876146370386}. Best is trial 6 with value: 0.8110496187931616.\u001b[0m\n",
            "\u001b[32m[I 2021-10-18 15:28:47,189]\u001b[0m Trial 22 finished with value: 0.8087050641871855 and parameters: {'vect__max_df': 0.39568668922083644, 'vect__max_features': 14934, 'tfidf__use_idf': False, 'ove__sampling_strategy': 0.9051839769076238, 'clf__fit_prior': False, 'clf__alpha': 0.27888688556715585}. Best is trial 6 with value: 0.8110496187931616.\u001b[0m\n",
            "\u001b[32m[I 2021-10-18 15:28:48,624]\u001b[0m Trial 23 finished with value: 0.79447607096939 and parameters: {'vect__max_df': 0.4241511051697049, 'vect__max_features': 12241, 'tfidf__use_idf': False, 'ove__sampling_strategy': 0.9514927210005044, 'clf__fit_prior': False, 'clf__alpha': 0.2777463994487559}. Best is trial 6 with value: 0.8110496187931616.\u001b[0m\n",
            "\u001b[32m[I 2021-10-18 15:28:50,022]\u001b[0m Trial 24 finished with value: 0.7738803826844508 and parameters: {'vect__max_df': 0.3154571350621273, 'vect__max_features': 4247, 'tfidf__use_idf': False, 'ove__sampling_strategy': 0.7516989082054163, 'clf__fit_prior': False, 'clf__alpha': 0.46657816571509736}. Best is trial 6 with value: 0.8110496187931616.\u001b[0m\n",
            "\u001b[32m[I 2021-10-18 15:28:51,512]\u001b[0m Trial 25 finished with value: 0.7921705019820476 and parameters: {'vect__max_df': 0.9614732609602191, 'vect__max_features': 22183, 'tfidf__use_idf': False, 'ove__sampling_strategy': 0.8817507035903697, 'clf__fit_prior': False, 'clf__alpha': 0.07002212523111034}. Best is trial 6 with value: 0.8110496187931616.\u001b[0m\n",
            "\u001b[32m[I 2021-10-18 15:28:52,963]\u001b[0m Trial 26 finished with value: 0.8061994371163843 and parameters: {'vect__max_df': 0.5753566587042126, 'vect__max_features': 17050, 'tfidf__use_idf': False, 'ove__sampling_strategy': 0.7414861618852009, 'clf__fit_prior': False, 'clf__alpha': 0.27770353801012004}. Best is trial 6 with value: 0.8110496187931616.\u001b[0m\n",
            "\u001b[32m[I 2021-10-18 15:28:54,431]\u001b[0m Trial 27 finished with value: 0.8047463877903466 and parameters: {'vect__max_df': 0.6019775356308129, 'vect__max_features': 15406, 'tfidf__use_idf': False, 'ove__sampling_strategy': 0.7271078477353595, 'clf__fit_prior': False, 'clf__alpha': 0.2668750641693563}. Best is trial 6 with value: 0.8110496187931616.\u001b[0m\n",
            "\u001b[32m[I 2021-10-18 15:28:55,900]\u001b[0m Trial 28 finished with value: 0.7784446221594008 and parameters: {'vect__max_df': 0.6930507082887747, 'vect__max_features': 14667, 'tfidf__use_idf': True, 'ove__sampling_strategy': 0.5890699925762282, 'clf__fit_prior': False, 'clf__alpha': 0.39756435550040436}. Best is trial 6 with value: 0.8110496187931616.\u001b[0m\n",
            "\u001b[33m[W 2021-10-18 15:28:57,188]\u001b[0m Trial 29 failed, because the objective function returned nan.\u001b[0m\n",
            "\u001b[32m[I 2021-10-18 15:28:58,601]\u001b[0m Trial 30 finished with value: 0.7760939057573994 and parameters: {'vect__max_df': 0.4749087491312976, 'vect__max_features': 4843, 'tfidf__use_idf': False, 'ove__sampling_strategy': 0.8941156567236842, 'clf__fit_prior': False, 'clf__alpha': 0.6619953300121801}. Best is trial 6 with value: 0.8110496187931616.\u001b[0m\n",
            "\u001b[32m[I 2021-10-18 15:29:00,051]\u001b[0m Trial 31 finished with value: 0.6232336705852038 and parameters: {'vect__max_df': 0.5307409191571987, 'vect__max_features': 21807, 'tfidf__use_idf': False, 'ove__sampling_strategy': 0.4158536182708622, 'clf__fit_prior': False, 'clf__alpha': 0.32953887393099124}. Best is trial 6 with value: 0.8110496187931616.\u001b[0m\n",
            "\u001b[32m[I 2021-10-18 15:29:01,517]\u001b[0m Trial 32 finished with value: 0.611786912296379 and parameters: {'vect__max_df': 0.7850445866766899, 'vect__max_features': 7971, 'tfidf__use_idf': True, 'ove__sampling_strategy': 0.2692124639958847, 'clf__fit_prior': True, 'clf__alpha': 0.3996924315793548}. Best is trial 6 with value: 0.8110496187931616.\u001b[0m\n",
            "\u001b[32m[I 2021-10-18 15:29:02,984]\u001b[0m Trial 33 finished with value: 0.798728078787774 and parameters: {'vect__max_df': 0.38848806536715735, 'vect__max_features': 16500, 'tfidf__use_idf': False, 'ove__sampling_strategy': 0.9434163960626595, 'clf__fit_prior': False, 'clf__alpha': 0.24758931249339444}. Best is trial 6 with value: 0.8110496187931616.\u001b[0m\n",
            "\u001b[32m[I 2021-10-18 15:29:04,443]\u001b[0m Trial 34 finished with value: 0.7884439927286009 and parameters: {'vect__max_df': 0.6126673105879369, 'vect__max_features': 19525, 'tfidf__use_idf': False, 'ove__sampling_strategy': 0.7272519308201433, 'clf__fit_prior': False, 'clf__alpha': 0.282473748730808}. Best is trial 6 with value: 0.8110496187931616.\u001b[0m\n",
            "\u001b[32m[I 2021-10-18 15:29:05,896]\u001b[0m Trial 35 finished with value: 0.7914257327583334 and parameters: {'vect__max_df': 0.6098315649793438, 'vect__max_features': 13812, 'tfidf__use_idf': False, 'ove__sampling_strategy': 0.6992556369844727, 'clf__fit_prior': False, 'clf__alpha': 0.4341223344302898}. Best is trial 6 with value: 0.8110496187931616.\u001b[0m\n",
            "\u001b[32m[I 2021-10-18 15:29:07,302]\u001b[0m Trial 36 finished with value: 0.7870777880998957 and parameters: {'vect__max_df': 0.7623778899420928, 'vect__max_features': 8191, 'tfidf__use_idf': False, 'ove__sampling_strategy': 0.786121260816442, 'clf__fit_prior': False, 'clf__alpha': 0.34438963805068323}. Best is trial 6 with value: 0.8110496187931616.\u001b[0m\n",
            "\u001b[32m[I 2021-10-18 15:29:08,808]\u001b[0m Trial 37 finished with value: 0.7976214426331649 and parameters: {'vect__max_df': 0.8901104325646012, 'vect__max_features': 18043, 'tfidf__use_idf': True, 'ove__sampling_strategy': 0.8428248020343305, 'clf__fit_prior': False, 'clf__alpha': 0.5251074690980576}. Best is trial 6 with value: 0.8110496187931616.\u001b[0m\n",
            "\u001b[32m[I 2021-10-18 15:29:10,263]\u001b[0m Trial 38 finished with value: 0.7792250730535366 and parameters: {'vect__max_df': 0.6583066539485436, 'vect__max_features': 23016, 'tfidf__use_idf': False, 'ove__sampling_strategy': 0.44387685224742, 'clf__fit_prior': False, 'clf__alpha': 0.10927332427533243}. Best is trial 6 with value: 0.8110496187931616.\u001b[0m\n",
            "\u001b[32m[I 2021-10-18 15:29:11,733]\u001b[0m Trial 39 finished with value: 0.7833544104958395 and parameters: {'vect__max_df': 0.4377738929723677, 'vect__max_features': 8887, 'tfidf__use_idf': True, 'ove__sampling_strategy': 0.6089100347728447, 'clf__fit_prior': False, 'clf__alpha': 0.2451137804361745}. Best is trial 6 with value: 0.8110496187931616.\u001b[0m\n",
            "\u001b[32m[I 2021-10-18 15:29:13,165]\u001b[0m Trial 40 finished with value: 0.8020587046382708 and parameters: {'vect__max_df': 0.5203486095346257, 'vect__max_features': 15878, 'tfidf__use_idf': False, 'ove__sampling_strategy': 0.9303958647245003, 'clf__fit_prior': True, 'clf__alpha': 0.20401196290316417}. Best is trial 6 with value: 0.8110496187931616.\u001b[0m\n",
            "\u001b[32m[I 2021-10-18 15:29:14,628]\u001b[0m Trial 41 finished with value: 0.8140433625654186 and parameters: {'vect__max_df': 0.6220923115342989, 'vect__max_features': 19638, 'tfidf__use_idf': False, 'ove__sampling_strategy': 0.8666857481325188, 'clf__fit_prior': False, 'clf__alpha': 0.31300707956226836}. Best is trial 41 with value: 0.8140433625654186.\u001b[0m\n",
            "\u001b[32m[I 2021-10-18 15:29:16,134]\u001b[0m Trial 42 finished with value: 0.796120432938008 and parameters: {'vect__max_df': 0.6952261372683675, 'vect__max_features': 44935, 'tfidf__use_idf': True, 'ove__sampling_strategy': 0.869081291803859, 'clf__fit_prior': True, 'clf__alpha': 0.353264541888073}. Best is trial 41 with value: 0.8140433625654186.\u001b[0m\n",
            "\u001b[32m[I 2021-10-18 15:29:17,590]\u001b[0m Trial 43 finished with value: 0.7632851090250654 and parameters: {'vect__max_df': 0.10409858065460242, 'vect__max_features': 20093, 'tfidf__use_idf': False, 'ove__sampling_strategy': 0.9554765421613316, 'clf__fit_prior': False, 'clf__alpha': 0.004747512020200573}. Best is trial 41 with value: 0.8140433625654186.\u001b[0m\n",
            "\u001b[32m[I 2021-10-18 15:29:19,030]\u001b[0m Trial 44 finished with value: 0.7901514488779824 and parameters: {'vect__max_df': 0.5880621470021503, 'vect__max_features': 24361, 'tfidf__use_idf': False, 'ove__sampling_strategy': 0.7567961892501691, 'clf__fit_prior': False, 'clf__alpha': 0.2679289821346118}. Best is trial 41 with value: 0.8140433625654186.\u001b[0m\n",
            "\u001b[32m[I 2021-10-18 15:29:20,472]\u001b[0m Trial 45 finished with value: 0.8116177048064603 and parameters: {'vect__max_df': 0.7292685131043424, 'vect__max_features': 17839, 'tfidf__use_idf': False, 'ove__sampling_strategy': 0.8474755164287731, 'clf__fit_prior': False, 'clf__alpha': 0.3101611726121752}. Best is trial 41 with value: 0.8140433625654186.\u001b[0m\n",
            "\u001b[33m[W 2021-10-18 15:29:21,765]\u001b[0m Trial 46 failed, because the objective function returned nan.\u001b[0m\n",
            "\u001b[32m[I 2021-10-18 15:29:23,219]\u001b[0m Trial 47 finished with value: 0.7891602444788826 and parameters: {'vect__max_df': 0.6693370540882602, 'vect__max_features': 20233, 'tfidf__use_idf': False, 'ove__sampling_strategy': 0.8413923502214903, 'clf__fit_prior': False, 'clf__alpha': 0.462185171592311}. Best is trial 41 with value: 0.8140433625654186.\u001b[0m\n",
            "\u001b[32m[I 2021-10-18 15:29:24,670]\u001b[0m Trial 48 finished with value: 0.8151697055413049 and parameters: {'vect__max_df': 0.7345905914901052, 'vect__max_features': 28257, 'tfidf__use_idf': False, 'ove__sampling_strategy': 0.9166376881296067, 'clf__fit_prior': False, 'clf__alpha': 0.31612515893469156}. Best is trial 48 with value: 0.8151697055413049.\u001b[0m\n",
            "\u001b[32m[I 2021-10-18 15:29:26,111]\u001b[0m Trial 49 finished with value: 0.8076831128706594 and parameters: {'vect__max_df': 0.8704128982578707, 'vect__max_features': 29792, 'tfidf__use_idf': False, 'ove__sampling_strategy': 0.9955831537105186, 'clf__fit_prior': True, 'clf__alpha': 0.3186231231423898}. Best is trial 48 with value: 0.8151697055413049.\u001b[0m\n",
            "\u001b[32m[I 2021-10-18 15:29:27,571]\u001b[0m Trial 50 finished with value: 0.47873542772699906 and parameters: {'vect__max_df': 0.743324249183679, 'vect__max_features': 27870, 'tfidf__use_idf': False, 'ove__sampling_strategy': 0.18017358929445015, 'clf__fit_prior': False, 'clf__alpha': 0.3884669296748209}. Best is trial 48 with value: 0.8151697055413049.\u001b[0m\n",
            "\u001b[32m[I 2021-10-18 15:29:29,036]\u001b[0m Trial 51 finished with value: 0.8064226320520212 and parameters: {'vect__max_df': 0.8229722649634987, 'vect__max_features': 33229, 'tfidf__use_idf': False, 'ove__sampling_strategy': 0.9047943477351856, 'clf__fit_prior': False, 'clf__alpha': 0.18950167118076713}. Best is trial 48 with value: 0.8151697055413049.\u001b[0m\n",
            "\u001b[32m[I 2021-10-18 15:29:30,503]\u001b[0m Trial 52 finished with value: 0.8017758901676528 and parameters: {'vect__max_df': 0.7304200920007455, 'vect__max_features': 36891, 'tfidf__use_idf': False, 'ove__sampling_strategy': 0.7944253514299782, 'clf__fit_prior': False, 'clf__alpha': 0.10666774876704904}. Best is trial 48 with value: 0.8151697055413049.\u001b[0m\n",
            "\u001b[32m[I 2021-10-18 15:29:31,973]\u001b[0m Trial 53 finished with value: 0.7950908709841868 and parameters: {'vect__max_df': 0.34178518276553066, 'vect__max_features': 33976, 'tfidf__use_idf': False, 'ove__sampling_strategy': 0.9670270253114664, 'clf__fit_prior': False, 'clf__alpha': 0.9831006659342604}. Best is trial 48 with value: 0.8151697055413049.\u001b[0m\n",
            "\u001b[32m[I 2021-10-18 15:29:33,418]\u001b[0m Trial 54 finished with value: 0.6316371240137476 and parameters: {'vect__max_df': 0.9012948706657843, 'vect__max_features': 25253, 'tfidf__use_idf': False, 'ove__sampling_strategy': 0.6525131492488998, 'clf__fit_prior': True, 'clf__alpha': 0.5599485441575155}. Best is trial 48 with value: 0.8151697055413049.\u001b[0m\n",
            "\u001b[32m[I 2021-10-18 15:29:34,869]\u001b[0m Trial 55 finished with value: 0.8054000036561174 and parameters: {'vect__max_df': 0.8370738350602237, 'vect__max_features': 30400, 'tfidf__use_idf': False, 'ove__sampling_strategy': 0.9983444439071535, 'clf__fit_prior': True, 'clf__alpha': 0.3165376068910296}. Best is trial 48 with value: 0.8151697055413049.\u001b[0m\n",
            "\u001b[32m[I 2021-10-18 15:29:36,302]\u001b[0m Trial 56 finished with value: 0.7894588178662647 and parameters: {'vect__max_df': 0.9569320693462257, 'vect__max_features': 28476, 'tfidf__use_idf': False, 'ove__sampling_strategy': 0.8533152130839056, 'clf__fit_prior': True, 'clf__alpha': 0.3721719127232329}. Best is trial 48 with value: 0.8151697055413049.\u001b[0m\n",
            "\u001b[32m[I 2021-10-18 15:29:37,726]\u001b[0m Trial 57 finished with value: 0.8125341057890001 and parameters: {'vect__max_df': 0.7809666822603464, 'vect__max_features': 23494, 'tfidf__use_idf': False, 'ove__sampling_strategy': 0.9224922290634638, 'clf__fit_prior': True, 'clf__alpha': 0.31548890456512085}. Best is trial 48 with value: 0.8151697055413049.\u001b[0m\n",
            "\u001b[32m[I 2021-10-18 15:29:39,179]\u001b[0m Trial 58 finished with value: 0.8019533916579992 and parameters: {'vect__max_df': 0.6386718661365874, 'vect__max_features': 23937, 'tfidf__use_idf': False, 'ove__sampling_strategy': 0.9177018888369687, 'clf__fit_prior': True, 'clf__alpha': 0.4568993078059911}. Best is trial 48 with value: 0.8151697055413049.\u001b[0m\n",
            "\u001b[32m[I 2021-10-18 15:29:40,631]\u001b[0m Trial 59 finished with value: 0.8027452196139512 and parameters: {'vect__max_df': 0.4346152224961705, 'vect__max_features': 13189, 'tfidf__use_idf': False, 'ove__sampling_strategy': 0.8154337831643896, 'clf__fit_prior': True, 'clf__alpha': 0.21089377191606692}. Best is trial 48 with value: 0.8151697055413049.\u001b[0m\n",
            "\u001b[32m[I 2021-10-18 15:29:42,078]\u001b[0m Trial 60 finished with value: 0.8090004492012965 and parameters: {'vect__max_df': 0.8020639367016534, 'vect__max_features': 20950, 'tfidf__use_idf': False, 'ove__sampling_strategy': 0.918352559189953, 'clf__fit_prior': False, 'clf__alpha': 0.23114299949180872}. Best is trial 48 with value: 0.8151697055413049.\u001b[0m\n",
            "\u001b[32m[I 2021-10-18 15:29:43,500]\u001b[0m Trial 61 finished with value: 0.7964036060658372 and parameters: {'vect__max_df': 0.7899392907338096, 'vect__max_features': 32683, 'tfidf__use_idf': False, 'ove__sampling_strategy': 0.9630140935297226, 'clf__fit_prior': False, 'clf__alpha': 0.1597082613884977}. Best is trial 48 with value: 0.8151697055413049.\u001b[0m\n",
            "\u001b[32m[I 2021-10-18 15:29:45,021]\u001b[0m Trial 62 finished with value: 0.791059753095701 and parameters: {'vect__max_df': 0.7122842994062918, 'vect__max_features': 21517, 'tfidf__use_idf': True, 'ove__sampling_strategy': 0.8671503272842651, 'clf__fit_prior': True, 'clf__alpha': 0.42787256278192454}. Best is trial 48 with value: 0.8151697055413049.\u001b[0m\n",
            "\u001b[32m[I 2021-10-18 15:29:46,457]\u001b[0m Trial 63 finished with value: 0.7791061496163777 and parameters: {'vect__max_df': 0.9176489477159393, 'vect__max_features': 26429, 'tfidf__use_idf': False, 'ove__sampling_strategy': 0.9205880703229352, 'clf__fit_prior': False, 'clf__alpha': 0.9070601223824363}. Best is trial 48 with value: 0.8151697055413049.\u001b[0m\n",
            "\u001b[32m[I 2021-10-18 15:29:47,908]\u001b[0m Trial 64 finished with value: 0.8109669568006748 and parameters: {'vect__max_df': 0.7858928716884587, 'vect__max_features': 18305, 'tfidf__use_idf': False, 'ove__sampling_strategy': 0.7809694153717495, 'clf__fit_prior': False, 'clf__alpha': 0.24403065755976194}. Best is trial 48 with value: 0.8151697055413049.\u001b[0m\n",
            "\u001b[32m[I 2021-10-18 15:29:49,356]\u001b[0m Trial 65 finished with value: 0.8104647843430355 and parameters: {'vect__max_df': 0.8088626589549026, 'vect__max_features': 22956, 'tfidf__use_idf': False, 'ove__sampling_strategy': 0.7789280418602618, 'clf__fit_prior': False, 'clf__alpha': 0.23084784255320637}. Best is trial 48 with value: 0.8151697055413049.\u001b[0m\n",
            "\u001b[32m[I 2021-10-18 15:29:50,803]\u001b[0m Trial 66 finished with value: 0.7941096842508275 and parameters: {'vect__max_df': 0.7497225304516637, 'vect__max_features': 23848, 'tfidf__use_idf': False, 'ove__sampling_strategy': 0.7780551291032133, 'clf__fit_prior': False, 'clf__alpha': 0.2953847001419781}. Best is trial 48 with value: 0.8151697055413049.\u001b[0m\n",
            "\u001b[32m[I 2021-10-18 15:29:52,276]\u001b[0m Trial 67 finished with value: 0.8033630878430096 and parameters: {'vect__max_df': 0.7635857612351762, 'vect__max_features': 18785, 'tfidf__use_idf': False, 'ove__sampling_strategy': 0.6840833785985393, 'clf__fit_prior': False, 'clf__alpha': 0.17431404863808597}. Best is trial 48 with value: 0.8151697055413049.\u001b[0m\n",
            "\u001b[32m[I 2021-10-18 15:29:53,731]\u001b[0m Trial 68 finished with value: 0.8081395454760681 and parameters: {'vect__max_df': 0.6930838041081969, 'vect__max_features': 17890, 'tfidf__use_idf': False, 'ove__sampling_strategy': 0.837750568975297, 'clf__fit_prior': False, 'clf__alpha': 0.23873831487482222}. Best is trial 48 with value: 0.8151697055413049.\u001b[0m\n",
            "\u001b[32m[I 2021-10-18 15:29:55,154]\u001b[0m Trial 69 finished with value: 0.8139702888669973 and parameters: {'vect__max_df': 0.8322161700588917, 'vect__max_features': 26389, 'tfidf__use_idf': False, 'ove__sampling_strategy': 0.8806883995576874, 'clf__fit_prior': False, 'clf__alpha': 0.3113512882488264}. Best is trial 48 with value: 0.8151697055413049.\u001b[0m\n",
            "\u001b[33m[W 2021-10-18 15:29:56,409]\u001b[0m Trial 70 failed, because the objective function returned nan.\u001b[0m\n",
            "\u001b[32m[I 2021-10-18 15:29:57,823]\u001b[0m Trial 71 finished with value: 0.8106587034670074 and parameters: {'vect__max_df': 0.9357409141607218, 'vect__max_features': 29081, 'tfidf__use_idf': False, 'ove__sampling_strategy': 0.8857003198224338, 'clf__fit_prior': False, 'clf__alpha': 0.3614768802552521}. Best is trial 48 with value: 0.8151697055413049.\u001b[0m\n",
            "\u001b[33m[W 2021-10-18 15:29:59,110]\u001b[0m Trial 72 failed, because the objective function returned nan.\u001b[0m\n",
            "\u001b[33m[W 2021-10-18 15:30:00,401]\u001b[0m Trial 73 failed, because the objective function returned nan.\u001b[0m\n",
            "\u001b[32m[I 2021-10-18 15:30:01,897]\u001b[0m Trial 74 finished with value: 0.8087587679042783 and parameters: {'vect__max_df': 0.8657272762802799, 'vect__max_features': 25515, 'tfidf__use_idf': False, 'ove__sampling_strategy': 0.9775955819077249, 'clf__fit_prior': False, 'clf__alpha': 0.32956886885284326}. Best is trial 48 with value: 0.8151697055413049.\u001b[0m\n",
            "\u001b[32m[I 2021-10-18 15:30:03,364]\u001b[0m Trial 75 finished with value: 0.8149437558598868 and parameters: {'vect__max_df': 0.8331965872095142, 'vect__max_features': 31578, 'tfidf__use_idf': False, 'ove__sampling_strategy': 0.8764625848794035, 'clf__fit_prior': False, 'clf__alpha': 0.29830895891546455}. Best is trial 48 with value: 0.8151697055413049.\u001b[0m\n",
            "\u001b[32m[I 2021-10-18 15:30:04,814]\u001b[0m Trial 76 finished with value: 0.7760542856701671 and parameters: {'vect__max_df': 0.8516031536454477, 'vect__max_features': 31391, 'tfidf__use_idf': False, 'ove__sampling_strategy': 0.8205940230330271, 'clf__fit_prior': False, 'clf__alpha': 0.4985419825498475}. Best is trial 48 with value: 0.8151697055413049.\u001b[0m\n",
            "\u001b[32m[I 2021-10-18 15:30:06,268]\u001b[0m Trial 77 finished with value: 0.7984044595393025 and parameters: {'vect__max_df': 0.6422467158476328, 'vect__max_features': 35832, 'tfidf__use_idf': True, 'ove__sampling_strategy': 0.9420563871177768, 'clf__fit_prior': False, 'clf__alpha': 0.737197155065286}. Best is trial 48 with value: 0.8151697055413049.\u001b[0m\n",
            "\u001b[33m[W 2021-10-18 15:30:07,527]\u001b[0m Trial 78 failed, because the objective function returned nan.\u001b[0m\n",
            "\u001b[32m[I 2021-10-18 15:30:08,948]\u001b[0m Trial 79 finished with value: 0.815007011059645 and parameters: {'vect__max_df': 0.7258249580277548, 'vect__max_features': 27219, 'tfidf__use_idf': False, 'ove__sampling_strategy': 0.8632771064803597, 'clf__fit_prior': False, 'clf__alpha': 0.2990949468687717}. Best is trial 48 with value: 0.8151697055413049.\u001b[0m\n",
            "\u001b[32m[I 2021-10-18 15:30:10,409]\u001b[0m Trial 80 finished with value: 0.8149437558598868 and parameters: {'vect__max_df': 0.7169667049935453, 'vect__max_features': 31670, 'tfidf__use_idf': False, 'ove__sampling_strategy': 0.8742369741338091, 'clf__fit_prior': False, 'clf__alpha': 0.29929293305444393}. Best is trial 48 with value: 0.8151697055413049.\u001b[0m\n",
            "\u001b[32m[I 2021-10-18 15:30:11,822]\u001b[0m Trial 81 finished with value: 0.815007011059645 and parameters: {'vect__max_df': 0.7235026069035195, 'vect__max_features': 40960, 'tfidf__use_idf': False, 'ove__sampling_strategy': 0.8658444396268581, 'clf__fit_prior': False, 'clf__alpha': 0.29953742666875416}. Best is trial 48 with value: 0.8151697055413049.\u001b[0m\n",
            "\u001b[32m[I 2021-10-18 15:30:13,252]\u001b[0m Trial 82 finished with value: 0.8136997835495295 and parameters: {'vect__max_df': 0.6780429703064355, 'vect__max_features': 49363, 'tfidf__use_idf': False, 'ove__sampling_strategy': 0.8913601854382591, 'clf__fit_prior': False, 'clf__alpha': 0.297721663650751}. Best is trial 48 with value: 0.8151697055413049.\u001b[0m\n",
            "\u001b[32m[I 2021-10-18 15:30:14,678]\u001b[0m Trial 83 finished with value: 0.8017914728446298 and parameters: {'vect__max_df': 0.6718890238182413, 'vect__max_features': 49293, 'tfidf__use_idf': False, 'ove__sampling_strategy': 0.8772233830846349, 'clf__fit_prior': False, 'clf__alpha': 0.4272207912419361}. Best is trial 48 with value: 0.8151697055413049.\u001b[0m\n",
            "\u001b[32m[I 2021-10-18 15:30:16,109]\u001b[0m Trial 84 finished with value: 0.7901467039647684 and parameters: {'vect__max_df': 0.6276875387673988, 'vect__max_features': 39994, 'tfidf__use_idf': False, 'ove__sampling_strategy': 0.8066109313859936, 'clf__fit_prior': False, 'clf__alpha': 0.3800444714584391}. Best is trial 48 with value: 0.8151697055413049.\u001b[0m\n",
            "\u001b[32m[I 2021-10-18 15:30:17,518]\u001b[0m Trial 85 finished with value: 0.7778576723052908 and parameters: {'vect__max_df': 0.7118665517871441, 'vect__max_features': 46435, 'tfidf__use_idf': False, 'ove__sampling_strategy': 0.7109255674667363, 'clf__fit_prior': False, 'clf__alpha': 0.2875143072759512}. Best is trial 48 with value: 0.8151697055413049.\u001b[0m\n",
            "\u001b[33m[W 2021-10-18 15:30:18,758]\u001b[0m Trial 86 failed, because the objective function returned nan.\u001b[0m\n",
            "\u001b[32m[I 2021-10-18 15:30:20,165]\u001b[0m Trial 87 finished with value: 0.8125803912722678 and parameters: {'vect__max_df': 0.999703151831951, 'vect__max_features': 43886, 'tfidf__use_idf': False, 'ove__sampling_strategy': 0.892762021127675, 'clf__fit_prior': False, 'clf__alpha': 0.3494383840697136}. Best is trial 48 with value: 0.8151697055413049.\u001b[0m\n",
            "\u001b[32m[I 2021-10-18 15:30:21,603]\u001b[0m Trial 88 finished with value: 0.8002909705666102 and parameters: {'vect__max_df': 0.6720461489463808, 'vect__max_features': 39668, 'tfidf__use_idf': False, 'ove__sampling_strategy': 0.8658438388406262, 'clf__fit_prior': False, 'clf__alpha': 0.12686798975536379}. Best is trial 48 with value: 0.8151697055413049.\u001b[0m\n",
            "\u001b[32m[I 2021-10-18 15:30:23,043]\u001b[0m Trial 89 finished with value: 0.8131597416093873 and parameters: {'vect__max_df': 0.5631819118696637, 'vect__max_features': 35037, 'tfidf__use_idf': False, 'ove__sampling_strategy': 0.8351580172548152, 'clf__fit_prior': False, 'clf__alpha': 0.26489343633986073}. Best is trial 48 with value: 0.8151697055413049.\u001b[0m\n",
            "\u001b[32m[I 2021-10-18 15:30:24,474]\u001b[0m Trial 90 finished with value: 0.8172869766238069 and parameters: {'vect__max_df': 0.5595714679819541, 'vect__max_features': 35248, 'tfidf__use_idf': False, 'ove__sampling_strategy': 0.9003978238086733, 'clf__fit_prior': False, 'clf__alpha': 0.2961498762626632}. Best is trial 90 with value: 0.8172869766238069.\u001b[0m\n",
            "\u001b[32m[I 2021-10-18 15:30:25,902]\u001b[0m Trial 91 finished with value: 0.811627719484694 and parameters: {'vect__max_df': 0.53918957676137, 'vect__max_features': 32220, 'tfidf__use_idf': False, 'ove__sampling_strategy': 0.8870133474881906, 'clf__fit_prior': False, 'clf__alpha': 0.28968089031517036}. Best is trial 90 with value: 0.8172869766238069.\u001b[0m\n",
            "\u001b[32m[I 2021-10-18 15:30:27,341]\u001b[0m Trial 92 finished with value: 0.8133245800934047 and parameters: {'vect__max_df': 0.591282711627333, 'vect__max_features': 43100, 'tfidf__use_idf': False, 'ove__sampling_strategy': 0.9412949415509544, 'clf__fit_prior': False, 'clf__alpha': 0.33592285839084446}. Best is trial 90 with value: 0.8172869766238069.\u001b[0m\n",
            "\u001b[32m[I 2021-10-18 15:30:28,792]\u001b[0m Trial 93 finished with value: 0.7718646732908778 and parameters: {'vect__max_df': 0.7013814163267252, 'vect__max_features': 27034, 'tfidf__use_idf': False, 'ove__sampling_strategy': 0.7581816978393479, 'clf__fit_prior': False, 'clf__alpha': 0.40176403790269866}. Best is trial 90 with value: 0.8172869766238069.\u001b[0m\n",
            "\u001b[32m[I 2021-10-18 15:30:30,250]\u001b[0m Trial 94 finished with value: 0.8133480958647035 and parameters: {'vect__max_df': 0.7655959945944028, 'vect__max_features': 38190, 'tfidf__use_idf': False, 'ove__sampling_strategy': 0.8582661739928273, 'clf__fit_prior': False, 'clf__alpha': 0.26596791680670706}. Best is trial 90 with value: 0.8172869766238069.\u001b[0m\n",
            "\u001b[32m[I 2021-10-18 15:30:31,725]\u001b[0m Trial 95 finished with value: 0.8085774169896782 and parameters: {'vect__max_df': 0.6217603763021241, 'vect__max_features': 30986, 'tfidf__use_idf': False, 'ove__sampling_strategy': 0.9022382435054999, 'clf__fit_prior': False, 'clf__alpha': 0.1913266413420739}. Best is trial 90 with value: 0.8172869766238069.\u001b[0m\n",
            "\u001b[33m[W 2021-10-18 15:30:33,074]\u001b[0m Trial 96 failed, because the objective function returned nan.\u001b[0m\n",
            "\u001b[32m[I 2021-10-18 15:30:34,564]\u001b[0m Trial 97 finished with value: 0.8046116267143655 and parameters: {'vect__max_df': 0.5025695663365617, 'vect__max_features': 34232, 'tfidf__use_idf': True, 'ove__sampling_strategy': 0.9738318186117662, 'clf__fit_prior': False, 'clf__alpha': 0.37351192776503805}. Best is trial 90 with value: 0.8172869766238069.\u001b[0m\n",
            "\u001b[32m[I 2021-10-18 15:30:35,984]\u001b[0m Trial 98 finished with value: 0.8036516412083842 and parameters: {'vect__max_df': 0.8243978481618255, 'vect__max_features': 46598, 'tfidf__use_idf': False, 'ove__sampling_strategy': 0.8150111423020563, 'clf__fit_prior': False, 'clf__alpha': 0.3002050880951383}. Best is trial 90 with value: 0.8172869766238069.\u001b[0m\n",
            "\u001b[33m[W 2021-10-18 15:30:37,284]\u001b[0m Trial 99 failed, because the objective function returned nan.\u001b[0m\n",
            "\u001b[32m[I 2021-10-18 15:30:38,699]\u001b[0m Trial 100 finished with value: 0.7328376926457765 and parameters: {'vect__max_df': 0.737015794307337, 'vect__max_features': 41016, 'tfidf__use_idf': False, 'ove__sampling_strategy': 0.46529145160928786, 'clf__fit_prior': False, 'clf__alpha': 0.2183032801896136}. Best is trial 90 with value: 0.8172869766238069.\u001b[0m\n",
            "\u001b[32m[I 2021-10-18 15:30:40,134]\u001b[0m Trial 101 finished with value: 0.8094390590304208 and parameters: {'vect__max_df': 0.6554262415090983, 'vect__max_features': 27591, 'tfidf__use_idf': False, 'ove__sampling_strategy': 0.939743831099761, 'clf__fit_prior': False, 'clf__alpha': 0.2542086204433237}. Best is trial 90 with value: 0.8172869766238069.\u001b[0m\n",
            "\u001b[33m[W 2021-10-18 15:30:41,382]\u001b[0m Trial 102 failed, because the objective function returned nan.\u001b[0m\n",
            "\u001b[32m[I 2021-10-18 15:30:42,848]\u001b[0m Trial 103 finished with value: 0.8055243040109369 and parameters: {'vect__max_df': 0.7639182592278704, 'vect__max_features': 36556, 'tfidf__use_idf': False, 'ove__sampling_strategy': 0.855432290976022, 'clf__fit_prior': False, 'clf__alpha': 0.34728502988803867}. Best is trial 90 with value: 0.8172869766238069.\u001b[0m\n",
            "\u001b[32m[I 2021-10-18 15:30:44,310]\u001b[0m Trial 104 finished with value: 0.8144981474605725 and parameters: {'vect__max_df': 0.6800007972503671, 'vect__max_features': 38098, 'tfidf__use_idf': False, 'ove__sampling_strategy': 0.9082288772569094, 'clf__fit_prior': False, 'clf__alpha': 0.2672932310781079}. Best is trial 90 with value: 0.8172869766238069.\u001b[0m\n",
            "\u001b[32m[I 2021-10-18 15:30:45,720]\u001b[0m Trial 105 finished with value: 0.8174886076704659 and parameters: {'vect__max_df': 0.7273179148647495, 'vect__max_features': 38396, 'tfidf__use_idf': False, 'ove__sampling_strategy': 0.9047101804166378, 'clf__fit_prior': False, 'clf__alpha': 0.3059362026566805}. Best is trial 105 with value: 0.8174886076704659.\u001b[0m\n",
            "\u001b[32m[I 2021-10-18 15:30:47,165]\u001b[0m Trial 106 finished with value: 0.8180799448764894 and parameters: {'vect__max_df': 0.8413312273118781, 'vect__max_features': 37950, 'tfidf__use_idf': False, 'ove__sampling_strategy': 0.9107425489776375, 'clf__fit_prior': False, 'clf__alpha': 0.3336804257269591}. Best is trial 106 with value: 0.8180799448764894.\u001b[0m\n",
            "\u001b[32m[I 2021-10-18 15:30:48,574]\u001b[0m Trial 107 finished with value: 0.8116651725610321 and parameters: {'vect__max_df': 0.7276835476311996, 'vect__max_features': 37780, 'tfidf__use_idf': False, 'ove__sampling_strategy': 0.917473691442526, 'clf__fit_prior': False, 'clf__alpha': 0.26850854403759583}. Best is trial 106 with value: 0.8180799448764894.\u001b[0m\n",
            "\u001b[32m[I 2021-10-18 15:30:49,990]\u001b[0m Trial 108 finished with value: 0.5264878063054637 and parameters: {'vect__max_df': 0.8917224932310485, 'vect__max_features': 42000, 'tfidf__use_idf': False, 'ove__sampling_strategy': 0.3581444550445021, 'clf__fit_prior': False, 'clf__alpha': 0.41376785697600305}. Best is trial 106 with value: 0.8180799448764894.\u001b[0m\n",
            "\u001b[32m[I 2021-10-18 15:30:51,443]\u001b[0m Trial 109 finished with value: 0.8093819538540845 and parameters: {'vect__max_df': 0.5828699180071115, 'vect__max_features': 35159, 'tfidf__use_idf': False, 'ove__sampling_strategy': 0.9693290668348322, 'clf__fit_prior': False, 'clf__alpha': 0.3363157145823727}. Best is trial 106 with value: 0.8180799448764894.\u001b[0m\n",
            "\u001b[32m[I 2021-10-18 15:30:52,911]\u001b[0m Trial 110 finished with value: 0.8099031080341488 and parameters: {'vect__max_df': 0.6076921001481763, 'vect__max_features': 38985, 'tfidf__use_idf': False, 'ove__sampling_strategy': 0.8336259956625197, 'clf__fit_prior': False, 'clf__alpha': 0.21664465714127656}. Best is trial 106 with value: 0.8180799448764894.\u001b[0m\n",
            "\u001b[32m[I 2021-10-18 15:30:54,352]\u001b[0m Trial 111 finished with value: 0.8153995103612222 and parameters: {'vect__max_df': 0.6888212456843713, 'vect__max_features': 37572, 'tfidf__use_idf': False, 'ove__sampling_strategy': 0.9062586543063949, 'clf__fit_prior': False, 'clf__alpha': 0.36803907417969633}. Best is trial 106 with value: 0.8180799448764894.\u001b[0m\n",
            "\u001b[33m[W 2021-10-18 15:30:55,644]\u001b[0m Trial 112 failed, because the objective function returned nan.\u001b[0m\n",
            "\u001b[32m[I 2021-10-18 15:30:57,132]\u001b[0m Trial 113 finished with value: 0.8022664807941748 and parameters: {'vect__max_df': 0.7999953513774503, 'vect__max_features': 37427, 'tfidf__use_idf': True, 'ove__sampling_strategy': 0.9842557833838826, 'clf__fit_prior': False, 'clf__alpha': 0.3684610901759029}. Best is trial 106 with value: 0.8180799448764894.\u001b[0m\n",
            "\u001b[32m[I 2021-10-18 15:30:58,590]\u001b[0m Trial 114 finished with value: 0.8138887237392318 and parameters: {'vect__max_df': 0.7158327996409439, 'vect__max_features': 40048, 'tfidf__use_idf': False, 'ove__sampling_strategy': 0.9064326434688167, 'clf__fit_prior': False, 'clf__alpha': 0.3859790549838393}. Best is trial 106 with value: 0.8180799448764894.\u001b[0m\n",
            "\u001b[32m[I 2021-10-18 15:31:00,031]\u001b[0m Trial 115 finished with value: 0.8110496187931616 and parameters: {'vect__max_df': 0.6891251459001588, 'vect__max_features': 31881, 'tfidf__use_idf': False, 'ove__sampling_strategy': 0.9518687428443253, 'clf__fit_prior': False, 'clf__alpha': 0.3214687046030567}. Best is trial 106 with value: 0.8180799448764894.\u001b[0m\n",
            "\u001b[32m[I 2021-10-18 15:31:01,519]\u001b[0m Trial 116 finished with value: 0.8113304693901016 and parameters: {'vect__max_df': 0.7428183424450088, 'vect__max_features': 33863, 'tfidf__use_idf': False, 'ove__sampling_strategy': 0.927726031016574, 'clf__fit_prior': False, 'clf__alpha': 0.28924675146754525}. Best is trial 106 with value: 0.8180799448764894.\u001b[0m\n",
            "\u001b[32m[I 2021-10-18 15:31:03,014]\u001b[0m Trial 117 finished with value: 0.8070152740301971 and parameters: {'vect__max_df': 0.6491543987991835, 'vect__max_features': 41028, 'tfidf__use_idf': False, 'ove__sampling_strategy': 0.8627543403318572, 'clf__fit_prior': False, 'clf__alpha': 0.34945481843932663}. Best is trial 106 with value: 0.8180799448764894.\u001b[0m\n",
            "\u001b[32m[I 2021-10-18 15:31:04,478]\u001b[0m Trial 118 finished with value: 0.7967370464251959 and parameters: {'vect__max_df': 0.7085479711486236, 'vect__max_features': 29710, 'tfidf__use_idf': False, 'ove__sampling_strategy': 0.8003575684914203, 'clf__fit_prior': False, 'clf__alpha': 0.30764567408616506}. Best is trial 106 with value: 0.8180799448764894.\u001b[0m\n",
            "\u001b[32m[I 2021-10-18 15:31:05,939]\u001b[0m Trial 119 finished with value: 0.7484564717151998 and parameters: {'vect__max_df': 0.5484849971693059, 'vect__max_features': 35909, 'tfidf__use_idf': False, 'ove__sampling_strategy': 0.5480069844393256, 'clf__fit_prior': False, 'clf__alpha': 0.2512360139963455}. Best is trial 106 with value: 0.8180799448764894.\u001b[0m\n",
            "\u001b[32m[I 2021-10-18 15:31:07,410]\u001b[0m Trial 120 finished with value: 0.8010700109775228 and parameters: {'vect__max_df': 0.633151149867375, 'vect__max_features': 37163, 'tfidf__use_idf': False, 'ove__sampling_strategy': 0.9020110963158706, 'clf__fit_prior': False, 'clf__alpha': 0.479975699060339}. Best is trial 106 with value: 0.8180799448764894.\u001b[0m\n",
            "\u001b[32m[I 2021-10-18 15:31:08,899]\u001b[0m Trial 121 finished with value: 0.8098711181855712 and parameters: {'vect__max_df': 0.7647065265662873, 'vect__max_features': 34608, 'tfidf__use_idf': False, 'ove__sampling_strategy': 0.8709557406161735, 'clf__fit_prior': False, 'clf__alpha': 0.18415389356627326}. Best is trial 106 with value: 0.8180799448764894.\u001b[0m\n",
            "\u001b[32m[I 2021-10-18 15:31:10,398]\u001b[0m Trial 122 finished with value: 0.8061017564972225 and parameters: {'vect__max_df': 0.6863113166254813, 'vect__max_features': 38959, 'tfidf__use_idf': False, 'ove__sampling_strategy': 0.9544055471752969, 'clf__fit_prior': False, 'clf__alpha': 0.2270838941377721}. Best is trial 106 with value: 0.8180799448764894.\u001b[0m\n",
            "\u001b[33m[W 2021-10-18 15:31:11,669]\u001b[0m Trial 123 failed, because the objective function returned nan.\u001b[0m\n",
            "\u001b[32m[I 2021-10-18 15:31:13,398]\u001b[0m Trial 124 finished with value: 0.8133561523955898 and parameters: {'vect__max_df': 0.659898590241485, 'vect__max_features': 28377, 'tfidf__use_idf': False, 'ove__sampling_strategy': 0.9310891580155073, 'clf__fit_prior': False, 'clf__alpha': 0.3262794954427041}. Best is trial 106 with value: 0.8180799448764894.\u001b[0m\n",
            "\u001b[32m[I 2021-10-18 15:31:14,886]\u001b[0m Trial 125 finished with value: 0.8081999852028018 and parameters: {'vect__max_df': 0.8444015142552803, 'vect__max_features': 42139, 'tfidf__use_idf': False, 'ove__sampling_strategy': 0.8462887523632968, 'clf__fit_prior': False, 'clf__alpha': 0.30958603337762247}. Best is trial 106 with value: 0.8180799448764894.\u001b[0m\n",
            "\u001b[33m[W 2021-10-18 15:31:16,170]\u001b[0m Trial 126 failed, because the objective function returned nan.\u001b[0m\n",
            "\u001b[32m[I 2021-10-18 15:31:17,610]\u001b[0m Trial 127 finished with value: 0.8109624731452009 and parameters: {'vect__max_df': 0.8328758035847094, 'vect__max_features': 25808, 'tfidf__use_idf': False, 'ove__sampling_strategy': 0.880810922281417, 'clf__fit_prior': False, 'clf__alpha': 0.27531204844001184}. Best is trial 106 with value: 0.8180799448764894.\u001b[0m\n",
            "\u001b[32m[I 2021-10-18 15:31:19,070]\u001b[0m Trial 128 finished with value: 0.8165814198547483 and parameters: {'vect__max_df': 0.8705627632341412, 'vect__max_features': 28955, 'tfidf__use_idf': False, 'ove__sampling_strategy': 0.917247122876229, 'clf__fit_prior': False, 'clf__alpha': 0.36323074026759455}. Best is trial 106 with value: 0.8180799448764894.\u001b[0m\n",
            "\u001b[32m[I 2021-10-18 15:31:20,512]\u001b[0m Trial 129 finished with value: 0.47873542772699906 and parameters: {'vect__max_df': 0.779779354858973, 'vect__max_features': 32935, 'tfidf__use_idf': False, 'ove__sampling_strategy': 0.19740271231436168, 'clf__fit_prior': False, 'clf__alpha': 0.44931177902343455}. Best is trial 106 with value: 0.8180799448764894.\u001b[0m\n",
            "\u001b[32m[I 2021-10-18 15:31:21,968]\u001b[0m Trial 130 finished with value: 0.8075320125135755 and parameters: {'vect__max_df': 0.8647341432276955, 'vect__max_features': 30620, 'tfidf__use_idf': False, 'ove__sampling_strategy': 0.907280709310118, 'clf__fit_prior': False, 'clf__alpha': 0.4095581423979752}. Best is trial 106 with value: 0.8180799448764894.\u001b[0m\n",
            "\u001b[32m[I 2021-10-18 15:31:23,442]\u001b[0m Trial 131 finished with value: 0.793304738774504 and parameters: {'vect__max_df': 0.8072706124411285, 'vect__max_features': 31320, 'tfidf__use_idf': False, 'ove__sampling_strategy': 0.8255897509410371, 'clf__fit_prior': False, 'clf__alpha': 0.3622574359679552}. Best is trial 106 with value: 0.8180799448764894.\u001b[0m\n",
            "\u001b[32m[I 2021-10-18 15:31:24,929]\u001b[0m Trial 132 finished with value: 0.8081385360973883 and parameters: {'vect__max_df': 0.9249428786031941, 'vect__max_features': 38619, 'tfidf__use_idf': False, 'ove__sampling_strategy': 0.986049124245078, 'clf__fit_prior': False, 'clf__alpha': 0.33673642779534757}. Best is trial 106 with value: 0.8180799448764894.\u001b[0m\n",
            "\u001b[32m[I 2021-10-18 15:31:26,381]\u001b[0m Trial 133 finished with value: 0.8101158649401073 and parameters: {'vect__max_df': 0.8813031109965948, 'vect__max_features': 28944, 'tfidf__use_idf': False, 'ove__sampling_strategy': 0.9349778905214913, 'clf__fit_prior': False, 'clf__alpha': 0.28449797147050904}. Best is trial 106 with value: 0.8180799448764894.\u001b[0m\n",
            "\u001b[32m[I 2021-10-18 15:31:27,853]\u001b[0m Trial 134 finished with value: 0.8144981474605725 and parameters: {'vect__max_df': 0.7455637456571154, 'vect__max_features': 35336, 'tfidf__use_idf': False, 'ove__sampling_strategy': 0.9050800729503665, 'clf__fit_prior': False, 'clf__alpha': 0.25681745144832635}. Best is trial 106 with value: 0.8180799448764894.\u001b[0m\n",
            "\u001b[32m[I 2021-10-18 15:31:29,400]\u001b[0m Trial 135 finished with value: 0.7996490013255715 and parameters: {'vect__max_df': 0.7577043953254403, 'vect__max_features': 36057, 'tfidf__use_idf': True, 'ove__sampling_strategy': 0.9644821040870178, 'clf__fit_prior': False, 'clf__alpha': 0.23850895190091848}. Best is trial 106 with value: 0.8180799448764894.\u001b[0m\n",
            "\u001b[32m[I 2021-10-18 15:31:30,873]\u001b[0m Trial 136 finished with value: 0.8144981474605725 and parameters: {'vect__max_df': 0.7242517741227011, 'vect__max_features': 35275, 'tfidf__use_idf': False, 'ove__sampling_strategy': 0.8966272977596271, 'clf__fit_prior': False, 'clf__alpha': 0.25533250666295215}. Best is trial 106 with value: 0.8180799448764894.\u001b[0m\n",
            "\u001b[32m[I 2021-10-18 15:31:32,343]\u001b[0m Trial 137 finished with value: 0.8102543771324111 and parameters: {'vect__max_df': 0.7212424117975099, 'vect__max_features': 33535, 'tfidf__use_idf': False, 'ove__sampling_strategy': 0.9017003069156496, 'clf__fit_prior': False, 'clf__alpha': 0.20291444436473194}. Best is trial 106 with value: 0.8180799448764894.\u001b[0m\n",
            "\u001b[32m[I 2021-10-18 15:31:33,809]\u001b[0m Trial 138 finished with value: 0.8110928055130845 and parameters: {'vect__max_df': 0.7832631490721992, 'vect__max_features': 36931, 'tfidf__use_idf': False, 'ove__sampling_strategy': 0.9273404878598168, 'clf__fit_prior': False, 'clf__alpha': 0.25613524994624604}. Best is trial 106 with value: 0.8180799448764894.\u001b[0m\n",
            "\u001b[32m[I 2021-10-18 15:31:35,264]\u001b[0m Trial 139 finished with value: 0.8034856808382151 and parameters: {'vect__max_df': 0.7336456161541465, 'vect__max_features': 34811, 'tfidf__use_idf': False, 'ove__sampling_strategy': 0.8877950512546462, 'clf__fit_prior': False, 'clf__alpha': 0.1556905696104383}. Best is trial 106 with value: 0.8180799448764894.\u001b[0m\n",
            "\u001b[32m[I 2021-10-18 15:31:36,730]\u001b[0m Trial 140 finished with value: 0.8097441362884356 and parameters: {'vect__max_df': 0.6968669773508912, 'vect__max_features': 32577, 'tfidf__use_idf': False, 'ove__sampling_strategy': 0.8471699926345364, 'clf__fit_prior': False, 'clf__alpha': 0.290772487222033}. Best is trial 106 with value: 0.8180799448764894.\u001b[0m\n",
            "\u001b[32m[I 2021-10-18 15:31:38,167]\u001b[0m Trial 141 finished with value: 0.8102091884063087 and parameters: {'vect__max_df': 0.7454760845576959, 'vect__max_features': 40216, 'tfidf__use_idf': False, 'ove__sampling_strategy': 0.9485789361193387, 'clf__fit_prior': False, 'clf__alpha': 0.2729930906868394}. Best is trial 106 with value: 0.8180799448764894.\u001b[0m\n",
            "\u001b[32m[I 2021-10-18 15:31:39,624]\u001b[0m Trial 142 finished with value: 0.7754404294537466 and parameters: {'vect__max_df': 0.005682538250527613, 'vect__max_features': 38047, 'tfidf__use_idf': False, 'ove__sampling_strategy': 0.9125126436553213, 'clf__fit_prior': False, 'clf__alpha': 0.35565393506597776}. Best is trial 106 with value: 0.8180799448764894.\u001b[0m\n",
            "\u001b[32m[I 2021-10-18 15:31:41,090]\u001b[0m Trial 143 finished with value: 0.813480097644665 and parameters: {'vect__max_df': 0.815974984853371, 'vect__max_features': 35519, 'tfidf__use_idf': False, 'ove__sampling_strategy': 0.8781742743599629, 'clf__fit_prior': False, 'clf__alpha': 0.24995295318264676}. Best is trial 106 with value: 0.8180799448764894.\u001b[0m\n",
            "\u001b[32m[I 2021-10-18 15:31:42,554]\u001b[0m Trial 144 finished with value: 0.8048516232738898 and parameters: {'vect__max_df': 0.907685097962173, 'vect__max_features': 43374, 'tfidf__use_idf': False, 'ove__sampling_strategy': 0.8629569750036694, 'clf__fit_prior': False, 'clf__alpha': 0.3846704439628235}. Best is trial 106 with value: 0.8180799448764894.\u001b[0m\n",
            "\u001b[33m[W 2021-10-18 15:31:43,880]\u001b[0m Trial 145 failed, because the objective function returned nan.\u001b[0m\n",
            "\u001b[33m[W 2021-10-18 15:31:45,186]\u001b[0m Trial 146 failed, because the objective function returned nan.\u001b[0m\n",
            "\u001b[32m[I 2021-10-18 15:31:46,638]\u001b[0m Trial 147 finished with value: 0.8049037489792777 and parameters: {'vect__max_df': 0.6755489531208458, 'vect__max_features': 29737, 'tfidf__use_idf': False, 'ove__sampling_strategy': 0.9986542757829551, 'clf__fit_prior': False, 'clf__alpha': 0.29924547934713897}. Best is trial 106 with value: 0.8180799448764894.\u001b[0m\n",
            "\u001b[32m[I 2021-10-18 15:31:48,118]\u001b[0m Trial 148 finished with value: 0.8054525430848628 and parameters: {'vect__max_df': 0.7182726326326545, 'vect__max_features': 39386, 'tfidf__use_idf': False, 'ove__sampling_strategy': 0.826652015620044, 'clf__fit_prior': False, 'clf__alpha': 0.32093505499777863}. Best is trial 106 with value: 0.8180799448764894.\u001b[0m\n",
            "\u001b[32m[I 2021-10-18 15:31:49,552]\u001b[0m Trial 149 finished with value: 0.8125803912722678 and parameters: {'vect__max_df': 0.6486386145607915, 'vect__max_features': 27042, 'tfidf__use_idf': False, 'ove__sampling_strategy': 0.8937853423999261, 'clf__fit_prior': False, 'clf__alpha': 0.3412203977368143}. Best is trial 106 with value: 0.8180799448764894.\u001b[0m\n",
            "\u001b[32m[I 2021-10-18 15:31:50,995]\u001b[0m Trial 150 finished with value: 0.8116651725610321 and parameters: {'vect__max_df': 0.7002772553519354, 'vect__max_features': 36531, 'tfidf__use_idf': False, 'ove__sampling_strategy': 0.9189747160091751, 'clf__fit_prior': False, 'clf__alpha': 0.26891694977081676}. Best is trial 106 with value: 0.8180799448764894.\u001b[0m\n",
            "\u001b[32m[I 2021-10-18 15:31:52,436]\u001b[0m Trial 151 finished with value: 0.8101315258896677 and parameters: {'vect__max_df': 0.6279465471797822, 'vect__max_features': 24604, 'tfidf__use_idf': False, 'ove__sampling_strategy': 0.8553144957982683, 'clf__fit_prior': False, 'clf__alpha': 0.30975091004500016}. Best is trial 106 with value: 0.8180799448764894.\u001b[0m\n",
            "\u001b[32m[I 2021-10-18 15:31:53,839]\u001b[0m Trial 152 finished with value: 0.6718975373565705 and parameters: {'vect__max_df': 0.6050106391097575, 'vect__max_features': 432, 'tfidf__use_idf': False, 'ove__sampling_strategy': 0.8689923573284343, 'clf__fit_prior': False, 'clf__alpha': 0.22078781224396316}. Best is trial 106 with value: 0.8180799448764894.\u001b[0m\n",
            "\u001b[32m[I 2021-10-18 15:31:55,267]\u001b[0m Trial 153 finished with value: 0.8034944026176312 and parameters: {'vect__max_df': 0.7749132976415946, 'vect__max_features': 33564, 'tfidf__use_idf': False, 'ove__sampling_strategy': 0.7984262890024555, 'clf__fit_prior': False, 'clf__alpha': 0.286842986305183}. Best is trial 106 with value: 0.8180799448764894.\u001b[0m\n",
            "\u001b[32m[I 2021-10-18 15:31:56,689]\u001b[0m Trial 154 finished with value: 0.8141684596483916 and parameters: {'vect__max_df': 0.5680832779651033, 'vect__max_features': 37739, 'tfidf__use_idf': False, 'ove__sampling_strategy': 0.9413983449374409, 'clf__fit_prior': True, 'clf__alpha': 0.3325952582672625}. Best is trial 106 with value: 0.8180799448764894.\u001b[0m\n",
            "\u001b[32m[I 2021-10-18 15:31:58,177]\u001b[0m Trial 155 finished with value: 0.803838658075216 and parameters: {'vect__max_df': 0.46074433341590004, 'vect__max_features': 38355, 'tfidf__use_idf': False, 'ove__sampling_strategy': 0.9519454172363085, 'clf__fit_prior': True, 'clf__alpha': 0.6001812388094401}. Best is trial 106 with value: 0.8180799448764894.\u001b[0m\n",
            "\u001b[32m[I 2021-10-18 15:31:59,635]\u001b[0m Trial 156 finished with value: 0.8093819538540845 and parameters: {'vect__max_df': 0.7488257251642044, 'vect__max_features': 41164, 'tfidf__use_idf': False, 'ove__sampling_strategy': 0.9759284725733863, 'clf__fit_prior': True, 'clf__alpha': 0.36466245254914675}. Best is trial 106 with value: 0.8180799448764894.\u001b[0m\n",
            "\u001b[32m[I 2021-10-18 15:32:01,104]\u001b[0m Trial 157 finished with value: 0.8140942194035518 and parameters: {'vect__max_df': 0.8559135962601517, 'vect__max_features': 31938, 'tfidf__use_idf': False, 'ove__sampling_strategy': 0.9344255499408508, 'clf__fit_prior': True, 'clf__alpha': 0.3408594873287813}. Best is trial 106 with value: 0.8180799448764894.\u001b[0m\n",
            "\u001b[33m[W 2021-10-18 15:32:02,400]\u001b[0m Trial 158 failed, because the objective function returned nan.\u001b[0m\n",
            "\u001b[32m[I 2021-10-18 15:32:03,827]\u001b[0m Trial 159 finished with value: 0.8152363870956212 and parameters: {'vect__max_df': 0.9459157951776559, 'vect__max_features': 31689, 'tfidf__use_idf': False, 'ove__sampling_strategy': 0.9244331936049108, 'clf__fit_prior': True, 'clf__alpha': 0.3281321499439811}. Best is trial 106 with value: 0.8180799448764894.\u001b[0m\n",
            "\u001b[32m[I 2021-10-18 15:32:05,267]\u001b[0m Trial 160 finished with value: 0.8112962112543999 and parameters: {'vect__max_df': 0.9584692387639502, 'vect__max_features': 37381, 'tfidf__use_idf': False, 'ove__sampling_strategy': 0.9093446831375472, 'clf__fit_prior': True, 'clf__alpha': 0.32560318090698376}. Best is trial 106 with value: 0.8180799448764894.\u001b[0m\n",
            "\u001b[32m[I 2021-10-18 15:32:06,699]\u001b[0m Trial 161 finished with value: 0.8075262976509856 and parameters: {'vect__max_df': 0.9937097586077028, 'vect__max_features': 34429, 'tfidf__use_idf': False, 'ove__sampling_strategy': 0.8908366962267684, 'clf__fit_prior': True, 'clf__alpha': 0.30250080576159327}. Best is trial 106 with value: 0.8180799448764894.\u001b[0m\n",
            "\u001b[32m[I 2021-10-18 15:32:08,120]\u001b[0m Trial 162 finished with value: 0.8146370158177231 and parameters: {'vect__max_df': 0.9730252436574549, 'vect__max_features': 28001, 'tfidf__use_idf': False, 'ove__sampling_strategy': 0.9602561119170433, 'clf__fit_prior': True, 'clf__alpha': 0.38950222670585866}. Best is trial 106 with value: 0.8180799448764894.\u001b[0m\n",
            "\u001b[32m[I 2021-10-18 15:32:09,559]\u001b[0m Trial 163 finished with value: 0.8139686158238317 and parameters: {'vect__max_df': 0.9501790901028879, 'vect__max_features': 28270, 'tfidf__use_idf': False, 'ove__sampling_strategy': 0.9639598380212778, 'clf__fit_prior': True, 'clf__alpha': 0.3942110059528757}. Best is trial 106 with value: 0.8180799448764894.\u001b[0m\n",
            "\u001b[32m[I 2021-10-18 15:32:11,041]\u001b[0m Trial 164 finished with value: 0.8045535380914812 and parameters: {'vect__max_df': 0.9778094259443751, 'vect__max_features': 29963, 'tfidf__use_idf': True, 'ove__sampling_strategy': 0.9182517187007583, 'clf__fit_prior': True, 'clf__alpha': 0.43539876807510086}. Best is trial 106 with value: 0.8180799448764894.\u001b[0m\n",
            "\u001b[32m[I 2021-10-18 15:32:12,501]\u001b[0m Trial 165 finished with value: 0.8028939367697175 and parameters: {'vect__max_df': 0.9293363073365106, 'vect__max_features': 31018, 'tfidf__use_idf': False, 'ove__sampling_strategy': 0.8848436544981753, 'clf__fit_prior': True, 'clf__alpha': 0.3706654963670063}. Best is trial 106 with value: 0.8180799448764894.\u001b[0m\n",
            "\u001b[32m[I 2021-10-18 15:32:13,975]\u001b[0m Trial 166 finished with value: 0.8115156707217299 and parameters: {'vect__max_df': 0.9006436045763494, 'vect__max_features': 27691, 'tfidf__use_idf': False, 'ove__sampling_strategy': 0.9026221956546134, 'clf__fit_prior': True, 'clf__alpha': 0.2570726192738922}. Best is trial 106 with value: 0.8180799448764894.\u001b[0m\n",
            "\u001b[33m[W 2021-10-18 15:32:15,271]\u001b[0m Trial 167 failed, because the objective function returned nan.\u001b[0m\n",
            "\u001b[32m[I 2021-10-18 15:32:16,705]\u001b[0m Trial 168 finished with value: 0.8138808533246153 and parameters: {'vect__max_df': 0.7181463476994381, 'vect__max_features': 29123, 'tfidf__use_idf': False, 'ove__sampling_strategy': 0.8396030148111209, 'clf__fit_prior': False, 'clf__alpha': 0.23922827597166138}. Best is trial 106 with value: 0.8180799448764894.\u001b[0m\n",
            "\u001b[33m[W 2021-10-18 15:32:17,990]\u001b[0m Trial 169 failed, because the objective function returned nan.\u001b[0m\n",
            "\u001b[33m[W 2021-10-18 15:32:19,286]\u001b[0m Trial 170 failed, because the objective function returned nan.\u001b[0m\n",
            "\u001b[32m[I 2021-10-18 15:32:20,719]\u001b[0m Trial 171 finished with value: 0.8101158649401073 and parameters: {'vect__max_df': 0.9427851667737899, 'vect__max_features': 34986, 'tfidf__use_idf': False, 'ove__sampling_strategy': 0.9370298619901328, 'clf__fit_prior': False, 'clf__alpha': 0.2781739155128523}. Best is trial 106 with value: 0.8180799448764894.\u001b[0m\n",
            "\u001b[33m[W 2021-10-18 15:32:21,987]\u001b[0m Trial 172 failed, because the objective function returned nan.\u001b[0m\n",
            "\u001b[32m[I 2021-10-18 15:32:23,431]\u001b[0m Trial 173 finished with value: 0.812837307351089 and parameters: {'vect__max_df': 0.7938774597917979, 'vect__max_features': 36184, 'tfidf__use_idf': False, 'ove__sampling_strategy': 0.9505455792110222, 'clf__fit_prior': True, 'clf__alpha': 0.32532672943064944}. Best is trial 106 with value: 0.8180799448764894.\u001b[0m\n",
            "\u001b[32m[I 2021-10-18 15:32:24,882]\u001b[0m Trial 174 finished with value: 0.8147201992036681 and parameters: {'vect__max_df': 0.49554812277480853, 'vect__max_features': 40355, 'tfidf__use_idf': False, 'ove__sampling_strategy': 0.9276296037841055, 'clf__fit_prior': True, 'clf__alpha': 0.34776494202439623}. Best is trial 106 with value: 0.8180799448764894.\u001b[0m\n",
            "\u001b[32m[I 2021-10-18 15:32:26,325]\u001b[0m Trial 175 finished with value: 0.8091421183600979 and parameters: {'vect__max_df': 0.4117919196979164, 'vect__max_features': 40775, 'tfidf__use_idf': False, 'ove__sampling_strategy': 0.9189479535236684, 'clf__fit_prior': True, 'clf__alpha': 0.40702928724582643}. Best is trial 106 with value: 0.8180799448764894.\u001b[0m\n",
            "\u001b[32m[I 2021-10-18 15:32:27,784]\u001b[0m Trial 176 finished with value: 0.8087345430434322 and parameters: {'vect__max_df': 0.49969820337270116, 'vect__max_features': 42041, 'tfidf__use_idf': False, 'ove__sampling_strategy': 0.9745303134258312, 'clf__fit_prior': True, 'clf__alpha': 0.29932608504815555}. Best is trial 106 with value: 0.8180799448764894.\u001b[0m\n",
            "\u001b[32m[I 2021-10-18 15:32:29,248]\u001b[0m Trial 177 finished with value: 0.7976362135322883 and parameters: {'vect__max_df': 0.524554563015677, 'vect__max_features': 32866, 'tfidf__use_idf': False, 'ove__sampling_strategy': 0.8736372204854432, 'clf__fit_prior': True, 'clf__alpha': 0.3550556816201135}. Best is trial 106 with value: 0.8180799448764894.\u001b[0m\n",
            "\u001b[32m[I 2021-10-18 15:32:30,719]\u001b[0m Trial 178 finished with value: 0.8035000895082396 and parameters: {'vect__max_df': 0.9756598813010311, 'vect__max_features': 39590, 'tfidf__use_idf': False, 'ove__sampling_strategy': 0.8958371243826735, 'clf__fit_prior': True, 'clf__alpha': 0.3809612097028426}. Best is trial 106 with value: 0.8180799448764894.\u001b[0m\n",
            "\u001b[32m[I 2021-10-18 15:32:32,191]\u001b[0m Trial 179 finished with value: 0.8133561523955898 and parameters: {'vect__max_df': 0.7383125789758149, 'vect__max_features': 26802, 'tfidf__use_idf': False, 'ove__sampling_strategy': 0.9273464072392246, 'clf__fit_prior': False, 'clf__alpha': 0.3103022268511356}. Best is trial 106 with value: 0.8180799448764894.\u001b[0m\n",
            "\u001b[32m[I 2021-10-18 15:32:33,656]\u001b[0m Trial 180 finished with value: 0.7585751376959795 and parameters: {'vect__max_df': 0.7564019634061342, 'vect__max_features': 31900, 'tfidf__use_idf': False, 'ove__sampling_strategy': 0.6242364898605799, 'clf__fit_prior': False, 'clf__alpha': 0.282039164738435}. Best is trial 106 with value: 0.8180799448764894.\u001b[0m\n",
            "\u001b[32m[I 2021-10-18 15:32:35,069]\u001b[0m Trial 181 finished with value: 0.8061850553908407 and parameters: {'vect__max_df': 0.8779507514221055, 'vect__max_features': 30677, 'tfidf__use_idf': False, 'ove__sampling_strategy': 0.855987533149789, 'clf__fit_prior': False, 'clf__alpha': 0.35395049613254037}. Best is trial 106 with value: 0.8180799448764894.\u001b[0m\n",
            "\u001b[32m[I 2021-10-18 15:32:36,519]\u001b[0m Trial 182 finished with value: 0.8144981474605725 and parameters: {'vect__max_df': 0.6827985213778635, 'vect__max_features': 38703, 'tfidf__use_idf': False, 'ove__sampling_strategy': 0.9065533834538998, 'clf__fit_prior': False, 'clf__alpha': 0.2603145724144447}. Best is trial 106 with value: 0.8180799448764894.\u001b[0m\n",
            "\u001b[33m[W 2021-10-18 15:32:37,802]\u001b[0m Trial 183 failed, because the objective function returned nan.\u001b[0m\n",
            "\u001b[32m[I 2021-10-18 15:32:39,223]\u001b[0m Trial 184 finished with value: 0.8144981474605725 and parameters: {'vect__max_df': 0.6799072023540199, 'vect__max_features': 38248, 'tfidf__use_idf': False, 'ove__sampling_strategy': 0.9059038605935125, 'clf__fit_prior': False, 'clf__alpha': 0.25638983771022106}. Best is trial 106 with value: 0.8180799448764894.\u001b[0m\n",
            "\u001b[32m[I 2021-10-18 15:32:40,666]\u001b[0m Trial 185 finished with value: 0.8095860024565026 and parameters: {'vect__max_df': 0.6954222982432429, 'vect__max_features': 39465, 'tfidf__use_idf': False, 'ove__sampling_strategy': 0.9591237527234309, 'clf__fit_prior': False, 'clf__alpha': 0.2738850145383456}. Best is trial 106 with value: 0.8180799448764894.\u001b[0m\n",
            "\u001b[32m[I 2021-10-18 15:32:42,111]\u001b[0m Trial 186 finished with value: 0.8118555876396745 and parameters: {'vect__max_df': 0.45568143402041217, 'vect__max_features': 36967, 'tfidf__use_idf': False, 'ove__sampling_strategy': 0.8788746144082018, 'clf__fit_prior': False, 'clf__alpha': 0.235530917795434}. Best is trial 106 with value: 0.8180799448764894.\u001b[0m\n",
            "\u001b[32m[I 2021-10-18 15:32:43,565]\u001b[0m Trial 187 finished with value: 0.8140185188133909 and parameters: {'vect__max_df': 0.6653939719620491, 'vect__max_features': 40435, 'tfidf__use_idf': False, 'ove__sampling_strategy': 0.9272402144900769, 'clf__fit_prior': False, 'clf__alpha': 0.32585708924281503}. Best is trial 106 with value: 0.8180799448764894.\u001b[0m\n",
            "\u001b[32m[I 2021-10-18 15:32:45,024]\u001b[0m Trial 188 finished with value: 0.8102543771324111 and parameters: {'vect__max_df': 0.726615101413358, 'vect__max_features': 44958, 'tfidf__use_idf': False, 'ove__sampling_strategy': 0.8997145847618132, 'clf__fit_prior': False, 'clf__alpha': 0.20226051963608901}. Best is trial 106 with value: 0.8180799448764894.\u001b[0m\n",
            "\u001b[32m[I 2021-10-18 15:32:46,479]\u001b[0m Trial 189 finished with value: 0.8151697055413049 and parameters: {'vect__max_df': 0.6735402787329922, 'vect__max_features': 38166, 'tfidf__use_idf': False, 'ove__sampling_strategy': 0.9144624773825084, 'clf__fit_prior': False, 'clf__alpha': 0.3016906708182403}. Best is trial 106 with value: 0.8180799448764894.\u001b[0m\n",
            "\u001b[32m[I 2021-10-18 15:32:47,945]\u001b[0m Trial 190 finished with value: 0.8087294100476055 and parameters: {'vect__max_df': 0.49381141297119596, 'vect__max_features': 38756, 'tfidf__use_idf': False, 'ove__sampling_strategy': 0.9510527269722966, 'clf__fit_prior': False, 'clf__alpha': 0.3030114460637117}. Best is trial 106 with value: 0.8180799448764894.\u001b[0m\n",
            "\u001b[32m[I 2021-10-18 15:32:49,439]\u001b[0m Trial 191 finished with value: 0.8042837528559937 and parameters: {'vect__max_df': 0.8162800047162343, 'vect__max_features': 35457, 'tfidf__use_idf': False, 'ove__sampling_strategy': 0.8616911171548173, 'clf__fit_prior': False, 'clf__alpha': 0.33957273962023193}. Best is trial 106 with value: 0.8180799448764894.\u001b[0m\n",
            "\u001b[32m[I 2021-10-18 15:32:50,942]\u001b[0m Trial 192 finished with value: 0.8022664807941748 and parameters: {'vect__max_df': 0.6911273604459388, 'vect__max_features': 42760, 'tfidf__use_idf': True, 'ove__sampling_strategy': 0.9825670393714968, 'clf__fit_prior': False, 'clf__alpha': 0.37051757164446586}. Best is trial 106 with value: 0.8180799448764894.\u001b[0m\n",
            "\u001b[32m[I 2021-10-18 15:32:52,405]\u001b[0m Trial 193 finished with value: 0.8144447240659792 and parameters: {'vect__max_df': 0.6609791933137755, 'vect__max_features': 29105, 'tfidf__use_idf': False, 'ove__sampling_strategy': 0.9193456147497211, 'clf__fit_prior': True, 'clf__alpha': 0.294978217207016}. Best is trial 106 with value: 0.8180799448764894.\u001b[0m\n",
            "\u001b[33m[W 2021-10-18 15:32:53,702]\u001b[0m Trial 194 failed, because the objective function returned nan.\u001b[0m\n",
            "\u001b[32m[I 2021-10-18 15:32:55,140]\u001b[0m Trial 195 finished with value: 0.8141453439841582 and parameters: {'vect__max_df': 0.702210431159856, 'vect__max_features': 39162, 'tfidf__use_idf': False, 'ove__sampling_strategy': 0.8852353486528673, 'clf__fit_prior': False, 'clf__alpha': 0.265670407860063}. Best is trial 106 with value: 0.8180799448764894.\u001b[0m\n",
            "\u001b[32m[I 2021-10-18 15:32:56,648]\u001b[0m Trial 196 finished with value: 0.8138809388040844 and parameters: {'vect__max_df': 0.6745755096927656, 'vect__max_features': 38114, 'tfidf__use_idf': False, 'ove__sampling_strategy': 0.9099879915472315, 'clf__fit_prior': False, 'clf__alpha': 0.25007691602867715}. Best is trial 106 with value: 0.8180799448764894.\u001b[0m\n",
            "\u001b[32m[I 2021-10-18 15:32:58,147]\u001b[0m Trial 197 finished with value: 0.8131714298312887 and parameters: {'vect__max_df': 0.6815513838968366, 'vect__max_features': 37487, 'tfidf__use_idf': False, 'ove__sampling_strategy': 0.9372488732060997, 'clf__fit_prior': False, 'clf__alpha': 0.3163318845353727}. Best is trial 106 with value: 0.8180799448764894.\u001b[0m\n",
            "\u001b[32m[I 2021-10-18 15:32:59,636]\u001b[0m Trial 198 finished with value: 0.8131497466980943 and parameters: {'vect__max_df': 0.7181196916947622, 'vect__max_features': 36263, 'tfidf__use_idf': False, 'ove__sampling_strategy': 0.8426306379047679, 'clf__fit_prior': False, 'clf__alpha': 0.285877212593076}. Best is trial 106 with value: 0.8180799448764894.\u001b[0m\n",
            "\u001b[32m[I 2021-10-18 15:33:01,125]\u001b[0m Trial 199 finished with value: 0.8111849700481463 and parameters: {'vect__max_df': 0.7717234723470962, 'vect__max_features': 27824, 'tfidf__use_idf': False, 'ove__sampling_strategy': 0.877655122096926, 'clf__fit_prior': False, 'clf__alpha': 0.347457335579173}. Best is trial 106 with value: 0.8180799448764894.\u001b[0m\n"
          ]
        }
      ]
    },
    {
      "cell_type": "code",
      "metadata": {
        "id": "dw7azCWIEsAc",
        "colab": {
          "base_uri": "https://localhost:8080/"
        },
        "outputId": "e7cb08e6-29b0-49bf-cd0a-94320ebfdfe9"
      },
      "source": [
        "# Print the result\n",
        "best_params = study.best_params\n",
        "best_score = study.best_value\n",
        "\n",
        "print(f'Best score: {best_score}\\n')\n",
        "print(f'Optimized parameters: {best_params}\\n')"
      ],
      "execution_count": null,
      "outputs": [
        {
          "output_type": "stream",
          "name": "stdout",
          "text": [
            "Best score: 0.8180799448764894\n",
            "\n",
            "Optimized parameters: {'vect__max_df': 0.8413312273118781, 'vect__max_features': 37950, 'tfidf__use_idf': False, 'ove__sampling_strategy': 0.9107425489776375, 'clf__fit_prior': False, 'clf__alpha': 0.3336804257269591}\n",
            "\n"
          ]
        }
      ]
    },
    {
      "cell_type": "code",
      "metadata": {
        "id": "NOWK815bEz15",
        "colab": {
          "base_uri": "https://localhost:8080/"
        },
        "outputId": "56a31022-de56-46a0-ded9-a9d7b29a5bbe"
      },
      "source": [
        "# Set the best parameters to the model \n",
        "text_clf.set_params(**study.best_params)"
      ],
      "execution_count": null,
      "outputs": [
        {
          "output_type": "execute_result",
          "data": {
            "text/plain": [
              "Pipeline(steps=[('vect',\n",
              "                 CountVectorizer(max_df=0.8413312273118781, max_features=37950,\n",
              "                                 ngram_range=(1, 2))),\n",
              "                ('tfidf', TfidfTransformer(use_idf=False)),\n",
              "                ('ove',\n",
              "                 RandomOverSampler(random_state=42,\n",
              "                                   sampling_strategy=0.9107425489776375)),\n",
              "                ('clf',\n",
              "                 BernoulliNB(alpha=0.3336804257269591, binarize=None,\n",
              "                             fit_prior=False))])"
            ]
          },
          "metadata": {},
          "execution_count": 87
        }
      ]
    },
    {
      "cell_type": "code",
      "metadata": {
        "id": "_CdPPJvKE70e",
        "colab": {
          "base_uri": "https://localhost:8080/"
        },
        "outputId": "37d2a0ab-2f7f-4818-8ae6-cf56ed2bb789"
      },
      "source": [
        "# Fit on train data\n",
        "text_clf.fit(X_train, y_train)"
      ],
      "execution_count": null,
      "outputs": [
        {
          "output_type": "execute_result",
          "data": {
            "text/plain": [
              "Pipeline(steps=[('vect',\n",
              "                 CountVectorizer(max_df=0.8413312273118781, max_features=37950,\n",
              "                                 ngram_range=(1, 2))),\n",
              "                ('tfidf', TfidfTransformer(use_idf=False)),\n",
              "                ('ove',\n",
              "                 RandomOverSampler(random_state=42,\n",
              "                                   sampling_strategy=0.9107425489776375)),\n",
              "                ('clf',\n",
              "                 BernoulliNB(alpha=0.3336804257269591, binarize=None,\n",
              "                             fit_prior=False))])"
            ]
          },
          "metadata": {},
          "execution_count": 88
        }
      ]
    },
    {
      "cell_type": "code",
      "metadata": {
        "id": "b8Ub6rDb_aaI"
      },
      "source": [
        "# Predict on test data\n",
        "y_pred_test = text_clf.predict(X_test)"
      ],
      "execution_count": null,
      "outputs": []
    },
    {
      "cell_type": "code",
      "metadata": {
        "id": "urW4tYFKFHjh",
        "colab": {
          "base_uri": "https://localhost:8080/"
        },
        "outputId": "ae0dfd8c-b7a6-47c1-8668-d381a0735f55"
      },
      "source": [
        "# Print F1 score\n",
        "print('F1 score(test set):', f1_score(y_test, y_pred_test, average = 'macro'))"
      ],
      "execution_count": null,
      "outputs": [
        {
          "output_type": "stream",
          "name": "stdout",
          "text": [
            "F1 score(test set): 0.7448979591836735\n"
          ]
        }
      ]
    },
    {
      "cell_type": "code",
      "metadata": {
        "id": "X2xnBz4lFQ2C",
        "colab": {
          "base_uri": "https://localhost:8080/"
        },
        "outputId": "82a51ec8-9b17-42ef-fad3-6d8bda9876d6"
      },
      "source": [
        "print(classification_report(y_test, y_pred_test))"
      ],
      "execution_count": null,
      "outputs": [
        {
          "output_type": "stream",
          "name": "stdout",
          "text": [
            "              precision    recall  f1-score   support\n",
            "\n",
            "           0       0.67      0.43      0.52        51\n",
            "           1       0.95      0.98      0.97       579\n",
            "\n",
            "    accuracy                           0.94       630\n",
            "   macro avg       0.81      0.71      0.74       630\n",
            "weighted avg       0.93      0.94      0.93       630\n",
            "\n"
          ]
        }
      ]
    },
    {
      "cell_type": "markdown",
      "metadata": {
        "id": "PGH35YF4T97Q"
      },
      "source": [
        "The macro-averaged F1 score we get is ~74%."
      ]
    },
    {
      "cell_type": "markdown",
      "metadata": {
        "id": "LmhylRXwDZ8b"
      },
      "source": [
        "**Random Undersampling (floating point value)**"
      ]
    },
    {
      "cell_type": "code",
      "metadata": {
        "id": "RxE0YougJICC"
      },
      "source": [
        "text_clf = Pipeline([('vect', CountVectorizer(ngram_range = (1, 2))),\n",
        "                     ('tfidf', TfidfTransformer()),\n",
        "                     ('und', RandomUnderSampler(random_state = 42)),\n",
        "                     ('clf', BernoulliNB(binarize = None))])"
      ],
      "execution_count": null,
      "outputs": []
    },
    {
      "cell_type": "markdown",
      "metadata": {
        "id": "bYVSVep5wDY6"
      },
      "source": [
        "We can also set the sampling_strategy argument to a floating point value which will be a percentage relative to the minority class, specifically the number of examples in the minority class divided by the number of examples in the majority class. For example, if we set sampling_strategy to 0.5 in an imbalanced data dataset with 1,000 examples in the majority class and 100 examples in the minority class, then there would be 200 examples for the majority class in the transformed dataset (or 100/200 = 0.5)."
      ]
    },
    {
      "cell_type": "code",
      "metadata": {
        "id": "kJ5YgeiYJujB"
      },
      "source": [
        "def objective(trial):\n",
        "\n",
        "  params = {\n",
        "    'vect__max_df': trial.suggest_uniform('vect__max_df', 0.0, 1.0),\n",
        "    'vect__max_features' : trial.suggest_int('vect__max_features', 0, 50000),\n",
        "    'tfidf__use_idf': trial.suggest_categorical('tfidf__use_idf', [True, False]),\n",
        "    'und__sampling_strategy': trial.suggest_uniform('und__sampling_strategy', 0.0, 1.0),  \n",
        "    'und__replacement': trial.suggest_categorical('und__replacement', [True, False]),\n",
        "    'clf__fit_prior': trial.suggest_categorical('clf__fit_prior', [True, False]),\n",
        "    'clf__alpha': trial.suggest_uniform('clf__alpha', 1e-25, 1)\n",
        "  }\n",
        "\n",
        "  text_clf.set_params(**params)\n",
        "\n",
        "  scores = (cross_val_score(text_clf, X, y, cv = 10, scoring = 'f1_macro'))\n",
        "  \n",
        "  return scores.mean()  "
      ],
      "execution_count": null,
      "outputs": []
    },
    {
      "cell_type": "code",
      "metadata": {
        "id": "_POHg8WiJuF4",
        "colab": {
          "base_uri": "https://localhost:8080/"
        },
        "outputId": "8f5c6771-2905-4dce-f154-65657c0cb0fd"
      },
      "source": [
        "# Create Study object\n",
        "study = optuna.create_study(direction = 'maximize')\n",
        "\n",
        "# Optimize the study, use more trials to obtain better result, use less trials to be more cost-efficient\n",
        "study.optimize(objective, n_trials = 200)"
      ],
      "execution_count": null,
      "outputs": [
        {
          "output_type": "stream",
          "name": "stderr",
          "text": [
            "\u001b[32m[I 2021-10-18 15:33:01,421]\u001b[0m A new study created in memory with name: no-name-b4102735-205b-4bdd-b2e8-df594ef05165\u001b[0m\n",
            "\u001b[32m[I 2021-10-18 15:33:02,935]\u001b[0m Trial 0 finished with value: 0.535938728905743 and parameters: {'vect__max_df': 0.7249704977342222, 'vect__max_features': 10419, 'tfidf__use_idf': True, 'und__sampling_strategy': 0.521566177266591, 'und__replacement': False, 'clf__fit_prior': False, 'clf__alpha': 0.22232170956949737}. Best is trial 0 with value: 0.535938728905743.\u001b[0m\n",
            "\u001b[32m[I 2021-10-18 15:33:04,414]\u001b[0m Trial 1 finished with value: 0.47873542772699906 and parameters: {'vect__max_df': 0.38365267607471154, 'vect__max_features': 11003, 'tfidf__use_idf': True, 'und__sampling_strategy': 0.22024728772254898, 'und__replacement': False, 'clf__fit_prior': False, 'clf__alpha': 0.6878135480772118}. Best is trial 0 with value: 0.535938728905743.\u001b[0m\n",
            "\u001b[32m[I 2021-10-18 15:33:05,812]\u001b[0m Trial 2 finished with value: 0.47873542772699906 and parameters: {'vect__max_df': 0.23932238095618052, 'vect__max_features': 29583, 'tfidf__use_idf': False, 'und__sampling_strategy': 0.6678465623471572, 'und__replacement': False, 'clf__fit_prior': True, 'clf__alpha': 0.5013952912075098}. Best is trial 0 with value: 0.535938728905743.\u001b[0m\n",
            "\u001b[32m[I 2021-10-18 15:33:07,242]\u001b[0m Trial 3 finished with value: 0.47873542772699906 and parameters: {'vect__max_df': 0.9888122519236601, 'vect__max_features': 30423, 'tfidf__use_idf': False, 'und__sampling_strategy': 0.9017418114695132, 'und__replacement': False, 'clf__fit_prior': True, 'clf__alpha': 0.4773519986146333}. Best is trial 0 with value: 0.535938728905743.\u001b[0m\n",
            "\u001b[32m[I 2021-10-18 15:33:08,645]\u001b[0m Trial 4 finished with value: 0.574749162961347 and parameters: {'vect__max_df': 0.6912537323186488, 'vect__max_features': 2130, 'tfidf__use_idf': True, 'und__sampling_strategy': 0.7164444096351417, 'und__replacement': True, 'clf__fit_prior': False, 'clf__alpha': 0.8768428914424496}. Best is trial 4 with value: 0.574749162961347.\u001b[0m\n",
            "\u001b[32m[I 2021-10-18 15:33:10,030]\u001b[0m Trial 5 finished with value: 0.632881228075574 and parameters: {'vect__max_df': 0.06353948114512964, 'vect__max_features': 777, 'tfidf__use_idf': True, 'und__sampling_strategy': 0.3318230277334817, 'und__replacement': False, 'clf__fit_prior': False, 'clf__alpha': 0.299035840501233}. Best is trial 5 with value: 0.632881228075574.\u001b[0m\n",
            "\u001b[32m[I 2021-10-18 15:33:11,493]\u001b[0m Trial 6 finished with value: 0.47873542772699906 and parameters: {'vect__max_df': 0.34885716217238705, 'vect__max_features': 20446, 'tfidf__use_idf': True, 'und__sampling_strategy': 0.3124627452782228, 'und__replacement': True, 'clf__fit_prior': True, 'clf__alpha': 0.7882278359001451}. Best is trial 5 with value: 0.632881228075574.\u001b[0m\n",
            "\u001b[32m[I 2021-10-18 15:33:12,972]\u001b[0m Trial 7 finished with value: 0.7457771051406226 and parameters: {'vect__max_df': 0.539968967801704, 'vect__max_features': 16839, 'tfidf__use_idf': True, 'und__sampling_strategy': 0.7386126679513826, 'und__replacement': True, 'clf__fit_prior': True, 'clf__alpha': 0.046792371273489675}. Best is trial 7 with value: 0.7457771051406226.\u001b[0m\n",
            "\u001b[32m[I 2021-10-18 15:33:14,406]\u001b[0m Trial 8 finished with value: 0.5904311992939879 and parameters: {'vect__max_df': 0.5129693872329412, 'vect__max_features': 1657, 'tfidf__use_idf': True, 'und__sampling_strategy': 0.15294908043180222, 'und__replacement': False, 'clf__fit_prior': True, 'clf__alpha': 0.44158407187938564}. Best is trial 7 with value: 0.7457771051406226.\u001b[0m\n",
            "\u001b[32m[I 2021-10-18 15:33:15,901]\u001b[0m Trial 9 finished with value: 0.47873542772699906 and parameters: {'vect__max_df': 0.40401410084371203, 'vect__max_features': 48467, 'tfidf__use_idf': True, 'und__sampling_strategy': 0.5425674213103808, 'und__replacement': False, 'clf__fit_prior': True, 'clf__alpha': 0.6459374318241928}. Best is trial 7 with value: 0.7457771051406226.\u001b[0m\n",
            "\u001b[32m[I 2021-10-18 15:33:17,342]\u001b[0m Trial 10 finished with value: 0.7263924886514899 and parameters: {'vect__max_df': 0.6723185561841369, 'vect__max_features': 40190, 'tfidf__use_idf': False, 'und__sampling_strategy': 0.958991204253455, 'und__replacement': True, 'clf__fit_prior': True, 'clf__alpha': 0.034930631515113886}. Best is trial 7 with value: 0.7457771051406226.\u001b[0m\n",
            "\u001b[32m[I 2021-10-18 15:33:18,770]\u001b[0m Trial 11 finished with value: 0.6747284494498895 and parameters: {'vect__max_df': 0.6683413080109131, 'vect__max_features': 42866, 'tfidf__use_idf': False, 'und__sampling_strategy': 0.9926583061206982, 'und__replacement': True, 'clf__fit_prior': True, 'clf__alpha': 0.005475314474860583}. Best is trial 7 with value: 0.7457771051406226.\u001b[0m\n",
            "\u001b[32m[I 2021-10-18 15:33:20,201]\u001b[0m Trial 12 finished with value: 0.6767702285685255 and parameters: {'vect__max_df': 0.8926641746994801, 'vect__max_features': 37867, 'tfidf__use_idf': False, 'und__sampling_strategy': 0.8056308913938199, 'und__replacement': True, 'clf__fit_prior': True, 'clf__alpha': 0.005052511625829665}. Best is trial 7 with value: 0.7457771051406226.\u001b[0m\n",
            "\u001b[32m[I 2021-10-18 15:33:21,684]\u001b[0m Trial 13 finished with value: 0.5665240803211977 and parameters: {'vect__max_df': 0.565140541907523, 'vect__max_features': 21530, 'tfidf__use_idf': False, 'und__sampling_strategy': 0.8321143255283305, 'und__replacement': True, 'clf__fit_prior': True, 'clf__alpha': 0.17099079010205773}. Best is trial 7 with value: 0.7457771051406226.\u001b[0m\n",
            "\u001b[32m[I 2021-10-18 15:33:23,137]\u001b[0m Trial 14 finished with value: 0.6360977707968481 and parameters: {'vect__max_df': 0.7759199450567225, 'vect__max_features': 13690, 'tfidf__use_idf': False, 'und__sampling_strategy': 0.6775359265579858, 'und__replacement': True, 'clf__fit_prior': True, 'clf__alpha': 0.13480971878490466}. Best is trial 7 with value: 0.7457771051406226.\u001b[0m\n",
            "\u001b[32m[I 2021-10-18 15:33:24,523]\u001b[0m Trial 15 finished with value: 0.7635128515506485 and parameters: {'vect__max_df': 0.6232656415077782, 'vect__max_features': 35796, 'tfidf__use_idf': False, 'und__sampling_strategy': 0.9909687843968602, 'und__replacement': True, 'clf__fit_prior': True, 'clf__alpha': 0.32910106634902814}. Best is trial 15 with value: 0.7635128515506485.\u001b[0m\n",
            "\u001b[32m[I 2021-10-18 15:33:25,982]\u001b[0m Trial 16 finished with value: 0.47873542772699906 and parameters: {'vect__max_df': 0.5559857640098678, 'vect__max_features': 32188, 'tfidf__use_idf': True, 'und__sampling_strategy': 0.7826378614105843, 'und__replacement': True, 'clf__fit_prior': True, 'clf__alpha': 0.3282099404439967}. Best is trial 15 with value: 0.7635128515506485.\u001b[0m\n",
            "\u001b[32m[I 2021-10-18 15:33:27,407]\u001b[0m Trial 17 finished with value: 0.5004039682921068 and parameters: {'vect__max_df': 0.2778455827144407, 'vect__max_features': 17715, 'tfidf__use_idf': False, 'und__sampling_strategy': 0.900451697541355, 'und__replacement': True, 'clf__fit_prior': True, 'clf__alpha': 0.344233238065151}. Best is trial 15 with value: 0.7635128515506485.\u001b[0m\n",
            "\u001b[32m[I 2021-10-18 15:33:28,859]\u001b[0m Trial 18 finished with value: 0.5269250691294876 and parameters: {'vect__max_df': 0.0038525563781923178, 'vect__max_features': 28148, 'tfidf__use_idf': True, 'und__sampling_strategy': 0.5702551680893759, 'und__replacement': True, 'clf__fit_prior': False, 'clf__alpha': 0.14984622117640842}. Best is trial 15 with value: 0.7635128515506485.\u001b[0m\n",
            "\u001b[32m[I 2021-10-18 15:33:30,327]\u001b[0m Trial 19 finished with value: 0.47873542772699906 and parameters: {'vect__max_df': 0.7929991634081512, 'vect__max_features': 35381, 'tfidf__use_idf': False, 'und__sampling_strategy': 0.017640303406944113, 'und__replacement': True, 'clf__fit_prior': True, 'clf__alpha': 0.9880178211566624}. Best is trial 15 with value: 0.7635128515506485.\u001b[0m\n",
            "\u001b[32m[I 2021-10-18 15:33:31,786]\u001b[0m Trial 20 finished with value: 0.47873542772699906 and parameters: {'vect__max_df': 0.17901939471938705, 'vect__max_features': 48848, 'tfidf__use_idf': True, 'und__sampling_strategy': 0.4438676133829975, 'und__replacement': True, 'clf__fit_prior': True, 'clf__alpha': 0.5924701552974068}. Best is trial 15 with value: 0.7635128515506485.\u001b[0m\n",
            "\u001b[32m[I 2021-10-18 15:33:33,222]\u001b[0m Trial 21 finished with value: 0.740703052151823 and parameters: {'vect__max_df': 0.61817830355906, 'vect__max_features': 41449, 'tfidf__use_idf': False, 'und__sampling_strategy': 0.9983621738549687, 'und__replacement': True, 'clf__fit_prior': True, 'clf__alpha': 0.07156263450771985}. Best is trial 15 with value: 0.7635128515506485.\u001b[0m\n",
            "\u001b[32m[I 2021-10-18 15:33:34,636]\u001b[0m Trial 22 finished with value: 0.7497352009984593 and parameters: {'vect__max_df': 0.6100566243762784, 'vect__max_features': 44294, 'tfidf__use_idf': False, 'und__sampling_strategy': 0.8973443911434028, 'und__replacement': True, 'clf__fit_prior': True, 'clf__alpha': 0.1155776708314909}. Best is trial 15 with value: 0.7635128515506485.\u001b[0m\n",
            "\u001b[32m[I 2021-10-18 15:33:36,016]\u001b[0m Trial 23 finished with value: 0.4900845870078575 and parameters: {'vect__max_df': 0.48809673606229076, 'vect__max_features': 45561, 'tfidf__use_idf': False, 'und__sampling_strategy': 0.8678673123989278, 'und__replacement': True, 'clf__fit_prior': True, 'clf__alpha': 0.2677955252401253}. Best is trial 15 with value: 0.7635128515506485.\u001b[0m\n",
            "\u001b[32m[I 2021-10-18 15:33:37,444]\u001b[0m Trial 24 finished with value: 0.6513738062441383 and parameters: {'vect__max_df': 0.4739318249041579, 'vect__max_features': 34924, 'tfidf__use_idf': False, 'und__sampling_strategy': 0.7392525610647065, 'und__replacement': True, 'clf__fit_prior': True, 'clf__alpha': 0.10348560395263169}. Best is trial 15 with value: 0.7635128515506485.\u001b[0m\n",
            "\u001b[32m[I 2021-10-18 15:33:38,839]\u001b[0m Trial 25 finished with value: 0.47873542772699906 and parameters: {'vect__max_df': 0.8435989848298402, 'vect__max_features': 24706, 'tfidf__use_idf': False, 'und__sampling_strategy': 0.6260000150501476, 'und__replacement': True, 'clf__fit_prior': True, 'clf__alpha': 0.21194013460924516}. Best is trial 15 with value: 0.7635128515506485.\u001b[0m\n",
            "\u001b[32m[I 2021-10-18 15:33:40,243]\u001b[0m Trial 26 finished with value: 0.49401010158960335 and parameters: {'vect__max_df': 0.6237485683275382, 'vect__max_features': 25862, 'tfidf__use_idf': False, 'und__sampling_strategy': 0.937014795293086, 'und__replacement': True, 'clf__fit_prior': False, 'clf__alpha': 0.4028721695898658}. Best is trial 15 with value: 0.7635128515506485.\u001b[0m\n",
            "\u001b[32m[I 2021-10-18 15:33:41,648]\u001b[0m Trial 27 finished with value: 0.47873542772699906 and parameters: {'vect__max_df': 0.4280686666223037, 'vect__max_features': 45278, 'tfidf__use_idf': False, 'und__sampling_strategy': 0.7803181872462258, 'und__replacement': True, 'clf__fit_prior': True, 'clf__alpha': 0.23498897872299096}. Best is trial 15 with value: 0.7635128515506485.\u001b[0m\n",
            "\u001b[32m[I 2021-10-18 15:33:43,121]\u001b[0m Trial 28 finished with value: 0.7505389685966115 and parameters: {'vect__max_df': 0.5847624301372618, 'vect__max_features': 37682, 'tfidf__use_idf': True, 'und__sampling_strategy': 0.8760865415275095, 'und__replacement': True, 'clf__fit_prior': True, 'clf__alpha': 0.1005909246326658}. Best is trial 15 with value: 0.7635128515506485.\u001b[0m\n",
            "\u001b[32m[I 2021-10-18 15:33:44,599]\u001b[0m Trial 29 finished with value: 0.47873542772699906 and parameters: {'vect__max_df': 0.7533829385207338, 'vect__max_features': 36212, 'tfidf__use_idf': True, 'und__sampling_strategy': 0.8767868057459233, 'und__replacement': True, 'clf__fit_prior': False, 'clf__alpha': 0.38171400590069493}. Best is trial 15 with value: 0.7635128515506485.\u001b[0m\n",
            "\u001b[32m[I 2021-10-18 15:33:45,993]\u001b[0m Trial 30 finished with value: 0.47873542772699906 and parameters: {'vect__max_df': 0.6120980412557011, 'vect__max_features': 39733, 'tfidf__use_idf': False, 'und__sampling_strategy': 0.47490060329757056, 'und__replacement': True, 'clf__fit_prior': True, 'clf__alpha': 0.21910995690265228}. Best is trial 15 with value: 0.7635128515506485.\u001b[0m\n",
            "\u001b[32m[I 2021-10-18 15:33:47,424]\u001b[0m Trial 31 finished with value: 0.7287713822931035 and parameters: {'vect__max_df': 0.5388515169192996, 'vect__max_features': 7252, 'tfidf__use_idf': True, 'und__sampling_strategy': 0.8404441399391519, 'und__replacement': True, 'clf__fit_prior': True, 'clf__alpha': 0.1287387857980219}. Best is trial 15 with value: 0.7635128515506485.\u001b[0m\n",
            "\u001b[32m[I 2021-10-18 15:33:48,907]\u001b[0m Trial 32 finished with value: 0.7462663003738751 and parameters: {'vect__max_df': 0.7163459704426318, 'vect__max_features': 14555, 'tfidf__use_idf': True, 'und__sampling_strategy': 0.9504191796847795, 'und__replacement': True, 'clf__fit_prior': True, 'clf__alpha': 0.10000978582439488}. Best is trial 15 with value: 0.7635128515506485.\u001b[0m\n",
            "\u001b[32m[I 2021-10-18 15:33:50,357]\u001b[0m Trial 33 finished with value: 0.6857327849947585 and parameters: {'vect__max_df': 0.7123524507177806, 'vect__max_features': 33176, 'tfidf__use_idf': True, 'und__sampling_strategy': 0.9152197076119011, 'und__replacement': True, 'clf__fit_prior': True, 'clf__alpha': 0.1940359742406372}. Best is trial 15 with value: 0.7635128515506485.\u001b[0m\n",
            "\u001b[32m[I 2021-10-18 15:33:51,812]\u001b[0m Trial 34 finished with value: 0.7721266505026358 and parameters: {'vect__max_df': 0.8948295462701367, 'vect__max_features': 45978, 'tfidf__use_idf': True, 'und__sampling_strategy': 0.9998370945709049, 'und__replacement': False, 'clf__fit_prior': True, 'clf__alpha': 0.08638358717898527}. Best is trial 34 with value: 0.7721266505026358.\u001b[0m\n",
            "\u001b[32m[I 2021-10-18 15:33:53,268]\u001b[0m Trial 35 finished with value: 0.7412043147444922 and parameters: {'vect__max_df': 0.9276416820926467, 'vect__max_features': 44344, 'tfidf__use_idf': True, 'und__sampling_strategy': 0.997383233706238, 'und__replacement': False, 'clf__fit_prior': False, 'clf__alpha': 0.49788313822099645}. Best is trial 34 with value: 0.7721266505026358.\u001b[0m\n",
            "\u001b[32m[I 2021-10-18 15:33:54,719]\u001b[0m Trial 36 finished with value: 0.5105937790344076 and parameters: {'vect__max_df': 0.8239305596773021, 'vect__max_features': 46441, 'tfidf__use_idf': True, 'und__sampling_strategy': 0.8714905662154872, 'und__replacement': False, 'clf__fit_prior': True, 'clf__alpha': 0.25266810388550254}. Best is trial 34 with value: 0.7721266505026358.\u001b[0m\n",
            "\u001b[32m[I 2021-10-18 15:33:56,168]\u001b[0m Trial 37 finished with value: 0.5575602788872367 and parameters: {'vect__max_df': 0.9871190764788673, 'vect__max_features': 49713, 'tfidf__use_idf': True, 'und__sampling_strategy': 0.9376562423012288, 'und__replacement': False, 'clf__fit_prior': True, 'clf__alpha': 0.2974766485384998}. Best is trial 34 with value: 0.7721266505026358.\u001b[0m\n",
            "\u001b[32m[I 2021-10-18 15:33:57,549]\u001b[0m Trial 38 finished with value: 0.47873542772699906 and parameters: {'vect__max_df': 0.3357072315547076, 'vect__max_features': 38933, 'tfidf__use_idf': False, 'und__sampling_strategy': 0.6383926755714122, 'und__replacement': False, 'clf__fit_prior': False, 'clf__alpha': 0.5709717427232314}. Best is trial 34 with value: 0.7721266505026358.\u001b[0m\n",
            "\u001b[32m[I 2021-10-18 15:33:59,023]\u001b[0m Trial 39 finished with value: 0.7678596494914957 and parameters: {'vect__max_df': 0.8801045896576178, 'vect__max_features': 43082, 'tfidf__use_idf': True, 'und__sampling_strategy': 0.8109077733505956, 'und__replacement': False, 'clf__fit_prior': True, 'clf__alpha': 0.08028538793975913}. Best is trial 34 with value: 0.7721266505026358.\u001b[0m\n",
            "\u001b[32m[I 2021-10-18 15:34:00,471]\u001b[0m Trial 40 finished with value: 0.7436244758244417 and parameters: {'vect__max_df': 0.8608334748319584, 'vect__max_features': 41257, 'tfidf__use_idf': True, 'und__sampling_strategy': 0.7012090892328277, 'und__replacement': False, 'clf__fit_prior': True, 'clf__alpha': 0.0691935065151477}. Best is trial 34 with value: 0.7721266505026358.\u001b[0m\n",
            "\u001b[32m[I 2021-10-18 15:34:01,982]\u001b[0m Trial 41 finished with value: 0.5379237395867159 and parameters: {'vect__max_df': 0.9560242572186458, 'vect__max_features': 43130, 'tfidf__use_idf': True, 'und__sampling_strategy': 0.8220772654646857, 'und__replacement': False, 'clf__fit_prior': True, 'clf__alpha': 0.18159645672567942}. Best is trial 34 with value: 0.7721266505026358.\u001b[0m\n",
            "\u001b[32m[I 2021-10-18 15:34:03,434]\u001b[0m Trial 42 finished with value: 0.7717931884142053 and parameters: {'vect__max_df': 0.8941600849061826, 'vect__max_features': 47278, 'tfidf__use_idf': True, 'und__sampling_strategy': 0.9065176728275158, 'und__replacement': False, 'clf__fit_prior': True, 'clf__alpha': 0.054477043971409254}. Best is trial 34 with value: 0.7721266505026358.\u001b[0m\n",
            "\u001b[32m[I 2021-10-18 15:34:04,887]\u001b[0m Trial 43 finished with value: 0.7602621478250238 and parameters: {'vect__max_df': 0.905446089405739, 'vect__max_features': 37909, 'tfidf__use_idf': True, 'und__sampling_strategy': 0.7706616686273853, 'und__replacement': False, 'clf__fit_prior': True, 'clf__alpha': 0.051934351882707355}. Best is trial 34 with value: 0.7721266505026358.\u001b[0m\n",
            "\u001b[32m[I 2021-10-18 15:34:06,329]\u001b[0m Trial 44 finished with value: 0.7529216607517826 and parameters: {'vect__max_df': 0.9031828624562498, 'vect__max_features': 47613, 'tfidf__use_idf': True, 'und__sampling_strategy': 0.7397969102972541, 'und__replacement': False, 'clf__fit_prior': True, 'clf__alpha': 0.03752278467199712}. Best is trial 34 with value: 0.7721266505026358.\u001b[0m\n",
            "\u001b[32m[I 2021-10-18 15:34:07,791]\u001b[0m Trial 45 finished with value: 0.6540388243803807 and parameters: {'vect__max_df': 0.9950650918285153, 'vect__max_features': 30161, 'tfidf__use_idf': True, 'und__sampling_strategy': 0.38965846553550476, 'und__replacement': False, 'clf__fit_prior': True, 'clf__alpha': 0.06009415382458688}. Best is trial 34 with value: 0.7721266505026358.\u001b[0m\n",
            "\u001b[32m[I 2021-10-18 15:34:09,255]\u001b[0m Trial 46 finished with value: 0.6918854332349211 and parameters: {'vect__max_df': 0.8767964092702083, 'vect__max_features': 41664, 'tfidf__use_idf': True, 'und__sampling_strategy': 0.9409002968520664, 'und__replacement': False, 'clf__fit_prior': True, 'clf__alpha': 0.012992437821869214}. Best is trial 34 with value: 0.7721266505026358.\u001b[0m\n",
            "\u001b[32m[I 2021-10-18 15:34:10,698]\u001b[0m Trial 47 finished with value: 0.7878224650959522 and parameters: {'vect__max_df': 0.8092059517600068, 'vect__max_features': 33076, 'tfidf__use_idf': True, 'und__sampling_strategy': 0.9693671197068311, 'und__replacement': False, 'clf__fit_prior': True, 'clf__alpha': 0.1620991961878946}. Best is trial 47 with value: 0.7878224650959522.\u001b[0m\n",
            "\u001b[32m[I 2021-10-18 15:34:12,136]\u001b[0m Trial 48 finished with value: 0.7064013720724333 and parameters: {'vect__max_df': 0.7978897982086829, 'vect__max_features': 32240, 'tfidf__use_idf': True, 'und__sampling_strategy': 0.9728322407073722, 'und__replacement': False, 'clf__fit_prior': True, 'clf__alpha': 0.284060783200476}. Best is trial 47 with value: 0.7878224650959522.\u001b[0m\n",
            "\u001b[32m[I 2021-10-18 15:34:13,619]\u001b[0m Trial 49 finished with value: 0.47873542772699906 and parameters: {'vect__max_df': 0.9423483656727338, 'vect__max_features': 46771, 'tfidf__use_idf': True, 'und__sampling_strategy': 0.22615206309182323, 'und__replacement': False, 'clf__fit_prior': False, 'clf__alpha': 0.4449784592121712}. Best is trial 47 with value: 0.7878224650959522.\u001b[0m\n",
            "\u001b[32m[I 2021-10-18 15:34:15,080]\u001b[0m Trial 50 finished with value: 0.6461513538160423 and parameters: {'vect__max_df': 0.7511395257914315, 'vect__max_features': 28514, 'tfidf__use_idf': True, 'und__sampling_strategy': 0.8400285517011699, 'und__replacement': False, 'clf__fit_prior': True, 'clf__alpha': 0.15554172401689265}. Best is trial 47 with value: 0.7878224650959522.\u001b[0m\n",
            "\u001b[32m[I 2021-10-18 15:34:16,530]\u001b[0m Trial 51 finished with value: 0.7637512641662657 and parameters: {'vect__max_df': 0.9032140797127253, 'vect__max_features': 36746, 'tfidf__use_idf': True, 'und__sampling_strategy': 0.7893912298826449, 'und__replacement': False, 'clf__fit_prior': True, 'clf__alpha': 0.056314207048011225}. Best is trial 47 with value: 0.7878224650959522.\u001b[0m\n",
            "\u001b[32m[I 2021-10-18 15:34:18,021]\u001b[0m Trial 52 finished with value: 0.6557181192504197 and parameters: {'vect__max_df': 0.849684592462208, 'vect__max_features': 36208, 'tfidf__use_idf': True, 'und__sampling_strategy': 0.9180166145413959, 'und__replacement': False, 'clf__fit_prior': True, 'clf__alpha': 0.005415120516065575}. Best is trial 47 with value: 0.7878224650959522.\u001b[0m\n",
            "\u001b[32m[I 2021-10-18 15:34:19,472]\u001b[0m Trial 53 finished with value: 0.777467127054212 and parameters: {'vect__max_df': 0.8090901061288563, 'vect__max_features': 33881, 'tfidf__use_idf': True, 'und__sampling_strategy': 0.9627042638403199, 'und__replacement': False, 'clf__fit_prior': True, 'clf__alpha': 0.16599167369598727}. Best is trial 47 with value: 0.7878224650959522.\u001b[0m\n",
            "\u001b[32m[I 2021-10-18 15:34:20,936]\u001b[0m Trial 54 finished with value: 0.5694363576049949 and parameters: {'vect__max_df': 0.813340923577039, 'vect__max_features': 33544, 'tfidf__use_idf': True, 'und__sampling_strategy': 0.7995684720839377, 'und__replacement': False, 'clf__fit_prior': True, 'clf__alpha': 0.16113044961799716}. Best is trial 47 with value: 0.7878224650959522.\u001b[0m\n",
            "\u001b[32m[I 2021-10-18 15:34:22,390]\u001b[0m Trial 55 finished with value: 0.7775189481059035 and parameters: {'vect__max_df': 0.9613231904624917, 'vect__max_features': 41906, 'tfidf__use_idf': True, 'und__sampling_strategy': 0.9543361073181893, 'und__replacement': False, 'clf__fit_prior': True, 'clf__alpha': 0.08332149218637906}. Best is trial 47 with value: 0.7878224650959522.\u001b[0m\n",
            "\u001b[32m[I 2021-10-18 15:34:23,844]\u001b[0m Trial 56 finished with value: 0.774586815391007 and parameters: {'vect__max_df': 0.977778622389311, 'vect__max_features': 43597, 'tfidf__use_idf': True, 'und__sampling_strategy': 0.9816950414546116, 'und__replacement': False, 'clf__fit_prior': True, 'clf__alpha': 0.08412318271752091}. Best is trial 47 with value: 0.7878224650959522.\u001b[0m\n",
            "\u001b[32m[I 2021-10-18 15:34:25,289]\u001b[0m Trial 57 finished with value: 0.7859996906156023 and parameters: {'vect__max_df': 0.972378683267186, 'vect__max_features': 49403, 'tfidf__use_idf': True, 'und__sampling_strategy': 0.9686658729512108, 'und__replacement': False, 'clf__fit_prior': True, 'clf__alpha': 0.1363858081576143}. Best is trial 47 with value: 0.7878224650959522.\u001b[0m\n",
            "\u001b[32m[I 2021-10-18 15:34:26,731]\u001b[0m Trial 58 finished with value: 0.7855552843170471 and parameters: {'vect__max_df': 0.9626889346530353, 'vect__max_features': 40717, 'tfidf__use_idf': True, 'und__sampling_strategy': 0.9634499072510976, 'und__replacement': False, 'clf__fit_prior': True, 'clf__alpha': 0.13193614389364225}. Best is trial 47 with value: 0.7878224650959522.\u001b[0m\n",
            "\u001b[32m[I 2021-10-18 15:34:28,278]\u001b[0m Trial 59 finished with value: 0.7643336401651947 and parameters: {'vect__max_df': 0.9805221738283382, 'vect__max_features': 41385, 'tfidf__use_idf': True, 'und__sampling_strategy': 0.9694302004290408, 'und__replacement': False, 'clf__fit_prior': True, 'clf__alpha': 0.1934462245627861}. Best is trial 47 with value: 0.7878224650959522.\u001b[0m\n",
            "\u001b[32m[I 2021-10-18 15:34:29,772]\u001b[0m Trial 60 finished with value: 0.47873542772699906 and parameters: {'vect__max_df': 0.9499983084000101, 'vect__max_features': 39374, 'tfidf__use_idf': True, 'und__sampling_strategy': 0.9652723357905111, 'und__replacement': False, 'clf__fit_prior': True, 'clf__alpha': 0.7839565866734348}. Best is trial 47 with value: 0.7878224650959522.\u001b[0m\n",
            "\u001b[32m[I 2021-10-18 15:34:31,256]\u001b[0m Trial 61 finished with value: 0.7806181117380515 and parameters: {'vect__max_df': 0.9587883946471047, 'vect__max_features': 49978, 'tfidf__use_idf': True, 'und__sampling_strategy': 0.9991147325433273, 'und__replacement': False, 'clf__fit_prior': True, 'clf__alpha': 0.12928803318271495}. Best is trial 47 with value: 0.7878224650959522.\u001b[0m\n",
            "\u001b[32m[I 2021-10-18 15:34:32,717]\u001b[0m Trial 62 finished with value: 0.7641538360755081 and parameters: {'vect__max_df': 0.961418015357788, 'vect__max_features': 49039, 'tfidf__use_idf': True, 'und__sampling_strategy': 0.9401315662465005, 'und__replacement': False, 'clf__fit_prior': True, 'clf__alpha': 0.1495053878135588}. Best is trial 47 with value: 0.7878224650959522.\u001b[0m\n",
            "\u001b[32m[I 2021-10-18 15:34:34,181]\u001b[0m Trial 63 finished with value: 0.7115703956865913 and parameters: {'vect__max_df': 0.9424519125170923, 'vect__max_features': 49868, 'tfidf__use_idf': True, 'und__sampling_strategy': 0.8576075070858682, 'und__replacement': False, 'clf__fit_prior': True, 'clf__alpha': 0.12361757032410528}. Best is trial 47 with value: 0.7878224650959522.\u001b[0m\n",
            "\u001b[32m[I 2021-10-18 15:34:35,634]\u001b[0m Trial 64 finished with value: 0.5271232181053463 and parameters: {'vect__max_df': 0.9995419905839259, 'vect__max_features': 43707, 'tfidf__use_idf': True, 'und__sampling_strategy': 0.890801847823095, 'und__replacement': False, 'clf__fit_prior': True, 'clf__alpha': 0.24563165692891217}. Best is trial 47 with value: 0.7878224650959522.\u001b[0m\n",
            "\u001b[32m[I 2021-10-18 15:34:37,093]\u001b[0m Trial 65 finished with value: 0.7568333345001903 and parameters: {'vect__max_df': 0.9256106870402495, 'vect__max_features': 24625, 'tfidf__use_idf': True, 'und__sampling_strategy': 0.9729531203279235, 'und__replacement': False, 'clf__fit_prior': True, 'clf__alpha': 0.21069000816000688}. Best is trial 47 with value: 0.7878224650959522.\u001b[0m\n",
            "\u001b[32m[I 2021-10-18 15:34:38,544]\u001b[0m Trial 66 finished with value: 0.7570838499909159 and parameters: {'vect__max_df': 0.8298973005537493, 'vect__max_features': 47785, 'tfidf__use_idf': True, 'und__sampling_strategy': 0.9195050514183356, 'und__replacement': False, 'clf__fit_prior': True, 'clf__alpha': 0.13479820027103215}. Best is trial 47 with value: 0.7878224650959522.\u001b[0m\n",
            "\u001b[32m[I 2021-10-18 15:34:39,980]\u001b[0m Trial 67 finished with value: 0.769013978503389 and parameters: {'vect__max_df': 0.6646328552925138, 'vect__max_features': 34177, 'tfidf__use_idf': True, 'und__sampling_strategy': 0.9586881602972386, 'und__replacement': False, 'clf__fit_prior': False, 'clf__alpha': 0.17438895204183716}. Best is trial 47 with value: 0.7878224650959522.\u001b[0m\n",
            "\u001b[32m[I 2021-10-18 15:34:41,430]\u001b[0m Trial 68 finished with value: 0.7769220432638766 and parameters: {'vect__max_df': 0.7696834892219954, 'vect__max_features': 40432, 'tfidf__use_idf': True, 'und__sampling_strategy': 0.998843038181737, 'und__replacement': False, 'clf__fit_prior': True, 'clf__alpha': 0.11317770461614558}. Best is trial 47 with value: 0.7878224650959522.\u001b[0m\n",
            "\u001b[32m[I 2021-10-18 15:34:42,917]\u001b[0m Trial 69 finished with value: 0.7768590759415205 and parameters: {'vect__max_df': 0.7628133151004061, 'vect__max_features': 40857, 'tfidf__use_idf': True, 'und__sampling_strategy': 0.9118263439233578, 'und__replacement': False, 'clf__fit_prior': True, 'clf__alpha': 0.11516190467895303}. Best is trial 47 with value: 0.7878224650959522.\u001b[0m\n",
            "\u001b[33m[W 2021-10-18 15:34:44,238]\u001b[0m Trial 70 failed, because the objective function returned nan.\u001b[0m\n",
            "\u001b[32m[I 2021-10-18 15:34:45,701]\u001b[0m Trial 71 finished with value: 0.47873542772699906 and parameters: {'vect__max_df': 0.7837078313587846, 'vect__max_features': 26920, 'tfidf__use_idf': True, 'und__sampling_strategy': 0.8542720431743793, 'und__replacement': False, 'clf__fit_prior': True, 'clf__alpha': 0.259558380548327}. Best is trial 47 with value: 0.7878224650959522.\u001b[0m\n",
            "\u001b[32m[I 2021-10-18 15:34:47,202]\u001b[0m Trial 72 finished with value: 0.7727525327787911 and parameters: {'vect__max_df': 0.7663344716345585, 'vect__max_features': 31806, 'tfidf__use_idf': True, 'und__sampling_strategy': 0.923500414266923, 'und__replacement': False, 'clf__fit_prior': True, 'clf__alpha': 0.12495557697168548}. Best is trial 47 with value: 0.7878224650959522.\u001b[0m\n",
            "\u001b[32m[I 2021-10-18 15:34:48,701]\u001b[0m Trial 73 finished with value: 0.6351713017690952 and parameters: {'vect__max_df': 0.6704913051755379, 'vect__max_features': 40324, 'tfidf__use_idf': True, 'und__sampling_strategy': 0.9030202081003535, 'und__replacement': False, 'clf__fit_prior': True, 'clf__alpha': 0.20499519946927103}. Best is trial 47 with value: 0.7878224650959522.\u001b[0m\n",
            "\u001b[32m[I 2021-10-18 15:34:50,448]\u001b[0m Trial 74 finished with value: 0.7158244329732563 and parameters: {'vect__max_df': 0.8593397632499513, 'vect__max_features': 22492, 'tfidf__use_idf': True, 'und__sampling_strategy': 0.9951963955452522, 'und__replacement': False, 'clf__fit_prior': True, 'clf__alpha': 0.03063779231354169}. Best is trial 47 with value: 0.7878224650959522.\u001b[0m\n",
            "\u001b[32m[I 2021-10-18 15:34:51,942]\u001b[0m Trial 75 finished with value: 0.7819764265859622 and parameters: {'vect__max_df': 0.7242182358269516, 'vect__max_features': 38046, 'tfidf__use_idf': True, 'und__sampling_strategy': 0.9510550864976145, 'und__replacement': False, 'clf__fit_prior': True, 'clf__alpha': 0.11415205124167678}. Best is trial 47 with value: 0.7878224650959522.\u001b[0m\n",
            "\u001b[32m[I 2021-10-18 15:34:53,455]\u001b[0m Trial 76 finished with value: 0.5512177528955513 and parameters: {'vect__max_df': 0.7329837978047327, 'vect__max_features': 38352, 'tfidf__use_idf': True, 'und__sampling_strategy': 0.9452312337469618, 'und__replacement': False, 'clf__fit_prior': True, 'clf__alpha': 0.32322241315592953}. Best is trial 47 with value: 0.7878224650959522.\u001b[0m\n",
            "\u001b[33m[W 2021-10-18 15:34:54,765]\u001b[0m Trial 77 failed, because the objective function returned nan.\u001b[0m\n",
            "\u001b[32m[I 2021-10-18 15:34:56,235]\u001b[0m Trial 78 finished with value: 0.672674986442854 and parameters: {'vect__max_df': 0.16400377572860514, 'vect__max_features': 35093, 'tfidf__use_idf': True, 'und__sampling_strategy': 0.8780141176425789, 'und__replacement': False, 'clf__fit_prior': True, 'clf__alpha': 0.16114553135817022}. Best is trial 47 with value: 0.7878224650959522.\u001b[0m\n",
            "\u001b[33m[W 2021-10-18 15:34:57,554]\u001b[0m Trial 79 failed, because the objective function returned nan.\u001b[0m\n",
            "\u001b[32m[I 2021-10-18 15:34:59,059]\u001b[0m Trial 80 finished with value: 0.7852340547866163 and parameters: {'vect__max_df': 0.8132911588045112, 'vect__max_features': 37213, 'tfidf__use_idf': True, 'und__sampling_strategy': 0.9522305235197518, 'und__replacement': False, 'clf__fit_prior': True, 'clf__alpha': 0.09761210494004412}. Best is trial 47 with value: 0.7878224650959522.\u001b[0m\n",
            "\u001b[33m[W 2021-10-18 15:35:00,388]\u001b[0m Trial 81 failed, because the objective function returned nan.\u001b[0m\n",
            "\u001b[32m[I 2021-10-18 15:35:01,920]\u001b[0m Trial 82 finished with value: 0.7209283762525901 and parameters: {'vect__max_df': 0.9264577504239817, 'vect__max_features': 45031, 'tfidf__use_idf': True, 'und__sampling_strategy': 0.9558444407759032, 'und__replacement': False, 'clf__fit_prior': False, 'clf__alpha': 0.2295813204304523}. Best is trial 47 with value: 0.7878224650959522.\u001b[0m\n",
            "\u001b[32m[I 2021-10-18 15:35:03,430]\u001b[0m Trial 83 finished with value: 0.777738765115012 and parameters: {'vect__max_df': 0.8236229248998076, 'vect__max_features': 31108, 'tfidf__use_idf': True, 'und__sampling_strategy': 0.8850110432331818, 'und__replacement': False, 'clf__fit_prior': True, 'clf__alpha': 0.09120023165906622}. Best is trial 47 with value: 0.7878224650959522.\u001b[0m\n",
            "\u001b[33m[W 2021-10-18 15:35:04,782]\u001b[0m Trial 84 failed, because the objective function returned nan.\u001b[0m\n",
            "\u001b[32m[I 2021-10-18 15:35:06,304]\u001b[0m Trial 85 finished with value: 0.7824871328709334 and parameters: {'vect__max_df': 0.833865767874849, 'vect__max_features': 30679, 'tfidf__use_idf': True, 'und__sampling_strategy': 0.8908582947062951, 'und__replacement': False, 'clf__fit_prior': True, 'clf__alpha': 0.08309609830107688}. Best is trial 47 with value: 0.7878224650959522.\u001b[0m\n",
            "\u001b[33m[W 2021-10-18 15:35:07,619]\u001b[0m Trial 86 failed, because the objective function returned nan.\u001b[0m\n",
            "\u001b[32m[I 2021-10-18 15:35:09,103]\u001b[0m Trial 87 finished with value: 0.7803383360439643 and parameters: {'vect__max_df': 0.8404233970296869, 'vect__max_features': 31265, 'tfidf__use_idf': True, 'und__sampling_strategy': 0.8949969144453065, 'und__replacement': False, 'clf__fit_prior': True, 'clf__alpha': 0.09173826928013362}. Best is trial 47 with value: 0.7878224650959522.\u001b[0m\n",
            "\u001b[32m[I 2021-10-18 15:35:10,592]\u001b[0m Trial 88 finished with value: 0.7103281020612096 and parameters: {'vect__max_df': 0.8582928272456338, 'vect__max_features': 29335, 'tfidf__use_idf': True, 'und__sampling_strategy': 0.8309776551220707, 'und__replacement': False, 'clf__fit_prior': True, 'clf__alpha': 0.01906118862459974}. Best is trial 47 with value: 0.7878224650959522.\u001b[0m\n",
            "\u001b[32m[I 2021-10-18 15:35:12,074]\u001b[0m Trial 89 finished with value: 0.768076207989239 and parameters: {'vect__max_df': 0.8265566824205529, 'vect__max_features': 30981, 'tfidf__use_idf': True, 'und__sampling_strategy': 0.8903690854198437, 'und__replacement': False, 'clf__fit_prior': True, 'clf__alpha': 0.0964693828014271}. Best is trial 47 with value: 0.7878224650959522.\u001b[0m\n",
            "\u001b[32m[I 2021-10-18 15:35:13,561]\u001b[0m Trial 90 finished with value: 0.7082860993221031 and parameters: {'vect__max_df': 0.7246435721638975, 'vect__max_features': 27159, 'tfidf__use_idf': True, 'und__sampling_strategy': 0.871380423645002, 'und__replacement': False, 'clf__fit_prior': True, 'clf__alpha': 0.13771384286371596}. Best is trial 47 with value: 0.7878224650959522.\u001b[0m\n",
            "\u001b[32m[I 2021-10-18 15:35:15,064]\u001b[0m Trial 91 finished with value: 0.7449693785722712 and parameters: {'vect__max_df': 0.7018114246965738, 'vect__max_features': 32437, 'tfidf__use_idf': True, 'und__sampling_strategy': 0.550384778963594, 'und__replacement': False, 'clf__fit_prior': True, 'clf__alpha': 0.03840269761533166}. Best is trial 47 with value: 0.7878224650959522.\u001b[0m\n",
            "\u001b[32m[I 2021-10-18 15:35:16,573]\u001b[0m Trial 92 finished with value: 0.778201797682889 and parameters: {'vect__max_df': 0.8804100027631212, 'vect__max_features': 31033, 'tfidf__use_idf': True, 'und__sampling_strategy': 0.9332186398664507, 'und__replacement': False, 'clf__fit_prior': True, 'clf__alpha': 0.07319326324270074}. Best is trial 47 with value: 0.7878224650959522.\u001b[0m\n",
            "\u001b[33m[W 2021-10-18 15:35:17,896]\u001b[0m Trial 93 failed, because the objective function returned nan.\u001b[0m\n",
            "\u001b[32m[I 2021-10-18 15:35:19,381]\u001b[0m Trial 94 finished with value: 0.47873542772699906 and parameters: {'vect__max_df': 0.9174612902307592, 'vect__max_features': 36955, 'tfidf__use_idf': True, 'und__sampling_strategy': 0.9305331079050309, 'und__replacement': False, 'clf__fit_prior': True, 'clf__alpha': 0.7419476562985684}. Best is trial 47 with value: 0.7878224650959522.\u001b[0m\n",
            "\u001b[32m[I 2021-10-18 15:35:20,860]\u001b[0m Trial 95 finished with value: 0.47873542772699906 and parameters: {'vect__max_df': 0.8680714713012723, 'vect__max_features': 29375, 'tfidf__use_idf': True, 'und__sampling_strategy': 0.9341287550438586, 'und__replacement': False, 'clf__fit_prior': True, 'clf__alpha': 0.9586877522257273}. Best is trial 47 with value: 0.7878224650959522.\u001b[0m\n",
            "\u001b[32m[I 2021-10-18 15:35:22,342]\u001b[0m Trial 96 finished with value: 0.567974689990909 and parameters: {'vect__max_df': 0.8764969367905344, 'vect__max_features': 34999, 'tfidf__use_idf': True, 'und__sampling_strategy': 0.8475232906565163, 'und__replacement': False, 'clf__fit_prior': True, 'clf__alpha': 0.18610670618615233}. Best is trial 47 with value: 0.7878224650959522.\u001b[0m\n",
            "\u001b[33m[W 2021-10-18 15:35:23,674]\u001b[0m Trial 97 failed, because the objective function returned nan.\u001b[0m\n",
            "\u001b[32m[I 2021-10-18 15:35:25,161]\u001b[0m Trial 98 finished with value: 0.764719802512562 and parameters: {'vect__max_df': 0.8467066397631021, 'vect__max_features': 33251, 'tfidf__use_idf': True, 'und__sampling_strategy': 0.9783828887162876, 'und__replacement': False, 'clf__fit_prior': False, 'clf__alpha': 0.06564785388528988}. Best is trial 47 with value: 0.7878224650959522.\u001b[0m\n",
            "\u001b[32m[I 2021-10-18 15:35:26,634]\u001b[0m Trial 99 finished with value: 0.7828370965685315 and parameters: {'vect__max_df': 0.7933580387827754, 'vect__max_features': 31036, 'tfidf__use_idf': True, 'und__sampling_strategy': 0.9030400370390387, 'und__replacement': False, 'clf__fit_prior': True, 'clf__alpha': 0.0901729752779713}. Best is trial 47 with value: 0.7878224650959522.\u001b[0m\n",
            "\u001b[33m[W 2021-10-18 15:35:27,962]\u001b[0m Trial 100 failed, because the objective function returned nan.\u001b[0m\n",
            "\u001b[32m[I 2021-10-18 15:35:29,463]\u001b[0m Trial 101 finished with value: 0.6906285436396326 and parameters: {'vect__max_df': 0.7919511317975118, 'vect__max_features': 28452, 'tfidf__use_idf': True, 'und__sampling_strategy': 0.7656914986606879, 'und__replacement': False, 'clf__fit_prior': True, 'clf__alpha': 0.1068686341618217}. Best is trial 47 with value: 0.7878224650959522.\u001b[0m\n",
            "\u001b[33m[W 2021-10-18 15:35:30,800]\u001b[0m Trial 102 failed, because the objective function returned nan.\u001b[0m\n",
            "\u001b[32m[I 2021-10-18 15:35:32,239]\u001b[0m Trial 103 finished with value: 0.630367475092232 and parameters: {'vect__max_df': 0.8895585773157583, 'vect__max_features': 3811, 'tfidf__use_idf': True, 'und__sampling_strategy': 0.9052141436355696, 'und__replacement': False, 'clf__fit_prior': True, 'clf__alpha': 0.04725216907972306}. Best is trial 47 with value: 0.7878224650959522.\u001b[0m\n",
            "\u001b[32m[I 2021-10-18 15:35:33,740]\u001b[0m Trial 104 finished with value: 0.47873542772699906 and parameters: {'vect__max_df': 0.7426184365500199, 'vect__max_features': 30249, 'tfidf__use_idf': True, 'und__sampling_strategy': 0.09740680898029286, 'und__replacement': False, 'clf__fit_prior': True, 'clf__alpha': 0.5415466825884268}. Best is trial 47 with value: 0.7878224650959522.\u001b[0m\n",
            "\u001b[32m[I 2021-10-18 15:35:35,214]\u001b[0m Trial 105 finished with value: 0.789164710281025 and parameters: {'vect__max_df': 0.796187467271762, 'vect__max_features': 26012, 'tfidf__use_idf': True, 'und__sampling_strategy': 0.9775059156417978, 'und__replacement': False, 'clf__fit_prior': True, 'clf__alpha': 0.15185801641533297}. Best is trial 105 with value: 0.789164710281025.\u001b[0m\n",
            "\u001b[32m[I 2021-10-18 15:35:36,698]\u001b[0m Trial 106 finished with value: 0.7845513156649081 and parameters: {'vect__max_df': 0.6893295948117706, 'vect__max_features': 23652, 'tfidf__use_idf': True, 'und__sampling_strategy': 0.9709019102521613, 'und__replacement': False, 'clf__fit_prior': True, 'clf__alpha': 0.13835361054439554}. Best is trial 105 with value: 0.789164710281025.\u001b[0m\n",
            "\u001b[32m[I 2021-10-18 15:35:38,192]\u001b[0m Trial 107 finished with value: 0.5148780368340068 and parameters: {'vect__max_df': 0.8005287630481936, 'vect__max_features': 19265, 'tfidf__use_idf': True, 'und__sampling_strategy': 0.9823579095942929, 'und__replacement': False, 'clf__fit_prior': True, 'clf__alpha': 0.6569047416988911}. Best is trial 105 with value: 0.789164710281025.\u001b[0m\n",
            "\u001b[32m[I 2021-10-18 15:35:39,666]\u001b[0m Trial 108 finished with value: 0.5075251290831769 and parameters: {'vect__max_df': 0.7088940623127982, 'vect__max_features': 22980, 'tfidf__use_idf': True, 'und__sampling_strategy': 0.3067192600751661, 'und__replacement': False, 'clf__fit_prior': True, 'clf__alpha': 0.13755266914721748}. Best is trial 105 with value: 0.789164710281025.\u001b[0m\n",
            "\u001b[32m[I 2021-10-18 15:35:41,154]\u001b[0m Trial 109 finished with value: 0.756292626562391 and parameters: {'vect__max_df': 0.6541737645382321, 'vect__max_features': 25343, 'tfidf__use_idf': True, 'und__sampling_strategy': 0.9568594709654088, 'und__replacement': False, 'clf__fit_prior': True, 'clf__alpha': 0.1791015531379742}. Best is trial 105 with value: 0.789164710281025.\u001b[0m\n",
            "\u001b[32m[I 2021-10-18 15:35:42,560]\u001b[0m Trial 110 finished with value: 0.7828944454474032 and parameters: {'vect__max_df': 0.6839467966471796, 'vect__max_features': 26994, 'tfidf__use_idf': False, 'und__sampling_strategy': 0.9761742499089789, 'und__replacement': False, 'clf__fit_prior': True, 'clf__alpha': 0.15280038483756825}. Best is trial 105 with value: 0.789164710281025.\u001b[0m\n",
            "\u001b[32m[I 2021-10-18 15:35:43,995]\u001b[0m Trial 111 finished with value: 0.7778946915731068 and parameters: {'vect__max_df': 0.7463736340676421, 'vect__max_features': 23632, 'tfidf__use_idf': False, 'und__sampling_strategy': 0.9851269678218154, 'und__replacement': False, 'clf__fit_prior': True, 'clf__alpha': 0.2295512883817694}. Best is trial 105 with value: 0.789164710281025.\u001b[0m\n",
            "\u001b[32m[I 2021-10-18 15:35:45,438]\u001b[0m Trial 112 finished with value: 0.7643517277767631 and parameters: {'vect__max_df': 0.6951611568762357, 'vect__max_features': 19597, 'tfidf__use_idf': False, 'und__sampling_strategy': 0.9988785220429945, 'und__replacement': False, 'clf__fit_prior': True, 'clf__alpha': 0.16024466194635356}. Best is trial 105 with value: 0.789164710281025.\u001b[0m\n",
            "\u001b[32m[I 2021-10-18 15:35:46,857]\u001b[0m Trial 113 finished with value: 0.7762513615240425 and parameters: {'vect__max_df': 0.6840720714124046, 'vect__max_features': 27182, 'tfidf__use_idf': False, 'und__sampling_strategy': 0.9503745996915899, 'und__replacement': False, 'clf__fit_prior': True, 'clf__alpha': 0.14666226324489967}. Best is trial 105 with value: 0.789164710281025.\u001b[0m\n",
            "\u001b[32m[I 2021-10-18 15:35:48,321]\u001b[0m Trial 114 finished with value: 0.6681327454371287 and parameters: {'vect__max_df': 0.774105046407244, 'vect__max_features': 21183, 'tfidf__use_idf': False, 'und__sampling_strategy': 0.9201367430181231, 'und__replacement': False, 'clf__fit_prior': True, 'clf__alpha': 0.19658132649939802}. Best is trial 105 with value: 0.789164710281025.\u001b[0m\n",
            "\u001b[32m[I 2021-10-18 15:35:49,719]\u001b[0m Trial 115 finished with value: 0.7701414062333549 and parameters: {'vect__max_df': 0.6518869128567577, 'vect__max_features': 26532, 'tfidf__use_idf': False, 'und__sampling_strategy': 0.9743311865963521, 'und__replacement': False, 'clf__fit_prior': True, 'clf__alpha': 0.11427646534042296}. Best is trial 105 with value: 0.789164710281025.\u001b[0m\n",
            "\u001b[32m[I 2021-10-18 15:35:51,213]\u001b[0m Trial 116 finished with value: 0.7775734898339548 and parameters: {'vect__max_df': 0.7241116478925611, 'vect__max_features': 24128, 'tfidf__use_idf': True, 'und__sampling_strategy': 0.9435206378621434, 'und__replacement': False, 'clf__fit_prior': True, 'clf__alpha': 0.1358666186921237}. Best is trial 105 with value: 0.789164710281025.\u001b[0m\n",
            "\u001b[32m[I 2021-10-18 15:35:52,691]\u001b[0m Trial 117 finished with value: 0.721472398417551 and parameters: {'vect__max_df': 0.8053176237755387, 'vect__max_features': 25813, 'tfidf__use_idf': True, 'und__sampling_strategy': 0.9686458706083272, 'und__replacement': False, 'clf__fit_prior': True, 'clf__alpha': 0.028790401772631674}. Best is trial 105 with value: 0.789164710281025.\u001b[0m\n",
            "\u001b[32m[I 2021-10-18 15:35:54,096]\u001b[0m Trial 118 finished with value: 0.47873542772699906 and parameters: {'vect__max_df': 0.46050716282838783, 'vect__max_features': 27825, 'tfidf__use_idf': False, 'und__sampling_strategy': 0.858625348718213, 'und__replacement': False, 'clf__fit_prior': True, 'clf__alpha': 0.2790243352058918}. Best is trial 105 with value: 0.789164710281025.\u001b[0m\n",
            "\u001b[32m[I 2021-10-18 15:35:55,555]\u001b[0m Trial 119 finished with value: 0.6445275802505953 and parameters: {'vect__max_df': 0.9719659720387749, 'vect__max_features': 48182, 'tfidf__use_idf': True, 'und__sampling_strategy': 0.9140105970016906, 'und__replacement': False, 'clf__fit_prior': True, 'clf__alpha': 0.213120226213946}. Best is trial 105 with value: 0.789164710281025.\u001b[0m\n",
            "\u001b[32m[I 2021-10-18 15:35:56,989]\u001b[0m Trial 120 finished with value: 0.7701322722825521 and parameters: {'vect__max_df': 0.5838126184855437, 'vect__max_features': 37545, 'tfidf__use_idf': True, 'und__sampling_strategy': 0.9798099308242164, 'und__replacement': False, 'clf__fit_prior': False, 'clf__alpha': 0.07153569977779804}. Best is trial 105 with value: 0.789164710281025.\u001b[0m\n",
            "\u001b[32m[I 2021-10-18 15:35:58,482]\u001b[0m Trial 121 finished with value: 0.7818185869191011 and parameters: {'vect__max_df': 0.837729291023192, 'vect__max_features': 29369, 'tfidf__use_idf': True, 'und__sampling_strategy': 0.8912848170430429, 'und__replacement': False, 'clf__fit_prior': True, 'clf__alpha': 0.08642973482170287}. Best is trial 105 with value: 0.789164710281025.\u001b[0m\n",
            "\u001b[32m[I 2021-10-18 15:35:59,940]\u001b[0m Trial 122 finished with value: 0.7796783423280418 and parameters: {'vect__max_df': 0.7818428671703045, 'vect__max_features': 29354, 'tfidf__use_idf': True, 'und__sampling_strategy': 0.9334962431208839, 'und__replacement': False, 'clf__fit_prior': True, 'clf__alpha': 0.10527264772794848}. Best is trial 105 with value: 0.789164710281025.\u001b[0m\n",
            "\u001b[32m[I 2021-10-18 15:36:01,443]\u001b[0m Trial 123 finished with value: 0.769403825162537 and parameters: {'vect__max_df': 0.8367708813623291, 'vect__max_features': 28213, 'tfidf__use_idf': True, 'und__sampling_strategy': 0.9598788888947606, 'und__replacement': False, 'clf__fit_prior': True, 'clf__alpha': 0.17338752479591468}. Best is trial 105 with value: 0.789164710281025.\u001b[0m\n",
            "\u001b[32m[I 2021-10-18 15:36:02,907]\u001b[0m Trial 124 finished with value: 0.650408006321302 and parameters: {'vect__max_df': 0.6378709219548735, 'vect__max_features': 35727, 'tfidf__use_idf': True, 'und__sampling_strategy': 0.8960745083266164, 'und__replacement': False, 'clf__fit_prior': True, 'clf__alpha': 0.004316609275306207}. Best is trial 105 with value: 0.789164710281025.\u001b[0m\n",
            "\u001b[32m[I 2021-10-18 15:36:04,409]\u001b[0m Trial 125 finished with value: 0.7831155001719465 and parameters: {'vect__max_df': 0.9105124253243971, 'vect__max_features': 32374, 'tfidf__use_idf': True, 'und__sampling_strategy': 0.9980974443231647, 'und__replacement': False, 'clf__fit_prior': True, 'clf__alpha': 0.14873665158692806}. Best is trial 105 with value: 0.789164710281025.\u001b[0m\n",
            "\u001b[32m[I 2021-10-18 15:36:05,865]\u001b[0m Trial 126 finished with value: 0.6156685919726056 and parameters: {'vect__max_df': 0.9377358397021895, 'vect__max_features': 32284, 'tfidf__use_idf': True, 'und__sampling_strategy': 0.8091612296654204, 'und__replacement': False, 'clf__fit_prior': True, 'clf__alpha': 0.15113547947485734}. Best is trial 105 with value: 0.789164710281025.\u001b[0m\n",
            "\u001b[32m[I 2021-10-18 15:36:07,349]\u001b[0m Trial 127 finished with value: 0.7682352668000733 and parameters: {'vect__max_df': 0.8079701209724091, 'vect__max_features': 34119, 'tfidf__use_idf': True, 'und__sampling_strategy': 0.9237185447438605, 'und__replacement': False, 'clf__fit_prior': True, 'clf__alpha': 0.05704043254730108}. Best is trial 105 with value: 0.789164710281025.\u001b[0m\n",
            "\u001b[32m[I 2021-10-18 15:36:08,844]\u001b[0m Trial 128 finished with value: 0.5502240014275275 and parameters: {'vect__max_df': 0.9071163443537678, 'vect__max_features': 30088, 'tfidf__use_idf': True, 'und__sampling_strategy': 0.6052318347424704, 'und__replacement': False, 'clf__fit_prior': True, 'clf__alpha': 0.12077500493911014}. Best is trial 105 with value: 0.789164710281025.\u001b[0m\n",
            "\u001b[32m[I 2021-10-18 15:36:10,307]\u001b[0m Trial 129 finished with value: 0.7800853904126304 and parameters: {'vect__max_df': 0.767570046602738, 'vect__max_features': 26264, 'tfidf__use_idf': True, 'und__sampling_strategy': 0.8750220945513789, 'und__replacement': False, 'clf__fit_prior': True, 'clf__alpha': 0.08496482711846888}. Best is trial 105 with value: 0.789164710281025.\u001b[0m\n",
            "\u001b[32m[I 2021-10-18 15:36:11,791]\u001b[0m Trial 130 finished with value: 0.47873542772699906 and parameters: {'vect__max_df': 0.8253981502959254, 'vect__max_features': 33087, 'tfidf__use_idf': True, 'und__sampling_strategy': 0.48370177581067114, 'und__replacement': False, 'clf__fit_prior': True, 'clf__alpha': 0.1878977567292122}. Best is trial 105 with value: 0.789164710281025.\u001b[0m\n",
            "\u001b[32m[I 2021-10-18 15:36:13,269]\u001b[0m Trial 131 finished with value: 0.7842803375846719 and parameters: {'vect__max_df': 0.9735712097199294, 'vect__max_features': 38751, 'tfidf__use_idf': True, 'und__sampling_strategy': 0.9916613271991204, 'und__replacement': False, 'clf__fit_prior': True, 'clf__alpha': 0.12685714528351746}. Best is trial 105 with value: 0.789164710281025.\u001b[0m\n",
            "\u001b[32m[I 2021-10-18 15:36:14,757]\u001b[0m Trial 132 finished with value: 0.7858006404558238 and parameters: {'vect__max_df': 0.9970877285778177, 'vect__max_features': 38909, 'tfidf__use_idf': True, 'und__sampling_strategy': 0.9567548838589033, 'und__replacement': False, 'clf__fit_prior': True, 'clf__alpha': 0.0982418168454209}. Best is trial 105 with value: 0.789164710281025.\u001b[0m\n",
            "\u001b[32m[I 2021-10-18 15:36:16,241]\u001b[0m Trial 133 finished with value: 0.7699447956075092 and parameters: {'vect__max_df': 0.9998854127918332, 'vect__max_features': 39287, 'tfidf__use_idf': True, 'und__sampling_strategy': 0.9620824888480554, 'und__replacement': False, 'clf__fit_prior': True, 'clf__alpha': 0.16681978539967293}. Best is trial 105 with value: 0.789164710281025.\u001b[0m\n",
            "\u001b[32m[I 2021-10-18 15:36:17,736]\u001b[0m Trial 134 finished with value: 0.7835084931845978 and parameters: {'vect__max_df': 0.9796378176072332, 'vect__max_features': 42435, 'tfidf__use_idf': True, 'und__sampling_strategy': 0.998779827733076, 'und__replacement': False, 'clf__fit_prior': True, 'clf__alpha': 0.15013034687043203}. Best is trial 105 with value: 0.789164710281025.\u001b[0m\n",
            "\u001b[32m[I 2021-10-18 15:36:19,231]\u001b[0m Trial 135 finished with value: 0.7914557356181948 and parameters: {'vect__max_df': 0.972113454097831, 'vect__max_features': 42427, 'tfidf__use_idf': True, 'und__sampling_strategy': 0.9835640844784347, 'und__replacement': False, 'clf__fit_prior': True, 'clf__alpha': 0.14498686638220698}. Best is trial 135 with value: 0.7914557356181948.\u001b[0m\n",
            "\u001b[32m[I 2021-10-18 15:36:20,709]\u001b[0m Trial 136 finished with value: 0.7616103905393464 and parameters: {'vect__max_df': 0.9687370436598974, 'vect__max_features': 42126, 'tfidf__use_idf': True, 'und__sampling_strategy': 0.9853403419417359, 'und__replacement': False, 'clf__fit_prior': True, 'clf__alpha': 0.24506758143509078}. Best is trial 135 with value: 0.7914557356181948.\u001b[0m\n",
            "\u001b[32m[I 2021-10-18 15:36:22,164]\u001b[0m Trial 137 finished with value: 0.7828944454474032 and parameters: {'vect__max_df': 0.9846310294133911, 'vect__max_features': 38729, 'tfidf__use_idf': False, 'und__sampling_strategy': 0.9765805812859174, 'und__replacement': False, 'clf__fit_prior': True, 'clf__alpha': 0.15372531367700912}. Best is trial 135 with value: 0.7914557356181948.\u001b[0m\n",
            "\u001b[32m[I 2021-10-18 15:36:23,599]\u001b[0m Trial 138 finished with value: 0.7786030398206925 and parameters: {'vect__max_df': 0.9457837150629745, 'vect__max_features': 42346, 'tfidf__use_idf': False, 'und__sampling_strategy': 0.997793322477831, 'und__replacement': False, 'clf__fit_prior': True, 'clf__alpha': 0.2189236742426814}. Best is trial 135 with value: 0.7914557356181948.\u001b[0m\n",
            "\u001b[32m[I 2021-10-18 15:36:25,024]\u001b[0m Trial 139 finished with value: 0.7807174596219006 and parameters: {'vect__max_df': 0.971750267129224, 'vect__max_features': 38735, 'tfidf__use_idf': False, 'und__sampling_strategy': 0.9709586956500394, 'und__replacement': False, 'clf__fit_prior': True, 'clf__alpha': 0.15183258376641512}. Best is trial 135 with value: 0.7914557356181948.\u001b[0m\n",
            "\u001b[32m[I 2021-10-18 15:36:26,450]\u001b[0m Trial 140 finished with value: 0.7239112074053782 and parameters: {'vect__max_df': 0.9219707761098188, 'vect__max_features': 39745, 'tfidf__use_idf': False, 'und__sampling_strategy': 0.9432076606261882, 'und__replacement': False, 'clf__fit_prior': False, 'clf__alpha': 0.198306356047678}. Best is trial 135 with value: 0.7914557356181948.\u001b[0m\n",
            "\u001b[32m[I 2021-10-18 15:36:27,884]\u001b[0m Trial 141 finished with value: 0.7673634888485075 and parameters: {'vect__max_df': 0.9859251181009846, 'vect__max_features': 40028, 'tfidf__use_idf': False, 'und__sampling_strategy': 0.9988714532369513, 'und__replacement': False, 'clf__fit_prior': True, 'clf__alpha': 0.14190526035055037}. Best is trial 135 with value: 0.7914557356181948.\u001b[0m\n",
            "\u001b[32m[I 2021-10-18 15:36:29,360]\u001b[0m Trial 142 finished with value: 0.7750655457351052 and parameters: {'vect__max_df': 0.9503718021681916, 'vect__max_features': 44757, 'tfidf__use_idf': False, 'und__sampling_strategy': 0.9728141958524504, 'und__replacement': False, 'clf__fit_prior': True, 'clf__alpha': 0.1233270782544201}. Best is trial 135 with value: 0.7914557356181948.\u001b[0m\n",
            "\u001b[32m[I 2021-10-18 15:36:30,833]\u001b[0m Trial 143 finished with value: 0.7863650193907038 and parameters: {'vect__max_df': 0.9867638352909637, 'vect__max_features': 37349, 'tfidf__use_idf': True, 'und__sampling_strategy': 0.950711444618123, 'und__replacement': False, 'clf__fit_prior': True, 'clf__alpha': 0.10442657246455592}. Best is trial 135 with value: 0.7914557356181948.\u001b[0m\n",
            "\u001b[32m[I 2021-10-18 15:36:32,330]\u001b[0m Trial 144 finished with value: 0.7403780443964717 and parameters: {'vect__max_df': 0.9875122636422637, 'vect__max_features': 36615, 'tfidf__use_idf': True, 'und__sampling_strategy': 0.9500494696137125, 'und__replacement': False, 'clf__fit_prior': True, 'clf__alpha': 0.1734900860041522}. Best is trial 135 with value: 0.7914557356181948.\u001b[0m\n",
            "\u001b[32m[I 2021-10-18 15:36:33,782]\u001b[0m Trial 145 finished with value: 0.7788010792567289 and parameters: {'vect__max_df': 0.9987087153238869, 'vect__max_features': 41161, 'tfidf__use_idf': True, 'und__sampling_strategy': 0.9312569154590296, 'und__replacement': False, 'clf__fit_prior': True, 'clf__alpha': 0.10427504326837143}. Best is trial 135 with value: 0.7914557356181948.\u001b[0m\n",
            "\u001b[32m[I 2021-10-18 15:36:35,228]\u001b[0m Trial 146 finished with value: 0.7887698542650888 and parameters: {'vect__max_df': 0.9468350859296216, 'vect__max_features': 37520, 'tfidf__use_idf': True, 'und__sampling_strategy': 0.9820542799710935, 'und__replacement': False, 'clf__fit_prior': True, 'clf__alpha': 0.13604598782199762}. Best is trial 135 with value: 0.7914557356181948.\u001b[0m\n",
            "\u001b[32m[I 2021-10-18 15:36:36,695]\u001b[0m Trial 147 finished with value: 0.7836025574291651 and parameters: {'vect__max_df': 0.9395195399544009, 'vect__max_features': 37197, 'tfidf__use_idf': True, 'und__sampling_strategy': 0.9558498912252199, 'und__replacement': False, 'clf__fit_prior': True, 'clf__alpha': 0.12404562758476352}. Best is trial 135 with value: 0.7914557356181948.\u001b[0m\n",
            "\u001b[32m[I 2021-10-18 15:36:38,184]\u001b[0m Trial 148 finished with value: 0.7747609147780226 and parameters: {'vect__max_df': 0.936307659059728, 'vect__max_features': 37296, 'tfidf__use_idf': True, 'und__sampling_strategy': 0.9506858397636193, 'und__replacement': True, 'clf__fit_prior': True, 'clf__alpha': 0.132432215208222}. Best is trial 135 with value: 0.7914557356181948.\u001b[0m\n",
            "\u001b[32m[I 2021-10-18 15:36:39,678]\u001b[0m Trial 149 finished with value: 0.47873542772699906 and parameters: {'vect__max_df': 0.9132821171151894, 'vect__max_features': 35491, 'tfidf__use_idf': True, 'und__sampling_strategy': 0.9193283878992986, 'und__replacement': False, 'clf__fit_prior': True, 'clf__alpha': 0.3720955593485693}. Best is trial 135 with value: 0.7914557356181948.\u001b[0m\n",
            "\u001b[32m[I 2021-10-18 15:36:41,200]\u001b[0m Trial 150 finished with value: 0.7879064876697774 and parameters: {'vect__max_df': 0.9597139903574383, 'vect__max_features': 42879, 'tfidf__use_idf': True, 'und__sampling_strategy': 0.9602166607614282, 'und__replacement': False, 'clf__fit_prior': True, 'clf__alpha': 0.11065075080683177}. Best is trial 135 with value: 0.7914557356181948.\u001b[0m\n",
            "\u001b[32m[I 2021-10-18 15:36:42,696]\u001b[0m Trial 151 finished with value: 0.77503507322958 and parameters: {'vect__max_df': 0.9587505249736687, 'vect__max_features': 43035, 'tfidf__use_idf': True, 'und__sampling_strategy': 0.9999632229270394, 'und__replacement': False, 'clf__fit_prior': True, 'clf__alpha': 0.1042873380072761}. Best is trial 135 with value: 0.7914557356181948.\u001b[0m\n",
            "\u001b[32m[I 2021-10-18 15:36:44,193]\u001b[0m Trial 152 finished with value: 0.7836025574291651 and parameters: {'vect__max_df': 0.9326001910184015, 'vect__max_features': 46035, 'tfidf__use_idf': True, 'und__sampling_strategy': 0.9607277774534043, 'und__replacement': False, 'clf__fit_prior': True, 'clf__alpha': 0.12815163617203645}. Best is trial 135 with value: 0.7914557356181948.\u001b[0m\n",
            "\u001b[32m[I 2021-10-18 15:36:45,678]\u001b[0m Trial 153 finished with value: 0.783128630236259 and parameters: {'vect__max_df': 0.9645687806907487, 'vect__max_features': 46049, 'tfidf__use_idf': True, 'und__sampling_strategy': 0.9552598380068976, 'und__replacement': False, 'clf__fit_prior': True, 'clf__alpha': 0.12505535098904597}. Best is trial 135 with value: 0.7914557356181948.\u001b[0m\n",
            "\u001b[32m[I 2021-10-18 15:36:47,184]\u001b[0m Trial 154 finished with value: 0.7768432781341287 and parameters: {'vect__max_df': 0.9404460556196235, 'vect__max_features': 43987, 'tfidf__use_idf': True, 'und__sampling_strategy': 0.9340677956601092, 'und__replacement': False, 'clf__fit_prior': True, 'clf__alpha': 0.07161280614953354}. Best is trial 135 with value: 0.7914557356181948.\u001b[0m\n",
            "\u001b[32m[I 2021-10-18 15:36:48,660]\u001b[0m Trial 155 finished with value: 0.7666146863910861 and parameters: {'vect__max_df': 0.9739125447929521, 'vect__max_features': 40809, 'tfidf__use_idf': True, 'und__sampling_strategy': 0.963249537872971, 'und__replacement': False, 'clf__fit_prior': True, 'clf__alpha': 0.17617014056948127}. Best is trial 135 with value: 0.7914557356181948.\u001b[0m\n",
            "\u001b[32m[I 2021-10-18 15:36:50,144]\u001b[0m Trial 156 finished with value: 0.7739270528087956 and parameters: {'vect__max_df': 0.937132810480906, 'vect__max_features': 47110, 'tfidf__use_idf': True, 'und__sampling_strategy': 0.9141403402715468, 'und__replacement': False, 'clf__fit_prior': True, 'clf__alpha': 0.11113077114454178}. Best is trial 135 with value: 0.7914557356181948.\u001b[0m\n",
            "\u001b[32m[I 2021-10-18 15:36:51,637]\u001b[0m Trial 157 finished with value: 0.7542635256209167 and parameters: {'vect__max_df': 0.8901350167735781, 'vect__max_features': 42471, 'tfidf__use_idf': True, 'und__sampling_strategy': 0.9768996451581062, 'und__replacement': False, 'clf__fit_prior': True, 'clf__alpha': 0.05388354018405392}. Best is trial 135 with value: 0.7914557356181948.\u001b[0m\n",
            "\u001b[32m[I 2021-10-18 15:36:53,180]\u001b[0m Trial 158 finished with value: 0.6975695207019933 and parameters: {'vect__max_df': 0.9577900982669127, 'vect__max_features': 37990, 'tfidf__use_idf': True, 'und__sampling_strategy': 0.9349559388675173, 'und__replacement': False, 'clf__fit_prior': True, 'clf__alpha': 0.19849660194785357}. Best is trial 135 with value: 0.7914557356181948.\u001b[0m\n",
            "\u001b[32m[I 2021-10-18 15:36:54,666]\u001b[0m Trial 159 finished with value: 0.7785425657296428 and parameters: {'vect__max_df': 0.9219176741457218, 'vect__max_features': 45167, 'tfidf__use_idf': True, 'und__sampling_strategy': 0.9559794589489604, 'und__replacement': False, 'clf__fit_prior': True, 'clf__alpha': 0.128587096711794}. Best is trial 135 with value: 0.7914557356181948.\u001b[0m\n",
            "\u001b[32m[I 2021-10-18 15:36:56,142]\u001b[0m Trial 160 finished with value: 0.7332637270085465 and parameters: {'vect__max_df': 0.980829816328769, 'vect__max_features': 13672, 'tfidf__use_idf': True, 'und__sampling_strategy': 0.9769532627527017, 'und__replacement': False, 'clf__fit_prior': True, 'clf__alpha': 0.09310489662056426}. Best is trial 135 with value: 0.7914557356181948.\u001b[0m\n",
            "\u001b[32m[I 2021-10-18 15:36:57,590]\u001b[0m Trial 161 finished with value: 0.783149516756707 and parameters: {'vect__max_df': 0.9509213323737862, 'vect__max_features': 43406, 'tfidf__use_idf': True, 'und__sampling_strategy': 0.9498505533706092, 'und__replacement': False, 'clf__fit_prior': True, 'clf__alpha': 0.12864528698884745}. Best is trial 135 with value: 0.7914557356181948.\u001b[0m\n",
            "\u001b[32m[I 2021-10-18 15:36:59,102]\u001b[0m Trial 162 finished with value: 0.5074389269048616 and parameters: {'vect__max_df': 0.9551539066964775, 'vect__max_features': 43889, 'tfidf__use_idf': True, 'und__sampling_strategy': 0.41478416681155905, 'und__replacement': False, 'clf__fit_prior': True, 'clf__alpha': 0.13675476174593923}. Best is trial 135 with value: 0.7914557356181948.\u001b[0m\n",
            "\u001b[32m[I 2021-10-18 15:37:00,571]\u001b[0m Trial 163 finished with value: 0.7837471527279807 and parameters: {'vect__max_df': 0.9997600560232095, 'vect__max_features': 41190, 'tfidf__use_idf': True, 'und__sampling_strategy': 0.9431191098522724, 'und__replacement': False, 'clf__fit_prior': True, 'clf__alpha': 0.09922563640029923}. Best is trial 135 with value: 0.7914557356181948.\u001b[0m\n",
            "\u001b[32m[I 2021-10-18 15:37:02,101]\u001b[0m Trial 164 finished with value: 0.7791476070437731 and parameters: {'vect__max_df': 0.9831751158278569, 'vect__max_features': 39783, 'tfidf__use_idf': True, 'und__sampling_strategy': 0.9153356133663758, 'und__replacement': False, 'clf__fit_prior': True, 'clf__alpha': 0.1007837816299002}. Best is trial 135 with value: 0.7914557356181948.\u001b[0m\n",
            "\u001b[32m[I 2021-10-18 15:37:03,583]\u001b[0m Trial 165 finished with value: 0.7785834084269033 and parameters: {'vect__max_df': 0.997869324708019, 'vect__max_features': 41094, 'tfidf__use_idf': True, 'und__sampling_strategy': 0.9356875662961367, 'und__replacement': False, 'clf__fit_prior': True, 'clf__alpha': 0.06947777702228933}. Best is trial 135 with value: 0.7914557356181948.\u001b[0m\n",
            "\u001b[32m[I 2021-10-18 15:37:05,045]\u001b[0m Trial 166 finished with value: 0.733423874115785 and parameters: {'vect__max_df': 0.9231838935827036, 'vect__max_features': 36302, 'tfidf__use_idf': True, 'und__sampling_strategy': 0.9833162943281829, 'und__replacement': False, 'clf__fit_prior': True, 'clf__alpha': 0.039143307488688404}. Best is trial 135 with value: 0.7914557356181948.\u001b[0m\n",
            "\u001b[32m[I 2021-10-18 15:37:06,516]\u001b[0m Trial 167 finished with value: 0.768851708950313 and parameters: {'vect__max_df': 0.8960356817953541, 'vect__max_features': 38586, 'tfidf__use_idf': True, 'und__sampling_strategy': 0.9615854338135613, 'und__replacement': False, 'clf__fit_prior': True, 'clf__alpha': 0.1719405854550817}. Best is trial 135 with value: 0.7914557356181948.\u001b[0m\n",
            "\u001b[32m[I 2021-10-18 15:37:07,957]\u001b[0m Trial 168 finished with value: 0.7693020667847237 and parameters: {'vect__max_df': 0.9991517665045884, 'vect__max_features': 41661, 'tfidf__use_idf': True, 'und__sampling_strategy': 0.9064952640381154, 'und__replacement': False, 'clf__fit_prior': False, 'clf__alpha': 0.1116138716991503}. Best is trial 135 with value: 0.7914557356181948.\u001b[0m\n",
            "\u001b[32m[I 2021-10-18 15:37:09,454]\u001b[0m Trial 169 finished with value: 0.7780699850607069 and parameters: {'vect__max_df': 0.9667671836571534, 'vect__max_features': 37487, 'tfidf__use_idf': True, 'und__sampling_strategy': 0.9817359868719189, 'und__replacement': True, 'clf__fit_prior': True, 'clf__alpha': 0.16233991338923287}. Best is trial 135 with value: 0.7914557356181948.\u001b[0m\n",
            "\u001b[32m[I 2021-10-18 15:37:10,910]\u001b[0m Trial 170 finished with value: 0.47873542772699906 and parameters: {'vect__max_df': 0.9274132110385988, 'vect__max_features': 46008, 'tfidf__use_idf': True, 'und__sampling_strategy': 0.9369140475985227, 'und__replacement': False, 'clf__fit_prior': True, 'clf__alpha': 0.45260276407555255}. Best is trial 135 with value: 0.7914557356181948.\u001b[0m\n",
            "\u001b[32m[I 2021-10-18 15:37:12,392]\u001b[0m Trial 171 finished with value: 0.783149516756707 and parameters: {'vect__max_df': 0.9477768371422202, 'vect__max_features': 42791, 'tfidf__use_idf': True, 'und__sampling_strategy': 0.952663401706927, 'und__replacement': False, 'clf__fit_prior': True, 'clf__alpha': 0.13482682227903597}. Best is trial 135 with value: 0.7914557356181948.\u001b[0m\n",
            "\u001b[32m[I 2021-10-18 15:37:13,879]\u001b[0m Trial 172 finished with value: 0.7872618797613637 and parameters: {'vect__max_df': 0.9662975436139148, 'vect__max_features': 40499, 'tfidf__use_idf': True, 'und__sampling_strategy': 0.9598498995282276, 'und__replacement': False, 'clf__fit_prior': True, 'clf__alpha': 0.11973078604593065}. Best is trial 135 with value: 0.7914557356181948.\u001b[0m\n",
            "\u001b[32m[I 2021-10-18 15:37:15,379]\u001b[0m Trial 173 finished with value: 0.7753418971542698 and parameters: {'vect__max_df': 0.9732761141262659, 'vect__max_features': 40492, 'tfidf__use_idf': True, 'und__sampling_strategy': 0.9999304989340919, 'und__replacement': False, 'clf__fit_prior': True, 'clf__alpha': 0.09079946259487116}. Best is trial 135 with value: 0.7914557356181948.\u001b[0m\n",
            "\u001b[32m[I 2021-10-18 15:37:16,843]\u001b[0m Trial 174 finished with value: 0.775325496645874 and parameters: {'vect__max_df': 0.9718494075400211, 'vect__max_features': 39206, 'tfidf__use_idf': True, 'und__sampling_strategy': 0.9674953853916323, 'und__replacement': False, 'clf__fit_prior': True, 'clf__alpha': 0.07318246851154805}. Best is trial 135 with value: 0.7914557356181948.\u001b[0m\n",
            "\u001b[32m[I 2021-10-18 15:37:18,325]\u001b[0m Trial 175 finished with value: 0.777891620968805 and parameters: {'vect__max_df': 0.3717471096656325, 'vect__max_features': 41837, 'tfidf__use_idf': True, 'und__sampling_strategy': 0.9242084652496032, 'und__replacement': False, 'clf__fit_prior': True, 'clf__alpha': 0.11525945403357188}. Best is trial 135 with value: 0.7914557356181948.\u001b[0m\n",
            "\u001b[32m[I 2021-10-18 15:37:19,789]\u001b[0m Trial 176 finished with value: 0.7900131784241521 and parameters: {'vect__max_df': 0.9353494165305066, 'vect__max_features': 48781, 'tfidf__use_idf': True, 'und__sampling_strategy': 0.9845770223776003, 'und__replacement': False, 'clf__fit_prior': True, 'clf__alpha': 0.15107938410163713}. Best is trial 135 with value: 0.7914557356181948.\u001b[0m\n",
            "\u001b[32m[I 2021-10-18 15:37:21,236]\u001b[0m Trial 177 finished with value: 0.7586420939886485 and parameters: {'vect__max_df': 0.5204280966821052, 'vect__max_features': 48547, 'tfidf__use_idf': True, 'und__sampling_strategy': 0.9615002481111775, 'und__replacement': False, 'clf__fit_prior': True, 'clf__alpha': 0.18293634353749863}. Best is trial 135 with value: 0.7914557356181948.\u001b[0m\n",
            "\u001b[32m[I 2021-10-18 15:37:22,750]\u001b[0m Trial 178 finished with value: 0.6563692582031868 and parameters: {'vect__max_df': 0.8784993367460179, 'vect__max_features': 47957, 'tfidf__use_idf': True, 'und__sampling_strategy': 0.6847981071558356, 'und__replacement': False, 'clf__fit_prior': True, 'clf__alpha': 0.09861642864189446}. Best is trial 135 with value: 0.7914557356181948.\u001b[0m\n",
            "\u001b[32m[I 2021-10-18 15:37:24,250]\u001b[0m Trial 179 finished with value: 0.7648039585450339 and parameters: {'vect__max_df': 0.932873927522558, 'vect__max_features': 46802, 'tfidf__use_idf': True, 'und__sampling_strategy': 0.9442911264949512, 'und__replacement': False, 'clf__fit_prior': True, 'clf__alpha': 0.147314434035204}. Best is trial 135 with value: 0.7914557356181948.\u001b[0m\n",
            "\u001b[32m[I 2021-10-18 15:37:25,737]\u001b[0m Trial 180 finished with value: 0.47873542772699906 and parameters: {'vect__max_df': 0.8957575970047275, 'vect__max_features': 48997, 'tfidf__use_idf': True, 'und__sampling_strategy': 0.9783599262072769, 'und__replacement': False, 'clf__fit_prior': True, 'clf__alpha': 0.8936276377253295}. Best is trial 135 with value: 0.7914557356181948.\u001b[0m\n",
            "\u001b[32m[I 2021-10-18 15:37:27,214]\u001b[0m Trial 181 finished with value: 0.7914557356181948 and parameters: {'vect__max_df': 0.9981493780258351, 'vect__max_features': 40082, 'tfidf__use_idf': True, 'und__sampling_strategy': 0.9850455099243518, 'und__replacement': False, 'clf__fit_prior': True, 'clf__alpha': 0.14412705251540756}. Best is trial 135 with value: 0.7914557356181948.\u001b[0m\n",
            "\u001b[32m[I 2021-10-18 15:37:28,725]\u001b[0m Trial 182 finished with value: 0.7863036620063758 and parameters: {'vect__max_df': 0.953873985486426, 'vect__max_features': 39646, 'tfidf__use_idf': True, 'und__sampling_strategy': 0.9816448698289767, 'und__replacement': False, 'clf__fit_prior': True, 'clf__alpha': 0.11639234117156971}. Best is trial 135 with value: 0.7914557356181948.\u001b[0m\n",
            "\u001b[32m[I 2021-10-18 15:37:30,232]\u001b[0m Trial 183 finished with value: 0.7863558838360007 and parameters: {'vect__max_df': 0.9980856471173983, 'vect__max_features': 40019, 'tfidf__use_idf': True, 'und__sampling_strategy': 0.9818553285981506, 'und__replacement': False, 'clf__fit_prior': True, 'clf__alpha': 0.16764178406567518}. Best is trial 135 with value: 0.7914557356181948.\u001b[0m\n",
            "\u001b[32m[I 2021-10-18 15:37:31,722]\u001b[0m Trial 184 finished with value: 0.7884662526676692 and parameters: {'vect__max_df': 0.9965455899487319, 'vect__max_features': 38881, 'tfidf__use_idf': True, 'und__sampling_strategy': 0.9857474916177269, 'und__replacement': False, 'clf__fit_prior': True, 'clf__alpha': 0.16697640662735114}. Best is trial 135 with value: 0.7914557356181948.\u001b[0m\n",
            "\u001b[32m[I 2021-10-18 15:37:33,245]\u001b[0m Trial 185 finished with value: 0.7883866015595808 and parameters: {'vect__max_df': 0.961591158284695, 'vect__max_features': 39708, 'tfidf__use_idf': True, 'und__sampling_strategy': 0.983497574173867, 'und__replacement': False, 'clf__fit_prior': True, 'clf__alpha': 0.2051600479776716}. Best is trial 135 with value: 0.7914557356181948.\u001b[0m\n",
            "\u001b[32m[I 2021-10-18 15:37:34,717]\u001b[0m Trial 186 finished with value: 0.7828780139074093 and parameters: {'vect__max_df': 0.9591374586614994, 'vect__max_features': 40330, 'tfidf__use_idf': True, 'und__sampling_strategy': 0.9808371916481767, 'und__replacement': False, 'clf__fit_prior': True, 'clf__alpha': 0.1985855986683962}. Best is trial 135 with value: 0.7914557356181948.\u001b[0m\n",
            "\u001b[32m[I 2021-10-18 15:37:36,186]\u001b[0m Trial 187 finished with value: 0.7651475040457626 and parameters: {'vect__max_df': 0.998004666226714, 'vect__max_features': 39524, 'tfidf__use_idf': True, 'und__sampling_strategy': 0.9798451314340582, 'und__replacement': False, 'clf__fit_prior': True, 'clf__alpha': 0.21949707365451315}. Best is trial 135 with value: 0.7914557356181948.\u001b[0m\n",
            "\u001b[32m[I 2021-10-18 15:37:37,663]\u001b[0m Trial 188 finished with value: 0.7814556328225446 and parameters: {'vect__max_df': 0.9661965180031122, 'vect__max_features': 37893, 'tfidf__use_idf': True, 'und__sampling_strategy': 0.9691359043143102, 'und__replacement': False, 'clf__fit_prior': True, 'clf__alpha': 0.1721446457168015}. Best is trial 135 with value: 0.7914557356181948.\u001b[0m\n",
            "\u001b[33m[W 2021-10-18 15:37:38,982]\u001b[0m Trial 189 failed, because the objective function returned nan.\u001b[0m\n",
            "\u001b[32m[I 2021-10-18 15:37:40,507]\u001b[0m Trial 190 finished with value: 0.7283053088011917 and parameters: {'vect__max_df': 0.9122013645312552, 'vect__max_features': 22018, 'tfidf__use_idf': True, 'und__sampling_strategy': 0.9195670046816107, 'und__replacement': False, 'clf__fit_prior': True, 'clf__alpha': 0.16005109565187903}. Best is trial 135 with value: 0.7914557356181948.\u001b[0m\n",
            "\u001b[32m[I 2021-10-18 15:37:42,036]\u001b[0m Trial 191 finished with value: 0.7967764413174663 and parameters: {'vect__max_df': 0.9578048862740892, 'vect__max_features': 36375, 'tfidf__use_idf': True, 'und__sampling_strategy': 0.999746912739416, 'und__replacement': False, 'clf__fit_prior': True, 'clf__alpha': 0.19434207708524814}. Best is trial 191 with value: 0.7967764413174663.\u001b[0m\n",
            "\u001b[32m[I 2021-10-18 15:37:43,594]\u001b[0m Trial 192 finished with value: 0.7943592879614167 and parameters: {'vect__max_df': 0.9517744960212422, 'vect__max_features': 36198, 'tfidf__use_idf': True, 'und__sampling_strategy': 0.9994991995667548, 'und__replacement': False, 'clf__fit_prior': True, 'clf__alpha': 0.18357083885914477}. Best is trial 191 with value: 0.7967764413174663.\u001b[0m\n",
            "\u001b[32m[I 2021-10-18 15:37:45,158]\u001b[0m Trial 193 finished with value: 0.7943592879614167 and parameters: {'vect__max_df': 0.9508377479750151, 'vect__max_features': 34614, 'tfidf__use_idf': True, 'und__sampling_strategy': 0.9989816799753984, 'und__replacement': False, 'clf__fit_prior': True, 'clf__alpha': 0.18472298188985836}. Best is trial 191 with value: 0.7967764413174663.\u001b[0m\n",
            "\u001b[32m[I 2021-10-18 15:37:46,698]\u001b[0m Trial 194 finished with value: 0.7906365737083442 and parameters: {'vect__max_df': 0.981129533531182, 'vect__max_features': 34524, 'tfidf__use_idf': True, 'und__sampling_strategy': 0.9964113683834354, 'und__replacement': False, 'clf__fit_prior': True, 'clf__alpha': 0.2366601900053516}. Best is trial 191 with value: 0.7967764413174663.\u001b[0m\n",
            "\u001b[32m[I 2021-10-18 15:37:48,239]\u001b[0m Trial 195 finished with value: 0.7856026757172353 and parameters: {'vect__max_df': 0.9508635939991966, 'vect__max_features': 34378, 'tfidf__use_idf': True, 'und__sampling_strategy': 0.9886055495783258, 'und__replacement': False, 'clf__fit_prior': True, 'clf__alpha': 0.23683586546357316}. Best is trial 191 with value: 0.7967764413174663.\u001b[0m\n",
            "\u001b[32m[I 2021-10-18 15:37:49,752]\u001b[0m Trial 196 finished with value: 0.7906365737083442 and parameters: {'vect__max_df': 0.9854526175913847, 'vect__max_features': 35762, 'tfidf__use_idf': True, 'und__sampling_strategy': 0.9951597667105245, 'und__replacement': False, 'clf__fit_prior': True, 'clf__alpha': 0.20979917080844343}. Best is trial 191 with value: 0.7967764413174663.\u001b[0m\n",
            "\u001b[32m[I 2021-10-18 15:37:51,285]\u001b[0m Trial 197 finished with value: 0.7879702964990972 and parameters: {'vect__max_df': 0.9775271313483993, 'vect__max_features': 35432, 'tfidf__use_idf': True, 'und__sampling_strategy': 0.9986680516946026, 'und__replacement': False, 'clf__fit_prior': True, 'clf__alpha': 0.26024347816807397}. Best is trial 191 with value: 0.7967764413174663.\u001b[0m\n",
            "\u001b[32m[I 2021-10-18 15:37:52,846]\u001b[0m Trial 198 finished with value: 0.7894810831210877 and parameters: {'vect__max_df': 0.9798088976796406, 'vect__max_features': 35325, 'tfidf__use_idf': True, 'und__sampling_strategy': 0.9993809666935691, 'und__replacement': False, 'clf__fit_prior': True, 'clf__alpha': 0.2567034390325589}. Best is trial 191 with value: 0.7967764413174663.\u001b[0m\n",
            "\u001b[32m[I 2021-10-18 15:37:54,424]\u001b[0m Trial 199 finished with value: 0.7854994345675111 and parameters: {'vect__max_df': 0.9728083071144714, 'vect__max_features': 35133, 'tfidf__use_idf': True, 'und__sampling_strategy': 0.996971046930824, 'und__replacement': False, 'clf__fit_prior': True, 'clf__alpha': 0.2939015971576347}. Best is trial 191 with value: 0.7967764413174663.\u001b[0m\n"
          ]
        }
      ]
    },
    {
      "cell_type": "code",
      "metadata": {
        "id": "9vs_wzdeJtnE",
        "colab": {
          "base_uri": "https://localhost:8080/"
        },
        "outputId": "2aec9a7c-4b90-47fe-d844-7209d97dd300"
      },
      "source": [
        "# Print the result\n",
        "best_params = study.best_params\n",
        "best_score = study.best_value\n",
        "\n",
        "print(f'Best score: {best_score}\\n')\n",
        "print(f'Optimized parameters: {best_params}\\n')"
      ],
      "execution_count": null,
      "outputs": [
        {
          "output_type": "stream",
          "name": "stdout",
          "text": [
            "Best score: 0.7967764413174663\n",
            "\n",
            "Optimized parameters: {'vect__max_df': 0.9578048862740892, 'vect__max_features': 36375, 'tfidf__use_idf': True, 'und__sampling_strategy': 0.999746912739416, 'und__replacement': False, 'clf__fit_prior': True, 'clf__alpha': 0.19434207708524814}\n",
            "\n"
          ]
        }
      ]
    },
    {
      "cell_type": "code",
      "metadata": {
        "id": "jak3GrxJLoYm",
        "colab": {
          "base_uri": "https://localhost:8080/"
        },
        "outputId": "4b44948b-17f3-4a9d-e283-9c562dbeb86b"
      },
      "source": [
        "# Set the best parameters to the model \n",
        "text_clf.set_params(**study.best_params)"
      ],
      "execution_count": null,
      "outputs": [
        {
          "output_type": "execute_result",
          "data": {
            "text/plain": [
              "Pipeline(steps=[('vect',\n",
              "                 CountVectorizer(max_df=0.9578048862740892, max_features=36375,\n",
              "                                 ngram_range=(1, 2))),\n",
              "                ('tfidf', TfidfTransformer()),\n",
              "                ('und',\n",
              "                 RandomUnderSampler(random_state=42,\n",
              "                                    sampling_strategy=0.999746912739416)),\n",
              "                ('clf', BernoulliNB(alpha=0.19434207708524814, binarize=None))])"
            ]
          },
          "metadata": {},
          "execution_count": 96
        }
      ]
    },
    {
      "cell_type": "code",
      "metadata": {
        "id": "cAOZPu5-Ls-G",
        "colab": {
          "base_uri": "https://localhost:8080/"
        },
        "outputId": "58f94fb2-2a07-460d-d0e9-ec9a0724eed9"
      },
      "source": [
        "# Fit on train data\n",
        "text_clf.fit(X_train, y_train)"
      ],
      "execution_count": null,
      "outputs": [
        {
          "output_type": "execute_result",
          "data": {
            "text/plain": [
              "Pipeline(steps=[('vect',\n",
              "                 CountVectorizer(max_df=0.9578048862740892, max_features=36375,\n",
              "                                 ngram_range=(1, 2))),\n",
              "                ('tfidf', TfidfTransformer()),\n",
              "                ('und',\n",
              "                 RandomUnderSampler(random_state=42,\n",
              "                                    sampling_strategy=0.999746912739416)),\n",
              "                ('clf', BernoulliNB(alpha=0.19434207708524814, binarize=None))])"
            ]
          },
          "metadata": {},
          "execution_count": 97
        }
      ]
    },
    {
      "cell_type": "code",
      "metadata": {
        "id": "3xBflNOALu3y"
      },
      "source": [
        "y_pred_train = text_clf.predict(X_train)"
      ],
      "execution_count": null,
      "outputs": []
    },
    {
      "cell_type": "code",
      "metadata": {
        "id": "hqkYTx-g_swo"
      },
      "source": [
        "# Predict on test data\n",
        "y_pred_test = text_clf.predict(X_test)"
      ],
      "execution_count": null,
      "outputs": []
    },
    {
      "cell_type": "code",
      "metadata": {
        "id": "id0W3G25LuaC",
        "colab": {
          "base_uri": "https://localhost:8080/"
        },
        "outputId": "c54cf022-cec9-4b69-d609-af59a3c33928"
      },
      "source": [
        "# Print F1 score\n",
        "print('F1 score(test set):', f1_score(y_test, y_pred_test, average = 'macro'))"
      ],
      "execution_count": null,
      "outputs": [
        {
          "output_type": "stream",
          "name": "stdout",
          "text": [
            "F1 score(test set): 0.7643097643097644\n"
          ]
        }
      ]
    },
    {
      "cell_type": "code",
      "metadata": {
        "id": "Q2l3OUGhMf1q",
        "colab": {
          "base_uri": "https://localhost:8080/"
        },
        "outputId": "4b478a01-e982-4cd1-8e3c-c43a47caabad"
      },
      "source": [
        "print(classification_report(y_test, y_pred_test))"
      ],
      "execution_count": null,
      "outputs": [
        {
          "output_type": "stream",
          "name": "stdout",
          "text": [
            "              precision    recall  f1-score   support\n",
            "\n",
            "           0       0.58      0.55      0.57        51\n",
            "           1       0.96      0.97      0.96       579\n",
            "\n",
            "    accuracy                           0.93       630\n",
            "   macro avg       0.77      0.76      0.76       630\n",
            "weighted avg       0.93      0.93      0.93       630\n",
            "\n"
          ]
        }
      ]
    },
    {
      "cell_type": "markdown",
      "metadata": {
        "id": "ATZmYmYtUDEo"
      },
      "source": [
        "The macro-averaged F1 score we get is ~76%."
      ]
    },
    {
      "cell_type": "markdown",
      "metadata": {
        "id": "ZKM-JfKayjxN"
      },
      "source": [
        "**Combining Random Oversampling and Undersampling (floating point value)**"
      ]
    },
    {
      "cell_type": "markdown",
      "metadata": {
        "id": "M6eG_7G8yr6P"
      },
      "source": [
        "Interesting results may be achieved by combining both random oversampling and undersampling.\n",
        "\n",
        "For example, a modest amount of oversampling can be applied to the minority class to improve the bias towards these examples, whilst also applying a modest amount of undersampling to the majority class to reduce the bias on that class.\n",
        "\n",
        "This can result in improved overall performance compared to performing one or the other techniques in isolation."
      ]
    },
    {
      "cell_type": "code",
      "metadata": {
        "id": "KI-FIbU6Lw9k"
      },
      "source": [
        "text_clf = Pipeline([('vect', CountVectorizer(ngram_range = (1, 2))),\n",
        "                     ('tfidf', TfidfTransformer()),\n",
        "                     ('ove', RandomOverSampler(random_state = 42)),\n",
        "                     ('und', RandomUnderSampler(random_state = 42)),\n",
        "                     ('clf', BernoulliNB(binarize = None))])"
      ],
      "execution_count": null,
      "outputs": []
    },
    {
      "cell_type": "markdown",
      "metadata": {
        "id": "mDPlseznyxns"
      },
      "source": [
        "For example, if we had a dataset with a 1:100 class distribution, we might first apply oversampling to increase the ratio to 1:10 by duplicating examples from the minority class, then apply undersampling to further improve the ratio to 1:2 by deleting examples from the majority class.\n",
        "\n",
        "This could be implemented using imbalanced-learn by using a RandomOverSampler with sampling_strategy set to 0.1 (10%), then using a RandomUnderSampler with a sampling_strategy set to 0.5 (50%). "
      ]
    },
    {
      "cell_type": "code",
      "metadata": {
        "id": "ldikLGj3L2LU"
      },
      "source": [
        "def objective(trial):\n",
        "\n",
        "  params = {\n",
        "    'vect__max_df': trial.suggest_uniform('vect__max_df', 0.0, 1.0),\n",
        "    'vect__max_features' : trial.suggest_int('vect__max_features', 0, 50000),\n",
        "    'tfidf__use_idf': trial.suggest_categorical('tfidf__use_idf', [True, False]),\n",
        "    'ove__sampling_strategy': trial.suggest_uniform('ove__sampling_strategy', 0.0, 1.0),\n",
        "    'und__sampling_strategy': trial.suggest_uniform('und__sampling_strategy', 0.0, 1.0),  \n",
        "    'und__replacement': trial.suggest_categorical('und__replacement', [True, False]),\n",
        "    'clf__fit_prior': trial.suggest_categorical('clf__fit_prior', [True, False]),\n",
        "    'clf__alpha': trial.suggest_uniform('clf__alpha', 1e-25, 1)\n",
        "  }\n",
        "\n",
        "  text_clf.set_params(**params)\n",
        "\n",
        "  scores = (cross_val_score(text_clf, X, y, cv = 10, scoring = 'f1_macro'))\n",
        "  \n",
        "  return scores.mean()  "
      ],
      "execution_count": null,
      "outputs": []
    },
    {
      "cell_type": "code",
      "metadata": {
        "id": "ymH8m-HFL8AY",
        "colab": {
          "base_uri": "https://localhost:8080/"
        },
        "outputId": "d2448a32-d6ae-4e9e-c8e8-d650595d6f4d"
      },
      "source": [
        "# Create Study object\n",
        "study = optuna.create_study(direction = 'maximize')\n",
        "\n",
        "# Optimize the study, use more trials to obtain better result, use less trials to be more cost-efficient\n",
        "study.optimize(objective, n_trials = 200)"
      ],
      "execution_count": null,
      "outputs": [
        {
          "output_type": "stream",
          "name": "stderr",
          "text": [
            "\u001b[32m[I 2021-10-18 15:37:54,799]\u001b[0m A new study created in memory with name: no-name-86d8bfcf-07b1-4dc7-b08b-2fd32c84f07d\u001b[0m\n",
            "\u001b[32m[I 2021-10-18 15:37:56,428]\u001b[0m Trial 0 finished with value: 0.6739757661781081 and parameters: {'vect__max_df': 0.571804807118628, 'vect__max_features': 49279, 'tfidf__use_idf': True, 'ove__sampling_strategy': 0.9889933346313613, 'und__sampling_strategy': 0.4053132821393203, 'und__replacement': True, 'clf__fit_prior': False, 'clf__alpha': 0.732759587178373}. Best is trial 0 with value: 0.6739757661781081.\u001b[0m\n",
            "\u001b[33m[W 2021-10-18 15:37:57,846]\u001b[0m Trial 1 failed, because the objective function returned nan.\u001b[0m\n",
            "\u001b[32m[I 2021-10-18 15:37:59,449]\u001b[0m Trial 2 finished with value: 0.5266709584065251 and parameters: {'vect__max_df': 0.37788325492906283, 'vect__max_features': 25761, 'tfidf__use_idf': True, 'ove__sampling_strategy': 0.7397736538504398, 'und__sampling_strategy': 0.36077213856062496, 'und__replacement': True, 'clf__fit_prior': True, 'clf__alpha': 0.9339087703286612}. Best is trial 0 with value: 0.6739757661781081.\u001b[0m\n",
            "\u001b[32m[I 2021-10-18 15:38:01,003]\u001b[0m Trial 3 finished with value: 0.7598241637062916 and parameters: {'vect__max_df': 0.9247076585582166, 'vect__max_features': 40260, 'tfidf__use_idf': False, 'ove__sampling_strategy': 0.3318760039087686, 'und__sampling_strategy': 0.9549418487605481, 'und__replacement': True, 'clf__fit_prior': True, 'clf__alpha': 0.568670931403886}. Best is trial 3 with value: 0.7598241637062916.\u001b[0m\n",
            "\u001b[33m[W 2021-10-18 15:38:02,401]\u001b[0m Trial 4 failed, because the objective function returned nan.\u001b[0m\n",
            "\u001b[32m[I 2021-10-18 15:38:04,019]\u001b[0m Trial 5 finished with value: 0.6831472203905806 and parameters: {'vect__max_df': 0.14518135034634205, 'vect__max_features': 38242, 'tfidf__use_idf': True, 'ove__sampling_strategy': 0.9809878972434019, 'und__sampling_strategy': 0.7409480161295705, 'und__replacement': True, 'clf__fit_prior': True, 'clf__alpha': 0.9216844510816656}. Best is trial 3 with value: 0.7598241637062916.\u001b[0m\n",
            "\u001b[32m[I 2021-10-18 15:38:05,596]\u001b[0m Trial 6 finished with value: 0.7580656155837716 and parameters: {'vect__max_df': 0.28196986909607324, 'vect__max_features': 48331, 'tfidf__use_idf': True, 'ove__sampling_strategy': 0.5718419236584352, 'und__sampling_strategy': 0.4695495347683126, 'und__replacement': True, 'clf__fit_prior': False, 'clf__alpha': 0.2010054220821733}. Best is trial 3 with value: 0.7598241637062916.\u001b[0m\n",
            "\u001b[33m[W 2021-10-18 15:38:06,924]\u001b[0m Trial 7 failed, because the objective function returned nan.\u001b[0m\n",
            "\u001b[32m[I 2021-10-18 15:38:08,438]\u001b[0m Trial 8 finished with value: 0.489319095656563 and parameters: {'vect__max_df': 0.47797386702658795, 'vect__max_features': 12966, 'tfidf__use_idf': False, 'ove__sampling_strategy': 0.24643973268352748, 'und__sampling_strategy': 0.10662571760506079, 'und__replacement': True, 'clf__fit_prior': True, 'clf__alpha': 0.45234477369174253}. Best is trial 3 with value: 0.7598241637062916.\u001b[0m\n",
            "\u001b[33m[W 2021-10-18 15:38:09,771]\u001b[0m Trial 9 failed, because the objective function returned nan.\u001b[0m\n",
            "\u001b[33m[W 2021-10-18 15:38:11,152]\u001b[0m Trial 10 failed, because the objective function returned nan.\u001b[0m\n",
            "\u001b[33m[W 2021-10-18 15:38:12,507]\u001b[0m Trial 11 failed, because the objective function returned nan.\u001b[0m\n",
            "\u001b[33m[W 2021-10-18 15:38:13,851]\u001b[0m Trial 12 failed, because the objective function returned nan.\u001b[0m\n",
            "\u001b[32m[I 2021-10-18 15:38:15,410]\u001b[0m Trial 13 finished with value: 0.6962463069225524 and parameters: {'vect__max_df': 0.9517725913370473, 'vect__max_features': 21963, 'tfidf__use_idf': False, 'ove__sampling_strategy': 0.664515800377365, 'und__sampling_strategy': 0.668204144279011, 'und__replacement': False, 'clf__fit_prior': False, 'clf__alpha': 0.511781271766165}. Best is trial 3 with value: 0.7598241637062916.\u001b[0m\n",
            "\u001b[32m[I 2021-10-18 15:38:16,881]\u001b[0m Trial 14 finished with value: 0.47873542772699906 and parameters: {'vect__max_df': 0.4207499261566545, 'vect__max_features': 25977, 'tfidf__use_idf': False, 'ove__sampling_strategy': 0.16400215392713102, 'und__sampling_strategy': 0.4426581731305076, 'und__replacement': False, 'clf__fit_prior': False, 'clf__alpha': 0.34106411406025683}. Best is trial 3 with value: 0.7598241637062916.\u001b[0m\n",
            "\u001b[32m[I 2021-10-18 15:38:18,369]\u001b[0m Trial 15 finished with value: 0.47873542772699906 and parameters: {'vect__max_df': 0.34716372639390314, 'vect__max_features': 32812, 'tfidf__use_idf': False, 'ove__sampling_strategy': 0.11997691538163935, 'und__sampling_strategy': 0.6640798601747719, 'und__replacement': True, 'clf__fit_prior': False, 'clf__alpha': 0.32229791712051503}. Best is trial 3 with value: 0.7598241637062916.\u001b[0m\n",
            "\u001b[32m[I 2021-10-18 15:38:19,876]\u001b[0m Trial 16 finished with value: 0.47873542772699906 and parameters: {'vect__max_df': 0.3021215971674521, 'vect__max_features': 29106, 'tfidf__use_idf': False, 'ove__sampling_strategy': 0.34916958672279463, 'und__sampling_strategy': 0.266057397268752, 'und__replacement': True, 'clf__fit_prior': False, 'clf__alpha': 0.7452474290234721}. Best is trial 3 with value: 0.7598241637062916.\u001b[0m\n",
            "\u001b[33m[W 2021-10-18 15:38:21,169]\u001b[0m Trial 17 failed, because the objective function returned nan.\u001b[0m\n",
            "\u001b[33m[W 2021-10-18 15:38:22,508]\u001b[0m Trial 18 failed, because the objective function returned nan.\u001b[0m\n",
            "\u001b[32m[I 2021-10-18 15:38:23,963]\u001b[0m Trial 19 finished with value: 0.7327188500954381 and parameters: {'vect__max_df': 0.9751635263281844, 'vect__max_features': 1913, 'tfidf__use_idf': False, 'ove__sampling_strategy': 0.4048995485395478, 'und__sampling_strategy': 0.9628995446894408, 'und__replacement': False, 'clf__fit_prior': True, 'clf__alpha': 0.11794758243208459}. Best is trial 3 with value: 0.7598241637062916.\u001b[0m\n",
            "\u001b[32m[I 2021-10-18 15:38:25,544]\u001b[0m Trial 20 finished with value: 0.7823964195710917 and parameters: {'vect__max_df': 0.7059706910521549, 'vect__max_features': 49375, 'tfidf__use_idf': True, 'ove__sampling_strategy': 0.5828801504597765, 'und__sampling_strategy': 0.9872025240521705, 'und__replacement': True, 'clf__fit_prior': True, 'clf__alpha': 0.04470083649993195}. Best is trial 20 with value: 0.7823964195710917.\u001b[0m\n",
            "\u001b[32m[I 2021-10-18 15:38:27,087]\u001b[0m Trial 21 finished with value: 0.755883023239502 and parameters: {'vect__max_df': 0.7743127575822585, 'vect__max_features': 41088, 'tfidf__use_idf': True, 'ove__sampling_strategy': 0.38591689278899605, 'und__sampling_strategy': 0.993262405696878, 'und__replacement': True, 'clf__fit_prior': True, 'clf__alpha': 0.004724768559882089}. Best is trial 20 with value: 0.7823964195710917.\u001b[0m\n",
            "\u001b[33m[W 2021-10-18 15:38:28,454]\u001b[0m Trial 22 failed, because the objective function returned nan.\u001b[0m\n",
            "\u001b[32m[I 2021-10-18 15:38:30,280]\u001b[0m Trial 23 finished with value: 0.6849897912406531 and parameters: {'vect__max_df': 0.714336698017426, 'vect__max_features': 42123, 'tfidf__use_idf': True, 'ove__sampling_strategy': 0.5275499599741076, 'und__sampling_strategy': 0.8292143280617355, 'und__replacement': True, 'clf__fit_prior': True, 'clf__alpha': 0.6363470668916367}. Best is trial 20 with value: 0.7823964195710917.\u001b[0m\n",
            "\u001b[32m[I 2021-10-18 15:38:31,856]\u001b[0m Trial 24 finished with value: 0.7857015422137918 and parameters: {'vect__max_df': 0.7701357379834396, 'vect__max_features': 49715, 'tfidf__use_idf': True, 'ove__sampling_strategy': 0.8084954679006652, 'und__sampling_strategy': 0.8666539967862639, 'und__replacement': True, 'clf__fit_prior': True, 'clf__alpha': 0.5315036360050831}. Best is trial 24 with value: 0.7857015422137918.\u001b[0m\n",
            "\u001b[32m[I 2021-10-18 15:38:33,455]\u001b[0m Trial 25 finished with value: 0.7864126687334128 and parameters: {'vect__max_df': 0.6252873918507932, 'vect__max_features': 49909, 'tfidf__use_idf': True, 'ove__sampling_strategy': 0.8079049848696579, 'und__sampling_strategy': 0.8176149406526978, 'und__replacement': False, 'clf__fit_prior': True, 'clf__alpha': 0.36314810471587583}. Best is trial 25 with value: 0.7864126687334128.\u001b[0m\n",
            "\u001b[33m[W 2021-10-18 15:38:34,886]\u001b[0m Trial 26 failed, because the objective function returned nan.\u001b[0m\n",
            "\u001b[33m[W 2021-10-18 15:38:36,324]\u001b[0m Trial 27 failed, because the objective function returned nan.\u001b[0m\n",
            "\u001b[33m[W 2021-10-18 15:38:37,741]\u001b[0m Trial 28 failed, because the objective function returned nan.\u001b[0m\n",
            "\u001b[33m[W 2021-10-18 15:38:39,179]\u001b[0m Trial 29 failed, because the objective function returned nan.\u001b[0m\n",
            "\u001b[32m[I 2021-10-18 15:38:40,774]\u001b[0m Trial 30 finished with value: 0.7981200151590664 and parameters: {'vect__max_df': 0.6012456027493543, 'vect__max_features': 15269, 'tfidf__use_idf': True, 'ove__sampling_strategy': 0.824783189963344, 'und__sampling_strategy': 0.8368617029062264, 'und__replacement': False, 'clf__fit_prior': True, 'clf__alpha': 0.3764359381397871}. Best is trial 30 with value: 0.7981200151590664.\u001b[0m\n",
            "\u001b[33m[W 2021-10-18 15:38:42,173]\u001b[0m Trial 31 failed, because the objective function returned nan.\u001b[0m\n",
            "\u001b[33m[W 2021-10-18 15:38:43,591]\u001b[0m Trial 32 failed, because the objective function returned nan.\u001b[0m\n",
            "\u001b[33m[W 2021-10-18 15:38:45,044]\u001b[0m Trial 33 failed, because the objective function returned nan.\u001b[0m\n",
            "\u001b[33m[W 2021-10-18 15:38:46,492]\u001b[0m Trial 34 failed, because the objective function returned nan.\u001b[0m\n",
            "\u001b[33m[W 2021-10-18 15:38:47,918]\u001b[0m Trial 35 failed, because the objective function returned nan.\u001b[0m\n",
            "\u001b[33m[W 2021-10-18 15:38:49,347]\u001b[0m Trial 36 failed, because the objective function returned nan.\u001b[0m\n",
            "\u001b[33m[W 2021-10-18 15:38:50,768]\u001b[0m Trial 37 failed, because the objective function returned nan.\u001b[0m\n",
            "\u001b[33m[W 2021-10-18 15:38:52,210]\u001b[0m Trial 38 failed, because the objective function returned nan.\u001b[0m\n",
            "\u001b[33m[W 2021-10-18 15:38:53,646]\u001b[0m Trial 39 failed, because the objective function returned nan.\u001b[0m\n",
            "\u001b[33m[W 2021-10-18 15:38:55,103]\u001b[0m Trial 40 failed, because the objective function returned nan.\u001b[0m\n",
            "\u001b[33m[W 2021-10-18 15:38:56,548]\u001b[0m Trial 41 failed, because the objective function returned nan.\u001b[0m\n",
            "\u001b[33m[W 2021-10-18 15:38:57,983]\u001b[0m Trial 42 failed, because the objective function returned nan.\u001b[0m\n",
            "\u001b[33m[W 2021-10-18 15:38:59,423]\u001b[0m Trial 43 failed, because the objective function returned nan.\u001b[0m\n",
            "\u001b[33m[W 2021-10-18 15:39:00,839]\u001b[0m Trial 44 failed, because the objective function returned nan.\u001b[0m\n",
            "\u001b[33m[W 2021-10-18 15:39:02,312]\u001b[0m Trial 45 failed, because the objective function returned nan.\u001b[0m\n",
            "\u001b[33m[W 2021-10-18 15:39:03,725]\u001b[0m Trial 46 failed, because the objective function returned nan.\u001b[0m\n",
            "\u001b[33m[W 2021-10-18 15:39:05,150]\u001b[0m Trial 47 failed, because the objective function returned nan.\u001b[0m\n",
            "\u001b[33m[W 2021-10-18 15:39:06,568]\u001b[0m Trial 48 failed, because the objective function returned nan.\u001b[0m\n",
            "\u001b[33m[W 2021-10-18 15:39:08,016]\u001b[0m Trial 49 failed, because the objective function returned nan.\u001b[0m\n",
            "\u001b[33m[W 2021-10-18 15:39:09,460]\u001b[0m Trial 50 failed, because the objective function returned nan.\u001b[0m\n",
            "\u001b[33m[W 2021-10-18 15:39:10,897]\u001b[0m Trial 51 failed, because the objective function returned nan.\u001b[0m\n",
            "\u001b[33m[W 2021-10-18 15:39:12,325]\u001b[0m Trial 52 failed, because the objective function returned nan.\u001b[0m\n",
            "\u001b[33m[W 2021-10-18 15:39:13,724]\u001b[0m Trial 53 failed, because the objective function returned nan.\u001b[0m\n",
            "\u001b[33m[W 2021-10-18 15:39:15,139]\u001b[0m Trial 54 failed, because the objective function returned nan.\u001b[0m\n",
            "\u001b[33m[W 2021-10-18 15:39:16,556]\u001b[0m Trial 55 failed, because the objective function returned nan.\u001b[0m\n",
            "\u001b[33m[W 2021-10-18 15:39:17,989]\u001b[0m Trial 56 failed, because the objective function returned nan.\u001b[0m\n",
            "\u001b[33m[W 2021-10-18 15:39:19,396]\u001b[0m Trial 57 failed, because the objective function returned nan.\u001b[0m\n",
            "\u001b[33m[W 2021-10-18 15:39:20,775]\u001b[0m Trial 58 failed, because the objective function returned nan.\u001b[0m\n",
            "\u001b[33m[W 2021-10-18 15:39:22,200]\u001b[0m Trial 59 failed, because the objective function returned nan.\u001b[0m\n",
            "\u001b[33m[W 2021-10-18 15:39:23,598]\u001b[0m Trial 60 failed, because the objective function returned nan.\u001b[0m\n",
            "\u001b[33m[W 2021-10-18 15:39:25,026]\u001b[0m Trial 61 failed, because the objective function returned nan.\u001b[0m\n",
            "\u001b[33m[W 2021-10-18 15:39:26,457]\u001b[0m Trial 62 failed, because the objective function returned nan.\u001b[0m\n",
            "\u001b[33m[W 2021-10-18 15:39:27,884]\u001b[0m Trial 63 failed, because the objective function returned nan.\u001b[0m\n",
            "\u001b[33m[W 2021-10-18 15:39:29,348]\u001b[0m Trial 64 failed, because the objective function returned nan.\u001b[0m\n",
            "\u001b[33m[W 2021-10-18 15:39:30,758]\u001b[0m Trial 65 failed, because the objective function returned nan.\u001b[0m\n",
            "\u001b[33m[W 2021-10-18 15:39:32,202]\u001b[0m Trial 66 failed, because the objective function returned nan.\u001b[0m\n",
            "\u001b[33m[W 2021-10-18 15:39:33,625]\u001b[0m Trial 67 failed, because the objective function returned nan.\u001b[0m\n",
            "\u001b[33m[W 2021-10-18 15:39:35,011]\u001b[0m Trial 68 failed, because the objective function returned nan.\u001b[0m\n",
            "\u001b[33m[W 2021-10-18 15:39:36,427]\u001b[0m Trial 69 failed, because the objective function returned nan.\u001b[0m\n",
            "\u001b[33m[W 2021-10-18 15:39:37,831]\u001b[0m Trial 70 failed, because the objective function returned nan.\u001b[0m\n",
            "\u001b[33m[W 2021-10-18 15:39:39,248]\u001b[0m Trial 71 failed, because the objective function returned nan.\u001b[0m\n",
            "\u001b[33m[W 2021-10-18 15:39:40,672]\u001b[0m Trial 72 failed, because the objective function returned nan.\u001b[0m\n",
            "\u001b[33m[W 2021-10-18 15:39:42,064]\u001b[0m Trial 73 failed, because the objective function returned nan.\u001b[0m\n",
            "\u001b[33m[W 2021-10-18 15:39:43,469]\u001b[0m Trial 74 failed, because the objective function returned nan.\u001b[0m\n",
            "\u001b[33m[W 2021-10-18 15:39:44,880]\u001b[0m Trial 75 failed, because the objective function returned nan.\u001b[0m\n",
            "\u001b[33m[W 2021-10-18 15:39:46,290]\u001b[0m Trial 76 failed, because the objective function returned nan.\u001b[0m\n",
            "\u001b[33m[W 2021-10-18 15:39:47,711]\u001b[0m Trial 77 failed, because the objective function returned nan.\u001b[0m\n",
            "\u001b[33m[W 2021-10-18 15:39:49,144]\u001b[0m Trial 78 failed, because the objective function returned nan.\u001b[0m\n",
            "\u001b[33m[W 2021-10-18 15:39:50,541]\u001b[0m Trial 79 failed, because the objective function returned nan.\u001b[0m\n",
            "\u001b[33m[W 2021-10-18 15:39:51,951]\u001b[0m Trial 80 failed, because the objective function returned nan.\u001b[0m\n",
            "\u001b[33m[W 2021-10-18 15:39:53,376]\u001b[0m Trial 81 failed, because the objective function returned nan.\u001b[0m\n",
            "\u001b[33m[W 2021-10-18 15:39:54,777]\u001b[0m Trial 82 failed, because the objective function returned nan.\u001b[0m\n",
            "\u001b[33m[W 2021-10-18 15:39:56,191]\u001b[0m Trial 83 failed, because the objective function returned nan.\u001b[0m\n",
            "\u001b[33m[W 2021-10-18 15:39:57,607]\u001b[0m Trial 84 failed, because the objective function returned nan.\u001b[0m\n",
            "\u001b[33m[W 2021-10-18 15:39:59,035]\u001b[0m Trial 85 failed, because the objective function returned nan.\u001b[0m\n",
            "\u001b[33m[W 2021-10-18 15:40:00,458]\u001b[0m Trial 86 failed, because the objective function returned nan.\u001b[0m\n",
            "\u001b[33m[W 2021-10-18 15:40:01,913]\u001b[0m Trial 87 failed, because the objective function returned nan.\u001b[0m\n",
            "\u001b[33m[W 2021-10-18 15:40:03,330]\u001b[0m Trial 88 failed, because the objective function returned nan.\u001b[0m\n",
            "\u001b[33m[W 2021-10-18 15:40:04,709]\u001b[0m Trial 89 failed, because the objective function returned nan.\u001b[0m\n",
            "\u001b[33m[W 2021-10-18 15:40:06,052]\u001b[0m Trial 90 failed, because the objective function returned nan.\u001b[0m\n",
            "\u001b[33m[W 2021-10-18 15:40:07,360]\u001b[0m Trial 91 failed, because the objective function returned nan.\u001b[0m\n",
            "\u001b[33m[W 2021-10-18 15:40:08,710]\u001b[0m Trial 92 failed, because the objective function returned nan.\u001b[0m\n",
            "\u001b[33m[W 2021-10-18 15:40:10,084]\u001b[0m Trial 93 failed, because the objective function returned nan.\u001b[0m\n",
            "\u001b[33m[W 2021-10-18 15:40:11,418]\u001b[0m Trial 94 failed, because the objective function returned nan.\u001b[0m\n",
            "\u001b[33m[W 2021-10-18 15:40:12,760]\u001b[0m Trial 95 failed, because the objective function returned nan.\u001b[0m\n",
            "\u001b[33m[W 2021-10-18 15:40:14,145]\u001b[0m Trial 96 failed, because the objective function returned nan.\u001b[0m\n",
            "\u001b[33m[W 2021-10-18 15:40:15,477]\u001b[0m Trial 97 failed, because the objective function returned nan.\u001b[0m\n",
            "\u001b[33m[W 2021-10-18 15:40:16,816]\u001b[0m Trial 98 failed, because the objective function returned nan.\u001b[0m\n",
            "\u001b[33m[W 2021-10-18 15:40:18,175]\u001b[0m Trial 99 failed, because the objective function returned nan.\u001b[0m\n",
            "\u001b[33m[W 2021-10-18 15:40:19,518]\u001b[0m Trial 100 failed, because the objective function returned nan.\u001b[0m\n",
            "\u001b[33m[W 2021-10-18 15:40:20,871]\u001b[0m Trial 101 failed, because the objective function returned nan.\u001b[0m\n",
            "\u001b[33m[W 2021-10-18 15:40:22,292]\u001b[0m Trial 102 failed, because the objective function returned nan.\u001b[0m\n",
            "\u001b[33m[W 2021-10-18 15:40:23,664]\u001b[0m Trial 103 failed, because the objective function returned nan.\u001b[0m\n",
            "\u001b[33m[W 2021-10-18 15:40:25,054]\u001b[0m Trial 104 failed, because the objective function returned nan.\u001b[0m\n",
            "\u001b[33m[W 2021-10-18 15:40:26,378]\u001b[0m Trial 105 failed, because the objective function returned nan.\u001b[0m\n",
            "\u001b[33m[W 2021-10-18 15:40:27,730]\u001b[0m Trial 106 failed, because the objective function returned nan.\u001b[0m\n",
            "\u001b[33m[W 2021-10-18 15:40:29,138]\u001b[0m Trial 107 failed, because the objective function returned nan.\u001b[0m\n",
            "\u001b[33m[W 2021-10-18 15:40:30,508]\u001b[0m Trial 108 failed, because the objective function returned nan.\u001b[0m\n",
            "\u001b[33m[W 2021-10-18 15:40:31,871]\u001b[0m Trial 109 failed, because the objective function returned nan.\u001b[0m\n",
            "\u001b[33m[W 2021-10-18 15:40:33,242]\u001b[0m Trial 110 failed, because the objective function returned nan.\u001b[0m\n",
            "\u001b[33m[W 2021-10-18 15:40:34,550]\u001b[0m Trial 111 failed, because the objective function returned nan.\u001b[0m\n",
            "\u001b[33m[W 2021-10-18 15:40:35,878]\u001b[0m Trial 112 failed, because the objective function returned nan.\u001b[0m\n",
            "\u001b[33m[W 2021-10-18 15:40:37,222]\u001b[0m Trial 113 failed, because the objective function returned nan.\u001b[0m\n",
            "\u001b[33m[W 2021-10-18 15:40:38,562]\u001b[0m Trial 114 failed, because the objective function returned nan.\u001b[0m\n",
            "\u001b[33m[W 2021-10-18 15:40:39,910]\u001b[0m Trial 115 failed, because the objective function returned nan.\u001b[0m\n",
            "\u001b[33m[W 2021-10-18 15:40:41,272]\u001b[0m Trial 116 failed, because the objective function returned nan.\u001b[0m\n",
            "\u001b[33m[W 2021-10-18 15:40:42,608]\u001b[0m Trial 117 failed, because the objective function returned nan.\u001b[0m\n",
            "\u001b[33m[W 2021-10-18 15:40:43,965]\u001b[0m Trial 118 failed, because the objective function returned nan.\u001b[0m\n",
            "\u001b[33m[W 2021-10-18 15:40:45,324]\u001b[0m Trial 119 failed, because the objective function returned nan.\u001b[0m\n",
            "\u001b[33m[W 2021-10-18 15:40:46,641]\u001b[0m Trial 120 failed, because the objective function returned nan.\u001b[0m\n",
            "\u001b[33m[W 2021-10-18 15:40:47,986]\u001b[0m Trial 121 failed, because the objective function returned nan.\u001b[0m\n",
            "\u001b[33m[W 2021-10-18 15:40:49,350]\u001b[0m Trial 122 failed, because the objective function returned nan.\u001b[0m\n",
            "\u001b[33m[W 2021-10-18 15:40:50,693]\u001b[0m Trial 123 failed, because the objective function returned nan.\u001b[0m\n",
            "\u001b[33m[W 2021-10-18 15:40:52,084]\u001b[0m Trial 124 failed, because the objective function returned nan.\u001b[0m\n",
            "\u001b[33m[W 2021-10-18 15:40:53,440]\u001b[0m Trial 125 failed, because the objective function returned nan.\u001b[0m\n",
            "\u001b[33m[W 2021-10-18 15:40:54,753]\u001b[0m Trial 126 failed, because the objective function returned nan.\u001b[0m\n",
            "\u001b[33m[W 2021-10-18 15:40:56,106]\u001b[0m Trial 127 failed, because the objective function returned nan.\u001b[0m\n",
            "\u001b[33m[W 2021-10-18 15:40:57,458]\u001b[0m Trial 128 failed, because the objective function returned nan.\u001b[0m\n",
            "\u001b[33m[W 2021-10-18 15:40:58,797]\u001b[0m Trial 129 failed, because the objective function returned nan.\u001b[0m\n",
            "\u001b[33m[W 2021-10-18 15:41:00,152]\u001b[0m Trial 130 failed, because the objective function returned nan.\u001b[0m\n",
            "\u001b[33m[W 2021-10-18 15:41:01,537]\u001b[0m Trial 131 failed, because the objective function returned nan.\u001b[0m\n",
            "\u001b[33m[W 2021-10-18 15:41:02,934]\u001b[0m Trial 132 failed, because the objective function returned nan.\u001b[0m\n",
            "\u001b[33m[W 2021-10-18 15:41:04,303]\u001b[0m Trial 133 failed, because the objective function returned nan.\u001b[0m\n",
            "\u001b[33m[W 2021-10-18 15:41:05,673]\u001b[0m Trial 134 failed, because the objective function returned nan.\u001b[0m\n",
            "\u001b[33m[W 2021-10-18 15:41:07,069]\u001b[0m Trial 135 failed, because the objective function returned nan.\u001b[0m\n",
            "\u001b[33m[W 2021-10-18 15:41:08,411]\u001b[0m Trial 136 failed, because the objective function returned nan.\u001b[0m\n",
            "\u001b[33m[W 2021-10-18 15:41:09,743]\u001b[0m Trial 137 failed, because the objective function returned nan.\u001b[0m\n",
            "\u001b[33m[W 2021-10-18 15:41:11,078]\u001b[0m Trial 138 failed, because the objective function returned nan.\u001b[0m\n",
            "\u001b[33m[W 2021-10-18 15:41:12,413]\u001b[0m Trial 139 failed, because the objective function returned nan.\u001b[0m\n",
            "\u001b[33m[W 2021-10-18 15:41:13,757]\u001b[0m Trial 140 failed, because the objective function returned nan.\u001b[0m\n",
            "\u001b[33m[W 2021-10-18 15:41:15,122]\u001b[0m Trial 141 failed, because the objective function returned nan.\u001b[0m\n",
            "\u001b[33m[W 2021-10-18 15:41:16,461]\u001b[0m Trial 142 failed, because the objective function returned nan.\u001b[0m\n",
            "\u001b[33m[W 2021-10-18 15:41:17,816]\u001b[0m Trial 143 failed, because the objective function returned nan.\u001b[0m\n",
            "\u001b[33m[W 2021-10-18 15:41:19,169]\u001b[0m Trial 144 failed, because the objective function returned nan.\u001b[0m\n",
            "\u001b[33m[W 2021-10-18 15:41:20,496]\u001b[0m Trial 145 failed, because the objective function returned nan.\u001b[0m\n",
            "\u001b[33m[W 2021-10-18 15:41:21,838]\u001b[0m Trial 146 failed, because the objective function returned nan.\u001b[0m\n",
            "\u001b[33m[W 2021-10-18 15:41:23,209]\u001b[0m Trial 147 failed, because the objective function returned nan.\u001b[0m\n",
            "\u001b[33m[W 2021-10-18 15:41:24,561]\u001b[0m Trial 148 failed, because the objective function returned nan.\u001b[0m\n",
            "\u001b[33m[W 2021-10-18 15:41:25,916]\u001b[0m Trial 149 failed, because the objective function returned nan.\u001b[0m\n",
            "\u001b[33m[W 2021-10-18 15:41:27,280]\u001b[0m Trial 150 failed, because the objective function returned nan.\u001b[0m\n",
            "\u001b[33m[W 2021-10-18 15:41:28,666]\u001b[0m Trial 151 failed, because the objective function returned nan.\u001b[0m\n",
            "\u001b[33m[W 2021-10-18 15:41:30,062]\u001b[0m Trial 152 failed, because the objective function returned nan.\u001b[0m\n",
            "\u001b[33m[W 2021-10-18 15:41:31,420]\u001b[0m Trial 153 failed, because the objective function returned nan.\u001b[0m\n",
            "\u001b[33m[W 2021-10-18 15:41:32,779]\u001b[0m Trial 154 failed, because the objective function returned nan.\u001b[0m\n",
            "\u001b[33m[W 2021-10-18 15:41:34,171]\u001b[0m Trial 155 failed, because the objective function returned nan.\u001b[0m\n",
            "\u001b[33m[W 2021-10-18 15:41:35,532]\u001b[0m Trial 156 failed, because the objective function returned nan.\u001b[0m\n",
            "\u001b[33m[W 2021-10-18 15:41:36,876]\u001b[0m Trial 157 failed, because the objective function returned nan.\u001b[0m\n",
            "\u001b[33m[W 2021-10-18 15:41:38,238]\u001b[0m Trial 158 failed, because the objective function returned nan.\u001b[0m\n",
            "\u001b[33m[W 2021-10-18 15:41:39,622]\u001b[0m Trial 159 failed, because the objective function returned nan.\u001b[0m\n",
            "\u001b[33m[W 2021-10-18 15:41:40,961]\u001b[0m Trial 160 failed, because the objective function returned nan.\u001b[0m\n",
            "\u001b[33m[W 2021-10-18 15:41:42,321]\u001b[0m Trial 161 failed, because the objective function returned nan.\u001b[0m\n",
            "\u001b[33m[W 2021-10-18 15:41:43,684]\u001b[0m Trial 162 failed, because the objective function returned nan.\u001b[0m\n",
            "\u001b[33m[W 2021-10-18 15:41:45,023]\u001b[0m Trial 163 failed, because the objective function returned nan.\u001b[0m\n",
            "\u001b[33m[W 2021-10-18 15:41:46,368]\u001b[0m Trial 164 failed, because the objective function returned nan.\u001b[0m\n",
            "\u001b[33m[W 2021-10-18 15:41:47,691]\u001b[0m Trial 165 failed, because the objective function returned nan.\u001b[0m\n",
            "\u001b[33m[W 2021-10-18 15:41:49,005]\u001b[0m Trial 166 failed, because the objective function returned nan.\u001b[0m\n",
            "\u001b[33m[W 2021-10-18 15:41:50,334]\u001b[0m Trial 167 failed, because the objective function returned nan.\u001b[0m\n",
            "\u001b[33m[W 2021-10-18 15:41:51,670]\u001b[0m Trial 168 failed, because the objective function returned nan.\u001b[0m\n",
            "\u001b[33m[W 2021-10-18 15:41:52,997]\u001b[0m Trial 169 failed, because the objective function returned nan.\u001b[0m\n",
            "\u001b[33m[W 2021-10-18 15:41:54,355]\u001b[0m Trial 170 failed, because the objective function returned nan.\u001b[0m\n",
            "\u001b[33m[W 2021-10-18 15:41:55,661]\u001b[0m Trial 171 failed, because the objective function returned nan.\u001b[0m\n",
            "\u001b[33m[W 2021-10-18 15:41:57,242]\u001b[0m Trial 172 failed, because the objective function returned nan.\u001b[0m\n",
            "\u001b[33m[W 2021-10-18 15:41:58,620]\u001b[0m Trial 173 failed, because the objective function returned nan.\u001b[0m\n",
            "\u001b[33m[W 2021-10-18 15:41:59,984]\u001b[0m Trial 174 failed, because the objective function returned nan.\u001b[0m\n",
            "\u001b[33m[W 2021-10-18 15:42:01,349]\u001b[0m Trial 175 failed, because the objective function returned nan.\u001b[0m\n",
            "\u001b[33m[W 2021-10-18 15:42:02,725]\u001b[0m Trial 176 failed, because the objective function returned nan.\u001b[0m\n",
            "\u001b[33m[W 2021-10-18 15:42:04,057]\u001b[0m Trial 177 failed, because the objective function returned nan.\u001b[0m\n",
            "\u001b[33m[W 2021-10-18 15:42:05,441]\u001b[0m Trial 178 failed, because the objective function returned nan.\u001b[0m\n",
            "\u001b[33m[W 2021-10-18 15:42:06,776]\u001b[0m Trial 179 failed, because the objective function returned nan.\u001b[0m\n",
            "\u001b[33m[W 2021-10-18 15:42:08,119]\u001b[0m Trial 180 failed, because the objective function returned nan.\u001b[0m\n",
            "\u001b[33m[W 2021-10-18 15:42:09,476]\u001b[0m Trial 181 failed, because the objective function returned nan.\u001b[0m\n",
            "\u001b[33m[W 2021-10-18 15:42:10,808]\u001b[0m Trial 182 failed, because the objective function returned nan.\u001b[0m\n",
            "\u001b[33m[W 2021-10-18 15:42:12,158]\u001b[0m Trial 183 failed, because the objective function returned nan.\u001b[0m\n",
            "\u001b[33m[W 2021-10-18 15:42:13,485]\u001b[0m Trial 184 failed, because the objective function returned nan.\u001b[0m\n",
            "\u001b[33m[W 2021-10-18 15:42:14,847]\u001b[0m Trial 185 failed, because the objective function returned nan.\u001b[0m\n",
            "\u001b[33m[W 2021-10-18 15:42:16,222]\u001b[0m Trial 186 failed, because the objective function returned nan.\u001b[0m\n",
            "\u001b[33m[W 2021-10-18 15:42:17,579]\u001b[0m Trial 187 failed, because the objective function returned nan.\u001b[0m\n",
            "\u001b[33m[W 2021-10-18 15:42:18,931]\u001b[0m Trial 188 failed, because the objective function returned nan.\u001b[0m\n",
            "\u001b[33m[W 2021-10-18 15:42:20,291]\u001b[0m Trial 189 failed, because the objective function returned nan.\u001b[0m\n",
            "\u001b[33m[W 2021-10-18 15:42:21,644]\u001b[0m Trial 190 failed, because the objective function returned nan.\u001b[0m\n",
            "\u001b[33m[W 2021-10-18 15:42:23,013]\u001b[0m Trial 191 failed, because the objective function returned nan.\u001b[0m\n",
            "\u001b[33m[W 2021-10-18 15:42:24,379]\u001b[0m Trial 192 failed, because the objective function returned nan.\u001b[0m\n",
            "\u001b[33m[W 2021-10-18 15:42:25,733]\u001b[0m Trial 193 failed, because the objective function returned nan.\u001b[0m\n",
            "\u001b[33m[W 2021-10-18 15:42:27,095]\u001b[0m Trial 194 failed, because the objective function returned nan.\u001b[0m\n",
            "\u001b[33m[W 2021-10-18 15:42:28,463]\u001b[0m Trial 195 failed, because the objective function returned nan.\u001b[0m\n",
            "\u001b[33m[W 2021-10-18 15:42:29,843]\u001b[0m Trial 196 failed, because the objective function returned nan.\u001b[0m\n",
            "\u001b[33m[W 2021-10-18 15:42:31,209]\u001b[0m Trial 197 failed, because the objective function returned nan.\u001b[0m\n",
            "\u001b[33m[W 2021-10-18 15:42:32,562]\u001b[0m Trial 198 failed, because the objective function returned nan.\u001b[0m\n",
            "\u001b[33m[W 2021-10-18 15:42:33,967]\u001b[0m Trial 199 failed, because the objective function returned nan.\u001b[0m\n"
          ]
        }
      ]
    },
    {
      "cell_type": "code",
      "metadata": {
        "id": "kKPU9J86MAKs",
        "colab": {
          "base_uri": "https://localhost:8080/"
        },
        "outputId": "a5c9d670-d8ca-4e73-a304-870bf4bb3971"
      },
      "source": [
        "# Print the result\n",
        "best_params = study.best_params\n",
        "best_score = study.best_value\n",
        "\n",
        "print(f'Best score: {best_score}\\n')\n",
        "print(f'Optimized parameters: {best_params}\\n')"
      ],
      "execution_count": null,
      "outputs": [
        {
          "output_type": "stream",
          "name": "stdout",
          "text": [
            "Best score: 0.7981200151590664\n",
            "\n",
            "Optimized parameters: {'vect__max_df': 0.6012456027493543, 'vect__max_features': 15269, 'tfidf__use_idf': True, 'ove__sampling_strategy': 0.824783189963344, 'und__sampling_strategy': 0.8368617029062264, 'und__replacement': False, 'clf__fit_prior': True, 'clf__alpha': 0.3764359381397871}\n",
            "\n"
          ]
        }
      ]
    },
    {
      "cell_type": "code",
      "metadata": {
        "id": "n-cOZk-2MDK0",
        "colab": {
          "base_uri": "https://localhost:8080/"
        },
        "outputId": "3b820e26-1ca0-4c55-fa1c-3ffdebde4911"
      },
      "source": [
        "# Set the best parameters to the model \n",
        "text_clf.set_params(**study.best_params)"
      ],
      "execution_count": null,
      "outputs": [
        {
          "output_type": "execute_result",
          "data": {
            "text/plain": [
              "Pipeline(steps=[('vect',\n",
              "                 CountVectorizer(max_df=0.6012456027493543, max_features=15269,\n",
              "                                 ngram_range=(1, 2))),\n",
              "                ('tfidf', TfidfTransformer()),\n",
              "                ('ove',\n",
              "                 RandomOverSampler(random_state=42,\n",
              "                                   sampling_strategy=0.824783189963344)),\n",
              "                ('und',\n",
              "                 RandomUnderSampler(random_state=42,\n",
              "                                    sampling_strategy=0.8368617029062264)),\n",
              "                ('clf', BernoulliNB(alpha=0.3764359381397871, binarize=None))])"
            ]
          },
          "metadata": {},
          "execution_count": 106
        }
      ]
    },
    {
      "cell_type": "code",
      "metadata": {
        "id": "9Oew6ymMMGaU",
        "colab": {
          "base_uri": "https://localhost:8080/"
        },
        "outputId": "66ac409a-3faf-4dbc-f801-693457bcefed"
      },
      "source": [
        "# Fit on train data\n",
        "text_clf.fit(X_train, y_train)"
      ],
      "execution_count": null,
      "outputs": [
        {
          "output_type": "execute_result",
          "data": {
            "text/plain": [
              "Pipeline(steps=[('vect',\n",
              "                 CountVectorizer(max_df=0.6012456027493543, max_features=15269,\n",
              "                                 ngram_range=(1, 2))),\n",
              "                ('tfidf', TfidfTransformer()),\n",
              "                ('ove',\n",
              "                 RandomOverSampler(random_state=42,\n",
              "                                   sampling_strategy=0.824783189963344)),\n",
              "                ('und',\n",
              "                 RandomUnderSampler(random_state=42,\n",
              "                                    sampling_strategy=0.8368617029062264)),\n",
              "                ('clf', BernoulliNB(alpha=0.3764359381397871, binarize=None))])"
            ]
          },
          "metadata": {},
          "execution_count": 107
        }
      ]
    },
    {
      "cell_type": "code",
      "metadata": {
        "id": "FdJcbOhA_9ck"
      },
      "source": [
        "# Predict on test data\n",
        "y_pred_test = text_clf.predict(X_test)"
      ],
      "execution_count": null,
      "outputs": []
    },
    {
      "cell_type": "code",
      "metadata": {
        "id": "pvuJRi0QMNTw",
        "colab": {
          "base_uri": "https://localhost:8080/"
        },
        "outputId": "33d73cb0-c37a-4712-fd1b-5f87e2f2f21e"
      },
      "source": [
        "# Print F1 score\n",
        "print('F1 score(test set):', f1_score(y_test, y_pred_test, average = 'macro'))"
      ],
      "execution_count": null,
      "outputs": [
        {
          "output_type": "stream",
          "name": "stdout",
          "text": [
            "F1 score(test set): 0.742719819055697\n"
          ]
        }
      ]
    },
    {
      "cell_type": "code",
      "metadata": {
        "id": "1xOyAC80MS0r",
        "colab": {
          "base_uri": "https://localhost:8080/"
        },
        "outputId": "4b06a28c-12e5-45dd-f08c-6a2a4184bc52"
      },
      "source": [
        "print(classification_report(y_test, y_pred_test))"
      ],
      "execution_count": null,
      "outputs": [
        {
          "output_type": "stream",
          "name": "stdout",
          "text": [
            "              precision    recall  f1-score   support\n",
            "\n",
            "           0       0.70      0.41      0.52        51\n",
            "           1       0.95      0.98      0.97       579\n",
            "\n",
            "    accuracy                           0.94       630\n",
            "   macro avg       0.82      0.70      0.74       630\n",
            "weighted avg       0.93      0.94      0.93       630\n",
            "\n"
          ]
        }
      ]
    },
    {
      "cell_type": "markdown",
      "metadata": {
        "id": "yPmumQpHUION"
      },
      "source": [
        "The macro-averaged F1 score we get is ~74%."
      ]
    },
    {
      "cell_type": "markdown",
      "metadata": {
        "id": "sEDbQcV6Hc_9"
      },
      "source": [
        "**Conclusion**"
      ]
    },
    {
      "cell_type": "markdown",
      "metadata": {
        "id": "MIyjBacnHPbx"
      },
      "source": [
        "The best results among all the models we trained belongs to Baseline and Random Undersampling. We were able to achieve a macro-averaged accuracy of 77% with a decent f1-score for each of the predicted classes."
      ]
    }
  ]
}